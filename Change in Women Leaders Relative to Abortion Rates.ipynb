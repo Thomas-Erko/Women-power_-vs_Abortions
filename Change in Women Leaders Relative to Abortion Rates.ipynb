{
 "cells": [
  {
   "cell_type": "code",
   "metadata": {
    "cell_id": "76754725-e6b6-4835-838a-40bedb6e5917",
    "deepnote_to_be_reexecuted": false,
    "source_hash": "ab21c01c",
    "execution_start": 1658344238957,
    "execution_millis": 2541,
    "deepnote_cell_type": "code",
    "deepnote_cell_height": 207
   },
   "source": "import pandas as pd \nimport numpy as np\nimport os \nimport matplotlib.pyplot as plt\nimport seaborn as sns\nimport warnings\n\nwarnings.filterwarnings('ignore')",
   "execution_count": null,
   "outputs": []
  },
  {
   "cell_type": "markdown",
   "source": "# Section 1 - Data Set 1: Women in industry managerial positions by country\n",
   "metadata": {
    "cell_id": "00001-5cbb26df-61cf-462a-a533-f2826e0daf28",
    "deepnote_cell_type": "markdown",
    "deepnote_cell_height": 238
   }
  },
  {
   "cell_type": "markdown",
   "source": "# Step 1: Importing the data",
   "metadata": {
    "cell_id": "00002-00584961-e5d1-49dd-ba77-600928a07581",
    "deepnote_cell_type": "markdown",
    "deepnote_cell_height": 82
   }
  },
  {
   "cell_type": "code",
   "metadata": {
    "cell_id": "00003-11752e4b-418a-4411-be9e-f3e3cb320b47",
    "deepnote_to_be_reexecuted": false,
    "source_hash": "153e0af7",
    "execution_start": 1658344241505,
    "execution_millis": 651,
    "deepnote_cell_type": "code",
    "deepnote_cell_height": 449
   },
   "source": "file = pd.read_csv('API_SL.TLF.CACT.FE.ZS_DS2_en_csv_v2_4250833.csv', low_memory = False)\nfe_df = pd.DataFrame(file)\n\nfe_df.head()",
   "execution_count": null,
   "outputs": [
    {
     "output_type": "execute_result",
     "execution_count": 2,
     "data": {
      "application/vnd.deepnote.dataframe.v3+json": {
       "column_count": 66,
       "row_count": 5,
       "columns": [
        {
         "name": "Country Name",
         "dtype": "object",
         "stats": {
          "unique_count": 5,
          "nan_count": 0,
          "categories": [
           {
            "name": "Aruba",
            "count": 1
           },
           {
            "name": "Africa Eastern and Southern",
            "count": 1
           },
           {
            "name": "3 others",
            "count": 3
           }
          ]
         }
        },
        {
         "name": "Country Code",
         "dtype": "object",
         "stats": {
          "unique_count": 5,
          "nan_count": 0,
          "categories": [
           {
            "name": "ABW",
            "count": 1
           },
           {
            "name": "AFE",
            "count": 1
           },
           {
            "name": "3 others",
            "count": 3
           }
          ]
         }
        },
        {
         "name": "Indicator Name",
         "dtype": "object",
         "stats": {
          "unique_count": 1,
          "nan_count": 0,
          "categories": [
           {
            "name": "Labor force participation rate, female (% of female population ages 15+) (modeled ILO estimate)",
            "count": 5
           }
          ]
         }
        },
        {
         "name": "Indicator Code",
         "dtype": "object",
         "stats": {
          "unique_count": 1,
          "nan_count": 0,
          "categories": [
           {
            "name": "SL.TLF.CACT.FE.ZS",
            "count": 5
           }
          ]
         }
        },
        {
         "name": "1960",
         "dtype": "float64",
         "stats": {
          "unique_count": 0,
          "nan_count": 5,
          "min": null,
          "max": null,
          "histogram": [
           {
            "bin_start": 0,
            "bin_end": 0.1,
            "count": 0
           },
           {
            "bin_start": 0.1,
            "bin_end": 0.2,
            "count": 0
           },
           {
            "bin_start": 0.2,
            "bin_end": 0.30000000000000004,
            "count": 0
           },
           {
            "bin_start": 0.30000000000000004,
            "bin_end": 0.4,
            "count": 0
           },
           {
            "bin_start": 0.4,
            "bin_end": 0.5,
            "count": 0
           },
           {
            "bin_start": 0.5,
            "bin_end": 0.6000000000000001,
            "count": 0
           },
           {
            "bin_start": 0.6000000000000001,
            "bin_end": 0.7000000000000001,
            "count": 0
           },
           {
            "bin_start": 0.7000000000000001,
            "bin_end": 0.8,
            "count": 0
           },
           {
            "bin_start": 0.8,
            "bin_end": 0.9,
            "count": 0
           },
           {
            "bin_start": 0.9,
            "bin_end": 1,
            "count": 0
           }
          ]
         }
        },
        {
         "name": "1961",
         "dtype": "float64",
         "stats": {
          "unique_count": 0,
          "nan_count": 5,
          "min": null,
          "max": null,
          "histogram": [
           {
            "bin_start": 0,
            "bin_end": 0.1,
            "count": 0
           },
           {
            "bin_start": 0.1,
            "bin_end": 0.2,
            "count": 0
           },
           {
            "bin_start": 0.2,
            "bin_end": 0.30000000000000004,
            "count": 0
           },
           {
            "bin_start": 0.30000000000000004,
            "bin_end": 0.4,
            "count": 0
           },
           {
            "bin_start": 0.4,
            "bin_end": 0.5,
            "count": 0
           },
           {
            "bin_start": 0.5,
            "bin_end": 0.6000000000000001,
            "count": 0
           },
           {
            "bin_start": 0.6000000000000001,
            "bin_end": 0.7000000000000001,
            "count": 0
           },
           {
            "bin_start": 0.7000000000000001,
            "bin_end": 0.8,
            "count": 0
           },
           {
            "bin_start": 0.8,
            "bin_end": 0.9,
            "count": 0
           },
           {
            "bin_start": 0.9,
            "bin_end": 1,
            "count": 0
           }
          ]
         }
        },
        {
         "name": "1962",
         "dtype": "float64",
         "stats": {
          "unique_count": 0,
          "nan_count": 5,
          "min": null,
          "max": null,
          "histogram": [
           {
            "bin_start": 0,
            "bin_end": 0.1,
            "count": 0
           },
           {
            "bin_start": 0.1,
            "bin_end": 0.2,
            "count": 0
           },
           {
            "bin_start": 0.2,
            "bin_end": 0.30000000000000004,
            "count": 0
           },
           {
            "bin_start": 0.30000000000000004,
            "bin_end": 0.4,
            "count": 0
           },
           {
            "bin_start": 0.4,
            "bin_end": 0.5,
            "count": 0
           },
           {
            "bin_start": 0.5,
            "bin_end": 0.6000000000000001,
            "count": 0
           },
           {
            "bin_start": 0.6000000000000001,
            "bin_end": 0.7000000000000001,
            "count": 0
           },
           {
            "bin_start": 0.7000000000000001,
            "bin_end": 0.8,
            "count": 0
           },
           {
            "bin_start": 0.8,
            "bin_end": 0.9,
            "count": 0
           },
           {
            "bin_start": 0.9,
            "bin_end": 1,
            "count": 0
           }
          ]
         }
        },
        {
         "name": "1963",
         "dtype": "float64",
         "stats": {
          "unique_count": 0,
          "nan_count": 5,
          "min": null,
          "max": null,
          "histogram": [
           {
            "bin_start": 0,
            "bin_end": 0.1,
            "count": 0
           },
           {
            "bin_start": 0.1,
            "bin_end": 0.2,
            "count": 0
           },
           {
            "bin_start": 0.2,
            "bin_end": 0.30000000000000004,
            "count": 0
           },
           {
            "bin_start": 0.30000000000000004,
            "bin_end": 0.4,
            "count": 0
           },
           {
            "bin_start": 0.4,
            "bin_end": 0.5,
            "count": 0
           },
           {
            "bin_start": 0.5,
            "bin_end": 0.6000000000000001,
            "count": 0
           },
           {
            "bin_start": 0.6000000000000001,
            "bin_end": 0.7000000000000001,
            "count": 0
           },
           {
            "bin_start": 0.7000000000000001,
            "bin_end": 0.8,
            "count": 0
           },
           {
            "bin_start": 0.8,
            "bin_end": 0.9,
            "count": 0
           },
           {
            "bin_start": 0.9,
            "bin_end": 1,
            "count": 0
           }
          ]
         }
        },
        {
         "name": "1964",
         "dtype": "float64",
         "stats": {
          "unique_count": 0,
          "nan_count": 5,
          "min": null,
          "max": null,
          "histogram": [
           {
            "bin_start": 0,
            "bin_end": 0.1,
            "count": 0
           },
           {
            "bin_start": 0.1,
            "bin_end": 0.2,
            "count": 0
           },
           {
            "bin_start": 0.2,
            "bin_end": 0.30000000000000004,
            "count": 0
           },
           {
            "bin_start": 0.30000000000000004,
            "bin_end": 0.4,
            "count": 0
           },
           {
            "bin_start": 0.4,
            "bin_end": 0.5,
            "count": 0
           },
           {
            "bin_start": 0.5,
            "bin_end": 0.6000000000000001,
            "count": 0
           },
           {
            "bin_start": 0.6000000000000001,
            "bin_end": 0.7000000000000001,
            "count": 0
           },
           {
            "bin_start": 0.7000000000000001,
            "bin_end": 0.8,
            "count": 0
           },
           {
            "bin_start": 0.8,
            "bin_end": 0.9,
            "count": 0
           },
           {
            "bin_start": 0.9,
            "bin_end": 1,
            "count": 0
           }
          ]
         }
        },
        {
         "name": "1965",
         "dtype": "float64",
         "stats": {
          "unique_count": 0,
          "nan_count": 5,
          "min": null,
          "max": null,
          "histogram": [
           {
            "bin_start": 0,
            "bin_end": 0.1,
            "count": 0
           },
           {
            "bin_start": 0.1,
            "bin_end": 0.2,
            "count": 0
           },
           {
            "bin_start": 0.2,
            "bin_end": 0.30000000000000004,
            "count": 0
           },
           {
            "bin_start": 0.30000000000000004,
            "bin_end": 0.4,
            "count": 0
           },
           {
            "bin_start": 0.4,
            "bin_end": 0.5,
            "count": 0
           },
           {
            "bin_start": 0.5,
            "bin_end": 0.6000000000000001,
            "count": 0
           },
           {
            "bin_start": 0.6000000000000001,
            "bin_end": 0.7000000000000001,
            "count": 0
           },
           {
            "bin_start": 0.7000000000000001,
            "bin_end": 0.8,
            "count": 0
           },
           {
            "bin_start": 0.8,
            "bin_end": 0.9,
            "count": 0
           },
           {
            "bin_start": 0.9,
            "bin_end": 1,
            "count": 0
           }
          ]
         }
        },
        {
         "name": "1966",
         "dtype": "float64",
         "stats": {
          "unique_count": 0,
          "nan_count": 5,
          "min": null,
          "max": null,
          "histogram": [
           {
            "bin_start": 0,
            "bin_end": 0.1,
            "count": 0
           },
           {
            "bin_start": 0.1,
            "bin_end": 0.2,
            "count": 0
           },
           {
            "bin_start": 0.2,
            "bin_end": 0.30000000000000004,
            "count": 0
           },
           {
            "bin_start": 0.30000000000000004,
            "bin_end": 0.4,
            "count": 0
           },
           {
            "bin_start": 0.4,
            "bin_end": 0.5,
            "count": 0
           },
           {
            "bin_start": 0.5,
            "bin_end": 0.6000000000000001,
            "count": 0
           },
           {
            "bin_start": 0.6000000000000001,
            "bin_end": 0.7000000000000001,
            "count": 0
           },
           {
            "bin_start": 0.7000000000000001,
            "bin_end": 0.8,
            "count": 0
           },
           {
            "bin_start": 0.8,
            "bin_end": 0.9,
            "count": 0
           },
           {
            "bin_start": 0.9,
            "bin_end": 1,
            "count": 0
           }
          ]
         }
        },
        {
         "name": "1967",
         "dtype": "float64",
         "stats": {
          "unique_count": 0,
          "nan_count": 5,
          "min": null,
          "max": null,
          "histogram": [
           {
            "bin_start": 0,
            "bin_end": 0.1,
            "count": 0
           },
           {
            "bin_start": 0.1,
            "bin_end": 0.2,
            "count": 0
           },
           {
            "bin_start": 0.2,
            "bin_end": 0.30000000000000004,
            "count": 0
           },
           {
            "bin_start": 0.30000000000000004,
            "bin_end": 0.4,
            "count": 0
           },
           {
            "bin_start": 0.4,
            "bin_end": 0.5,
            "count": 0
           },
           {
            "bin_start": 0.5,
            "bin_end": 0.6000000000000001,
            "count": 0
           },
           {
            "bin_start": 0.6000000000000001,
            "bin_end": 0.7000000000000001,
            "count": 0
           },
           {
            "bin_start": 0.7000000000000001,
            "bin_end": 0.8,
            "count": 0
           },
           {
            "bin_start": 0.8,
            "bin_end": 0.9,
            "count": 0
           },
           {
            "bin_start": 0.9,
            "bin_end": 1,
            "count": 0
           }
          ]
         }
        },
        {
         "name": "1968",
         "dtype": "float64",
         "stats": {
          "unique_count": 0,
          "nan_count": 5,
          "min": null,
          "max": null,
          "histogram": [
           {
            "bin_start": 0,
            "bin_end": 0.1,
            "count": 0
           },
           {
            "bin_start": 0.1,
            "bin_end": 0.2,
            "count": 0
           },
           {
            "bin_start": 0.2,
            "bin_end": 0.30000000000000004,
            "count": 0
           },
           {
            "bin_start": 0.30000000000000004,
            "bin_end": 0.4,
            "count": 0
           },
           {
            "bin_start": 0.4,
            "bin_end": 0.5,
            "count": 0
           },
           {
            "bin_start": 0.5,
            "bin_end": 0.6000000000000001,
            "count": 0
           },
           {
            "bin_start": 0.6000000000000001,
            "bin_end": 0.7000000000000001,
            "count": 0
           },
           {
            "bin_start": 0.7000000000000001,
            "bin_end": 0.8,
            "count": 0
           },
           {
            "bin_start": 0.8,
            "bin_end": 0.9,
            "count": 0
           },
           {
            "bin_start": 0.9,
            "bin_end": 1,
            "count": 0
           }
          ]
         }
        },
        {
         "name": "1969",
         "dtype": "float64",
         "stats": {
          "unique_count": 0,
          "nan_count": 5,
          "min": null,
          "max": null,
          "histogram": [
           {
            "bin_start": 0,
            "bin_end": 0.1,
            "count": 0
           },
           {
            "bin_start": 0.1,
            "bin_end": 0.2,
            "count": 0
           },
           {
            "bin_start": 0.2,
            "bin_end": 0.30000000000000004,
            "count": 0
           },
           {
            "bin_start": 0.30000000000000004,
            "bin_end": 0.4,
            "count": 0
           },
           {
            "bin_start": 0.4,
            "bin_end": 0.5,
            "count": 0
           },
           {
            "bin_start": 0.5,
            "bin_end": 0.6000000000000001,
            "count": 0
           },
           {
            "bin_start": 0.6000000000000001,
            "bin_end": 0.7000000000000001,
            "count": 0
           },
           {
            "bin_start": 0.7000000000000001,
            "bin_end": 0.8,
            "count": 0
           },
           {
            "bin_start": 0.8,
            "bin_end": 0.9,
            "count": 0
           },
           {
            "bin_start": 0.9,
            "bin_end": 1,
            "count": 0
           }
          ]
         }
        },
        {
         "name": "1970",
         "dtype": "float64",
         "stats": {
          "unique_count": 0,
          "nan_count": 5,
          "min": null,
          "max": null,
          "histogram": [
           {
            "bin_start": 0,
            "bin_end": 0.1,
            "count": 0
           },
           {
            "bin_start": 0.1,
            "bin_end": 0.2,
            "count": 0
           },
           {
            "bin_start": 0.2,
            "bin_end": 0.30000000000000004,
            "count": 0
           },
           {
            "bin_start": 0.30000000000000004,
            "bin_end": 0.4,
            "count": 0
           },
           {
            "bin_start": 0.4,
            "bin_end": 0.5,
            "count": 0
           },
           {
            "bin_start": 0.5,
            "bin_end": 0.6000000000000001,
            "count": 0
           },
           {
            "bin_start": 0.6000000000000001,
            "bin_end": 0.7000000000000001,
            "count": 0
           },
           {
            "bin_start": 0.7000000000000001,
            "bin_end": 0.8,
            "count": 0
           },
           {
            "bin_start": 0.8,
            "bin_end": 0.9,
            "count": 0
           },
           {
            "bin_start": 0.9,
            "bin_end": 1,
            "count": 0
           }
          ]
         }
        },
        {
         "name": "1971",
         "dtype": "float64",
         "stats": {
          "unique_count": 0,
          "nan_count": 5,
          "min": null,
          "max": null,
          "histogram": [
           {
            "bin_start": 0,
            "bin_end": 0.1,
            "count": 0
           },
           {
            "bin_start": 0.1,
            "bin_end": 0.2,
            "count": 0
           },
           {
            "bin_start": 0.2,
            "bin_end": 0.30000000000000004,
            "count": 0
           },
           {
            "bin_start": 0.30000000000000004,
            "bin_end": 0.4,
            "count": 0
           },
           {
            "bin_start": 0.4,
            "bin_end": 0.5,
            "count": 0
           },
           {
            "bin_start": 0.5,
            "bin_end": 0.6000000000000001,
            "count": 0
           },
           {
            "bin_start": 0.6000000000000001,
            "bin_end": 0.7000000000000001,
            "count": 0
           },
           {
            "bin_start": 0.7000000000000001,
            "bin_end": 0.8,
            "count": 0
           },
           {
            "bin_start": 0.8,
            "bin_end": 0.9,
            "count": 0
           },
           {
            "bin_start": 0.9,
            "bin_end": 1,
            "count": 0
           }
          ]
         }
        },
        {
         "name": "1972",
         "dtype": "float64",
         "stats": {
          "unique_count": 0,
          "nan_count": 5,
          "min": null,
          "max": null,
          "histogram": [
           {
            "bin_start": 0,
            "bin_end": 0.1,
            "count": 0
           },
           {
            "bin_start": 0.1,
            "bin_end": 0.2,
            "count": 0
           },
           {
            "bin_start": 0.2,
            "bin_end": 0.30000000000000004,
            "count": 0
           },
           {
            "bin_start": 0.30000000000000004,
            "bin_end": 0.4,
            "count": 0
           },
           {
            "bin_start": 0.4,
            "bin_end": 0.5,
            "count": 0
           },
           {
            "bin_start": 0.5,
            "bin_end": 0.6000000000000001,
            "count": 0
           },
           {
            "bin_start": 0.6000000000000001,
            "bin_end": 0.7000000000000001,
            "count": 0
           },
           {
            "bin_start": 0.7000000000000001,
            "bin_end": 0.8,
            "count": 0
           },
           {
            "bin_start": 0.8,
            "bin_end": 0.9,
            "count": 0
           },
           {
            "bin_start": 0.9,
            "bin_end": 1,
            "count": 0
           }
          ]
         }
        },
        {
         "name": "1973",
         "dtype": "float64",
         "stats": {
          "unique_count": 0,
          "nan_count": 5,
          "min": null,
          "max": null,
          "histogram": [
           {
            "bin_start": 0,
            "bin_end": 0.1,
            "count": 0
           },
           {
            "bin_start": 0.1,
            "bin_end": 0.2,
            "count": 0
           },
           {
            "bin_start": 0.2,
            "bin_end": 0.30000000000000004,
            "count": 0
           },
           {
            "bin_start": 0.30000000000000004,
            "bin_end": 0.4,
            "count": 0
           },
           {
            "bin_start": 0.4,
            "bin_end": 0.5,
            "count": 0
           },
           {
            "bin_start": 0.5,
            "bin_end": 0.6000000000000001,
            "count": 0
           },
           {
            "bin_start": 0.6000000000000001,
            "bin_end": 0.7000000000000001,
            "count": 0
           },
           {
            "bin_start": 0.7000000000000001,
            "bin_end": 0.8,
            "count": 0
           },
           {
            "bin_start": 0.8,
            "bin_end": 0.9,
            "count": 0
           },
           {
            "bin_start": 0.9,
            "bin_end": 1,
            "count": 0
           }
          ]
         }
        },
        {
         "name": "1974",
         "dtype": "float64",
         "stats": {
          "unique_count": 0,
          "nan_count": 5,
          "min": null,
          "max": null,
          "histogram": [
           {
            "bin_start": 0,
            "bin_end": 0.1,
            "count": 0
           },
           {
            "bin_start": 0.1,
            "bin_end": 0.2,
            "count": 0
           },
           {
            "bin_start": 0.2,
            "bin_end": 0.30000000000000004,
            "count": 0
           },
           {
            "bin_start": 0.30000000000000004,
            "bin_end": 0.4,
            "count": 0
           },
           {
            "bin_start": 0.4,
            "bin_end": 0.5,
            "count": 0
           },
           {
            "bin_start": 0.5,
            "bin_end": 0.6000000000000001,
            "count": 0
           },
           {
            "bin_start": 0.6000000000000001,
            "bin_end": 0.7000000000000001,
            "count": 0
           },
           {
            "bin_start": 0.7000000000000001,
            "bin_end": 0.8,
            "count": 0
           },
           {
            "bin_start": 0.8,
            "bin_end": 0.9,
            "count": 0
           },
           {
            "bin_start": 0.9,
            "bin_end": 1,
            "count": 0
           }
          ]
         }
        },
        {
         "name": "1975",
         "dtype": "float64",
         "stats": {
          "unique_count": 0,
          "nan_count": 5,
          "min": null,
          "max": null,
          "histogram": [
           {
            "bin_start": 0,
            "bin_end": 0.1,
            "count": 0
           },
           {
            "bin_start": 0.1,
            "bin_end": 0.2,
            "count": 0
           },
           {
            "bin_start": 0.2,
            "bin_end": 0.30000000000000004,
            "count": 0
           },
           {
            "bin_start": 0.30000000000000004,
            "bin_end": 0.4,
            "count": 0
           },
           {
            "bin_start": 0.4,
            "bin_end": 0.5,
            "count": 0
           },
           {
            "bin_start": 0.5,
            "bin_end": 0.6000000000000001,
            "count": 0
           },
           {
            "bin_start": 0.6000000000000001,
            "bin_end": 0.7000000000000001,
            "count": 0
           },
           {
            "bin_start": 0.7000000000000001,
            "bin_end": 0.8,
            "count": 0
           },
           {
            "bin_start": 0.8,
            "bin_end": 0.9,
            "count": 0
           },
           {
            "bin_start": 0.9,
            "bin_end": 1,
            "count": 0
           }
          ]
         }
        },
        {
         "name": "1976",
         "dtype": "float64",
         "stats": {
          "unique_count": 0,
          "nan_count": 5,
          "min": null,
          "max": null,
          "histogram": [
           {
            "bin_start": 0,
            "bin_end": 0.1,
            "count": 0
           },
           {
            "bin_start": 0.1,
            "bin_end": 0.2,
            "count": 0
           },
           {
            "bin_start": 0.2,
            "bin_end": 0.30000000000000004,
            "count": 0
           },
           {
            "bin_start": 0.30000000000000004,
            "bin_end": 0.4,
            "count": 0
           },
           {
            "bin_start": 0.4,
            "bin_end": 0.5,
            "count": 0
           },
           {
            "bin_start": 0.5,
            "bin_end": 0.6000000000000001,
            "count": 0
           },
           {
            "bin_start": 0.6000000000000001,
            "bin_end": 0.7000000000000001,
            "count": 0
           },
           {
            "bin_start": 0.7000000000000001,
            "bin_end": 0.8,
            "count": 0
           },
           {
            "bin_start": 0.8,
            "bin_end": 0.9,
            "count": 0
           },
           {
            "bin_start": 0.9,
            "bin_end": 1,
            "count": 0
           }
          ]
         }
        },
        {
         "name": "1977",
         "dtype": "float64",
         "stats": {
          "unique_count": 0,
          "nan_count": 5,
          "min": null,
          "max": null,
          "histogram": [
           {
            "bin_start": 0,
            "bin_end": 0.1,
            "count": 0
           },
           {
            "bin_start": 0.1,
            "bin_end": 0.2,
            "count": 0
           },
           {
            "bin_start": 0.2,
            "bin_end": 0.30000000000000004,
            "count": 0
           },
           {
            "bin_start": 0.30000000000000004,
            "bin_end": 0.4,
            "count": 0
           },
           {
            "bin_start": 0.4,
            "bin_end": 0.5,
            "count": 0
           },
           {
            "bin_start": 0.5,
            "bin_end": 0.6000000000000001,
            "count": 0
           },
           {
            "bin_start": 0.6000000000000001,
            "bin_end": 0.7000000000000001,
            "count": 0
           },
           {
            "bin_start": 0.7000000000000001,
            "bin_end": 0.8,
            "count": 0
           },
           {
            "bin_start": 0.8,
            "bin_end": 0.9,
            "count": 0
           },
           {
            "bin_start": 0.9,
            "bin_end": 1,
            "count": 0
           }
          ]
         }
        },
        {
         "name": "1978",
         "dtype": "float64",
         "stats": {
          "unique_count": 0,
          "nan_count": 5,
          "min": null,
          "max": null,
          "histogram": [
           {
            "bin_start": 0,
            "bin_end": 0.1,
            "count": 0
           },
           {
            "bin_start": 0.1,
            "bin_end": 0.2,
            "count": 0
           },
           {
            "bin_start": 0.2,
            "bin_end": 0.30000000000000004,
            "count": 0
           },
           {
            "bin_start": 0.30000000000000004,
            "bin_end": 0.4,
            "count": 0
           },
           {
            "bin_start": 0.4,
            "bin_end": 0.5,
            "count": 0
           },
           {
            "bin_start": 0.5,
            "bin_end": 0.6000000000000001,
            "count": 0
           },
           {
            "bin_start": 0.6000000000000001,
            "bin_end": 0.7000000000000001,
            "count": 0
           },
           {
            "bin_start": 0.7000000000000001,
            "bin_end": 0.8,
            "count": 0
           },
           {
            "bin_start": 0.8,
            "bin_end": 0.9,
            "count": 0
           },
           {
            "bin_start": 0.9,
            "bin_end": 1,
            "count": 0
           }
          ]
         }
        },
        {
         "name": "1979",
         "dtype": "float64",
         "stats": {
          "unique_count": 0,
          "nan_count": 5,
          "min": null,
          "max": null,
          "histogram": [
           {
            "bin_start": 0,
            "bin_end": 0.1,
            "count": 0
           },
           {
            "bin_start": 0.1,
            "bin_end": 0.2,
            "count": 0
           },
           {
            "bin_start": 0.2,
            "bin_end": 0.30000000000000004,
            "count": 0
           },
           {
            "bin_start": 0.30000000000000004,
            "bin_end": 0.4,
            "count": 0
           },
           {
            "bin_start": 0.4,
            "bin_end": 0.5,
            "count": 0
           },
           {
            "bin_start": 0.5,
            "bin_end": 0.6000000000000001,
            "count": 0
           },
           {
            "bin_start": 0.6000000000000001,
            "bin_end": 0.7000000000000001,
            "count": 0
           },
           {
            "bin_start": 0.7000000000000001,
            "bin_end": 0.8,
            "count": 0
           },
           {
            "bin_start": 0.8,
            "bin_end": 0.9,
            "count": 0
           },
           {
            "bin_start": 0.9,
            "bin_end": 1,
            "count": 0
           }
          ]
         }
        },
        {
         "name": "1980",
         "dtype": "float64",
         "stats": {
          "unique_count": 0,
          "nan_count": 5,
          "min": null,
          "max": null,
          "histogram": [
           {
            "bin_start": 0,
            "bin_end": 0.1,
            "count": 0
           },
           {
            "bin_start": 0.1,
            "bin_end": 0.2,
            "count": 0
           },
           {
            "bin_start": 0.2,
            "bin_end": 0.30000000000000004,
            "count": 0
           },
           {
            "bin_start": 0.30000000000000004,
            "bin_end": 0.4,
            "count": 0
           },
           {
            "bin_start": 0.4,
            "bin_end": 0.5,
            "count": 0
           },
           {
            "bin_start": 0.5,
            "bin_end": 0.6000000000000001,
            "count": 0
           },
           {
            "bin_start": 0.6000000000000001,
            "bin_end": 0.7000000000000001,
            "count": 0
           },
           {
            "bin_start": 0.7000000000000001,
            "bin_end": 0.8,
            "count": 0
           },
           {
            "bin_start": 0.8,
            "bin_end": 0.9,
            "count": 0
           },
           {
            "bin_start": 0.9,
            "bin_end": 1,
            "count": 0
           }
          ]
         }
        },
        {
         "name": "1981",
         "dtype": "float64",
         "stats": {
          "unique_count": 0,
          "nan_count": 5,
          "min": null,
          "max": null,
          "histogram": [
           {
            "bin_start": 0,
            "bin_end": 0.1,
            "count": 0
           },
           {
            "bin_start": 0.1,
            "bin_end": 0.2,
            "count": 0
           },
           {
            "bin_start": 0.2,
            "bin_end": 0.30000000000000004,
            "count": 0
           },
           {
            "bin_start": 0.30000000000000004,
            "bin_end": 0.4,
            "count": 0
           },
           {
            "bin_start": 0.4,
            "bin_end": 0.5,
            "count": 0
           },
           {
            "bin_start": 0.5,
            "bin_end": 0.6000000000000001,
            "count": 0
           },
           {
            "bin_start": 0.6000000000000001,
            "bin_end": 0.7000000000000001,
            "count": 0
           },
           {
            "bin_start": 0.7000000000000001,
            "bin_end": 0.8,
            "count": 0
           },
           {
            "bin_start": 0.8,
            "bin_end": 0.9,
            "count": 0
           },
           {
            "bin_start": 0.9,
            "bin_end": 1,
            "count": 0
           }
          ]
         }
        },
        {
         "name": "1982",
         "dtype": "float64",
         "stats": {
          "unique_count": 0,
          "nan_count": 5,
          "min": null,
          "max": null,
          "histogram": [
           {
            "bin_start": 0,
            "bin_end": 0.1,
            "count": 0
           },
           {
            "bin_start": 0.1,
            "bin_end": 0.2,
            "count": 0
           },
           {
            "bin_start": 0.2,
            "bin_end": 0.30000000000000004,
            "count": 0
           },
           {
            "bin_start": 0.30000000000000004,
            "bin_end": 0.4,
            "count": 0
           },
           {
            "bin_start": 0.4,
            "bin_end": 0.5,
            "count": 0
           },
           {
            "bin_start": 0.5,
            "bin_end": 0.6000000000000001,
            "count": 0
           },
           {
            "bin_start": 0.6000000000000001,
            "bin_end": 0.7000000000000001,
            "count": 0
           },
           {
            "bin_start": 0.7000000000000001,
            "bin_end": 0.8,
            "count": 0
           },
           {
            "bin_start": 0.8,
            "bin_end": 0.9,
            "count": 0
           },
           {
            "bin_start": 0.9,
            "bin_end": 1,
            "count": 0
           }
          ]
         }
        },
        {
         "name": "1983",
         "dtype": "float64",
         "stats": {
          "unique_count": 0,
          "nan_count": 5,
          "min": null,
          "max": null,
          "histogram": [
           {
            "bin_start": 0,
            "bin_end": 0.1,
            "count": 0
           },
           {
            "bin_start": 0.1,
            "bin_end": 0.2,
            "count": 0
           },
           {
            "bin_start": 0.2,
            "bin_end": 0.30000000000000004,
            "count": 0
           },
           {
            "bin_start": 0.30000000000000004,
            "bin_end": 0.4,
            "count": 0
           },
           {
            "bin_start": 0.4,
            "bin_end": 0.5,
            "count": 0
           },
           {
            "bin_start": 0.5,
            "bin_end": 0.6000000000000001,
            "count": 0
           },
           {
            "bin_start": 0.6000000000000001,
            "bin_end": 0.7000000000000001,
            "count": 0
           },
           {
            "bin_start": 0.7000000000000001,
            "bin_end": 0.8,
            "count": 0
           },
           {
            "bin_start": 0.8,
            "bin_end": 0.9,
            "count": 0
           },
           {
            "bin_start": 0.9,
            "bin_end": 1,
            "count": 0
           }
          ]
         }
        },
        {
         "name": "1984",
         "dtype": "float64",
         "stats": {
          "unique_count": 0,
          "nan_count": 5,
          "min": null,
          "max": null,
          "histogram": [
           {
            "bin_start": 0,
            "bin_end": 0.1,
            "count": 0
           },
           {
            "bin_start": 0.1,
            "bin_end": 0.2,
            "count": 0
           },
           {
            "bin_start": 0.2,
            "bin_end": 0.30000000000000004,
            "count": 0
           },
           {
            "bin_start": 0.30000000000000004,
            "bin_end": 0.4,
            "count": 0
           },
           {
            "bin_start": 0.4,
            "bin_end": 0.5,
            "count": 0
           },
           {
            "bin_start": 0.5,
            "bin_end": 0.6000000000000001,
            "count": 0
           },
           {
            "bin_start": 0.6000000000000001,
            "bin_end": 0.7000000000000001,
            "count": 0
           },
           {
            "bin_start": 0.7000000000000001,
            "bin_end": 0.8,
            "count": 0
           },
           {
            "bin_start": 0.8,
            "bin_end": 0.9,
            "count": 0
           },
           {
            "bin_start": 0.9,
            "bin_end": 1,
            "count": 0
           }
          ]
         }
        },
        {
         "name": "1985",
         "dtype": "float64",
         "stats": {
          "unique_count": 0,
          "nan_count": 5,
          "min": null,
          "max": null,
          "histogram": [
           {
            "bin_start": 0,
            "bin_end": 0.1,
            "count": 0
           },
           {
            "bin_start": 0.1,
            "bin_end": 0.2,
            "count": 0
           },
           {
            "bin_start": 0.2,
            "bin_end": 0.30000000000000004,
            "count": 0
           },
           {
            "bin_start": 0.30000000000000004,
            "bin_end": 0.4,
            "count": 0
           },
           {
            "bin_start": 0.4,
            "bin_end": 0.5,
            "count": 0
           },
           {
            "bin_start": 0.5,
            "bin_end": 0.6000000000000001,
            "count": 0
           },
           {
            "bin_start": 0.6000000000000001,
            "bin_end": 0.7000000000000001,
            "count": 0
           },
           {
            "bin_start": 0.7000000000000001,
            "bin_end": 0.8,
            "count": 0
           },
           {
            "bin_start": 0.8,
            "bin_end": 0.9,
            "count": 0
           },
           {
            "bin_start": 0.9,
            "bin_end": 1,
            "count": 0
           }
          ]
         }
        },
        {
         "name": "1986",
         "dtype": "float64",
         "stats": {
          "unique_count": 0,
          "nan_count": 5,
          "min": null,
          "max": null,
          "histogram": [
           {
            "bin_start": 0,
            "bin_end": 0.1,
            "count": 0
           },
           {
            "bin_start": 0.1,
            "bin_end": 0.2,
            "count": 0
           },
           {
            "bin_start": 0.2,
            "bin_end": 0.30000000000000004,
            "count": 0
           },
           {
            "bin_start": 0.30000000000000004,
            "bin_end": 0.4,
            "count": 0
           },
           {
            "bin_start": 0.4,
            "bin_end": 0.5,
            "count": 0
           },
           {
            "bin_start": 0.5,
            "bin_end": 0.6000000000000001,
            "count": 0
           },
           {
            "bin_start": 0.6000000000000001,
            "bin_end": 0.7000000000000001,
            "count": 0
           },
           {
            "bin_start": 0.7000000000000001,
            "bin_end": 0.8,
            "count": 0
           },
           {
            "bin_start": 0.8,
            "bin_end": 0.9,
            "count": 0
           },
           {
            "bin_start": 0.9,
            "bin_end": 1,
            "count": 0
           }
          ]
         }
        },
        {
         "name": "1987",
         "dtype": "float64",
         "stats": {
          "unique_count": 0,
          "nan_count": 5,
          "min": null,
          "max": null,
          "histogram": [
           {
            "bin_start": 0,
            "bin_end": 0.1,
            "count": 0
           },
           {
            "bin_start": 0.1,
            "bin_end": 0.2,
            "count": 0
           },
           {
            "bin_start": 0.2,
            "bin_end": 0.30000000000000004,
            "count": 0
           },
           {
            "bin_start": 0.30000000000000004,
            "bin_end": 0.4,
            "count": 0
           },
           {
            "bin_start": 0.4,
            "bin_end": 0.5,
            "count": 0
           },
           {
            "bin_start": 0.5,
            "bin_end": 0.6000000000000001,
            "count": 0
           },
           {
            "bin_start": 0.6000000000000001,
            "bin_end": 0.7000000000000001,
            "count": 0
           },
           {
            "bin_start": 0.7000000000000001,
            "bin_end": 0.8,
            "count": 0
           },
           {
            "bin_start": 0.8,
            "bin_end": 0.9,
            "count": 0
           },
           {
            "bin_start": 0.9,
            "bin_end": 1,
            "count": 0
           }
          ]
         }
        },
        {
         "name": "1988",
         "dtype": "float64",
         "stats": {
          "unique_count": 0,
          "nan_count": 5,
          "min": null,
          "max": null,
          "histogram": [
           {
            "bin_start": 0,
            "bin_end": 0.1,
            "count": 0
           },
           {
            "bin_start": 0.1,
            "bin_end": 0.2,
            "count": 0
           },
           {
            "bin_start": 0.2,
            "bin_end": 0.30000000000000004,
            "count": 0
           },
           {
            "bin_start": 0.30000000000000004,
            "bin_end": 0.4,
            "count": 0
           },
           {
            "bin_start": 0.4,
            "bin_end": 0.5,
            "count": 0
           },
           {
            "bin_start": 0.5,
            "bin_end": 0.6000000000000001,
            "count": 0
           },
           {
            "bin_start": 0.6000000000000001,
            "bin_end": 0.7000000000000001,
            "count": 0
           },
           {
            "bin_start": 0.7000000000000001,
            "bin_end": 0.8,
            "count": 0
           },
           {
            "bin_start": 0.8,
            "bin_end": 0.9,
            "count": 0
           },
           {
            "bin_start": 0.9,
            "bin_end": 1,
            "count": 0
           }
          ]
         }
        },
        {
         "name": "1989",
         "dtype": "float64",
         "stats": {
          "unique_count": 0,
          "nan_count": 5,
          "min": null,
          "max": null,
          "histogram": [
           {
            "bin_start": 0,
            "bin_end": 0.1,
            "count": 0
           },
           {
            "bin_start": 0.1,
            "bin_end": 0.2,
            "count": 0
           },
           {
            "bin_start": 0.2,
            "bin_end": 0.30000000000000004,
            "count": 0
           },
           {
            "bin_start": 0.30000000000000004,
            "bin_end": 0.4,
            "count": 0
           },
           {
            "bin_start": 0.4,
            "bin_end": 0.5,
            "count": 0
           },
           {
            "bin_start": 0.5,
            "bin_end": 0.6000000000000001,
            "count": 0
           },
           {
            "bin_start": 0.6000000000000001,
            "bin_end": 0.7000000000000001,
            "count": 0
           },
           {
            "bin_start": 0.7000000000000001,
            "bin_end": 0.8,
            "count": 0
           },
           {
            "bin_start": 0.8,
            "bin_end": 0.9,
            "count": 0
           },
           {
            "bin_start": 0.9,
            "bin_end": 1,
            "count": 0
           }
          ]
         }
        },
        {
         "name": "1990",
         "dtype": "float64",
         "stats": {
          "unique_count": 4,
          "nan_count": 1,
          "min": "15.18000031",
          "max": "75.40799713",
          "histogram": [
           {
            "bin_start": 15.18000031,
            "bin_end": 21.202799992000003,
            "count": 1
           },
           {
            "bin_start": 21.202799992000003,
            "bin_end": 27.225599674,
            "count": 0
           },
           {
            "bin_start": 27.225599674,
            "bin_end": 33.24839935600001,
            "count": 0
           },
           {
            "bin_start": 33.24839935600001,
            "bin_end": 39.271199038000006,
            "count": 0
           },
           {
            "bin_start": 39.271199038000006,
            "bin_end": 45.293998720000005,
            "count": 0
           },
           {
            "bin_start": 45.293998720000005,
            "bin_end": 51.316798402,
            "count": 0
           },
           {
            "bin_start": 51.316798402,
            "bin_end": 57.339598084,
            "count": 0
           },
           {
            "bin_start": 57.339598084,
            "bin_end": 63.362397766,
            "count": 1
           },
           {
            "bin_start": 63.362397766,
            "bin_end": 69.385197448,
            "count": 1
           },
           {
            "bin_start": 69.385197448,
            "bin_end": 75.40799713,
            "count": 1
           }
          ]
         }
        },
        {
         "name": "1991",
         "dtype": "float64",
         "stats": {
          "unique_count": 4,
          "nan_count": 1,
          "min": "15.21399975",
          "max": "75.3809967",
          "histogram": [
           {
            "bin_start": 15.21399975,
            "bin_end": 21.230699445,
            "count": 1
           },
           {
            "bin_start": 21.230699445,
            "bin_end": 27.24739914,
            "count": 0
           },
           {
            "bin_start": 27.24739914,
            "bin_end": 33.264098835,
            "count": 0
           },
           {
            "bin_start": 33.264098835,
            "bin_end": 39.28079853,
            "count": 0
           },
           {
            "bin_start": 39.28079853,
            "bin_end": 45.297498225,
            "count": 0
           },
           {
            "bin_start": 45.297498225,
            "bin_end": 51.31419792,
            "count": 0
           },
           {
            "bin_start": 51.31419792,
            "bin_end": 57.330897615,
            "count": 0
           },
           {
            "bin_start": 57.330897615,
            "bin_end": 63.34759731,
            "count": 1
           },
           {
            "bin_start": 63.34759731,
            "bin_end": 69.364297005,
            "count": 1
           },
           {
            "bin_start": 69.364297005,
            "bin_end": 75.3809967,
            "count": 1
           }
          ]
         }
        },
        {
         "name": "1992",
         "dtype": "float64",
         "stats": {
          "unique_count": 4,
          "nan_count": 1,
          "min": "15.22299957",
          "max": "75.3690033",
          "histogram": [
           {
            "bin_start": 15.22299957,
            "bin_end": 21.237599943,
            "count": 1
           },
           {
            "bin_start": 21.237599943,
            "bin_end": 27.252200316,
            "count": 0
           },
           {
            "bin_start": 27.252200316,
            "bin_end": 33.266800689,
            "count": 0
           },
           {
            "bin_start": 33.266800689,
            "bin_end": 39.281401062,
            "count": 0
           },
           {
            "bin_start": 39.281401062,
            "bin_end": 45.296001435,
            "count": 0
           },
           {
            "bin_start": 45.296001435,
            "bin_end": 51.310601808,
            "count": 0
           },
           {
            "bin_start": 51.310601808,
            "bin_end": 57.325202181,
            "count": 0
           },
           {
            "bin_start": 57.325202181,
            "bin_end": 63.339802554,
            "count": 1
           },
           {
            "bin_start": 63.339802554,
            "bin_end": 69.35440292700001,
            "count": 1
           },
           {
            "bin_start": 69.35440292700001,
            "bin_end": 75.3690033,
            "count": 1
           }
          ]
         }
        },
        {
         "name": "1993",
         "dtype": "float64",
         "stats": {
          "unique_count": 4,
          "nan_count": 1,
          "min": "15.19699955",
          "max": "75.3710022",
          "histogram": [
           {
            "bin_start": 15.19699955,
            "bin_end": 21.214399815,
            "count": 1
           },
           {
            "bin_start": 21.214399815,
            "bin_end": 27.23180008,
            "count": 0
           },
           {
            "bin_start": 27.23180008,
            "bin_end": 33.249200345000006,
            "count": 0
           },
           {
            "bin_start": 33.249200345000006,
            "bin_end": 39.266600610000005,
            "count": 0
           },
           {
            "bin_start": 39.266600610000005,
            "bin_end": 45.284000875000004,
            "count": 0
           },
           {
            "bin_start": 45.284000875000004,
            "bin_end": 51.30140114000001,
            "count": 0
           },
           {
            "bin_start": 51.30140114000001,
            "bin_end": 57.31880140500001,
            "count": 0
           },
           {
            "bin_start": 57.31880140500001,
            "bin_end": 63.33620167000001,
            "count": 1
           },
           {
            "bin_start": 63.33620167000001,
            "bin_end": 69.353601935,
            "count": 1
           },
           {
            "bin_start": 69.353601935,
            "bin_end": 75.3710022,
            "count": 1
           }
          ]
         }
        },
        {
         "name": "1994",
         "dtype": "float64",
         "stats": {
          "unique_count": 4,
          "nan_count": 1,
          "min": "15.17800045",
          "max": "75.38700104",
          "histogram": [
           {
            "bin_start": 15.17800045,
            "bin_end": 21.198900509,
            "count": 1
           },
           {
            "bin_start": 21.198900509,
            "bin_end": 27.219800568000004,
            "count": 0
           },
           {
            "bin_start": 27.219800568000004,
            "bin_end": 33.240700627,
            "count": 0
           },
           {
            "bin_start": 33.240700627,
            "bin_end": 39.261600686,
            "count": 0
           },
           {
            "bin_start": 39.261600686,
            "bin_end": 45.282500745,
            "count": 0
           },
           {
            "bin_start": 45.282500745,
            "bin_end": 51.303400804000006,
            "count": 0
           },
           {
            "bin_start": 51.303400804000006,
            "bin_end": 57.324300863000005,
            "count": 0
           },
           {
            "bin_start": 57.324300863000005,
            "bin_end": 63.345200922000004,
            "count": 1
           },
           {
            "bin_start": 63.345200922000004,
            "bin_end": 69.366100981,
            "count": 1
           },
           {
            "bin_start": 69.366100981,
            "bin_end": 75.38700104,
            "count": 1
           }
          ]
         }
        },
        {
         "name": "1995",
         "dtype": "float64",
         "stats": {
          "unique_count": 4,
          "nan_count": 1,
          "min": "15.22099972",
          "max": "75.41600037",
          "histogram": [
           {
            "bin_start": 15.22099972,
            "bin_end": 21.240499785,
            "count": 1
           },
           {
            "bin_start": 21.240499785,
            "bin_end": 27.25999985,
            "count": 0
           },
           {
            "bin_start": 27.25999985,
            "bin_end": 33.279499915,
            "count": 0
           },
           {
            "bin_start": 33.279499915,
            "bin_end": 39.298999980000005,
            "count": 0
           },
           {
            "bin_start": 39.298999980000005,
            "bin_end": 45.31850004500001,
            "count": 0
           },
           {
            "bin_start": 45.31850004500001,
            "bin_end": 51.33800011,
            "count": 0
           },
           {
            "bin_start": 51.33800011,
            "bin_end": 57.357500175000006,
            "count": 0
           },
           {
            "bin_start": 57.357500175000006,
            "bin_end": 63.37700024000001,
            "count": 1
           },
           {
            "bin_start": 63.37700024000001,
            "bin_end": 69.396500305,
            "count": 1
           },
           {
            "bin_start": 69.396500305,
            "bin_end": 75.41600037,
            "count": 1
           }
          ]
         }
        },
        {
         "name": "1996",
         "dtype": "float64",
         "stats": {
          "unique_count": 4,
          "nan_count": 1,
          "min": "15.07800007",
          "max": "75.41400146",
          "histogram": [
           {
            "bin_start": 15.07800007,
            "bin_end": 21.111600209,
            "count": 1
           },
           {
            "bin_start": 21.111600209,
            "bin_end": 27.145200347999996,
            "count": 0
           },
           {
            "bin_start": 27.145200347999996,
            "bin_end": 33.178800487,
            "count": 0
           },
           {
            "bin_start": 33.178800487,
            "bin_end": 39.212400626,
            "count": 0
           },
           {
            "bin_start": 39.212400626,
            "bin_end": 45.246000765,
            "count": 0
           },
           {
            "bin_start": 45.246000765,
            "bin_end": 51.27960090399999,
            "count": 0
           },
           {
            "bin_start": 51.27960090399999,
            "bin_end": 57.31320104299999,
            "count": 0
           },
           {
            "bin_start": 57.31320104299999,
            "bin_end": 63.34680118199999,
            "count": 1
           },
           {
            "bin_start": 63.34680118199999,
            "bin_end": 69.380401321,
            "count": 1
           },
           {
            "bin_start": 69.380401321,
            "bin_end": 75.41400146,
            "count": 1
           }
          ]
         }
        },
        {
         "name": "1997",
         "dtype": "float64",
         "stats": {
          "unique_count": 4,
          "nan_count": 1,
          "min": "14.95400047",
          "max": "75.4280014",
          "histogram": [
           {
            "bin_start": 14.95400047,
            "bin_end": 21.001400563,
            "count": 1
           },
           {
            "bin_start": 21.001400563,
            "bin_end": 27.048800656,
            "count": 0
           },
           {
            "bin_start": 27.048800656,
            "bin_end": 33.096200749000005,
            "count": 0
           },
           {
            "bin_start": 33.096200749000005,
            "bin_end": 39.143600842,
            "count": 0
           },
           {
            "bin_start": 39.143600842,
            "bin_end": 45.191000935000005,
            "count": 0
           },
           {
            "bin_start": 45.191000935000005,
            "bin_end": 51.238401028,
            "count": 0
           },
           {
            "bin_start": 51.238401028,
            "bin_end": 57.285801121000006,
            "count": 0
           },
           {
            "bin_start": 57.285801121000006,
            "bin_end": 63.333201214,
            "count": 1
           },
           {
            "bin_start": 63.333201214,
            "bin_end": 69.380601307,
            "count": 1
           },
           {
            "bin_start": 69.380601307,
            "bin_end": 75.4280014,
            "count": 1
           }
          ]
         }
        },
        {
         "name": "1998",
         "dtype": "float64",
         "stats": {
          "unique_count": 4,
          "nan_count": 1,
          "min": "14.87300014",
          "max": "75.45600128",
          "histogram": [
           {
            "bin_start": 14.87300014,
            "bin_end": 20.931300254,
            "count": 1
           },
           {
            "bin_start": 20.931300254,
            "bin_end": 26.989600367999998,
            "count": 0
           },
           {
            "bin_start": 26.989600367999998,
            "bin_end": 33.047900482,
            "count": 0
           },
           {
            "bin_start": 33.047900482,
            "bin_end": 39.106200596,
            "count": 0
           },
           {
            "bin_start": 39.106200596,
            "bin_end": 45.16450071,
            "count": 0
           },
           {
            "bin_start": 45.16450071,
            "bin_end": 51.222800824000004,
            "count": 0
           },
           {
            "bin_start": 51.222800824000004,
            "bin_end": 57.281100938,
            "count": 0
           },
           {
            "bin_start": 57.281100938,
            "bin_end": 63.339401052,
            "count": 1
           },
           {
            "bin_start": 63.339401052,
            "bin_end": 69.39770116599999,
            "count": 1
           },
           {
            "bin_start": 69.39770116599999,
            "bin_end": 75.45600128,
            "count": 1
           }
          ]
         }
        },
        {
         "name": "1999",
         "dtype": "float64",
         "stats": {
          "unique_count": 4,
          "nan_count": 1,
          "min": "14.82699966",
          "max": "75.4940033",
          "histogram": [
           {
            "bin_start": 14.82699966,
            "bin_end": 20.893700024,
            "count": 1
           },
           {
            "bin_start": 20.893700024,
            "bin_end": 26.960400388000004,
            "count": 0
           },
           {
            "bin_start": 26.960400388000004,
            "bin_end": 33.027100752,
            "count": 0
           },
           {
            "bin_start": 33.027100752,
            "bin_end": 39.093801116,
            "count": 0
           },
           {
            "bin_start": 39.093801116,
            "bin_end": 45.16050148,
            "count": 0
           },
           {
            "bin_start": 45.16050148,
            "bin_end": 51.22720184400001,
            "count": 0
           },
           {
            "bin_start": 51.22720184400001,
            "bin_end": 57.293902208000006,
            "count": 0
           },
           {
            "bin_start": 57.293902208000006,
            "bin_end": 63.360602572000005,
            "count": 1
           },
           {
            "bin_start": 63.360602572000005,
            "bin_end": 69.427302936,
            "count": 1
           },
           {
            "bin_start": 69.427302936,
            "bin_end": 75.4940033,
            "count": 1
           }
          ]
         }
        },
        {
         "name": "2000",
         "dtype": "float64",
         "stats": {
          "unique_count": 4,
          "nan_count": 1,
          "min": "14.79500008",
          "max": "75.53900146",
          "histogram": [
           {
            "bin_start": 14.79500008,
            "bin_end": 20.869400218,
            "count": 1
           },
           {
            "bin_start": 20.869400218,
            "bin_end": 26.943800355999997,
            "count": 0
           },
           {
            "bin_start": 26.943800355999997,
            "bin_end": 33.018200494,
            "count": 0
           },
           {
            "bin_start": 33.018200494,
            "bin_end": 39.092600632,
            "count": 0
           },
           {
            "bin_start": 39.092600632,
            "bin_end": 45.16700077,
            "count": 0
           },
           {
            "bin_start": 45.16700077,
            "bin_end": 51.241400907999996,
            "count": 0
           },
           {
            "bin_start": 51.241400907999996,
            "bin_end": 57.315801046,
            "count": 0
           },
           {
            "bin_start": 57.315801046,
            "bin_end": 63.390201184,
            "count": 1
           },
           {
            "bin_start": 63.390201184,
            "bin_end": 69.464601322,
            "count": 1
           },
           {
            "bin_start": 69.464601322,
            "bin_end": 75.53900146,
            "count": 1
           }
          ]
         }
        },
        {
         "name": "2001",
         "dtype": "float64",
         "stats": {
          "unique_count": 4,
          "nan_count": 1,
          "min": "14.93599987",
          "max": "75.54599762",
          "histogram": [
           {
            "bin_start": 14.93599987,
            "bin_end": 20.996999645,
            "count": 1
           },
           {
            "bin_start": 20.996999645,
            "bin_end": 27.057999419999998,
            "count": 0
           },
           {
            "bin_start": 27.057999419999998,
            "bin_end": 33.118999195,
            "count": 0
           },
           {
            "bin_start": 33.118999195,
            "bin_end": 39.17999897,
            "count": 0
           },
           {
            "bin_start": 39.17999897,
            "bin_end": 45.240998745,
            "count": 0
           },
           {
            "bin_start": 45.240998745,
            "bin_end": 51.30199852,
            "count": 0
           },
           {
            "bin_start": 51.30199852,
            "bin_end": 57.362998295,
            "count": 0
           },
           {
            "bin_start": 57.362998295,
            "bin_end": 63.423998069999996,
            "count": 1
           },
           {
            "bin_start": 63.423998069999996,
            "bin_end": 69.484997845,
            "count": 1
           },
           {
            "bin_start": 69.484997845,
            "bin_end": 75.54599762,
            "count": 1
           }
          ]
         }
        },
        {
         "name": "2002",
         "dtype": "float64",
         "stats": {
          "unique_count": 4,
          "nan_count": 1,
          "min": "15.11299992",
          "max": "75.56400299",
          "histogram": [
           {
            "bin_start": 15.11299992,
            "bin_end": 21.158100227,
            "count": 1
           },
           {
            "bin_start": 21.158100227,
            "bin_end": 27.203200534,
            "count": 0
           },
           {
            "bin_start": 27.203200534,
            "bin_end": 33.248300841,
            "count": 0
           },
           {
            "bin_start": 33.248300841,
            "bin_end": 39.293401148,
            "count": 0
           },
           {
            "bin_start": 39.293401148,
            "bin_end": 45.338501455,
            "count": 0
           },
           {
            "bin_start": 45.338501455,
            "bin_end": 51.383601762000005,
            "count": 0
           },
           {
            "bin_start": 51.383601762000005,
            "bin_end": 57.428702069,
            "count": 0
           },
           {
            "bin_start": 57.428702069,
            "bin_end": 63.473802376,
            "count": 1
           },
           {
            "bin_start": 63.473802376,
            "bin_end": 69.518902683,
            "count": 1
           },
           {
            "bin_start": 69.518902683,
            "bin_end": 75.56400299,
            "count": 1
           }
          ]
         }
        },
        {
         "name": "2003",
         "dtype": "float64",
         "stats": {
          "unique_count": 4,
          "nan_count": 1,
          "min": "15.29800034",
          "max": "75.58999634",
          "histogram": [
           {
            "bin_start": 15.29800034,
            "bin_end": 21.32719994,
            "count": 1
           },
           {
            "bin_start": 21.32719994,
            "bin_end": 27.356399539999998,
            "count": 0
           },
           {
            "bin_start": 27.356399539999998,
            "bin_end": 33.385599140000004,
            "count": 0
           },
           {
            "bin_start": 33.385599140000004,
            "bin_end": 39.41479874,
            "count": 0
           },
           {
            "bin_start": 39.41479874,
            "bin_end": 45.44399834,
            "count": 0
           },
           {
            "bin_start": 45.44399834,
            "bin_end": 51.473197940000006,
            "count": 0
           },
           {
            "bin_start": 51.473197940000006,
            "bin_end": 57.502397540000004,
            "count": 0
           },
           {
            "bin_start": 57.502397540000004,
            "bin_end": 63.53159714,
            "count": 1
           },
           {
            "bin_start": 63.53159714,
            "bin_end": 69.56079674,
            "count": 1
           },
           {
            "bin_start": 69.56079674,
            "bin_end": 75.58999634,
            "count": 1
           }
          ]
         }
        },
        {
         "name": "2004",
         "dtype": "float64",
         "stats": {
          "unique_count": 4,
          "nan_count": 1,
          "min": "15.47500038",
          "max": "75.61699677",
          "histogram": [
           {
            "bin_start": 15.47500038,
            "bin_end": 21.489200019000002,
            "count": 1
           },
           {
            "bin_start": 21.489200019000002,
            "bin_end": 27.503399658,
            "count": 0
           },
           {
            "bin_start": 27.503399658,
            "bin_end": 33.517599297000004,
            "count": 0
           },
           {
            "bin_start": 33.517599297000004,
            "bin_end": 39.531798936,
            "count": 0
           },
           {
            "bin_start": 39.531798936,
            "bin_end": 45.545998575,
            "count": 0
           },
           {
            "bin_start": 45.545998575,
            "bin_end": 51.560198213999996,
            "count": 0
           },
           {
            "bin_start": 51.560198213999996,
            "bin_end": 57.57439785300001,
            "count": 0
           },
           {
            "bin_start": 57.57439785300001,
            "bin_end": 63.588597492000005,
            "count": 1
           },
           {
            "bin_start": 63.588597492000005,
            "bin_end": 69.602797131,
            "count": 1
           },
           {
            "bin_start": 69.602797131,
            "bin_end": 75.61699677,
            "count": 1
           }
          ]
         }
        },
        {
         "name": "2005",
         "dtype": "float64",
         "stats": {
          "unique_count": 4,
          "nan_count": 1,
          "min": "15.64400005",
          "max": "75.64099884",
          "histogram": [
           {
            "bin_start": 15.64400005,
            "bin_end": 21.643699929,
            "count": 1
           },
           {
            "bin_start": 21.643699929,
            "bin_end": 27.643399807999998,
            "count": 0
           },
           {
            "bin_start": 27.643399807999998,
            "bin_end": 33.643099687,
            "count": 0
           },
           {
            "bin_start": 33.643099687,
            "bin_end": 39.642799566,
            "count": 0
           },
           {
            "bin_start": 39.642799566,
            "bin_end": 45.642499445,
            "count": 0
           },
           {
            "bin_start": 45.642499445,
            "bin_end": 51.642199324,
            "count": 0
           },
           {
            "bin_start": 51.642199324,
            "bin_end": 57.641899203,
            "count": 0
           },
           {
            "bin_start": 57.641899203,
            "bin_end": 63.641599082,
            "count": 1
           },
           {
            "bin_start": 63.641599082,
            "bin_end": 69.64129896099999,
            "count": 1
           },
           {
            "bin_start": 69.64129896099999,
            "bin_end": 75.64099884,
            "count": 1
           }
          ]
         }
        },
        {
         "name": "2006",
         "dtype": "float64",
         "stats": {
          "unique_count": 4,
          "nan_count": 1,
          "min": "15.45499992",
          "max": "75.625",
          "histogram": [
           {
            "bin_start": 15.45499992,
            "bin_end": 21.471999928000002,
            "count": 1
           },
           {
            "bin_start": 21.471999928000002,
            "bin_end": 27.488999936,
            "count": 0
           },
           {
            "bin_start": 27.488999936,
            "bin_end": 33.505999944,
            "count": 0
           },
           {
            "bin_start": 33.505999944,
            "bin_end": 39.522999952,
            "count": 0
           },
           {
            "bin_start": 39.522999952,
            "bin_end": 45.53999996,
            "count": 0
           },
           {
            "bin_start": 45.53999996,
            "bin_end": 51.556999968,
            "count": 0
           },
           {
            "bin_start": 51.556999968,
            "bin_end": 57.573999976,
            "count": 0
           },
           {
            "bin_start": 57.573999976,
            "bin_end": 63.590999984,
            "count": 1
           },
           {
            "bin_start": 63.590999984,
            "bin_end": 69.607999992,
            "count": 1
           },
           {
            "bin_start": 69.607999992,
            "bin_end": 75.625,
            "count": 1
           }
          ]
         }
        },
        {
         "name": "2007",
         "dtype": "float64",
         "stats": {
          "unique_count": 4,
          "nan_count": 1,
          "min": "15.27499962",
          "max": "75.61399841",
          "histogram": [
           {
            "bin_start": 15.27499962,
            "bin_end": 21.308899499,
            "count": 1
           },
           {
            "bin_start": 21.308899499,
            "bin_end": 27.342799377999995,
            "count": 0
           },
           {
            "bin_start": 27.342799377999995,
            "bin_end": 33.376699257,
            "count": 0
           },
           {
            "bin_start": 33.376699257,
            "bin_end": 39.410599135999995,
            "count": 0
           },
           {
            "bin_start": 39.410599135999995,
            "bin_end": 45.44449901499999,
            "count": 0
           },
           {
            "bin_start": 45.44449901499999,
            "bin_end": 51.478398893999994,
            "count": 0
           },
           {
            "bin_start": 51.478398893999994,
            "bin_end": 57.512298773,
            "count": 0
           },
           {
            "bin_start": 57.512298773,
            "bin_end": 63.54619865199999,
            "count": 1
           },
           {
            "bin_start": 63.54619865199999,
            "bin_end": 69.58009853099999,
            "count": 1
           },
           {
            "bin_start": 69.58009853099999,
            "bin_end": 75.61399841,
            "count": 1
           }
          ]
         }
        },
        {
         "name": "2008",
         "dtype": "float64",
         "stats": {
          "unique_count": 4,
          "nan_count": 1,
          "min": "15.13700008",
          "max": "75.60700226",
          "histogram": [
           {
            "bin_start": 15.13700008,
            "bin_end": 21.184000298,
            "count": 1
           },
           {
            "bin_start": 21.184000298,
            "bin_end": 27.231000516,
            "count": 0
           },
           {
            "bin_start": 27.231000516,
            "bin_end": 33.278000734,
            "count": 0
           },
           {
            "bin_start": 33.278000734,
            "bin_end": 39.325000951999996,
            "count": 0
           },
           {
            "bin_start": 39.325000951999996,
            "bin_end": 45.372001170000004,
            "count": 0
           },
           {
            "bin_start": 45.372001170000004,
            "bin_end": 51.419001388,
            "count": 0
           },
           {
            "bin_start": 51.419001388,
            "bin_end": 57.466001606,
            "count": 0
           },
           {
            "bin_start": 57.466001606,
            "bin_end": 63.513001824,
            "count": 1
           },
           {
            "bin_start": 63.513001824,
            "bin_end": 69.56000204200001,
            "count": 1
           },
           {
            "bin_start": 69.56000204200001,
            "bin_end": 75.60700226,
            "count": 1
           }
          ]
         }
        },
        {
         "name": "2009",
         "dtype": "float64",
         "stats": {
          "unique_count": 4,
          "nan_count": 1,
          "min": "15.07600021",
          "max": "75.60299683",
          "histogram": [
           {
            "bin_start": 15.07600021,
            "bin_end": 21.128699872,
            "count": 1
           },
           {
            "bin_start": 21.128699872,
            "bin_end": 27.181399534,
            "count": 0
           },
           {
            "bin_start": 27.181399534,
            "bin_end": 33.234099196,
            "count": 0
           },
           {
            "bin_start": 33.234099196,
            "bin_end": 39.286798858,
            "count": 0
           },
           {
            "bin_start": 39.286798858,
            "bin_end": 45.33949851999999,
            "count": 0
           },
           {
            "bin_start": 45.33949851999999,
            "bin_end": 51.392198182,
            "count": 0
           },
           {
            "bin_start": 51.392198182,
            "bin_end": 57.444897843999996,
            "count": 0
           },
           {
            "bin_start": 57.444897843999996,
            "bin_end": 63.49759750599999,
            "count": 1
           },
           {
            "bin_start": 63.49759750599999,
            "bin_end": 69.550297168,
            "count": 1
           },
           {
            "bin_start": 69.550297168,
            "bin_end": 75.60299683,
            "count": 1
           }
          ]
         }
        },
        {
         "name": "2010",
         "dtype": "float64",
         "stats": {
          "unique_count": 4,
          "nan_count": 1,
          "min": "15.11100006",
          "max": "75.60500336",
          "histogram": [
           {
            "bin_start": 15.11100006,
            "bin_end": 21.16040039,
            "count": 1
           },
           {
            "bin_start": 21.16040039,
            "bin_end": 27.209800719999997,
            "count": 0
           },
           {
            "bin_start": 27.209800719999997,
            "bin_end": 33.25920105,
            "count": 0
           },
           {
            "bin_start": 33.25920105,
            "bin_end": 39.30860138,
            "count": 0
           },
           {
            "bin_start": 39.30860138,
            "bin_end": 45.358001709999996,
            "count": 0
           },
           {
            "bin_start": 45.358001709999996,
            "bin_end": 51.40740204,
            "count": 0
           },
           {
            "bin_start": 51.40740204,
            "bin_end": 57.45680237,
            "count": 0
           },
           {
            "bin_start": 57.45680237,
            "bin_end": 63.506202699999996,
            "count": 1
           },
           {
            "bin_start": 63.506202699999996,
            "bin_end": 69.55560302999999,
            "count": 1
           },
           {
            "bin_start": 69.55560302999999,
            "bin_end": 75.60500336,
            "count": 1
           }
          ]
         }
        },
        {
         "name": "2011",
         "dtype": "float64",
         "stats": {
          "unique_count": 4,
          "nan_count": 1,
          "min": "15.45400047",
          "max": "74.84700012",
          "histogram": [
           {
            "bin_start": 15.45400047,
            "bin_end": 21.393300435,
            "count": 1
           },
           {
            "bin_start": 21.393300435,
            "bin_end": 27.332600400000004,
            "count": 0
           },
           {
            "bin_start": 27.332600400000004,
            "bin_end": 33.27190036500001,
            "count": 0
           },
           {
            "bin_start": 33.27190036500001,
            "bin_end": 39.211200330000004,
            "count": 0
           },
           {
            "bin_start": 39.211200330000004,
            "bin_end": 45.150500295,
            "count": 0
           },
           {
            "bin_start": 45.150500295,
            "bin_end": 51.089800260000004,
            "count": 0
           },
           {
            "bin_start": 51.089800260000004,
            "bin_end": 57.02910022500001,
            "count": 0
           },
           {
            "bin_start": 57.02910022500001,
            "bin_end": 62.96840019000001,
            "count": 1
           },
           {
            "bin_start": 62.96840019000001,
            "bin_end": 68.90770015500001,
            "count": 1
           },
           {
            "bin_start": 68.90770015500001,
            "bin_end": 74.84700012,
            "count": 1
           }
          ]
         }
        },
        {
         "name": "2012",
         "dtype": "float64",
         "stats": {
          "unique_count": 4,
          "nan_count": 1,
          "min": "15.87899971",
          "max": "74.83399963",
          "histogram": [
           {
            "bin_start": 15.87899971,
            "bin_end": 21.774499702,
            "count": 1
           },
           {
            "bin_start": 21.774499702,
            "bin_end": 27.669999693999998,
            "count": 0
           },
           {
            "bin_start": 27.669999693999998,
            "bin_end": 33.565499686,
            "count": 0
           },
           {
            "bin_start": 33.565499686,
            "bin_end": 39.460999678,
            "count": 0
           },
           {
            "bin_start": 39.460999678,
            "bin_end": 45.35649967,
            "count": 0
           },
           {
            "bin_start": 45.35649967,
            "bin_end": 51.251999662,
            "count": 0
           },
           {
            "bin_start": 51.251999662,
            "bin_end": 57.147499654,
            "count": 1
           },
           {
            "bin_start": 57.147499654,
            "bin_end": 63.042999646,
            "count": 0
           },
           {
            "bin_start": 63.042999646,
            "bin_end": 68.938499638,
            "count": 1
           },
           {
            "bin_start": 68.938499638,
            "bin_end": 74.83399963,
            "count": 1
           }
          ]
         }
        },
        {
         "name": "2013",
         "dtype": "float64",
         "stats": {
          "unique_count": 4,
          "nan_count": 1,
          "min": "16.79400063",
          "max": "74.83300018",
          "histogram": [
           {
            "bin_start": 16.79400063,
            "bin_end": 22.597900584999998,
            "count": 1
           },
           {
            "bin_start": 22.597900584999998,
            "bin_end": 28.40180054,
            "count": 0
           },
           {
            "bin_start": 28.40180054,
            "bin_end": 34.205700495,
            "count": 0
           },
           {
            "bin_start": 34.205700495,
            "bin_end": 40.00960045,
            "count": 0
           },
           {
            "bin_start": 40.00960045,
            "bin_end": 45.813500405,
            "count": 0
           },
           {
            "bin_start": 45.813500405,
            "bin_end": 51.617400360000005,
            "count": 0
           },
           {
            "bin_start": 51.617400360000005,
            "bin_end": 57.421300315,
            "count": 1
           },
           {
            "bin_start": 57.421300315,
            "bin_end": 63.22520027,
            "count": 0
           },
           {
            "bin_start": 63.22520027,
            "bin_end": 69.02910022500001,
            "count": 1
           },
           {
            "bin_start": 69.02910022500001,
            "bin_end": 74.83300018,
            "count": 1
           }
          ]
         }
        },
        {
         "name": "2014",
         "dtype": "float64",
         "stats": {
          "unique_count": 4,
          "nan_count": 1,
          "min": "17.74900055",
          "max": "74.84300232",
          "histogram": [
           {
            "bin_start": 17.74900055,
            "bin_end": 23.458400727,
            "count": 1
           },
           {
            "bin_start": 23.458400727,
            "bin_end": 29.167800904,
            "count": 0
           },
           {
            "bin_start": 29.167800904,
            "bin_end": 34.877201080999995,
            "count": 0
           },
           {
            "bin_start": 34.877201080999995,
            "bin_end": 40.586601258,
            "count": 0
           },
           {
            "bin_start": 40.586601258,
            "bin_end": 46.296001434999994,
            "count": 0
           },
           {
            "bin_start": 46.296001434999994,
            "bin_end": 52.005401612,
            "count": 0
           },
           {
            "bin_start": 52.005401612,
            "bin_end": 57.71480178899999,
            "count": 1
           },
           {
            "bin_start": 57.71480178899999,
            "bin_end": 63.424201966,
            "count": 0
           },
           {
            "bin_start": 63.424201966,
            "bin_end": 69.13360214299999,
            "count": 1
           },
           {
            "bin_start": 69.13360214299999,
            "bin_end": 74.84300232,
            "count": 1
           }
          ]
         }
        },
        {
         "name": "2015",
         "dtype": "float64",
         "stats": {
          "unique_count": 4,
          "nan_count": 1,
          "min": "18.74600029",
          "max": "74.86399841",
          "histogram": [
           {
            "bin_start": 18.74600029,
            "bin_end": 24.357800102,
            "count": 1
           },
           {
            "bin_start": 24.357800102,
            "bin_end": 29.969599914,
            "count": 0
           },
           {
            "bin_start": 29.969599914,
            "bin_end": 35.581399726,
            "count": 0
           },
           {
            "bin_start": 35.581399726,
            "bin_end": 41.193199538,
            "count": 0
           },
           {
            "bin_start": 41.193199538,
            "bin_end": 46.80499935,
            "count": 0
           },
           {
            "bin_start": 46.80499935,
            "bin_end": 52.41679916199999,
            "count": 0
           },
           {
            "bin_start": 52.41679916199999,
            "bin_end": 58.02859897399999,
            "count": 1
           },
           {
            "bin_start": 58.02859897399999,
            "bin_end": 63.64039878599999,
            "count": 0
           },
           {
            "bin_start": 63.64039878599999,
            "bin_end": 69.25219859799999,
            "count": 1
           },
           {
            "bin_start": 69.25219859799999,
            "bin_end": 74.86399841,
            "count": 1
           }
          ]
         }
        },
        {
         "name": "2016",
         "dtype": "float64",
         "stats": {
          "unique_count": 4,
          "nan_count": 1,
          "min": "19.79800034",
          "max": "74.88200378",
          "histogram": [
           {
            "bin_start": 19.79800034,
            "bin_end": 25.306400684000003,
            "count": 1
           },
           {
            "bin_start": 25.306400684000003,
            "bin_end": 30.814801028,
            "count": 0
           },
           {
            "bin_start": 30.814801028,
            "bin_end": 36.323201372,
            "count": 0
           },
           {
            "bin_start": 36.323201372,
            "bin_end": 41.831601716,
            "count": 0
           },
           {
            "bin_start": 41.831601716,
            "bin_end": 47.34000206,
            "count": 0
           },
           {
            "bin_start": 47.34000206,
            "bin_end": 52.848402404,
            "count": 0
           },
           {
            "bin_start": 52.848402404,
            "bin_end": 58.356802748,
            "count": 1
           },
           {
            "bin_start": 58.356802748,
            "bin_end": 63.865203092,
            "count": 0
           },
           {
            "bin_start": 63.865203092,
            "bin_end": 69.373603436,
            "count": 1
           },
           {
            "bin_start": 69.373603436,
            "bin_end": 74.88200378,
            "count": 1
           }
          ]
         }
        },
        {
         "name": "2017",
         "dtype": "float64",
         "stats": {
          "unique_count": 4,
          "nan_count": 1,
          "min": "20.88699913",
          "max": "74.91200256",
          "histogram": [
           {
            "bin_start": 20.88699913,
            "bin_end": 26.289499473,
            "count": 1
           },
           {
            "bin_start": 26.289499473,
            "bin_end": 31.691999816,
            "count": 0
           },
           {
            "bin_start": 31.691999816,
            "bin_end": 37.094500159000006,
            "count": 0
           },
           {
            "bin_start": 37.094500159000006,
            "bin_end": 42.497000502000006,
            "count": 0
           },
           {
            "bin_start": 42.497000502000006,
            "bin_end": 47.899500845000006,
            "count": 0
           },
           {
            "bin_start": 47.899500845000006,
            "bin_end": 53.302001188000006,
            "count": 0
           },
           {
            "bin_start": 53.302001188000006,
            "bin_end": 58.704501531000005,
            "count": 1
           },
           {
            "bin_start": 58.704501531000005,
            "bin_end": 64.107001874,
            "count": 0
           },
           {
            "bin_start": 64.107001874,
            "bin_end": 69.509502217,
            "count": 1
           },
           {
            "bin_start": 69.509502217,
            "bin_end": 74.91200256,
            "count": 1
           }
          ]
         }
        },
        {
         "name": "2018",
         "dtype": "float64",
         "stats": {
          "unique_count": 4,
          "nan_count": 1,
          "min": "21.22800064",
          "max": "74.95500183",
          "histogram": [
           {
            "bin_start": 21.22800064,
            "bin_end": 26.600700759,
            "count": 1
           },
           {
            "bin_start": 26.600700759,
            "bin_end": 31.973400878,
            "count": 0
           },
           {
            "bin_start": 31.973400878,
            "bin_end": 37.34610099699999,
            "count": 0
           },
           {
            "bin_start": 37.34610099699999,
            "bin_end": 42.718801115999995,
            "count": 0
           },
           {
            "bin_start": 42.718801115999995,
            "bin_end": 48.091501234999996,
            "count": 0
           },
           {
            "bin_start": 48.091501234999996,
            "bin_end": 53.464201354,
            "count": 0
           },
           {
            "bin_start": 53.464201354,
            "bin_end": 58.836901473,
            "count": 1
           },
           {
            "bin_start": 58.836901473,
            "bin_end": 64.209601592,
            "count": 0
           },
           {
            "bin_start": 64.209601592,
            "bin_end": 69.582301711,
            "count": 1
           },
           {
            "bin_start": 69.582301711,
            "bin_end": 74.95500183,
            "count": 1
           }
          ]
         }
        },
        {
         "name": "2019",
         "dtype": "float64",
         "stats": {
          "unique_count": 4,
          "nan_count": 1,
          "min": "21.56599998",
          "max": "75.01100159",
          "histogram": [
           {
            "bin_start": 21.56599998,
            "bin_end": 26.910500141,
            "count": 1
           },
           {
            "bin_start": 26.910500141,
            "bin_end": 32.255000302,
            "count": 0
           },
           {
            "bin_start": 32.255000302,
            "bin_end": 37.599500463000005,
            "count": 0
           },
           {
            "bin_start": 37.599500463000005,
            "bin_end": 42.944000624000005,
            "count": 0
           },
           {
            "bin_start": 42.944000624000005,
            "bin_end": 48.288500785000004,
            "count": 0
           },
           {
            "bin_start": 48.288500785000004,
            "bin_end": 53.63300094600001,
            "count": 0
           },
           {
            "bin_start": 53.63300094600001,
            "bin_end": 58.97750110700001,
            "count": 1
           },
           {
            "bin_start": 58.97750110700001,
            "bin_end": 64.32200126800001,
            "count": 0
           },
           {
            "bin_start": 64.32200126800001,
            "bin_end": 69.66650142900001,
            "count": 1
           },
           {
            "bin_start": 69.66650142900001,
            "bin_end": 75.01100159,
            "count": 1
           }
          ]
         }
        },
        {
         "name": "2020",
         "dtype": "float64",
         "stats": {
          "unique_count": 4,
          "nan_count": 1,
          "min": "16.18899918",
          "max": "73.61799622",
          "histogram": [
           {
            "bin_start": 16.18899918,
            "bin_end": 21.931898884,
            "count": 1
           },
           {
            "bin_start": 21.931898884,
            "bin_end": 27.674798588,
            "count": 0
           },
           {
            "bin_start": 27.674798588,
            "bin_end": 33.417698292,
            "count": 0
           },
           {
            "bin_start": 33.417698292,
            "bin_end": 39.160597996,
            "count": 0
           },
           {
            "bin_start": 39.160597996,
            "bin_end": 44.9034977,
            "count": 0
           },
           {
            "bin_start": 44.9034977,
            "bin_end": 50.646397404,
            "count": 0
           },
           {
            "bin_start": 50.646397404,
            "bin_end": 56.389297107999994,
            "count": 1
           },
           {
            "bin_start": 56.389297107999994,
            "bin_end": 62.132196812000004,
            "count": 0
           },
           {
            "bin_start": 62.132196812000004,
            "bin_end": 67.875096516,
            "count": 1
           },
           {
            "bin_start": 67.875096516,
            "bin_end": 73.61799622,
            "count": 1
           }
          ]
         }
        },
        {
         "name": "2021",
         "dtype": "float64",
         "stats": {
          "unique_count": 4,
          "nan_count": 1,
          "min": "14.84799957",
          "max": "73.96800232",
          "histogram": [
           {
            "bin_start": 14.84799957,
            "bin_end": 20.759999845,
            "count": 1
           },
           {
            "bin_start": 20.759999845,
            "bin_end": 26.67200012,
            "count": 0
           },
           {
            "bin_start": 26.67200012,
            "bin_end": 32.584000395,
            "count": 0
           },
           {
            "bin_start": 32.584000395,
            "bin_end": 38.49600067,
            "count": 0
           },
           {
            "bin_start": 38.49600067,
            "bin_end": 44.408000945,
            "count": 0
           },
           {
            "bin_start": 44.408000945,
            "bin_end": 50.320001219999995,
            "count": 0
           },
           {
            "bin_start": 50.320001219999995,
            "bin_end": 56.232001495,
            "count": 1
           },
           {
            "bin_start": 56.232001495,
            "bin_end": 62.144001769999996,
            "count": 0
           },
           {
            "bin_start": 62.144001769999996,
            "bin_end": 68.056002045,
            "count": 1
           },
           {
            "bin_start": 68.056002045,
            "bin_end": 73.96800232,
            "count": 1
           }
          ]
         }
        },
        {
         "name": "_deepnote_index_column",
         "dtype": "int64"
        }
       ],
       "rows": [
        {
         "1960": "nan",
         "1961": "nan",
         "1962": "nan",
         "1963": "nan",
         "1964": "nan",
         "1965": "nan",
         "1966": "nan",
         "1967": "nan",
         "1968": "nan",
         "1969": "nan",
         "1970": "nan",
         "1971": "nan",
         "1972": "nan",
         "1973": "nan",
         "1974": "nan",
         "1975": "nan",
         "1976": "nan",
         "1977": "nan",
         "1978": "nan",
         "1979": "nan",
         "1980": "nan",
         "1981": "nan",
         "1982": "nan",
         "1983": "nan",
         "1984": "nan",
         "1985": "nan",
         "1986": "nan",
         "1987": "nan",
         "1988": "nan",
         "1989": "nan",
         "1990": "nan",
         "1991": "nan",
         "1992": "nan",
         "1993": "nan",
         "1994": "nan",
         "1995": "nan",
         "1996": "nan",
         "1997": "nan",
         "1998": "nan",
         "1999": "nan",
         "2000": "nan",
         "2001": "nan",
         "2002": "nan",
         "2003": "nan",
         "2004": "nan",
         "2005": "nan",
         "2006": "nan",
         "2007": "nan",
         "2008": "nan",
         "2009": "nan",
         "2010": "nan",
         "2011": "nan",
         "2012": "nan",
         "2013": "nan",
         "2014": "nan",
         "2015": "nan",
         "2016": "nan",
         "2017": "nan",
         "2018": "nan",
         "2019": "nan",
         "2020": "nan",
         "2021": "nan",
         "Country Name": "Aruba",
         "Country Code": "ABW",
         "Indicator Name": "Labor force participation rate, female (% of female population ages 15+) (modeled ILO estimate)",
         "Indicator Code": "SL.TLF.CACT.FE.ZS",
         "_deepnote_index_column": 0
        },
        {
         "1960": "nan",
         "1961": "nan",
         "1962": "nan",
         "1963": "nan",
         "1964": "nan",
         "1965": "nan",
         "1966": "nan",
         "1967": "nan",
         "1968": "nan",
         "1969": "nan",
         "1970": "nan",
         "1971": "nan",
         "1972": "nan",
         "1973": "nan",
         "1974": "nan",
         "1975": "nan",
         "1976": "nan",
         "1977": "nan",
         "1978": "nan",
         "1979": "nan",
         "1980": "nan",
         "1981": "nan",
         "1982": "nan",
         "1983": "nan",
         "1984": "nan",
         "1985": "nan",
         "1986": "nan",
         "1987": "nan",
         "1988": "nan",
         "1989": "nan",
         "1990": 64.88827593,
         "1991": 64.92201168,
         "1992": 64.98810382,
         "1993": 65.07132142,
         "1994": 65.17073501,
         "1995": 65.40594663,
         "1996": 65.61059255,
         "1997": 65.76686705,
         "1998": 65.94416744,
         "1999": 66.13260636,
         "2000": 66.31903452,
         "2001": 66.4895699,
         "2002": 66.71305451,
         "2003": 66.94403594,
         "2004": 67.13786342,
         "2005": 67.32986891,
         "2006": 67.24176213,
         "2007": 67.04374405,
         "2008": 66.84472953,
         "2009": 66.42022111,
         "2010": 65.9846424,
         "2011": 65.76293085,
         "2012": 65.57092201,
         "2013": 65.65449551,
         "2014": 65.64386497,
         "2015": 65.83116857,
         "2016": 65.91704578,
         "2017": 66.1259219,
         "2018": 66.23008413,
         "2019": 66.36214217,
         "2020": 64.11189079,
         "2021": 64.87819806,
         "Country Name": "Africa Eastern and Southern",
         "Country Code": "AFE",
         "Indicator Name": "Labor force participation rate, female (% of female population ages 15+) (modeled ILO estimate)",
         "Indicator Code": "SL.TLF.CACT.FE.ZS",
         "_deepnote_index_column": 1
        },
        {
         "1960": "nan",
         "1961": "nan",
         "1962": "nan",
         "1963": "nan",
         "1964": "nan",
         "1965": "nan",
         "1966": "nan",
         "1967": "nan",
         "1968": "nan",
         "1969": "nan",
         "1970": "nan",
         "1971": "nan",
         "1972": "nan",
         "1973": "nan",
         "1974": "nan",
         "1975": "nan",
         "1976": "nan",
         "1977": "nan",
         "1978": "nan",
         "1979": "nan",
         "1980": "nan",
         "1981": "nan",
         "1982": "nan",
         "1983": "nan",
         "1984": "nan",
         "1985": "nan",
         "1986": "nan",
         "1987": "nan",
         "1988": "nan",
         "1989": "nan",
         "1990": 15.18000031,
         "1991": 15.21399975,
         "1992": 15.22299957,
         "1993": 15.19699955,
         "1994": 15.17800045,
         "1995": 15.22099972,
         "1996": 15.07800007,
         "1997": 14.95400047,
         "1998": 14.87300014,
         "1999": 14.82699966,
         "2000": 14.79500008,
         "2001": 14.93599987,
         "2002": 15.11299992,
         "2003": 15.29800034,
         "2004": 15.47500038,
         "2005": 15.64400005,
         "2006": 15.45499992,
         "2007": 15.27499962,
         "2008": 15.13700008,
         "2009": 15.07600021,
         "2010": 15.11100006,
         "2011": 15.45400047,
         "2012": 15.87899971,
         "2013": 16.79400063,
         "2014": 17.74900055,
         "2015": 18.74600029,
         "2016": 19.79800034,
         "2017": 20.88699913,
         "2018": 21.22800064,
         "2019": 21.56599998,
         "2020": 16.18899918,
         "2021": 14.84799957,
         "Country Name": "Afghanistan",
         "Country Code": "AFG",
         "Indicator Name": "Labor force participation rate, female (% of female population ages 15+) (modeled ILO estimate)",
         "Indicator Code": "SL.TLF.CACT.FE.ZS",
         "_deepnote_index_column": 2
        },
        {
         "1960": "nan",
         "1961": "nan",
         "1962": "nan",
         "1963": "nan",
         "1964": "nan",
         "1965": "nan",
         "1966": "nan",
         "1967": "nan",
         "1968": "nan",
         "1969": "nan",
         "1970": "nan",
         "1971": "nan",
         "1972": "nan",
         "1973": "nan",
         "1974": "nan",
         "1975": "nan",
         "1976": "nan",
         "1977": "nan",
         "1978": "nan",
         "1979": "nan",
         "1980": "nan",
         "1981": "nan",
         "1982": "nan",
         "1983": "nan",
         "1984": "nan",
         "1985": "nan",
         "1986": "nan",
         "1987": "nan",
         "1988": "nan",
         "1989": "nan",
         "1990": 60.03827772,
         "1991": 60.02554988,
         "1992": 59.95808278,
         "1993": 59.92610037,
         "1994": 59.89499695,
         "1995": 59.87541942,
         "1996": 59.81471781,
         "1997": 59.77120422,
         "1998": 59.73868074,
         "1999": 59.69930183,
         "2000": 59.65958813,
         "2001": 59.56471518,
         "2002": 59.47708349,
         "2003": 59.37931604,
         "2004": 59.30475036,
         "2005": 59.18861571,
         "2006": 59.03604373,
         "2007": 58.93835051,
         "2008": 58.68404042,
         "2009": 58.41886861,
         "2010": 58.14291963,
         "2011": 58.03768943,
         "2012": 56.70766826,
         "2013": 55.37049262,
         "2014": 54.99980908,
         "2015": 54.80539344,
         "2016": 54.5488059,
         "2017": 54.29550018,
         "2018": 54.11860734,
         "2019": 53.97791612,
         "2020": 52.76462894,
         "2021": 52.99073917,
         "Country Name": "Africa Western and Central",
         "Country Code": "AFW",
         "Indicator Name": "Labor force participation rate, female (% of female population ages 15+) (modeled ILO estimate)",
         "Indicator Code": "SL.TLF.CACT.FE.ZS",
         "_deepnote_index_column": 3
        },
        {
         "1960": "nan",
         "1961": "nan",
         "1962": "nan",
         "1963": "nan",
         "1964": "nan",
         "1965": "nan",
         "1966": "nan",
         "1967": "nan",
         "1968": "nan",
         "1969": "nan",
         "1970": "nan",
         "1971": "nan",
         "1972": "nan",
         "1973": "nan",
         "1974": "nan",
         "1975": "nan",
         "1976": "nan",
         "1977": "nan",
         "1978": "nan",
         "1979": "nan",
         "1980": "nan",
         "1981": "nan",
         "1982": "nan",
         "1983": "nan",
         "1984": "nan",
         "1985": "nan",
         "1986": "nan",
         "1987": "nan",
         "1988": "nan",
         "1989": "nan",
         "1990": 75.40799713,
         "1991": 75.3809967,
         "1992": 75.3690033,
         "1993": 75.3710022,
         "1994": 75.38700104,
         "1995": 75.41600037,
         "1996": 75.41400146,
         "1997": 75.4280014,
         "1998": 75.45600128,
         "1999": 75.4940033,
         "2000": 75.53900146,
         "2001": 75.54599762,
         "2002": 75.56400299,
         "2003": 75.58999634,
         "2004": 75.61699677,
         "2005": 75.64099884,
         "2006": 75.625,
         "2007": 75.61399841,
         "2008": 75.60700226,
         "2009": 75.60299683,
         "2010": 75.60500336,
         "2011": 74.84700012,
         "2012": 74.83399963,
         "2013": 74.83300018,
         "2014": 74.84300232,
         "2015": 74.86399841,
         "2016": 74.88200378,
         "2017": 74.91200256,
         "2018": 74.95500183,
         "2019": 75.01100159,
         "2020": 73.61799622,
         "2021": 73.96800232,
         "Country Name": "Angola",
         "Country Code": "AGO",
         "Indicator Name": "Labor force participation rate, female (% of female population ages 15+) (modeled ILO estimate)",
         "Indicator Code": "SL.TLF.CACT.FE.ZS",
         "_deepnote_index_column": 4
        }
       ]
      },
      "text/plain": "                  Country Name Country Code  \\\n0                        Aruba          ABW   \n1  Africa Eastern and Southern          AFE   \n2                  Afghanistan          AFG   \n3   Africa Western and Central          AFW   \n4                       Angola          AGO   \n\n                                      Indicator Name     Indicator Code  1960  \\\n0  Labor force participation rate, female (% of f...  SL.TLF.CACT.FE.ZS   NaN   \n1  Labor force participation rate, female (% of f...  SL.TLF.CACT.FE.ZS   NaN   \n2  Labor force participation rate, female (% of f...  SL.TLF.CACT.FE.ZS   NaN   \n3  Labor force participation rate, female (% of f...  SL.TLF.CACT.FE.ZS   NaN   \n4  Labor force participation rate, female (% of f...  SL.TLF.CACT.FE.ZS   NaN   \n\n   1961  1962  1963  1964  1965  ...       2012       2013       2014  \\\n0   NaN   NaN   NaN   NaN   NaN  ...        NaN        NaN        NaN   \n1   NaN   NaN   NaN   NaN   NaN  ...  65.570922  65.654496  65.643865   \n2   NaN   NaN   NaN   NaN   NaN  ...  15.879000  16.794001  17.749001   \n3   NaN   NaN   NaN   NaN   NaN  ...  56.707668  55.370493  54.999809   \n4   NaN   NaN   NaN   NaN   NaN  ...  74.834000  74.833000  74.843002   \n\n        2015       2016       2017       2018       2019       2020       2021  \n0        NaN        NaN        NaN        NaN        NaN        NaN        NaN  \n1  65.831169  65.917046  66.125922  66.230084  66.362142  64.111891  64.878198  \n2  18.746000  19.798000  20.886999  21.228001  21.566000  16.188999  14.848000  \n3  54.805393  54.548806  54.295500  54.118607  53.977916  52.764629  52.990739  \n4  74.863998  74.882004  74.912003  74.955002  75.011002  73.617996  73.968002  \n\n[5 rows x 66 columns]",
      "text/html": "<div>\n<style scoped>\n    .dataframe tbody tr th:only-of-type {\n        vertical-align: middle;\n    }\n\n    .dataframe tbody tr th {\n        vertical-align: top;\n    }\n\n    .dataframe thead th {\n        text-align: right;\n    }\n</style>\n<table border=\"1\" class=\"dataframe\">\n  <thead>\n    <tr style=\"text-align: right;\">\n      <th></th>\n      <th>Country Name</th>\n      <th>Country Code</th>\n      <th>Indicator Name</th>\n      <th>Indicator Code</th>\n      <th>1960</th>\n      <th>1961</th>\n      <th>1962</th>\n      <th>1963</th>\n      <th>1964</th>\n      <th>1965</th>\n      <th>...</th>\n      <th>2012</th>\n      <th>2013</th>\n      <th>2014</th>\n      <th>2015</th>\n      <th>2016</th>\n      <th>2017</th>\n      <th>2018</th>\n      <th>2019</th>\n      <th>2020</th>\n      <th>2021</th>\n    </tr>\n  </thead>\n  <tbody>\n    <tr>\n      <th>0</th>\n      <td>Aruba</td>\n      <td>ABW</td>\n      <td>Labor force participation rate, female (% of f...</td>\n      <td>SL.TLF.CACT.FE.ZS</td>\n      <td>NaN</td>\n      <td>NaN</td>\n      <td>NaN</td>\n      <td>NaN</td>\n      <td>NaN</td>\n      <td>NaN</td>\n      <td>...</td>\n      <td>NaN</td>\n      <td>NaN</td>\n      <td>NaN</td>\n      <td>NaN</td>\n      <td>NaN</td>\n      <td>NaN</td>\n      <td>NaN</td>\n      <td>NaN</td>\n      <td>NaN</td>\n      <td>NaN</td>\n    </tr>\n    <tr>\n      <th>1</th>\n      <td>Africa Eastern and Southern</td>\n      <td>AFE</td>\n      <td>Labor force participation rate, female (% of f...</td>\n      <td>SL.TLF.CACT.FE.ZS</td>\n      <td>NaN</td>\n      <td>NaN</td>\n      <td>NaN</td>\n      <td>NaN</td>\n      <td>NaN</td>\n      <td>NaN</td>\n      <td>...</td>\n      <td>65.570922</td>\n      <td>65.654496</td>\n      <td>65.643865</td>\n      <td>65.831169</td>\n      <td>65.917046</td>\n      <td>66.125922</td>\n      <td>66.230084</td>\n      <td>66.362142</td>\n      <td>64.111891</td>\n      <td>64.878198</td>\n    </tr>\n    <tr>\n      <th>2</th>\n      <td>Afghanistan</td>\n      <td>AFG</td>\n      <td>Labor force participation rate, female (% of f...</td>\n      <td>SL.TLF.CACT.FE.ZS</td>\n      <td>NaN</td>\n      <td>NaN</td>\n      <td>NaN</td>\n      <td>NaN</td>\n      <td>NaN</td>\n      <td>NaN</td>\n      <td>...</td>\n      <td>15.879000</td>\n      <td>16.794001</td>\n      <td>17.749001</td>\n      <td>18.746000</td>\n      <td>19.798000</td>\n      <td>20.886999</td>\n      <td>21.228001</td>\n      <td>21.566000</td>\n      <td>16.188999</td>\n      <td>14.848000</td>\n    </tr>\n    <tr>\n      <th>3</th>\n      <td>Africa Western and Central</td>\n      <td>AFW</td>\n      <td>Labor force participation rate, female (% of f...</td>\n      <td>SL.TLF.CACT.FE.ZS</td>\n      <td>NaN</td>\n      <td>NaN</td>\n      <td>NaN</td>\n      <td>NaN</td>\n      <td>NaN</td>\n      <td>NaN</td>\n      <td>...</td>\n      <td>56.707668</td>\n      <td>55.370493</td>\n      <td>54.999809</td>\n      <td>54.805393</td>\n      <td>54.548806</td>\n      <td>54.295500</td>\n      <td>54.118607</td>\n      <td>53.977916</td>\n      <td>52.764629</td>\n      <td>52.990739</td>\n    </tr>\n    <tr>\n      <th>4</th>\n      <td>Angola</td>\n      <td>AGO</td>\n      <td>Labor force participation rate, female (% of f...</td>\n      <td>SL.TLF.CACT.FE.ZS</td>\n      <td>NaN</td>\n      <td>NaN</td>\n      <td>NaN</td>\n      <td>NaN</td>\n      <td>NaN</td>\n      <td>NaN</td>\n      <td>...</td>\n      <td>74.834000</td>\n      <td>74.833000</td>\n      <td>74.843002</td>\n      <td>74.863998</td>\n      <td>74.882004</td>\n      <td>74.912003</td>\n      <td>74.955002</td>\n      <td>75.011002</td>\n      <td>73.617996</td>\n      <td>73.968002</td>\n    </tr>\n  </tbody>\n</table>\n<p>5 rows × 66 columns</p>\n</div>"
     },
     "metadata": {}
    }
   ]
  },
  {
   "cell_type": "markdown",
   "source": "# Step 2: Cleaning the data ",
   "metadata": {
    "cell_id": "00004-a8816b38-678a-4dc8-bed9-5ba02a7318a6",
    "deepnote_cell_type": "markdown",
    "deepnote_cell_height": 82
   }
  },
  {
   "cell_type": "markdown",
   "source": "### Step 2a: Removing all columns that dont have information",
   "metadata": {
    "cell_id": "00005-0c56b032-5e43-402c-8183-04f3326baeeb",
    "deepnote_cell_type": "markdown",
    "deepnote_cell_height": 94
   }
  },
  {
   "cell_type": "code",
   "metadata": {
    "cell_id": "00006-5ea1ba55-0c6a-4db8-aa3f-6c6f845c8af7",
    "deepnote_to_be_reexecuted": false,
    "source_hash": "a06364d7",
    "execution_start": 1658344241694,
    "execution_millis": 463,
    "deepnote_cell_type": "code",
    "deepnote_cell_height": 272,
    "deepnote_output_heights": [
     175
    ]
   },
   "source": "fe_df.columns",
   "execution_count": null,
   "outputs": [
    {
     "output_type": "execute_result",
     "execution_count": 3,
     "data": {
      "text/plain": "Index(['Country Name', 'Country Code', 'Indicator Name', 'Indicator Code',\n       '1960', '1961', '1962', '1963', '1964', '1965', '1966', '1967', '1968',\n       '1969', '1970', '1971', '1972', '1973', '1974', '1975', '1976', '1977',\n       '1978', '1979', '1980', '1981', '1982', '1983', '1984', '1985', '1986',\n       '1987', '1988', '1989', '1990', '1991', '1992', '1993', '1994', '1995',\n       '1996', '1997', '1998', '1999', '2000', '2001', '2002', '2003', '2004',\n       '2005', '2006', '2007', '2008', '2009', '2010', '2011', '2012', '2013',\n       '2014', '2015', '2016', '2017', '2018', '2019', '2020', '2021'],\n      dtype='object')"
     },
     "metadata": {}
    }
   ]
  },
  {
   "cell_type": "markdown",
   "source": "The years start at index 4 and we know that we dont have any data for 1960 - 1989 so our job is to get rud of those. simple math tells us from 1960 to 1989 requires 29 index movments so we will be deleting index's 4 - 33 but since the last # isnt inclusive well do 4-34",
   "metadata": {
    "cell_id": "00007-e5823b47-0d32-4a37-9d3f-9438e902fbf3",
    "deepnote_cell_type": "markdown",
    "deepnote_cell_height": 119.59375
   }
  },
  {
   "cell_type": "code",
   "metadata": {
    "cell_id": "00008-4d7517f6-9f49-4768-b0c1-1afab5a3ad9f",
    "deepnote_to_be_reexecuted": false,
    "source_hash": "1074fa12",
    "execution_start": 1658344241703,
    "execution_millis": 456,
    "deepnote_cell_type": "code",
    "deepnote_cell_height": 654
   },
   "source": "\nfe_df.drop(fe_df.iloc[: , 4:34], axis = 1, inplace = True)\n\nfe_df.head(10)",
   "execution_count": null,
   "outputs": [
    {
     "output_type": "execute_result",
     "execution_count": 4,
     "data": {
      "application/vnd.deepnote.dataframe.v3+json": {
       "column_count": 36,
       "row_count": 10,
       "columns": [
        {
         "name": "Country Name",
         "dtype": "object",
         "stats": {
          "unique_count": 10,
          "nan_count": 0,
          "categories": [
           {
            "name": "Aruba",
            "count": 1
           },
           {
            "name": "Africa Eastern and Southern",
            "count": 1
           },
           {
            "name": "8 others",
            "count": 8
           }
          ]
         }
        },
        {
         "name": "Country Code",
         "dtype": "object",
         "stats": {
          "unique_count": 10,
          "nan_count": 0,
          "categories": [
           {
            "name": "ABW",
            "count": 1
           },
           {
            "name": "AFE",
            "count": 1
           },
           {
            "name": "8 others",
            "count": 8
           }
          ]
         }
        },
        {
         "name": "Indicator Name",
         "dtype": "object",
         "stats": {
          "unique_count": 1,
          "nan_count": 0,
          "categories": [
           {
            "name": "Labor force participation rate, female (% of female population ages 15+) (modeled ILO estimate)",
            "count": 10
           }
          ]
         }
        },
        {
         "name": "Indicator Code",
         "dtype": "object",
         "stats": {
          "unique_count": 1,
          "nan_count": 0,
          "categories": [
           {
            "name": "SL.TLF.CACT.FE.ZS",
            "count": 10
           }
          ]
         }
        },
        {
         "name": "1990",
         "dtype": "float64",
         "stats": {
          "unique_count": 8,
          "nan_count": 2,
          "min": "15.18000031",
          "max": "75.40799713",
          "histogram": [
           {
            "bin_start": 15.18000031,
            "bin_end": 21.202799992000003,
            "count": 2
           },
           {
            "bin_start": 21.202799992000003,
            "bin_end": 27.225599674,
            "count": 0
           },
           {
            "bin_start": 27.225599674,
            "bin_end": 33.24839935600001,
            "count": 1
           },
           {
            "bin_start": 33.24839935600001,
            "bin_end": 39.271199038000006,
            "count": 0
           },
           {
            "bin_start": 39.271199038000006,
            "bin_end": 45.293998720000005,
            "count": 1
           },
           {
            "bin_start": 45.293998720000005,
            "bin_end": 51.316798402,
            "count": 0
           },
           {
            "bin_start": 51.316798402,
            "bin_end": 57.339598084,
            "count": 1
           },
           {
            "bin_start": 57.339598084,
            "bin_end": 63.362397766,
            "count": 1
           },
           {
            "bin_start": 63.362397766,
            "bin_end": 69.385197448,
            "count": 1
           },
           {
            "bin_start": 69.385197448,
            "bin_end": 75.40799713,
            "count": 1
           }
          ]
         }
        },
        {
         "name": "1991",
         "dtype": "float64",
         "stats": {
          "unique_count": 8,
          "nan_count": 2,
          "min": "15.21399975",
          "max": "75.3809967",
          "histogram": [
           {
            "bin_start": 15.21399975,
            "bin_end": 21.230699445,
            "count": 2
           },
           {
            "bin_start": 21.230699445,
            "bin_end": 27.24739914,
            "count": 0
           },
           {
            "bin_start": 27.24739914,
            "bin_end": 33.264098835,
            "count": 1
           },
           {
            "bin_start": 33.264098835,
            "bin_end": 39.28079853,
            "count": 0
           },
           {
            "bin_start": 39.28079853,
            "bin_end": 45.297498225,
            "count": 0
           },
           {
            "bin_start": 45.297498225,
            "bin_end": 51.31419792,
            "count": 1
           },
           {
            "bin_start": 51.31419792,
            "bin_end": 57.330897615,
            "count": 1
           },
           {
            "bin_start": 57.330897615,
            "bin_end": 63.34759731,
            "count": 1
           },
           {
            "bin_start": 63.34759731,
            "bin_end": 69.364297005,
            "count": 1
           },
           {
            "bin_start": 69.364297005,
            "bin_end": 75.3809967,
            "count": 1
           }
          ]
         }
        },
        {
         "name": "1992",
         "dtype": "float64",
         "stats": {
          "unique_count": 8,
          "nan_count": 2,
          "min": "15.22299957",
          "max": "75.3690033",
          "histogram": [
           {
            "bin_start": 15.22299957,
            "bin_end": 21.237599943,
            "count": 2
           },
           {
            "bin_start": 21.237599943,
            "bin_end": 27.252200316,
            "count": 0
           },
           {
            "bin_start": 27.252200316,
            "bin_end": 33.266800689,
            "count": 1
           },
           {
            "bin_start": 33.266800689,
            "bin_end": 39.281401062,
            "count": 0
           },
           {
            "bin_start": 39.281401062,
            "bin_end": 45.296001435,
            "count": 0
           },
           {
            "bin_start": 45.296001435,
            "bin_end": 51.310601808,
            "count": 1
           },
           {
            "bin_start": 51.310601808,
            "bin_end": 57.325202181,
            "count": 1
           },
           {
            "bin_start": 57.325202181,
            "bin_end": 63.339802554,
            "count": 1
           },
           {
            "bin_start": 63.339802554,
            "bin_end": 69.35440292700001,
            "count": 1
           },
           {
            "bin_start": 69.35440292700001,
            "bin_end": 75.3690033,
            "count": 1
           }
          ]
         }
        },
        {
         "name": "1993",
         "dtype": "float64",
         "stats": {
          "unique_count": 8,
          "nan_count": 2,
          "min": "15.19699955",
          "max": "75.3710022",
          "histogram": [
           {
            "bin_start": 15.19699955,
            "bin_end": 21.214399815,
            "count": 2
           },
           {
            "bin_start": 21.214399815,
            "bin_end": 27.23180008,
            "count": 0
           },
           {
            "bin_start": 27.23180008,
            "bin_end": 33.249200345000006,
            "count": 1
           },
           {
            "bin_start": 33.249200345000006,
            "bin_end": 39.266600610000005,
            "count": 0
           },
           {
            "bin_start": 39.266600610000005,
            "bin_end": 45.284000875000004,
            "count": 0
           },
           {
            "bin_start": 45.284000875000004,
            "bin_end": 51.30140114000001,
            "count": 1
           },
           {
            "bin_start": 51.30140114000001,
            "bin_end": 57.31880140500001,
            "count": 1
           },
           {
            "bin_start": 57.31880140500001,
            "bin_end": 63.33620167000001,
            "count": 1
           },
           {
            "bin_start": 63.33620167000001,
            "bin_end": 69.353601935,
            "count": 1
           },
           {
            "bin_start": 69.353601935,
            "bin_end": 75.3710022,
            "count": 1
           }
          ]
         }
        },
        {
         "name": "1994",
         "dtype": "float64",
         "stats": {
          "unique_count": 8,
          "nan_count": 2,
          "min": "15.17800045",
          "max": "75.38700104",
          "histogram": [
           {
            "bin_start": 15.17800045,
            "bin_end": 21.198900509,
            "count": 2
           },
           {
            "bin_start": 21.198900509,
            "bin_end": 27.219800568000004,
            "count": 0
           },
           {
            "bin_start": 27.219800568000004,
            "bin_end": 33.240700627,
            "count": 1
           },
           {
            "bin_start": 33.240700627,
            "bin_end": 39.261600686,
            "count": 0
           },
           {
            "bin_start": 39.261600686,
            "bin_end": 45.282500745,
            "count": 0
           },
           {
            "bin_start": 45.282500745,
            "bin_end": 51.303400804000006,
            "count": 1
           },
           {
            "bin_start": 51.303400804000006,
            "bin_end": 57.324300863000005,
            "count": 1
           },
           {
            "bin_start": 57.324300863000005,
            "bin_end": 63.345200922000004,
            "count": 1
           },
           {
            "bin_start": 63.345200922000004,
            "bin_end": 69.366100981,
            "count": 1
           },
           {
            "bin_start": 69.366100981,
            "bin_end": 75.38700104,
            "count": 1
           }
          ]
         }
        },
        {
         "name": "1995",
         "dtype": "float64",
         "stats": {
          "unique_count": 8,
          "nan_count": 2,
          "min": "15.22099972",
          "max": "75.41600037",
          "histogram": [
           {
            "bin_start": 15.22099972,
            "bin_end": 21.240499785,
            "count": 2
           },
           {
            "bin_start": 21.240499785,
            "bin_end": 27.25999985,
            "count": 0
           },
           {
            "bin_start": 27.25999985,
            "bin_end": 33.279499915,
            "count": 1
           },
           {
            "bin_start": 33.279499915,
            "bin_end": 39.298999980000005,
            "count": 0
           },
           {
            "bin_start": 39.298999980000005,
            "bin_end": 45.31850004500001,
            "count": 0
           },
           {
            "bin_start": 45.31850004500001,
            "bin_end": 51.33800011,
            "count": 1
           },
           {
            "bin_start": 51.33800011,
            "bin_end": 57.357500175000006,
            "count": 1
           },
           {
            "bin_start": 57.357500175000006,
            "bin_end": 63.37700024000001,
            "count": 1
           },
           {
            "bin_start": 63.37700024000001,
            "bin_end": 69.396500305,
            "count": 1
           },
           {
            "bin_start": 69.396500305,
            "bin_end": 75.41600037,
            "count": 1
           }
          ]
         }
        },
        {
         "name": "1996",
         "dtype": "float64",
         "stats": {
          "unique_count": 8,
          "nan_count": 2,
          "min": "15.07800007",
          "max": "75.41400146",
          "histogram": [
           {
            "bin_start": 15.07800007,
            "bin_end": 21.111600209,
            "count": 2
           },
           {
            "bin_start": 21.111600209,
            "bin_end": 27.145200347999996,
            "count": 0
           },
           {
            "bin_start": 27.145200347999996,
            "bin_end": 33.178800487,
            "count": 1
           },
           {
            "bin_start": 33.178800487,
            "bin_end": 39.212400626,
            "count": 0
           },
           {
            "bin_start": 39.212400626,
            "bin_end": 45.246000765,
            "count": 0
           },
           {
            "bin_start": 45.246000765,
            "bin_end": 51.27960090399999,
            "count": 1
           },
           {
            "bin_start": 51.27960090399999,
            "bin_end": 57.31320104299999,
            "count": 1
           },
           {
            "bin_start": 57.31320104299999,
            "bin_end": 63.34680118199999,
            "count": 1
           },
           {
            "bin_start": 63.34680118199999,
            "bin_end": 69.380401321,
            "count": 1
           },
           {
            "bin_start": 69.380401321,
            "bin_end": 75.41400146,
            "count": 1
           }
          ]
         }
        },
        {
         "name": "1997",
         "dtype": "float64",
         "stats": {
          "unique_count": 8,
          "nan_count": 2,
          "min": "14.95400047",
          "max": "75.4280014",
          "histogram": [
           {
            "bin_start": 14.95400047,
            "bin_end": 21.001400563,
            "count": 2
           },
           {
            "bin_start": 21.001400563,
            "bin_end": 27.048800656,
            "count": 0
           },
           {
            "bin_start": 27.048800656,
            "bin_end": 33.096200749000005,
            "count": 1
           },
           {
            "bin_start": 33.096200749000005,
            "bin_end": 39.143600842,
            "count": 0
           },
           {
            "bin_start": 39.143600842,
            "bin_end": 45.191000935000005,
            "count": 0
           },
           {
            "bin_start": 45.191000935000005,
            "bin_end": 51.238401028,
            "count": 1
           },
           {
            "bin_start": 51.238401028,
            "bin_end": 57.285801121000006,
            "count": 1
           },
           {
            "bin_start": 57.285801121000006,
            "bin_end": 63.333201214,
            "count": 1
           },
           {
            "bin_start": 63.333201214,
            "bin_end": 69.380601307,
            "count": 1
           },
           {
            "bin_start": 69.380601307,
            "bin_end": 75.4280014,
            "count": 1
           }
          ]
         }
        },
        {
         "name": "1998",
         "dtype": "float64",
         "stats": {
          "unique_count": 8,
          "nan_count": 2,
          "min": "14.87300014",
          "max": "75.45600128",
          "histogram": [
           {
            "bin_start": 14.87300014,
            "bin_end": 20.931300254,
            "count": 2
           },
           {
            "bin_start": 20.931300254,
            "bin_end": 26.989600367999998,
            "count": 0
           },
           {
            "bin_start": 26.989600367999998,
            "bin_end": 33.047900482,
            "count": 0
           },
           {
            "bin_start": 33.047900482,
            "bin_end": 39.106200596,
            "count": 1
           },
           {
            "bin_start": 39.106200596,
            "bin_end": 45.16450071,
            "count": 0
           },
           {
            "bin_start": 45.16450071,
            "bin_end": 51.222800824000004,
            "count": 0
           },
           {
            "bin_start": 51.222800824000004,
            "bin_end": 57.281100938,
            "count": 2
           },
           {
            "bin_start": 57.281100938,
            "bin_end": 63.339401052,
            "count": 1
           },
           {
            "bin_start": 63.339401052,
            "bin_end": 69.39770116599999,
            "count": 1
           },
           {
            "bin_start": 69.39770116599999,
            "bin_end": 75.45600128,
            "count": 1
           }
          ]
         }
        },
        {
         "name": "1999",
         "dtype": "float64",
         "stats": {
          "unique_count": 8,
          "nan_count": 2,
          "min": "14.82699966",
          "max": "75.4940033",
          "histogram": [
           {
            "bin_start": 14.82699966,
            "bin_end": 20.893700024,
            "count": 2
           },
           {
            "bin_start": 20.893700024,
            "bin_end": 26.960400388000004,
            "count": 0
           },
           {
            "bin_start": 26.960400388000004,
            "bin_end": 33.027100752,
            "count": 0
           },
           {
            "bin_start": 33.027100752,
            "bin_end": 39.093801116,
            "count": 1
           },
           {
            "bin_start": 39.093801116,
            "bin_end": 45.16050148,
            "count": 0
           },
           {
            "bin_start": 45.16050148,
            "bin_end": 51.22720184400001,
            "count": 2
           },
           {
            "bin_start": 51.22720184400001,
            "bin_end": 57.293902208000006,
            "count": 0
           },
           {
            "bin_start": 57.293902208000006,
            "bin_end": 63.360602572000005,
            "count": 1
           },
           {
            "bin_start": 63.360602572000005,
            "bin_end": 69.427302936,
            "count": 1
           },
           {
            "bin_start": 69.427302936,
            "bin_end": 75.4940033,
            "count": 1
           }
          ]
         }
        },
        {
         "name": "2000",
         "dtype": "float64",
         "stats": {
          "unique_count": 8,
          "nan_count": 2,
          "min": "14.79500008",
          "max": "75.53900146",
          "histogram": [
           {
            "bin_start": 14.79500008,
            "bin_end": 20.869400218,
            "count": 2
           },
           {
            "bin_start": 20.869400218,
            "bin_end": 26.943800355999997,
            "count": 0
           },
           {
            "bin_start": 26.943800355999997,
            "bin_end": 33.018200494,
            "count": 0
           },
           {
            "bin_start": 33.018200494,
            "bin_end": 39.092600632,
            "count": 1
           },
           {
            "bin_start": 39.092600632,
            "bin_end": 45.16700077,
            "count": 0
           },
           {
            "bin_start": 45.16700077,
            "bin_end": 51.241400907999996,
            "count": 2
           },
           {
            "bin_start": 51.241400907999996,
            "bin_end": 57.315801046,
            "count": 0
           },
           {
            "bin_start": 57.315801046,
            "bin_end": 63.390201184,
            "count": 1
           },
           {
            "bin_start": 63.390201184,
            "bin_end": 69.464601322,
            "count": 1
           },
           {
            "bin_start": 69.464601322,
            "bin_end": 75.53900146,
            "count": 1
           }
          ]
         }
        },
        {
         "name": "2001",
         "dtype": "float64",
         "stats": {
          "unique_count": 8,
          "nan_count": 2,
          "min": "14.93599987",
          "max": "75.54599762",
          "histogram": [
           {
            "bin_start": 14.93599987,
            "bin_end": 20.996999645,
            "count": 2
           },
           {
            "bin_start": 20.996999645,
            "bin_end": 27.057999419999998,
            "count": 0
           },
           {
            "bin_start": 27.057999419999998,
            "bin_end": 33.118999195,
            "count": 0
           },
           {
            "bin_start": 33.118999195,
            "bin_end": 39.17999897,
            "count": 1
           },
           {
            "bin_start": 39.17999897,
            "bin_end": 45.240998745,
            "count": 0
           },
           {
            "bin_start": 45.240998745,
            "bin_end": 51.30199852,
            "count": 2
           },
           {
            "bin_start": 51.30199852,
            "bin_end": 57.362998295,
            "count": 0
           },
           {
            "bin_start": 57.362998295,
            "bin_end": 63.423998069999996,
            "count": 1
           },
           {
            "bin_start": 63.423998069999996,
            "bin_end": 69.484997845,
            "count": 1
           },
           {
            "bin_start": 69.484997845,
            "bin_end": 75.54599762,
            "count": 1
           }
          ]
         }
        },
        {
         "name": "2002",
         "dtype": "float64",
         "stats": {
          "unique_count": 8,
          "nan_count": 2,
          "min": "15.11299992",
          "max": "75.56400299",
          "histogram": [
           {
            "bin_start": 15.11299992,
            "bin_end": 21.158100227,
            "count": 2
           },
           {
            "bin_start": 21.158100227,
            "bin_end": 27.203200534,
            "count": 0
           },
           {
            "bin_start": 27.203200534,
            "bin_end": 33.248300841,
            "count": 0
           },
           {
            "bin_start": 33.248300841,
            "bin_end": 39.293401148,
            "count": 1
           },
           {
            "bin_start": 39.293401148,
            "bin_end": 45.338501455,
            "count": 0
           },
           {
            "bin_start": 45.338501455,
            "bin_end": 51.383601762000005,
            "count": 2
           },
           {
            "bin_start": 51.383601762000005,
            "bin_end": 57.428702069,
            "count": 0
           },
           {
            "bin_start": 57.428702069,
            "bin_end": 63.473802376,
            "count": 1
           },
           {
            "bin_start": 63.473802376,
            "bin_end": 69.518902683,
            "count": 1
           },
           {
            "bin_start": 69.518902683,
            "bin_end": 75.56400299,
            "count": 1
           }
          ]
         }
        },
        {
         "name": "2003",
         "dtype": "float64",
         "stats": {
          "unique_count": 8,
          "nan_count": 2,
          "min": "15.29800034",
          "max": "75.58999634",
          "histogram": [
           {
            "bin_start": 15.29800034,
            "bin_end": 21.32719994,
            "count": 2
           },
           {
            "bin_start": 21.32719994,
            "bin_end": 27.356399539999998,
            "count": 0
           },
           {
            "bin_start": 27.356399539999998,
            "bin_end": 33.385599140000004,
            "count": 0
           },
           {
            "bin_start": 33.385599140000004,
            "bin_end": 39.41479874,
            "count": 1
           },
           {
            "bin_start": 39.41479874,
            "bin_end": 45.44399834,
            "count": 0
           },
           {
            "bin_start": 45.44399834,
            "bin_end": 51.473197940000006,
            "count": 2
           },
           {
            "bin_start": 51.473197940000006,
            "bin_end": 57.502397540000004,
            "count": 0
           },
           {
            "bin_start": 57.502397540000004,
            "bin_end": 63.53159714,
            "count": 1
           },
           {
            "bin_start": 63.53159714,
            "bin_end": 69.56079674,
            "count": 1
           },
           {
            "bin_start": 69.56079674,
            "bin_end": 75.58999634,
            "count": 1
           }
          ]
         }
        },
        {
         "name": "2004",
         "dtype": "float64",
         "stats": {
          "unique_count": 8,
          "nan_count": 2,
          "min": "15.47500038",
          "max": "75.61699677",
          "histogram": [
           {
            "bin_start": 15.47500038,
            "bin_end": 21.489200019000002,
            "count": 2
           },
           {
            "bin_start": 21.489200019000002,
            "bin_end": 27.503399658,
            "count": 0
           },
           {
            "bin_start": 27.503399658,
            "bin_end": 33.517599297000004,
            "count": 0
           },
           {
            "bin_start": 33.517599297000004,
            "bin_end": 39.531798936,
            "count": 1
           },
           {
            "bin_start": 39.531798936,
            "bin_end": 45.545998575,
            "count": 0
           },
           {
            "bin_start": 45.545998575,
            "bin_end": 51.560198213999996,
            "count": 2
           },
           {
            "bin_start": 51.560198213999996,
            "bin_end": 57.57439785300001,
            "count": 0
           },
           {
            "bin_start": 57.57439785300001,
            "bin_end": 63.588597492000005,
            "count": 1
           },
           {
            "bin_start": 63.588597492000005,
            "bin_end": 69.602797131,
            "count": 1
           },
           {
            "bin_start": 69.602797131,
            "bin_end": 75.61699677,
            "count": 1
           }
          ]
         }
        },
        {
         "name": "2005",
         "dtype": "float64",
         "stats": {
          "unique_count": 8,
          "nan_count": 2,
          "min": "15.64400005",
          "max": "75.64099884",
          "histogram": [
           {
            "bin_start": 15.64400005,
            "bin_end": 21.643699929,
            "count": 2
           },
           {
            "bin_start": 21.643699929,
            "bin_end": 27.643399807999998,
            "count": 0
           },
           {
            "bin_start": 27.643399807999998,
            "bin_end": 33.643099687,
            "count": 0
           },
           {
            "bin_start": 33.643099687,
            "bin_end": 39.642799566,
            "count": 1
           },
           {
            "bin_start": 39.642799566,
            "bin_end": 45.642499445,
            "count": 0
           },
           {
            "bin_start": 45.642499445,
            "bin_end": 51.642199324,
            "count": 2
           },
           {
            "bin_start": 51.642199324,
            "bin_end": 57.641899203,
            "count": 0
           },
           {
            "bin_start": 57.641899203,
            "bin_end": 63.641599082,
            "count": 1
           },
           {
            "bin_start": 63.641599082,
            "bin_end": 69.64129896099999,
            "count": 1
           },
           {
            "bin_start": 69.64129896099999,
            "bin_end": 75.64099884,
            "count": 1
           }
          ]
         }
        },
        {
         "name": "2006",
         "dtype": "float64",
         "stats": {
          "unique_count": 8,
          "nan_count": 2,
          "min": "15.45499992",
          "max": "75.625",
          "histogram": [
           {
            "bin_start": 15.45499992,
            "bin_end": 21.471999928000002,
            "count": 2
           },
           {
            "bin_start": 21.471999928000002,
            "bin_end": 27.488999936,
            "count": 0
           },
           {
            "bin_start": 27.488999936,
            "bin_end": 33.505999944,
            "count": 0
           },
           {
            "bin_start": 33.505999944,
            "bin_end": 39.522999952,
            "count": 1
           },
           {
            "bin_start": 39.522999952,
            "bin_end": 45.53999996,
            "count": 0
           },
           {
            "bin_start": 45.53999996,
            "bin_end": 51.556999968,
            "count": 2
           },
           {
            "bin_start": 51.556999968,
            "bin_end": 57.573999976,
            "count": 0
           },
           {
            "bin_start": 57.573999976,
            "bin_end": 63.590999984,
            "count": 1
           },
           {
            "bin_start": 63.590999984,
            "bin_end": 69.607999992,
            "count": 1
           },
           {
            "bin_start": 69.607999992,
            "bin_end": 75.625,
            "count": 1
           }
          ]
         }
        },
        {
         "name": "2007",
         "dtype": "float64",
         "stats": {
          "unique_count": 8,
          "nan_count": 2,
          "min": "15.27499962",
          "max": "75.61399841",
          "histogram": [
           {
            "bin_start": 15.27499962,
            "bin_end": 21.308899499,
            "count": 2
           },
           {
            "bin_start": 21.308899499,
            "bin_end": 27.342799377999995,
            "count": 0
           },
           {
            "bin_start": 27.342799377999995,
            "bin_end": 33.376699257,
            "count": 0
           },
           {
            "bin_start": 33.376699257,
            "bin_end": 39.410599135999995,
            "count": 1
           },
           {
            "bin_start": 39.410599135999995,
            "bin_end": 45.44449901499999,
            "count": 0
           },
           {
            "bin_start": 45.44449901499999,
            "bin_end": 51.478398893999994,
            "count": 2
           },
           {
            "bin_start": 51.478398893999994,
            "bin_end": 57.512298773,
            "count": 0
           },
           {
            "bin_start": 57.512298773,
            "bin_end": 63.54619865199999,
            "count": 1
           },
           {
            "bin_start": 63.54619865199999,
            "bin_end": 69.58009853099999,
            "count": 1
           },
           {
            "bin_start": 69.58009853099999,
            "bin_end": 75.61399841,
            "count": 1
           }
          ]
         }
        },
        {
         "name": "2008",
         "dtype": "float64",
         "stats": {
          "unique_count": 8,
          "nan_count": 2,
          "min": "15.13700008",
          "max": "75.60700226",
          "histogram": [
           {
            "bin_start": 15.13700008,
            "bin_end": 21.184000298,
            "count": 2
           },
           {
            "bin_start": 21.184000298,
            "bin_end": 27.231000516,
            "count": 0
           },
           {
            "bin_start": 27.231000516,
            "bin_end": 33.278000734,
            "count": 0
           },
           {
            "bin_start": 33.278000734,
            "bin_end": 39.325000951999996,
            "count": 0
           },
           {
            "bin_start": 39.325000951999996,
            "bin_end": 45.372001170000004,
            "count": 1
           },
           {
            "bin_start": 45.372001170000004,
            "bin_end": 51.419001388,
            "count": 2
           },
           {
            "bin_start": 51.419001388,
            "bin_end": 57.466001606,
            "count": 0
           },
           {
            "bin_start": 57.466001606,
            "bin_end": 63.513001824,
            "count": 1
           },
           {
            "bin_start": 63.513001824,
            "bin_end": 69.56000204200001,
            "count": 1
           },
           {
            "bin_start": 69.56000204200001,
            "bin_end": 75.60700226,
            "count": 1
           }
          ]
         }
        },
        {
         "name": "2009",
         "dtype": "float64",
         "stats": {
          "unique_count": 8,
          "nan_count": 2,
          "min": "15.07600021",
          "max": "75.60299683",
          "histogram": [
           {
            "bin_start": 15.07600021,
            "bin_end": 21.128699872,
            "count": 2
           },
           {
            "bin_start": 21.128699872,
            "bin_end": 27.181399534,
            "count": 0
           },
           {
            "bin_start": 27.181399534,
            "bin_end": 33.234099196,
            "count": 0
           },
           {
            "bin_start": 33.234099196,
            "bin_end": 39.286798858,
            "count": 0
           },
           {
            "bin_start": 39.286798858,
            "bin_end": 45.33949851999999,
            "count": 1
           },
           {
            "bin_start": 45.33949851999999,
            "bin_end": 51.392198182,
            "count": 2
           },
           {
            "bin_start": 51.392198182,
            "bin_end": 57.444897843999996,
            "count": 0
           },
           {
            "bin_start": 57.444897843999996,
            "bin_end": 63.49759750599999,
            "count": 1
           },
           {
            "bin_start": 63.49759750599999,
            "bin_end": 69.550297168,
            "count": 1
           },
           {
            "bin_start": 69.550297168,
            "bin_end": 75.60299683,
            "count": 1
           }
          ]
         }
        },
        {
         "name": "2010",
         "dtype": "float64",
         "stats": {
          "unique_count": 8,
          "nan_count": 2,
          "min": "15.11100006",
          "max": "75.60500336",
          "histogram": [
           {
            "bin_start": 15.11100006,
            "bin_end": 21.16040039,
            "count": 2
           },
           {
            "bin_start": 21.16040039,
            "bin_end": 27.209800719999997,
            "count": 0
           },
           {
            "bin_start": 27.209800719999997,
            "bin_end": 33.25920105,
            "count": 0
           },
           {
            "bin_start": 33.25920105,
            "bin_end": 39.30860138,
            "count": 0
           },
           {
            "bin_start": 39.30860138,
            "bin_end": 45.358001709999996,
            "count": 1
           },
           {
            "bin_start": 45.358001709999996,
            "bin_end": 51.40740204,
            "count": 2
           },
           {
            "bin_start": 51.40740204,
            "bin_end": 57.45680237,
            "count": 0
           },
           {
            "bin_start": 57.45680237,
            "bin_end": 63.506202699999996,
            "count": 1
           },
           {
            "bin_start": 63.506202699999996,
            "bin_end": 69.55560302999999,
            "count": 1
           },
           {
            "bin_start": 69.55560302999999,
            "bin_end": 75.60500336,
            "count": 1
           }
          ]
         }
        },
        {
         "name": "2011",
         "dtype": "float64",
         "stats": {
          "unique_count": 8,
          "nan_count": 2,
          "min": "15.45400047",
          "max": "74.84700012",
          "histogram": [
           {
            "bin_start": 15.45400047,
            "bin_end": 21.393300435,
            "count": 2
           },
           {
            "bin_start": 21.393300435,
            "bin_end": 27.332600400000004,
            "count": 0
           },
           {
            "bin_start": 27.332600400000004,
            "bin_end": 33.27190036500001,
            "count": 0
           },
           {
            "bin_start": 33.27190036500001,
            "bin_end": 39.211200330000004,
            "count": 0
           },
           {
            "bin_start": 39.211200330000004,
            "bin_end": 45.150500295,
            "count": 1
           },
           {
            "bin_start": 45.150500295,
            "bin_end": 51.089800260000004,
            "count": 1
           },
           {
            "bin_start": 51.089800260000004,
            "bin_end": 57.02910022500001,
            "count": 1
           },
           {
            "bin_start": 57.02910022500001,
            "bin_end": 62.96840019000001,
            "count": 1
           },
           {
            "bin_start": 62.96840019000001,
            "bin_end": 68.90770015500001,
            "count": 1
           },
           {
            "bin_start": 68.90770015500001,
            "bin_end": 74.84700012,
            "count": 1
           }
          ]
         }
        },
        {
         "name": "2012",
         "dtype": "float64",
         "stats": {
          "unique_count": 8,
          "nan_count": 2,
          "min": "15.87899971",
          "max": "74.83399963",
          "histogram": [
           {
            "bin_start": 15.87899971,
            "bin_end": 21.774499702,
            "count": 2
           },
           {
            "bin_start": 21.774499702,
            "bin_end": 27.669999693999998,
            "count": 0
           },
           {
            "bin_start": 27.669999693999998,
            "bin_end": 33.565499686,
            "count": 0
           },
           {
            "bin_start": 33.565499686,
            "bin_end": 39.460999678,
            "count": 0
           },
           {
            "bin_start": 39.460999678,
            "bin_end": 45.35649967,
            "count": 1
           },
           {
            "bin_start": 45.35649967,
            "bin_end": 51.251999662,
            "count": 2
           },
           {
            "bin_start": 51.251999662,
            "bin_end": 57.147499654,
            "count": 1
           },
           {
            "bin_start": 57.147499654,
            "bin_end": 63.042999646,
            "count": 0
           },
           {
            "bin_start": 63.042999646,
            "bin_end": 68.938499638,
            "count": 1
           },
           {
            "bin_start": 68.938499638,
            "bin_end": 74.83399963,
            "count": 1
           }
          ]
         }
        },
        {
         "name": "2013",
         "dtype": "float64",
         "stats": {
          "unique_count": 8,
          "nan_count": 2,
          "min": "16.79400063",
          "max": "74.83300018",
          "histogram": [
           {
            "bin_start": 16.79400063,
            "bin_end": 22.597900584999998,
            "count": 2
           },
           {
            "bin_start": 22.597900584999998,
            "bin_end": 28.40180054,
            "count": 0
           },
           {
            "bin_start": 28.40180054,
            "bin_end": 34.205700495,
            "count": 0
           },
           {
            "bin_start": 34.205700495,
            "bin_end": 40.00960045,
            "count": 0
           },
           {
            "bin_start": 40.00960045,
            "bin_end": 45.813500405,
            "count": 1
           },
           {
            "bin_start": 45.813500405,
            "bin_end": 51.617400360000005,
            "count": 2
           },
           {
            "bin_start": 51.617400360000005,
            "bin_end": 57.421300315,
            "count": 1
           },
           {
            "bin_start": 57.421300315,
            "bin_end": 63.22520027,
            "count": 0
           },
           {
            "bin_start": 63.22520027,
            "bin_end": 69.02910022500001,
            "count": 1
           },
           {
            "bin_start": 69.02910022500001,
            "bin_end": 74.83300018,
            "count": 1
           }
          ]
         }
        },
        {
         "name": "2014",
         "dtype": "float64",
         "stats": {
          "unique_count": 8,
          "nan_count": 2,
          "min": "17.74900055",
          "max": "74.84300232",
          "histogram": [
           {
            "bin_start": 17.74900055,
            "bin_end": 23.458400727,
            "count": 2
           },
           {
            "bin_start": 23.458400727,
            "bin_end": 29.167800904,
            "count": 0
           },
           {
            "bin_start": 29.167800904,
            "bin_end": 34.877201080999995,
            "count": 0
           },
           {
            "bin_start": 34.877201080999995,
            "bin_end": 40.586601258,
            "count": 0
           },
           {
            "bin_start": 40.586601258,
            "bin_end": 46.296001434999994,
            "count": 1
           },
           {
            "bin_start": 46.296001434999994,
            "bin_end": 52.005401612,
            "count": 2
           },
           {
            "bin_start": 52.005401612,
            "bin_end": 57.71480178899999,
            "count": 1
           },
           {
            "bin_start": 57.71480178899999,
            "bin_end": 63.424201966,
            "count": 0
           },
           {
            "bin_start": 63.424201966,
            "bin_end": 69.13360214299999,
            "count": 1
           },
           {
            "bin_start": 69.13360214299999,
            "bin_end": 74.84300232,
            "count": 1
           }
          ]
         }
        },
        {
         "name": "2015",
         "dtype": "float64",
         "stats": {
          "unique_count": 8,
          "nan_count": 2,
          "min": "18.74600029",
          "max": "74.86399841",
          "histogram": [
           {
            "bin_start": 18.74600029,
            "bin_end": 24.357800102,
            "count": 2
           },
           {
            "bin_start": 24.357800102,
            "bin_end": 29.969599914,
            "count": 0
           },
           {
            "bin_start": 29.969599914,
            "bin_end": 35.581399726,
            "count": 0
           },
           {
            "bin_start": 35.581399726,
            "bin_end": 41.193199538,
            "count": 0
           },
           {
            "bin_start": 41.193199538,
            "bin_end": 46.80499935,
            "count": 0
           },
           {
            "bin_start": 46.80499935,
            "bin_end": 52.41679916199999,
            "count": 3
           },
           {
            "bin_start": 52.41679916199999,
            "bin_end": 58.02859897399999,
            "count": 1
           },
           {
            "bin_start": 58.02859897399999,
            "bin_end": 63.64039878599999,
            "count": 0
           },
           {
            "bin_start": 63.64039878599999,
            "bin_end": 69.25219859799999,
            "count": 1
           },
           {
            "bin_start": 69.25219859799999,
            "bin_end": 74.86399841,
            "count": 1
           }
          ]
         }
        },
        {
         "name": "2016",
         "dtype": "float64",
         "stats": {
          "unique_count": 8,
          "nan_count": 2,
          "min": "19.79800034",
          "max": "74.88200378",
          "histogram": [
           {
            "bin_start": 19.79800034,
            "bin_end": 25.306400684000003,
            "count": 2
           },
           {
            "bin_start": 25.306400684000003,
            "bin_end": 30.814801028,
            "count": 0
           },
           {
            "bin_start": 30.814801028,
            "bin_end": 36.323201372,
            "count": 0
           },
           {
            "bin_start": 36.323201372,
            "bin_end": 41.831601716,
            "count": 0
           },
           {
            "bin_start": 41.831601716,
            "bin_end": 47.34000206,
            "count": 0
           },
           {
            "bin_start": 47.34000206,
            "bin_end": 52.848402404,
            "count": 3
           },
           {
            "bin_start": 52.848402404,
            "bin_end": 58.356802748,
            "count": 1
           },
           {
            "bin_start": 58.356802748,
            "bin_end": 63.865203092,
            "count": 0
           },
           {
            "bin_start": 63.865203092,
            "bin_end": 69.373603436,
            "count": 1
           },
           {
            "bin_start": 69.373603436,
            "bin_end": 74.88200378,
            "count": 1
           }
          ]
         }
        },
        {
         "name": "2017",
         "dtype": "float64",
         "stats": {
          "unique_count": 8,
          "nan_count": 2,
          "min": "20.88699913",
          "max": "74.91200256",
          "histogram": [
           {
            "bin_start": 20.88699913,
            "bin_end": 26.289499473,
            "count": 2
           },
           {
            "bin_start": 26.289499473,
            "bin_end": 31.691999816,
            "count": 0
           },
           {
            "bin_start": 31.691999816,
            "bin_end": 37.094500159000006,
            "count": 0
           },
           {
            "bin_start": 37.094500159000006,
            "bin_end": 42.497000502000006,
            "count": 0
           },
           {
            "bin_start": 42.497000502000006,
            "bin_end": 47.899500845000006,
            "count": 1
           },
           {
            "bin_start": 47.899500845000006,
            "bin_end": 53.302001188000006,
            "count": 2
           },
           {
            "bin_start": 53.302001188000006,
            "bin_end": 58.704501531000005,
            "count": 1
           },
           {
            "bin_start": 58.704501531000005,
            "bin_end": 64.107001874,
            "count": 0
           },
           {
            "bin_start": 64.107001874,
            "bin_end": 69.509502217,
            "count": 1
           },
           {
            "bin_start": 69.509502217,
            "bin_end": 74.91200256,
            "count": 1
           }
          ]
         }
        },
        {
         "name": "2018",
         "dtype": "float64",
         "stats": {
          "unique_count": 8,
          "nan_count": 2,
          "min": "20.33558692",
          "max": "74.95500183",
          "histogram": [
           {
            "bin_start": 20.33558692,
            "bin_end": 25.797528411000002,
            "count": 2
           },
           {
            "bin_start": 25.797528411000002,
            "bin_end": 31.259469902,
            "count": 0
           },
           {
            "bin_start": 31.259469902,
            "bin_end": 36.721411393,
            "count": 0
           },
           {
            "bin_start": 36.721411393,
            "bin_end": 42.183352884,
            "count": 0
           },
           {
            "bin_start": 42.183352884,
            "bin_end": 47.645294375000006,
            "count": 0
           },
           {
            "bin_start": 47.645294375000006,
            "bin_end": 53.107235865999996,
            "count": 3
           },
           {
            "bin_start": 53.107235865999996,
            "bin_end": 58.569177357,
            "count": 1
           },
           {
            "bin_start": 58.569177357,
            "bin_end": 64.031118848,
            "count": 0
           },
           {
            "bin_start": 64.031118848,
            "bin_end": 69.493060339,
            "count": 1
           },
           {
            "bin_start": 69.493060339,
            "bin_end": 74.95500183,
            "count": 1
           }
          ]
         }
        },
        {
         "name": "2019",
         "dtype": "float64",
         "stats": {
          "unique_count": 8,
          "nan_count": 2,
          "min": "20.0742625",
          "max": "75.01100159",
          "histogram": [
           {
            "bin_start": 20.0742625,
            "bin_end": 25.567936408999998,
            "count": 2
           },
           {
            "bin_start": 25.567936408999998,
            "bin_end": 31.061610318,
            "count": 0
           },
           {
            "bin_start": 31.061610318,
            "bin_end": 36.555284227,
            "count": 0
           },
           {
            "bin_start": 36.555284227,
            "bin_end": 42.048958135999996,
            "count": 0
           },
           {
            "bin_start": 42.048958135999996,
            "bin_end": 47.542632045000005,
            "count": 0
           },
           {
            "bin_start": 47.542632045000005,
            "bin_end": 53.036305954,
            "count": 3
           },
           {
            "bin_start": 53.036305954,
            "bin_end": 58.529979862999994,
            "count": 1
           },
           {
            "bin_start": 58.529979862999994,
            "bin_end": 64.023653772,
            "count": 0
           },
           {
            "bin_start": 64.023653772,
            "bin_end": 69.517327681,
            "count": 1
           },
           {
            "bin_start": 69.517327681,
            "bin_end": 75.01100159,
            "count": 1
           }
          ]
         }
        },
        {
         "name": "2020",
         "dtype": "float64",
         "stats": {
          "unique_count": 8,
          "nan_count": 2,
          "min": "16.18899918",
          "max": "73.61799622",
          "histogram": [
           {
            "bin_start": 16.18899918,
            "bin_end": 21.931898884,
            "count": 2
           },
           {
            "bin_start": 21.931898884,
            "bin_end": 27.674798588,
            "count": 0
           },
           {
            "bin_start": 27.674798588,
            "bin_end": 33.417698292,
            "count": 0
           },
           {
            "bin_start": 33.417698292,
            "bin_end": 39.160597996,
            "count": 0
           },
           {
            "bin_start": 39.160597996,
            "bin_end": 44.9034977,
            "count": 0
           },
           {
            "bin_start": 44.9034977,
            "bin_end": 50.646397404,
            "count": 3
           },
           {
            "bin_start": 50.646397404,
            "bin_end": 56.389297107999994,
            "count": 1
           },
           {
            "bin_start": 56.389297107999994,
            "bin_end": 62.132196812000004,
            "count": 0
           },
           {
            "bin_start": 62.132196812000004,
            "bin_end": 67.875096516,
            "count": 1
           },
           {
            "bin_start": 67.875096516,
            "bin_end": 73.61799622,
            "count": 1
           }
          ]
         }
        },
        {
         "name": "2021",
         "dtype": "float64",
         "stats": {
          "unique_count": 8,
          "nan_count": 2,
          "min": "14.84799957",
          "max": "73.96800232",
          "histogram": [
           {
            "bin_start": 14.84799957,
            "bin_end": 20.759999845,
            "count": 2
           },
           {
            "bin_start": 20.759999845,
            "bin_end": 26.67200012,
            "count": 0
           },
           {
            "bin_start": 26.67200012,
            "bin_end": 32.584000395,
            "count": 0
           },
           {
            "bin_start": 32.584000395,
            "bin_end": 38.49600067,
            "count": 0
           },
           {
            "bin_start": 38.49600067,
            "bin_end": 44.408000945,
            "count": 0
           },
           {
            "bin_start": 44.408000945,
            "bin_end": 50.320001219999995,
            "count": 2
           },
           {
            "bin_start": 50.320001219999995,
            "bin_end": 56.232001495,
            "count": 2
           },
           {
            "bin_start": 56.232001495,
            "bin_end": 62.144001769999996,
            "count": 0
           },
           {
            "bin_start": 62.144001769999996,
            "bin_end": 68.056002045,
            "count": 1
           },
           {
            "bin_start": 68.056002045,
            "bin_end": 73.96800232,
            "count": 1
           }
          ]
         }
        },
        {
         "name": "_deepnote_index_column",
         "dtype": "int64"
        }
       ],
       "rows": [
        {
         "1990": "nan",
         "1991": "nan",
         "1992": "nan",
         "1993": "nan",
         "1994": "nan",
         "1995": "nan",
         "1996": "nan",
         "1997": "nan",
         "1998": "nan",
         "1999": "nan",
         "2000": "nan",
         "2001": "nan",
         "2002": "nan",
         "2003": "nan",
         "2004": "nan",
         "2005": "nan",
         "2006": "nan",
         "2007": "nan",
         "2008": "nan",
         "2009": "nan",
         "2010": "nan",
         "2011": "nan",
         "2012": "nan",
         "2013": "nan",
         "2014": "nan",
         "2015": "nan",
         "2016": "nan",
         "2017": "nan",
         "2018": "nan",
         "2019": "nan",
         "2020": "nan",
         "2021": "nan",
         "Country Name": "Aruba",
         "Country Code": "ABW",
         "Indicator Name": "Labor force participation rate, female (% of female population ages 15+) (modeled ILO estimate)",
         "Indicator Code": "SL.TLF.CACT.FE.ZS",
         "_deepnote_index_column": 0
        },
        {
         "1990": 64.88827593,
         "1991": 64.92201168,
         "1992": 64.98810382,
         "1993": 65.07132142,
         "1994": 65.17073501,
         "1995": 65.40594663,
         "1996": 65.61059255,
         "1997": 65.76686705,
         "1998": 65.94416744,
         "1999": 66.13260636,
         "2000": 66.31903452,
         "2001": 66.4895699,
         "2002": 66.71305451,
         "2003": 66.94403594,
         "2004": 67.13786342,
         "2005": 67.32986891,
         "2006": 67.24176213,
         "2007": 67.04374405,
         "2008": 66.84472953,
         "2009": 66.42022111,
         "2010": 65.9846424,
         "2011": 65.76293085,
         "2012": 65.57092201,
         "2013": 65.65449551,
         "2014": 65.64386497,
         "2015": 65.83116857,
         "2016": 65.91704578,
         "2017": 66.1259219,
         "2018": 66.23008413,
         "2019": 66.36214217,
         "2020": 64.11189079,
         "2021": 64.87819806,
         "Country Name": "Africa Eastern and Southern",
         "Country Code": "AFE",
         "Indicator Name": "Labor force participation rate, female (% of female population ages 15+) (modeled ILO estimate)",
         "Indicator Code": "SL.TLF.CACT.FE.ZS",
         "_deepnote_index_column": 1
        },
        {
         "1990": 15.18000031,
         "1991": 15.21399975,
         "1992": 15.22299957,
         "1993": 15.19699955,
         "1994": 15.17800045,
         "1995": 15.22099972,
         "1996": 15.07800007,
         "1997": 14.95400047,
         "1998": 14.87300014,
         "1999": 14.82699966,
         "2000": 14.79500008,
         "2001": 14.93599987,
         "2002": 15.11299992,
         "2003": 15.29800034,
         "2004": 15.47500038,
         "2005": 15.64400005,
         "2006": 15.45499992,
         "2007": 15.27499962,
         "2008": 15.13700008,
         "2009": 15.07600021,
         "2010": 15.11100006,
         "2011": 15.45400047,
         "2012": 15.87899971,
         "2013": 16.79400063,
         "2014": 17.74900055,
         "2015": 18.74600029,
         "2016": 19.79800034,
         "2017": 20.88699913,
         "2018": 21.22800064,
         "2019": 21.56599998,
         "2020": 16.18899918,
         "2021": 14.84799957,
         "Country Name": "Afghanistan",
         "Country Code": "AFG",
         "Indicator Name": "Labor force participation rate, female (% of female population ages 15+) (modeled ILO estimate)",
         "Indicator Code": "SL.TLF.CACT.FE.ZS",
         "_deepnote_index_column": 2
        },
        {
         "1990": 60.03827772,
         "1991": 60.02554988,
         "1992": 59.95808278,
         "1993": 59.92610037,
         "1994": 59.89499695,
         "1995": 59.87541942,
         "1996": 59.81471781,
         "1997": 59.77120422,
         "1998": 59.73868074,
         "1999": 59.69930183,
         "2000": 59.65958813,
         "2001": 59.56471518,
         "2002": 59.47708349,
         "2003": 59.37931604,
         "2004": 59.30475036,
         "2005": 59.18861571,
         "2006": 59.03604373,
         "2007": 58.93835051,
         "2008": 58.68404042,
         "2009": 58.41886861,
         "2010": 58.14291963,
         "2011": 58.03768943,
         "2012": 56.70766826,
         "2013": 55.37049262,
         "2014": 54.99980908,
         "2015": 54.80539344,
         "2016": 54.5488059,
         "2017": 54.29550018,
         "2018": 54.11860734,
         "2019": 53.97791612,
         "2020": 52.76462894,
         "2021": 52.99073917,
         "Country Name": "Africa Western and Central",
         "Country Code": "AFW",
         "Indicator Name": "Labor force participation rate, female (% of female population ages 15+) (modeled ILO estimate)",
         "Indicator Code": "SL.TLF.CACT.FE.ZS",
         "_deepnote_index_column": 3
        },
        {
         "1990": 75.40799713,
         "1991": 75.3809967,
         "1992": 75.3690033,
         "1993": 75.3710022,
         "1994": 75.38700104,
         "1995": 75.41600037,
         "1996": 75.41400146,
         "1997": 75.4280014,
         "1998": 75.45600128,
         "1999": 75.4940033,
         "2000": 75.53900146,
         "2001": 75.54599762,
         "2002": 75.56400299,
         "2003": 75.58999634,
         "2004": 75.61699677,
         "2005": 75.64099884,
         "2006": 75.625,
         "2007": 75.61399841,
         "2008": 75.60700226,
         "2009": 75.60299683,
         "2010": 75.60500336,
         "2011": 74.84700012,
         "2012": 74.83399963,
         "2013": 74.83300018,
         "2014": 74.84300232,
         "2015": 74.86399841,
         "2016": 74.88200378,
         "2017": 74.91200256,
         "2018": 74.95500183,
         "2019": 75.01100159,
         "2020": 73.61799622,
         "2021": 73.96800232,
         "Country Name": "Angola",
         "Country Code": "AGO",
         "Indicator Name": "Labor force participation rate, female (% of female population ages 15+) (modeled ILO estimate)",
         "Indicator Code": "SL.TLF.CACT.FE.ZS",
         "_deepnote_index_column": 4
        },
        {
         "1990": 51.36399841,
         "1991": 54.72700119,
         "1992": 55.60800171,
         "1993": 54.63800049,
         "1994": 53.82500076,
         "1995": 52.57600021,
         "1996": 51.65999985,
         "1997": 52.61500168,
         "1998": 51.65800095,
         "1999": 50.44499969,
         "2000": 49.7820015,
         "2001": 49.0870018,
         "2002": 48.75699997,
         "2003": 48.18600082,
         "2004": 47.625,
         "2005": 47.06700134,
         "2006": 46.51100159,
         "2007": 45.95800018,
         "2008": 45.40999985,
         "2009": 45.8390007,
         "2010": 46.72700119,
         "2011": 52.44599915,
         "2012": 48.77799988,
         "2013": 43.59799957,
         "2014": 43.73300171,
         "2015": 46.89799881,
         "2016": 49.67599869,
         "2017": 49.50999832,
         "2018": 51.18899918,
         "2019": 52.72299957,
         "2020": 49.7859993,
         "2021": 50.73300171,
         "Country Name": "Albania",
         "Country Code": "ALB",
         "Indicator Name": "Labor force participation rate, female (% of female population ages 15+) (modeled ILO estimate)",
         "Indicator Code": "SL.TLF.CACT.FE.ZS",
         "_deepnote_index_column": 5
        },
        {
         "1990": "nan",
         "1991": "nan",
         "1992": "nan",
         "1993": "nan",
         "1994": "nan",
         "1995": "nan",
         "1996": "nan",
         "1997": "nan",
         "1998": "nan",
         "1999": "nan",
         "2000": "nan",
         "2001": "nan",
         "2002": "nan",
         "2003": "nan",
         "2004": "nan",
         "2005": "nan",
         "2006": "nan",
         "2007": "nan",
         "2008": "nan",
         "2009": "nan",
         "2010": "nan",
         "2011": "nan",
         "2012": "nan",
         "2013": "nan",
         "2014": "nan",
         "2015": "nan",
         "2016": "nan",
         "2017": "nan",
         "2018": "nan",
         "2019": "nan",
         "2020": "nan",
         "2021": "nan",
         "Country Name": "Andorra",
         "Country Code": "AND",
         "Indicator Name": "Labor force participation rate, female (% of female population ages 15+) (modeled ILO estimate)",
         "Indicator Code": "SL.TLF.CACT.FE.ZS",
         "_deepnote_index_column": 6
        },
        {
         "1990": 19.42784468,
         "1991": 19.53499785,
         "1992": 19.67515028,
         "1993": 19.64769573,
         "1994": 20.05117633,
         "1995": 20.05429841,
         "1996": 20.00849574,
         "1997": 19.88839114,
         "1998": 19.80950204,
         "1999": 20.30254984,
         "2000": 20.34661697,
         "2001": 20.25419299,
         "2002": 19.57809866,
         "2003": 19.81897993,
         "2004": 20.02793265,
         "2005": 20.25745903,
         "2006": 20.55543101,
         "2007": 21.06358591,
         "2008": 20.75595212,
         "2009": 20.85426381,
         "2010": 20.98622949,
         "2011": 20.99657229,
         "2012": 21.14949436,
         "2013": 21.43816402,
         "2014": 21.50111314,
         "2015": 21.64098536,
         "2016": 21.84675976,
         "2017": 21.19735695,
         "2018": 20.33558692,
         "2019": 20.0742625,
         "2020": 19.63197289,
         "2021": 19.68605252,
         "Country Name": "Arab World",
         "Country Code": "ARB",
         "Indicator Name": "Labor force participation rate, female (% of female population ages 15+) (modeled ILO estimate)",
         "Indicator Code": "SL.TLF.CACT.FE.ZS",
         "_deepnote_index_column": 7
        },
        {
         "1990": 29.08300018,
         "1991": 29.77899933,
         "1992": 30.27199936,
         "1993": 30.94400024,
         "1994": 31.12100029,
         "1995": 31.27899933,
         "1996": 31.88299942,
         "1997": 32.47999954,
         "1998": 33.0719986,
         "1999": 33.6590004,
         "2000": 34.24399948,
         "2001": 34.9109993,
         "2002": 35.58599854,
         "2003": 36.2159996,
         "2004": 36.74399948,
         "2005": 37.17599869,
         "2006": 37.97900009,
         "2007": 38.81200027,
         "2008": 39.73899841,
         "2009": 40.79499817,
         "2010": 41.97600174,
         "2011": 43.30099869,
         "2012": 44.7179985,
         "2013": 46.18999863,
         "2014": 47.6590004,
         "2015": 49.0719986,
         "2016": 50.3730011,
         "2017": 51.9469986,
         "2018": 48.95100021,
         "2019": 48.92300034,
         "2020": 45.70299911,
         "2021": 46.54199982,
         "Country Name": "United Arab Emirates",
         "Country Code": "ARE",
         "Indicator Name": "Labor force participation rate, female (% of female population ages 15+) (modeled ILO estimate)",
         "Indicator Code": "SL.TLF.CACT.FE.ZS",
         "_deepnote_index_column": 8
        },
        {
         "1990": 45.04100037,
         "1991": 46.33100128,
         "1992": 47.48600006,
         "1993": 48.71699905,
         "1994": 49.57600021,
         "1995": 48.9659996,
         "1996": 49.76200104,
         "1997": 50.97299957,
         "1998": 51.49399948,
         "1999": 50.77500153,
         "2000": 50.50899887,
         "2001": 49.61299896,
         "2002": 47.50799942,
         "2003": 48.80099869,
         "2004": 50.13600159,
         "2005": 49.27999878,
         "2006": 49.91600037,
         "2007": 49.08000183,
         "2008": 48.24300003,
         "2009": 48.9640007,
         "2010": 47.875,
         "2011": 48.13399887,
         "2012": 48.23400116,
         "2013": 47.82600021,
         "2014": 47.59999847,
         "2015": 47.67900085,
         "2016": 47.75999832,
         "2017": 47.84400177,
         "2018": 49.31600189,
         "2019": 50.16799927,
         "2020": 46.64199829,
         "2021": 50.00999832,
         "Country Name": "Argentina",
         "Country Code": "ARG",
         "Indicator Name": "Labor force participation rate, female (% of female population ages 15+) (modeled ILO estimate)",
         "Indicator Code": "SL.TLF.CACT.FE.ZS",
         "_deepnote_index_column": 9
        }
       ]
      },
      "text/plain": "                  Country Name Country Code  \\\n0                        Aruba          ABW   \n1  Africa Eastern and Southern          AFE   \n2                  Afghanistan          AFG   \n3   Africa Western and Central          AFW   \n4                       Angola          AGO   \n5                      Albania          ALB   \n6                      Andorra          AND   \n7                   Arab World          ARB   \n8         United Arab Emirates          ARE   \n9                    Argentina          ARG   \n\n                                      Indicator Name     Indicator Code  \\\n0  Labor force participation rate, female (% of f...  SL.TLF.CACT.FE.ZS   \n1  Labor force participation rate, female (% of f...  SL.TLF.CACT.FE.ZS   \n2  Labor force participation rate, female (% of f...  SL.TLF.CACT.FE.ZS   \n3  Labor force participation rate, female (% of f...  SL.TLF.CACT.FE.ZS   \n4  Labor force participation rate, female (% of f...  SL.TLF.CACT.FE.ZS   \n5  Labor force participation rate, female (% of f...  SL.TLF.CACT.FE.ZS   \n6  Labor force participation rate, female (% of f...  SL.TLF.CACT.FE.ZS   \n7  Labor force participation rate, female (% of f...  SL.TLF.CACT.FE.ZS   \n8  Labor force participation rate, female (% of f...  SL.TLF.CACT.FE.ZS   \n9  Labor force participation rate, female (% of f...  SL.TLF.CACT.FE.ZS   \n\n        1990       1991       1992       1993       1994       1995  ...  \\\n0        NaN        NaN        NaN        NaN        NaN        NaN  ...   \n1  64.888276  64.922012  64.988104  65.071321  65.170735  65.405947  ...   \n2  15.180000  15.214000  15.223000  15.197000  15.178000  15.221000  ...   \n3  60.038278  60.025550  59.958083  59.926100  59.894997  59.875419  ...   \n4  75.407997  75.380997  75.369003  75.371002  75.387001  75.416000  ...   \n5  51.363998  54.727001  55.608002  54.638000  53.825001  52.576000  ...   \n6        NaN        NaN        NaN        NaN        NaN        NaN  ...   \n7  19.427845  19.534998  19.675150  19.647696  20.051176  20.054298  ...   \n8  29.083000  29.778999  30.271999  30.944000  31.121000  31.278999  ...   \n9  45.041000  46.331001  47.486000  48.716999  49.576000  48.966000  ...   \n\n        2012       2013       2014       2015       2016       2017  \\\n0        NaN        NaN        NaN        NaN        NaN        NaN   \n1  65.570922  65.654496  65.643865  65.831169  65.917046  66.125922   \n2  15.879000  16.794001  17.749001  18.746000  19.798000  20.886999   \n3  56.707668  55.370493  54.999809  54.805393  54.548806  54.295500   \n4  74.834000  74.833000  74.843002  74.863998  74.882004  74.912003   \n5  48.778000  43.598000  43.733002  46.897999  49.675999  49.509998   \n6        NaN        NaN        NaN        NaN        NaN        NaN   \n7  21.149494  21.438164  21.501113  21.640985  21.846760  21.197357   \n8  44.717999  46.189999  47.659000  49.071999  50.373001  51.946999   \n9  48.234001  47.826000  47.599998  47.679001  47.759998  47.844002   \n\n        2018       2019       2020       2021  \n0        NaN        NaN        NaN        NaN  \n1  66.230084  66.362142  64.111891  64.878198  \n2  21.228001  21.566000  16.188999  14.848000  \n3  54.118607  53.977916  52.764629  52.990739  \n4  74.955002  75.011002  73.617996  73.968002  \n5  51.188999  52.723000  49.785999  50.733002  \n6        NaN        NaN        NaN        NaN  \n7  20.335587  20.074262  19.631973  19.686053  \n8  48.951000  48.923000  45.702999  46.542000  \n9  49.316002  50.167999  46.641998  50.009998  \n\n[10 rows x 36 columns]",
      "text/html": "<div>\n<style scoped>\n    .dataframe tbody tr th:only-of-type {\n        vertical-align: middle;\n    }\n\n    .dataframe tbody tr th {\n        vertical-align: top;\n    }\n\n    .dataframe thead th {\n        text-align: right;\n    }\n</style>\n<table border=\"1\" class=\"dataframe\">\n  <thead>\n    <tr style=\"text-align: right;\">\n      <th></th>\n      <th>Country Name</th>\n      <th>Country Code</th>\n      <th>Indicator Name</th>\n      <th>Indicator Code</th>\n      <th>1990</th>\n      <th>1991</th>\n      <th>1992</th>\n      <th>1993</th>\n      <th>1994</th>\n      <th>1995</th>\n      <th>...</th>\n      <th>2012</th>\n      <th>2013</th>\n      <th>2014</th>\n      <th>2015</th>\n      <th>2016</th>\n      <th>2017</th>\n      <th>2018</th>\n      <th>2019</th>\n      <th>2020</th>\n      <th>2021</th>\n    </tr>\n  </thead>\n  <tbody>\n    <tr>\n      <th>0</th>\n      <td>Aruba</td>\n      <td>ABW</td>\n      <td>Labor force participation rate, female (% of f...</td>\n      <td>SL.TLF.CACT.FE.ZS</td>\n      <td>NaN</td>\n      <td>NaN</td>\n      <td>NaN</td>\n      <td>NaN</td>\n      <td>NaN</td>\n      <td>NaN</td>\n      <td>...</td>\n      <td>NaN</td>\n      <td>NaN</td>\n      <td>NaN</td>\n      <td>NaN</td>\n      <td>NaN</td>\n      <td>NaN</td>\n      <td>NaN</td>\n      <td>NaN</td>\n      <td>NaN</td>\n      <td>NaN</td>\n    </tr>\n    <tr>\n      <th>1</th>\n      <td>Africa Eastern and Southern</td>\n      <td>AFE</td>\n      <td>Labor force participation rate, female (% of f...</td>\n      <td>SL.TLF.CACT.FE.ZS</td>\n      <td>64.888276</td>\n      <td>64.922012</td>\n      <td>64.988104</td>\n      <td>65.071321</td>\n      <td>65.170735</td>\n      <td>65.405947</td>\n      <td>...</td>\n      <td>65.570922</td>\n      <td>65.654496</td>\n      <td>65.643865</td>\n      <td>65.831169</td>\n      <td>65.917046</td>\n      <td>66.125922</td>\n      <td>66.230084</td>\n      <td>66.362142</td>\n      <td>64.111891</td>\n      <td>64.878198</td>\n    </tr>\n    <tr>\n      <th>2</th>\n      <td>Afghanistan</td>\n      <td>AFG</td>\n      <td>Labor force participation rate, female (% of f...</td>\n      <td>SL.TLF.CACT.FE.ZS</td>\n      <td>15.180000</td>\n      <td>15.214000</td>\n      <td>15.223000</td>\n      <td>15.197000</td>\n      <td>15.178000</td>\n      <td>15.221000</td>\n      <td>...</td>\n      <td>15.879000</td>\n      <td>16.794001</td>\n      <td>17.749001</td>\n      <td>18.746000</td>\n      <td>19.798000</td>\n      <td>20.886999</td>\n      <td>21.228001</td>\n      <td>21.566000</td>\n      <td>16.188999</td>\n      <td>14.848000</td>\n    </tr>\n    <tr>\n      <th>3</th>\n      <td>Africa Western and Central</td>\n      <td>AFW</td>\n      <td>Labor force participation rate, female (% of f...</td>\n      <td>SL.TLF.CACT.FE.ZS</td>\n      <td>60.038278</td>\n      <td>60.025550</td>\n      <td>59.958083</td>\n      <td>59.926100</td>\n      <td>59.894997</td>\n      <td>59.875419</td>\n      <td>...</td>\n      <td>56.707668</td>\n      <td>55.370493</td>\n      <td>54.999809</td>\n      <td>54.805393</td>\n      <td>54.548806</td>\n      <td>54.295500</td>\n      <td>54.118607</td>\n      <td>53.977916</td>\n      <td>52.764629</td>\n      <td>52.990739</td>\n    </tr>\n    <tr>\n      <th>4</th>\n      <td>Angola</td>\n      <td>AGO</td>\n      <td>Labor force participation rate, female (% of f...</td>\n      <td>SL.TLF.CACT.FE.ZS</td>\n      <td>75.407997</td>\n      <td>75.380997</td>\n      <td>75.369003</td>\n      <td>75.371002</td>\n      <td>75.387001</td>\n      <td>75.416000</td>\n      <td>...</td>\n      <td>74.834000</td>\n      <td>74.833000</td>\n      <td>74.843002</td>\n      <td>74.863998</td>\n      <td>74.882004</td>\n      <td>74.912003</td>\n      <td>74.955002</td>\n      <td>75.011002</td>\n      <td>73.617996</td>\n      <td>73.968002</td>\n    </tr>\n    <tr>\n      <th>5</th>\n      <td>Albania</td>\n      <td>ALB</td>\n      <td>Labor force participation rate, female (% of f...</td>\n      <td>SL.TLF.CACT.FE.ZS</td>\n      <td>51.363998</td>\n      <td>54.727001</td>\n      <td>55.608002</td>\n      <td>54.638000</td>\n      <td>53.825001</td>\n      <td>52.576000</td>\n      <td>...</td>\n      <td>48.778000</td>\n      <td>43.598000</td>\n      <td>43.733002</td>\n      <td>46.897999</td>\n      <td>49.675999</td>\n      <td>49.509998</td>\n      <td>51.188999</td>\n      <td>52.723000</td>\n      <td>49.785999</td>\n      <td>50.733002</td>\n    </tr>\n    <tr>\n      <th>6</th>\n      <td>Andorra</td>\n      <td>AND</td>\n      <td>Labor force participation rate, female (% of f...</td>\n      <td>SL.TLF.CACT.FE.ZS</td>\n      <td>NaN</td>\n      <td>NaN</td>\n      <td>NaN</td>\n      <td>NaN</td>\n      <td>NaN</td>\n      <td>NaN</td>\n      <td>...</td>\n      <td>NaN</td>\n      <td>NaN</td>\n      <td>NaN</td>\n      <td>NaN</td>\n      <td>NaN</td>\n      <td>NaN</td>\n      <td>NaN</td>\n      <td>NaN</td>\n      <td>NaN</td>\n      <td>NaN</td>\n    </tr>\n    <tr>\n      <th>7</th>\n      <td>Arab World</td>\n      <td>ARB</td>\n      <td>Labor force participation rate, female (% of f...</td>\n      <td>SL.TLF.CACT.FE.ZS</td>\n      <td>19.427845</td>\n      <td>19.534998</td>\n      <td>19.675150</td>\n      <td>19.647696</td>\n      <td>20.051176</td>\n      <td>20.054298</td>\n      <td>...</td>\n      <td>21.149494</td>\n      <td>21.438164</td>\n      <td>21.501113</td>\n      <td>21.640985</td>\n      <td>21.846760</td>\n      <td>21.197357</td>\n      <td>20.335587</td>\n      <td>20.074262</td>\n      <td>19.631973</td>\n      <td>19.686053</td>\n    </tr>\n    <tr>\n      <th>8</th>\n      <td>United Arab Emirates</td>\n      <td>ARE</td>\n      <td>Labor force participation rate, female (% of f...</td>\n      <td>SL.TLF.CACT.FE.ZS</td>\n      <td>29.083000</td>\n      <td>29.778999</td>\n      <td>30.271999</td>\n      <td>30.944000</td>\n      <td>31.121000</td>\n      <td>31.278999</td>\n      <td>...</td>\n      <td>44.717999</td>\n      <td>46.189999</td>\n      <td>47.659000</td>\n      <td>49.071999</td>\n      <td>50.373001</td>\n      <td>51.946999</td>\n      <td>48.951000</td>\n      <td>48.923000</td>\n      <td>45.702999</td>\n      <td>46.542000</td>\n    </tr>\n    <tr>\n      <th>9</th>\n      <td>Argentina</td>\n      <td>ARG</td>\n      <td>Labor force participation rate, female (% of f...</td>\n      <td>SL.TLF.CACT.FE.ZS</td>\n      <td>45.041000</td>\n      <td>46.331001</td>\n      <td>47.486000</td>\n      <td>48.716999</td>\n      <td>49.576000</td>\n      <td>48.966000</td>\n      <td>...</td>\n      <td>48.234001</td>\n      <td>47.826000</td>\n      <td>47.599998</td>\n      <td>47.679001</td>\n      <td>47.759998</td>\n      <td>47.844002</td>\n      <td>49.316002</td>\n      <td>50.167999</td>\n      <td>46.641998</td>\n      <td>50.009998</td>\n    </tr>\n  </tbody>\n</table>\n<p>10 rows × 36 columns</p>\n</div>"
     },
     "metadata": {}
    }
   ]
  },
  {
   "cell_type": "markdown",
   "source": "### Step 2b: Removing points with NaN values ",
   "metadata": {
    "cell_id": "00009-72805a19-4326-48eb-9ac0-722171192ae4",
    "deepnote_cell_type": "markdown",
    "deepnote_cell_height": 62
   }
  },
  {
   "cell_type": "code",
   "metadata": {
    "cell_id": "00010-2f6ba6a3-b978-4fee-96db-8bc6be49d00b",
    "deepnote_to_be_reexecuted": false,
    "source_hash": "91d9b5a5",
    "execution_start": 1658344241818,
    "execution_millis": 353,
    "deepnote_cell_type": "code",
    "deepnote_cell_height": 924,
    "deepnote_output_heights": [
     611
    ]
   },
   "source": "# locating our NaN values \n\nall_columns = fe_df.columns\nyears = all_columns[4:]\n\nfor column in years:\n     fe_df = fe_df.dropna()\n        \nfe_df.isnull().sum()\n\n\n\n",
   "execution_count": null,
   "outputs": [
    {
     "output_type": "execute_result",
     "execution_count": 5,
     "data": {
      "text/plain": "Country Name      0\nCountry Code      0\nIndicator Name    0\nIndicator Code    0\n1990              0\n1991              0\n1992              0\n1993              0\n1994              0\n1995              0\n1996              0\n1997              0\n1998              0\n1999              0\n2000              0\n2001              0\n2002              0\n2003              0\n2004              0\n2005              0\n2006              0\n2007              0\n2008              0\n2009              0\n2010              0\n2011              0\n2012              0\n2013              0\n2014              0\n2015              0\n2016              0\n2017              0\n2018              0\n2019              0\n2020              0\n2021              0\ndtype: int64"
     },
     "metadata": {}
    }
   ]
  },
  {
   "cell_type": "code",
   "metadata": {
    "cell_id": "00011-06f44eb7-b65e-4b0e-8644-74956481a216",
    "deepnote_to_be_reexecuted": false,
    "source_hash": "4e514bcb",
    "execution_start": 1658344241888,
    "execution_millis": 284,
    "deepnote_cell_type": "code",
    "deepnote_cell_height": 347,
    "deepnote_output_heights": [
     232
    ]
   },
   "source": "# checking to see the countries with usable data \nfe_df['Country Name']",
   "execution_count": null,
   "outputs": [
    {
     "output_type": "execute_result",
     "execution_count": 6,
     "data": {
      "text/plain": "1      Africa Eastern and Southern\n2                      Afghanistan\n3       Africa Western and Central\n4                           Angola\n5                          Albania\n                  ...             \n260                          Samoa\n262                    Yemen, Rep.\n263                   South Africa\n264                         Zambia\n265                       Zimbabwe\nName: Country Name, Length: 235, dtype: object"
     },
     "metadata": {}
    }
   ]
  },
  {
   "cell_type": "markdown",
   "source": "Looks like we lost about 31 countries ",
   "metadata": {
    "cell_id": "00012-ca4db24c-4c9b-4f06-93aa-dc3f22b9ee6a",
    "deepnote_cell_type": "markdown",
    "deepnote_cell_height": 52.390625
   }
  },
  {
   "cell_type": "markdown",
   "source": "### Step 2c: Dropping the 2 unnecesary indicator columns ",
   "metadata": {
    "cell_id": "00013-91f30105-7e09-4065-a5aa-cee46e47f190",
    "deepnote_cell_type": "markdown",
    "deepnote_cell_height": 94
   }
  },
  {
   "cell_type": "code",
   "metadata": {
    "cell_id": "00014-7bd480d0-1de8-4e1c-b9a2-33fe7f9c0678",
    "deepnote_to_be_reexecuted": false,
    "source_hash": "381a8139",
    "execution_start": 1658344241897,
    "execution_millis": 3,
    "deepnote_cell_type": "code",
    "deepnote_cell_height": 117
   },
   "source": "fe_df = fe_df.drop('Indicator Name', axis = 1)\nfe_df = fe_df.drop('Indicator Code', axis = 1)\n",
   "execution_count": null,
   "outputs": []
  },
  {
   "cell_type": "markdown",
   "source": "# Step 3: Playing with our data to find trends",
   "metadata": {
    "cell_id": "00015-b5a4cb83-7f28-4a57-a4ba-a996ec648717",
    "deepnote_cell_type": "markdown",
    "deepnote_cell_height": 134
   }
  },
  {
   "cell_type": "code",
   "metadata": {
    "cell_id": "00016-c4a698b5-9370-4230-b3b8-c8a6e185c28c",
    "deepnote_to_be_reexecuted": false,
    "source_hash": "29e7e5a2",
    "execution_start": 1658344241913,
    "execution_millis": 262,
    "deepnote_cell_type": "code",
    "deepnote_cell_height": 380
   },
   "source": "\nfe_df['Total Change'] =  fe_df.iloc[:, 33] - fe_df.iloc[:, 2]\n\nfe_df['% Change'] = round((( fe_df['Total Change'] / fe_df.iloc[:, 2]) * 100), 2)\n\nfe_df.head(2)\n",
   "execution_count": null,
   "outputs": [
    {
     "output_type": "execute_result",
     "execution_count": 8,
     "data": {
      "application/vnd.deepnote.dataframe.v3+json": {
       "column_count": 36,
       "row_count": 2,
       "columns": [
        {
         "name": "Country Name",
         "dtype": "object",
         "stats": {
          "unique_count": 2,
          "nan_count": 0,
          "categories": [
           {
            "name": "Africa Eastern and Southern",
            "count": 1
           },
           {
            "name": "Afghanistan",
            "count": 1
           }
          ]
         }
        },
        {
         "name": "Country Code",
         "dtype": "object",
         "stats": {
          "unique_count": 2,
          "nan_count": 0,
          "categories": [
           {
            "name": "AFE",
            "count": 1
           },
           {
            "name": "AFG",
            "count": 1
           }
          ]
         }
        },
        {
         "name": "1990",
         "dtype": "float64",
         "stats": {
          "unique_count": 2,
          "nan_count": 0,
          "min": "15.18000031",
          "max": "64.88827593",
          "histogram": [
           {
            "bin_start": 15.18000031,
            "bin_end": 20.150827872,
            "count": 1
           },
           {
            "bin_start": 20.150827872,
            "bin_end": 25.121655434000004,
            "count": 0
           },
           {
            "bin_start": 25.121655434000004,
            "bin_end": 30.092482996000005,
            "count": 0
           },
           {
            "bin_start": 30.092482996000005,
            "bin_end": 35.063310558000005,
            "count": 0
           },
           {
            "bin_start": 35.063310558000005,
            "bin_end": 40.03413812000001,
            "count": 0
           },
           {
            "bin_start": 40.03413812000001,
            "bin_end": 45.004965682000005,
            "count": 0
           },
           {
            "bin_start": 45.004965682000005,
            "bin_end": 49.975793244,
            "count": 0
           },
           {
            "bin_start": 49.975793244,
            "bin_end": 54.94662080600001,
            "count": 0
           },
           {
            "bin_start": 54.94662080600001,
            "bin_end": 59.91744836800001,
            "count": 0
           },
           {
            "bin_start": 59.91744836800001,
            "bin_end": 64.88827593,
            "count": 1
           }
          ]
         }
        },
        {
         "name": "1991",
         "dtype": "float64",
         "stats": {
          "unique_count": 2,
          "nan_count": 0,
          "min": "15.21399975",
          "max": "64.92201168",
          "histogram": [
           {
            "bin_start": 15.21399975,
            "bin_end": 20.184800943,
            "count": 1
           },
           {
            "bin_start": 20.184800943,
            "bin_end": 25.155602136,
            "count": 0
           },
           {
            "bin_start": 25.155602136,
            "bin_end": 30.126403329,
            "count": 0
           },
           {
            "bin_start": 30.126403329,
            "bin_end": 35.097204522,
            "count": 0
           },
           {
            "bin_start": 35.097204522,
            "bin_end": 40.068005715,
            "count": 0
           },
           {
            "bin_start": 40.068005715,
            "bin_end": 45.038806908,
            "count": 0
           },
           {
            "bin_start": 45.038806908,
            "bin_end": 50.009608101,
            "count": 0
           },
           {
            "bin_start": 50.009608101,
            "bin_end": 54.980409294,
            "count": 0
           },
           {
            "bin_start": 54.980409294,
            "bin_end": 59.951210487,
            "count": 0
           },
           {
            "bin_start": 59.951210487,
            "bin_end": 64.92201168,
            "count": 1
           }
          ]
         }
        },
        {
         "name": "1992",
         "dtype": "float64",
         "stats": {
          "unique_count": 2,
          "nan_count": 0,
          "min": "15.22299957",
          "max": "64.98810382",
          "histogram": [
           {
            "bin_start": 15.22299957,
            "bin_end": 20.199509995,
            "count": 1
           },
           {
            "bin_start": 20.199509995,
            "bin_end": 25.17602042,
            "count": 0
           },
           {
            "bin_start": 25.17602042,
            "bin_end": 30.152530845,
            "count": 0
           },
           {
            "bin_start": 30.152530845,
            "bin_end": 35.12904127,
            "count": 0
           },
           {
            "bin_start": 35.12904127,
            "bin_end": 40.105551695,
            "count": 0
           },
           {
            "bin_start": 40.105551695,
            "bin_end": 45.08206212,
            "count": 0
           },
           {
            "bin_start": 45.08206212,
            "bin_end": 50.058572545000004,
            "count": 0
           },
           {
            "bin_start": 50.058572545000004,
            "bin_end": 55.035082970000005,
            "count": 0
           },
           {
            "bin_start": 55.035082970000005,
            "bin_end": 60.011593395000006,
            "count": 0
           },
           {
            "bin_start": 60.011593395000006,
            "bin_end": 64.98810382,
            "count": 1
           }
          ]
         }
        },
        {
         "name": "1993",
         "dtype": "float64",
         "stats": {
          "unique_count": 2,
          "nan_count": 0,
          "min": "15.19699955",
          "max": "65.07132142",
          "histogram": [
           {
            "bin_start": 15.19699955,
            "bin_end": 20.184431737,
            "count": 1
           },
           {
            "bin_start": 20.184431737,
            "bin_end": 25.171863924,
            "count": 0
           },
           {
            "bin_start": 25.171863924,
            "bin_end": 30.159296111000003,
            "count": 0
           },
           {
            "bin_start": 30.159296111000003,
            "bin_end": 35.146728298,
            "count": 0
           },
           {
            "bin_start": 35.146728298,
            "bin_end": 40.134160485,
            "count": 0
           },
           {
            "bin_start": 40.134160485,
            "bin_end": 45.121592672000006,
            "count": 0
           },
           {
            "bin_start": 45.121592672000006,
            "bin_end": 50.109024859,
            "count": 0
           },
           {
            "bin_start": 50.109024859,
            "bin_end": 55.096457046000005,
            "count": 0
           },
           {
            "bin_start": 55.096457046000005,
            "bin_end": 60.08388923300001,
            "count": 0
           },
           {
            "bin_start": 60.08388923300001,
            "bin_end": 65.07132142,
            "count": 1
           }
          ]
         }
        },
        {
         "name": "1994",
         "dtype": "float64",
         "stats": {
          "unique_count": 2,
          "nan_count": 0,
          "min": "15.17800045",
          "max": "65.17073501",
          "histogram": [
           {
            "bin_start": 15.17800045,
            "bin_end": 20.177273906,
            "count": 1
           },
           {
            "bin_start": 20.177273906,
            "bin_end": 25.176547362,
            "count": 0
           },
           {
            "bin_start": 25.176547362,
            "bin_end": 30.175820818,
            "count": 0
           },
           {
            "bin_start": 30.175820818,
            "bin_end": 35.175094274,
            "count": 0
           },
           {
            "bin_start": 35.175094274,
            "bin_end": 40.17436773,
            "count": 0
           },
           {
            "bin_start": 40.17436773,
            "bin_end": 45.173641186,
            "count": 0
           },
           {
            "bin_start": 45.173641186,
            "bin_end": 50.172914642,
            "count": 0
           },
           {
            "bin_start": 50.172914642,
            "bin_end": 55.172188098,
            "count": 0
           },
           {
            "bin_start": 55.172188098,
            "bin_end": 60.171461554,
            "count": 0
           },
           {
            "bin_start": 60.171461554,
            "bin_end": 65.17073501,
            "count": 1
           }
          ]
         }
        },
        {
         "name": "1995",
         "dtype": "float64",
         "stats": {
          "unique_count": 2,
          "nan_count": 0,
          "min": "15.22099972",
          "max": "65.40594663",
          "histogram": [
           {
            "bin_start": 15.22099972,
            "bin_end": 20.239494411,
            "count": 1
           },
           {
            "bin_start": 20.239494411,
            "bin_end": 25.257989102,
            "count": 0
           },
           {
            "bin_start": 25.257989102,
            "bin_end": 30.276483792999997,
            "count": 0
           },
           {
            "bin_start": 30.276483792999997,
            "bin_end": 35.294978484,
            "count": 0
           },
           {
            "bin_start": 35.294978484,
            "bin_end": 40.313473175,
            "count": 0
           },
           {
            "bin_start": 40.313473175,
            "bin_end": 45.331967866,
            "count": 0
           },
           {
            "bin_start": 45.331967866,
            "bin_end": 50.350462557,
            "count": 0
           },
           {
            "bin_start": 50.350462557,
            "bin_end": 55.368957248,
            "count": 0
           },
           {
            "bin_start": 55.368957248,
            "bin_end": 60.387451939,
            "count": 0
           },
           {
            "bin_start": 60.387451939,
            "bin_end": 65.40594663,
            "count": 1
           }
          ]
         }
        },
        {
         "name": "1996",
         "dtype": "float64",
         "stats": {
          "unique_count": 2,
          "nan_count": 0,
          "min": "15.07800007",
          "max": "65.61059255",
          "histogram": [
           {
            "bin_start": 15.07800007,
            "bin_end": 20.131259318,
            "count": 1
           },
           {
            "bin_start": 20.131259318,
            "bin_end": 25.184518566,
            "count": 0
           },
           {
            "bin_start": 25.184518566,
            "bin_end": 30.237777814000005,
            "count": 0
           },
           {
            "bin_start": 30.237777814000005,
            "bin_end": 35.291037062,
            "count": 0
           },
           {
            "bin_start": 35.291037062,
            "bin_end": 40.344296310000004,
            "count": 0
           },
           {
            "bin_start": 40.344296310000004,
            "bin_end": 45.39755555800001,
            "count": 0
           },
           {
            "bin_start": 45.39755555800001,
            "bin_end": 50.450814806000004,
            "count": 0
           },
           {
            "bin_start": 50.450814806000004,
            "bin_end": 55.50407405400001,
            "count": 0
           },
           {
            "bin_start": 55.50407405400001,
            "bin_end": 60.55733330200001,
            "count": 0
           },
           {
            "bin_start": 60.55733330200001,
            "bin_end": 65.61059255,
            "count": 1
           }
          ]
         }
        },
        {
         "name": "1997",
         "dtype": "float64",
         "stats": {
          "unique_count": 2,
          "nan_count": 0,
          "min": "14.95400047",
          "max": "65.76686705",
          "histogram": [
           {
            "bin_start": 14.95400047,
            "bin_end": 20.035287128,
            "count": 1
           },
           {
            "bin_start": 20.035287128,
            "bin_end": 25.116573786000004,
            "count": 0
           },
           {
            "bin_start": 25.116573786000004,
            "bin_end": 30.197860444000003,
            "count": 0
           },
           {
            "bin_start": 30.197860444000003,
            "bin_end": 35.279147102,
            "count": 0
           },
           {
            "bin_start": 35.279147102,
            "bin_end": 40.36043376000001,
            "count": 0
           },
           {
            "bin_start": 40.36043376000001,
            "bin_end": 45.441720418,
            "count": 0
           },
           {
            "bin_start": 45.441720418,
            "bin_end": 50.523007076,
            "count": 0
           },
           {
            "bin_start": 50.523007076,
            "bin_end": 55.60429373400001,
            "count": 0
           },
           {
            "bin_start": 55.60429373400001,
            "bin_end": 60.685580392000006,
            "count": 0
           },
           {
            "bin_start": 60.685580392000006,
            "bin_end": 65.76686705,
            "count": 1
           }
          ]
         }
        },
        {
         "name": "1998",
         "dtype": "float64",
         "stats": {
          "unique_count": 2,
          "nan_count": 0,
          "min": "14.87300014",
          "max": "65.94416744",
          "histogram": [
           {
            "bin_start": 14.87300014,
            "bin_end": 19.98011687,
            "count": 1
           },
           {
            "bin_start": 19.98011687,
            "bin_end": 25.087233599999998,
            "count": 0
           },
           {
            "bin_start": 25.087233599999998,
            "bin_end": 30.19435033,
            "count": 0
           },
           {
            "bin_start": 30.19435033,
            "bin_end": 35.30146706,
            "count": 0
           },
           {
            "bin_start": 35.30146706,
            "bin_end": 40.40858379,
            "count": 0
           },
           {
            "bin_start": 40.40858379,
            "bin_end": 45.515700519999996,
            "count": 0
           },
           {
            "bin_start": 45.515700519999996,
            "bin_end": 50.62281725,
            "count": 0
           },
           {
            "bin_start": 50.62281725,
            "bin_end": 55.72993398,
            "count": 0
           },
           {
            "bin_start": 55.72993398,
            "bin_end": 60.83705071,
            "count": 0
           },
           {
            "bin_start": 60.83705071,
            "bin_end": 65.94416744,
            "count": 1
           }
          ]
         }
        },
        {
         "name": "1999",
         "dtype": "float64",
         "stats": {
          "unique_count": 2,
          "nan_count": 0,
          "min": "14.82699966",
          "max": "66.13260636",
          "histogram": [
           {
            "bin_start": 14.82699966,
            "bin_end": 19.95756033,
            "count": 1
           },
           {
            "bin_start": 19.95756033,
            "bin_end": 25.088121,
            "count": 0
           },
           {
            "bin_start": 25.088121,
            "bin_end": 30.21868167,
            "count": 0
           },
           {
            "bin_start": 30.21868167,
            "bin_end": 35.349242339999996,
            "count": 0
           },
           {
            "bin_start": 35.349242339999996,
            "bin_end": 40.47980301,
            "count": 0
           },
           {
            "bin_start": 40.47980301,
            "bin_end": 45.61036368,
            "count": 0
           },
           {
            "bin_start": 45.61036368,
            "bin_end": 50.74092434999999,
            "count": 0
           },
           {
            "bin_start": 50.74092434999999,
            "bin_end": 55.871485019999994,
            "count": 0
           },
           {
            "bin_start": 55.871485019999994,
            "bin_end": 61.002045689999996,
            "count": 0
           },
           {
            "bin_start": 61.002045689999996,
            "bin_end": 66.13260636,
            "count": 1
           }
          ]
         }
        },
        {
         "name": "2000",
         "dtype": "float64",
         "stats": {
          "unique_count": 2,
          "nan_count": 0,
          "min": "14.79500008",
          "max": "66.31903452",
          "histogram": [
           {
            "bin_start": 14.79500008,
            "bin_end": 19.947403524,
            "count": 1
           },
           {
            "bin_start": 19.947403524,
            "bin_end": 25.099806968,
            "count": 0
           },
           {
            "bin_start": 25.099806968,
            "bin_end": 30.252210411999997,
            "count": 0
           },
           {
            "bin_start": 30.252210411999997,
            "bin_end": 35.404613856,
            "count": 0
           },
           {
            "bin_start": 35.404613856,
            "bin_end": 40.5570173,
            "count": 0
           },
           {
            "bin_start": 40.5570173,
            "bin_end": 45.709420744,
            "count": 0
           },
           {
            "bin_start": 45.709420744,
            "bin_end": 50.861824188,
            "count": 0
           },
           {
            "bin_start": 50.861824188,
            "bin_end": 56.014227632,
            "count": 0
           },
           {
            "bin_start": 56.014227632,
            "bin_end": 61.166631076,
            "count": 0
           },
           {
            "bin_start": 61.166631076,
            "bin_end": 66.31903452,
            "count": 1
           }
          ]
         }
        },
        {
         "name": "2001",
         "dtype": "float64",
         "stats": {
          "unique_count": 2,
          "nan_count": 0,
          "min": "14.93599987",
          "max": "66.4895699",
          "histogram": [
           {
            "bin_start": 14.93599987,
            "bin_end": 20.091356873000002,
            "count": 1
           },
           {
            "bin_start": 20.091356873000002,
            "bin_end": 25.246713876,
            "count": 0
           },
           {
            "bin_start": 25.246713876,
            "bin_end": 30.402070879,
            "count": 0
           },
           {
            "bin_start": 30.402070879,
            "bin_end": 35.557427882,
            "count": 0
           },
           {
            "bin_start": 35.557427882,
            "bin_end": 40.712784885000005,
            "count": 0
           },
           {
            "bin_start": 40.712784885000005,
            "bin_end": 45.868141888000004,
            "count": 0
           },
           {
            "bin_start": 45.868141888000004,
            "bin_end": 51.023498891,
            "count": 0
           },
           {
            "bin_start": 51.023498891,
            "bin_end": 56.17885589400001,
            "count": 0
           },
           {
            "bin_start": 56.17885589400001,
            "bin_end": 61.334212897,
            "count": 0
           },
           {
            "bin_start": 61.334212897,
            "bin_end": 66.4895699,
            "count": 1
           }
          ]
         }
        },
        {
         "name": "2002",
         "dtype": "float64",
         "stats": {
          "unique_count": 2,
          "nan_count": 0,
          "min": "15.11299992",
          "max": "66.71305451",
          "histogram": [
           {
            "bin_start": 15.11299992,
            "bin_end": 20.273005379,
            "count": 1
           },
           {
            "bin_start": 20.273005379,
            "bin_end": 25.433010838,
            "count": 0
           },
           {
            "bin_start": 25.433010838,
            "bin_end": 30.593016297000002,
            "count": 0
           },
           {
            "bin_start": 30.593016297000002,
            "bin_end": 35.753021756,
            "count": 0
           },
           {
            "bin_start": 35.753021756,
            "bin_end": 40.913027215,
            "count": 0
           },
           {
            "bin_start": 40.913027215,
            "bin_end": 46.073032674000004,
            "count": 0
           },
           {
            "bin_start": 46.073032674000004,
            "bin_end": 51.233038133,
            "count": 0
           },
           {
            "bin_start": 51.233038133,
            "bin_end": 56.393043592000005,
            "count": 0
           },
           {
            "bin_start": 56.393043592000005,
            "bin_end": 61.55304905100001,
            "count": 0
           },
           {
            "bin_start": 61.55304905100001,
            "bin_end": 66.71305451,
            "count": 1
           }
          ]
         }
        },
        {
         "name": "2003",
         "dtype": "float64",
         "stats": {
          "unique_count": 2,
          "nan_count": 0,
          "min": "15.29800034",
          "max": "66.94403594",
          "histogram": [
           {
            "bin_start": 15.29800034,
            "bin_end": 20.4626039,
            "count": 1
           },
           {
            "bin_start": 20.4626039,
            "bin_end": 25.62720746,
            "count": 0
           },
           {
            "bin_start": 25.62720746,
            "bin_end": 30.791811020000004,
            "count": 0
           },
           {
            "bin_start": 30.791811020000004,
            "bin_end": 35.95641458,
            "count": 0
           },
           {
            "bin_start": 35.95641458,
            "bin_end": 41.121018140000004,
            "count": 0
           },
           {
            "bin_start": 41.121018140000004,
            "bin_end": 46.28562170000001,
            "count": 0
           },
           {
            "bin_start": 46.28562170000001,
            "bin_end": 51.45022526,
            "count": 0
           },
           {
            "bin_start": 51.45022526,
            "bin_end": 56.61482882000001,
            "count": 0
           },
           {
            "bin_start": 56.61482882000001,
            "bin_end": 61.77943238000001,
            "count": 0
           },
           {
            "bin_start": 61.77943238000001,
            "bin_end": 66.94403594,
            "count": 1
           }
          ]
         }
        },
        {
         "name": "2004",
         "dtype": "float64",
         "stats": {
          "unique_count": 2,
          "nan_count": 0,
          "min": "15.47500038",
          "max": "67.13786342",
          "histogram": [
           {
            "bin_start": 15.47500038,
            "bin_end": 20.641286684,
            "count": 1
           },
           {
            "bin_start": 20.641286684,
            "bin_end": 25.807572988000004,
            "count": 0
           },
           {
            "bin_start": 25.807572988000004,
            "bin_end": 30.973859292000004,
            "count": 0
           },
           {
            "bin_start": 30.973859292000004,
            "bin_end": 36.140145596,
            "count": 0
           },
           {
            "bin_start": 36.140145596,
            "bin_end": 41.30643190000001,
            "count": 0
           },
           {
            "bin_start": 41.30643190000001,
            "bin_end": 46.472718204,
            "count": 0
           },
           {
            "bin_start": 46.472718204,
            "bin_end": 51.639004508,
            "count": 0
           },
           {
            "bin_start": 51.639004508,
            "bin_end": 56.80529081200001,
            "count": 0
           },
           {
            "bin_start": 56.80529081200001,
            "bin_end": 61.971577116000006,
            "count": 0
           },
           {
            "bin_start": 61.971577116000006,
            "bin_end": 67.13786342,
            "count": 1
           }
          ]
         }
        },
        {
         "name": "2005",
         "dtype": "float64",
         "stats": {
          "unique_count": 2,
          "nan_count": 0,
          "min": "15.64400005",
          "max": "67.32986891",
          "histogram": [
           {
            "bin_start": 15.64400005,
            "bin_end": 20.812586936000002,
            "count": 1
           },
           {
            "bin_start": 20.812586936000002,
            "bin_end": 25.981173822000002,
            "count": 0
           },
           {
            "bin_start": 25.981173822000002,
            "bin_end": 31.149760708000002,
            "count": 0
           },
           {
            "bin_start": 31.149760708000002,
            "bin_end": 36.318347594,
            "count": 0
           },
           {
            "bin_start": 36.318347594,
            "bin_end": 41.48693448,
            "count": 0
           },
           {
            "bin_start": 41.48693448,
            "bin_end": 46.655521366,
            "count": 0
           },
           {
            "bin_start": 46.655521366,
            "bin_end": 51.824108252,
            "count": 0
           },
           {
            "bin_start": 51.824108252,
            "bin_end": 56.992695138,
            "count": 0
           },
           {
            "bin_start": 56.992695138,
            "bin_end": 62.161282024,
            "count": 0
           },
           {
            "bin_start": 62.161282024,
            "bin_end": 67.32986891,
            "count": 1
           }
          ]
         }
        },
        {
         "name": "2006",
         "dtype": "float64",
         "stats": {
          "unique_count": 2,
          "nan_count": 0,
          "min": "15.45499992",
          "max": "67.24176213",
          "histogram": [
           {
            "bin_start": 15.45499992,
            "bin_end": 20.633676141000002,
            "count": 1
           },
           {
            "bin_start": 20.633676141000002,
            "bin_end": 25.812352362,
            "count": 0
           },
           {
            "bin_start": 25.812352362,
            "bin_end": 30.991028583000002,
            "count": 0
           },
           {
            "bin_start": 30.991028583000002,
            "bin_end": 36.169704804,
            "count": 0
           },
           {
            "bin_start": 36.169704804,
            "bin_end": 41.348381025,
            "count": 0
           },
           {
            "bin_start": 41.348381025,
            "bin_end": 46.527057246,
            "count": 0
           },
           {
            "bin_start": 46.527057246,
            "bin_end": 51.705733466999995,
            "count": 0
           },
           {
            "bin_start": 51.705733466999995,
            "bin_end": 56.884409688,
            "count": 0
           },
           {
            "bin_start": 56.884409688,
            "bin_end": 62.063085909,
            "count": 0
           },
           {
            "bin_start": 62.063085909,
            "bin_end": 67.24176213,
            "count": 1
           }
          ]
         }
        },
        {
         "name": "2007",
         "dtype": "float64",
         "stats": {
          "unique_count": 2,
          "nan_count": 0,
          "min": "15.27499962",
          "max": "67.04374405",
          "histogram": [
           {
            "bin_start": 15.27499962,
            "bin_end": 20.451874062999998,
            "count": 1
           },
           {
            "bin_start": 20.451874062999998,
            "bin_end": 25.628748506,
            "count": 0
           },
           {
            "bin_start": 25.628748506,
            "bin_end": 30.805622949,
            "count": 0
           },
           {
            "bin_start": 30.805622949,
            "bin_end": 35.982497392,
            "count": 0
           },
           {
            "bin_start": 35.982497392,
            "bin_end": 41.159371835,
            "count": 0
           },
           {
            "bin_start": 41.159371835,
            "bin_end": 46.336246278000004,
            "count": 0
           },
           {
            "bin_start": 46.336246278000004,
            "bin_end": 51.51312072099999,
            "count": 0
           },
           {
            "bin_start": 51.51312072099999,
            "bin_end": 56.689995163999995,
            "count": 0
           },
           {
            "bin_start": 56.689995163999995,
            "bin_end": 61.866869607,
            "count": 0
           },
           {
            "bin_start": 61.866869607,
            "bin_end": 67.04374405,
            "count": 1
           }
          ]
         }
        },
        {
         "name": "2008",
         "dtype": "float64",
         "stats": {
          "unique_count": 2,
          "nan_count": 0,
          "min": "15.13700008",
          "max": "66.84472953",
          "histogram": [
           {
            "bin_start": 15.13700008,
            "bin_end": 20.307773025,
            "count": 1
           },
           {
            "bin_start": 20.307773025,
            "bin_end": 25.47854597,
            "count": 0
           },
           {
            "bin_start": 25.47854597,
            "bin_end": 30.649318915,
            "count": 0
           },
           {
            "bin_start": 30.649318915,
            "bin_end": 35.82009186,
            "count": 0
           },
           {
            "bin_start": 35.82009186,
            "bin_end": 40.990864805,
            "count": 0
           },
           {
            "bin_start": 40.990864805,
            "bin_end": 46.16163775,
            "count": 0
           },
           {
            "bin_start": 46.16163775,
            "bin_end": 51.332410695,
            "count": 0
           },
           {
            "bin_start": 51.332410695,
            "bin_end": 56.503183639999996,
            "count": 0
           },
           {
            "bin_start": 56.503183639999996,
            "bin_end": 61.67395658499999,
            "count": 0
           },
           {
            "bin_start": 61.67395658499999,
            "bin_end": 66.84472953,
            "count": 1
           }
          ]
         }
        },
        {
         "name": "2009",
         "dtype": "float64",
         "stats": {
          "unique_count": 2,
          "nan_count": 0,
          "min": "15.07600021",
          "max": "66.42022111",
          "histogram": [
           {
            "bin_start": 15.07600021,
            "bin_end": 20.210422299999998,
            "count": 1
           },
           {
            "bin_start": 20.210422299999998,
            "bin_end": 25.34484439,
            "count": 0
           },
           {
            "bin_start": 25.34484439,
            "bin_end": 30.47926648,
            "count": 0
           },
           {
            "bin_start": 30.47926648,
            "bin_end": 35.613688569999994,
            "count": 0
           },
           {
            "bin_start": 35.613688569999994,
            "bin_end": 40.748110659999995,
            "count": 0
           },
           {
            "bin_start": 40.748110659999995,
            "bin_end": 45.882532749999996,
            "count": 0
           },
           {
            "bin_start": 45.882532749999996,
            "bin_end": 51.01695484,
            "count": 0
           },
           {
            "bin_start": 51.01695484,
            "bin_end": 56.15137693,
            "count": 0
           },
           {
            "bin_start": 56.15137693,
            "bin_end": 61.28579902,
            "count": 0
           },
           {
            "bin_start": 61.28579902,
            "bin_end": 66.42022111,
            "count": 1
           }
          ]
         }
        },
        {
         "name": "2010",
         "dtype": "float64",
         "stats": {
          "unique_count": 2,
          "nan_count": 0,
          "min": "15.11100006",
          "max": "65.9846424",
          "histogram": [
           {
            "bin_start": 15.11100006,
            "bin_end": 20.198364294,
            "count": 1
           },
           {
            "bin_start": 20.198364294,
            "bin_end": 25.285728528,
            "count": 0
           },
           {
            "bin_start": 25.285728528,
            "bin_end": 30.373092762,
            "count": 0
           },
           {
            "bin_start": 30.373092762,
            "bin_end": 35.460456996,
            "count": 0
           },
           {
            "bin_start": 35.460456996,
            "bin_end": 40.54782123,
            "count": 0
           },
           {
            "bin_start": 40.54782123,
            "bin_end": 45.635185464,
            "count": 0
           },
           {
            "bin_start": 45.635185464,
            "bin_end": 50.722549698,
            "count": 0
           },
           {
            "bin_start": 50.722549698,
            "bin_end": 55.809913932,
            "count": 0
           },
           {
            "bin_start": 55.809913932,
            "bin_end": 60.897278166,
            "count": 0
           },
           {
            "bin_start": 60.897278166,
            "bin_end": 65.9846424,
            "count": 1
           }
          ]
         }
        },
        {
         "name": "2011",
         "dtype": "float64",
         "stats": {
          "unique_count": 2,
          "nan_count": 0,
          "min": "15.45400047",
          "max": "65.76293085",
          "histogram": [
           {
            "bin_start": 15.45400047,
            "bin_end": 20.484893508,
            "count": 1
           },
           {
            "bin_start": 20.484893508,
            "bin_end": 25.515786546,
            "count": 0
           },
           {
            "bin_start": 25.515786546,
            "bin_end": 30.546679584000003,
            "count": 0
           },
           {
            "bin_start": 30.546679584000003,
            "bin_end": 35.577572622000005,
            "count": 0
           },
           {
            "bin_start": 35.577572622000005,
            "bin_end": 40.60846566000001,
            "count": 0
           },
           {
            "bin_start": 40.60846566000001,
            "bin_end": 45.639358698,
            "count": 0
           },
           {
            "bin_start": 45.639358698,
            "bin_end": 50.670251736,
            "count": 0
           },
           {
            "bin_start": 50.670251736,
            "bin_end": 55.701144774,
            "count": 0
           },
           {
            "bin_start": 55.701144774,
            "bin_end": 60.732037812,
            "count": 0
           },
           {
            "bin_start": 60.732037812,
            "bin_end": 65.76293085,
            "count": 1
           }
          ]
         }
        },
        {
         "name": "2012",
         "dtype": "float64",
         "stats": {
          "unique_count": 2,
          "nan_count": 0,
          "min": "15.87899971",
          "max": "65.57092201",
          "histogram": [
           {
            "bin_start": 15.87899971,
            "bin_end": 20.84819194,
            "count": 1
           },
           {
            "bin_start": 20.84819194,
            "bin_end": 25.81738417,
            "count": 0
           },
           {
            "bin_start": 25.81738417,
            "bin_end": 30.7865764,
            "count": 0
           },
           {
            "bin_start": 30.7865764,
            "bin_end": 35.75576863,
            "count": 0
           },
           {
            "bin_start": 35.75576863,
            "bin_end": 40.72496086,
            "count": 0
           },
           {
            "bin_start": 40.72496086,
            "bin_end": 45.69415309,
            "count": 0
           },
           {
            "bin_start": 45.69415309,
            "bin_end": 50.663345320000005,
            "count": 0
           },
           {
            "bin_start": 50.663345320000005,
            "bin_end": 55.63253755,
            "count": 0
           },
           {
            "bin_start": 55.63253755,
            "bin_end": 60.60172978,
            "count": 0
           },
           {
            "bin_start": 60.60172978,
            "bin_end": 65.57092201,
            "count": 1
           }
          ]
         }
        },
        {
         "name": "2013",
         "dtype": "float64",
         "stats": {
          "unique_count": 2,
          "nan_count": 0,
          "min": "16.79400063",
          "max": "65.65449551",
          "histogram": [
           {
            "bin_start": 16.79400063,
            "bin_end": 21.680050118,
            "count": 1
           },
           {
            "bin_start": 21.680050118,
            "bin_end": 26.566099606,
            "count": 0
           },
           {
            "bin_start": 26.566099606,
            "bin_end": 31.452149094,
            "count": 0
           },
           {
            "bin_start": 31.452149094,
            "bin_end": 36.338198582000004,
            "count": 0
           },
           {
            "bin_start": 36.338198582000004,
            "bin_end": 41.22424807,
            "count": 0
           },
           {
            "bin_start": 41.22424807,
            "bin_end": 46.110297558,
            "count": 0
           },
           {
            "bin_start": 46.110297558,
            "bin_end": 50.996347046000004,
            "count": 0
           },
           {
            "bin_start": 50.996347046000004,
            "bin_end": 55.882396534,
            "count": 0
           },
           {
            "bin_start": 55.882396534,
            "bin_end": 60.768446022,
            "count": 0
           },
           {
            "bin_start": 60.768446022,
            "bin_end": 65.65449551,
            "count": 1
           }
          ]
         }
        },
        {
         "name": "2014",
         "dtype": "float64",
         "stats": {
          "unique_count": 2,
          "nan_count": 0,
          "min": "17.74900055",
          "max": "65.64386497",
          "histogram": [
           {
            "bin_start": 17.74900055,
            "bin_end": 22.538486992000003,
            "count": 1
           },
           {
            "bin_start": 22.538486992000003,
            "bin_end": 27.327973434,
            "count": 0
           },
           {
            "bin_start": 27.327973434,
            "bin_end": 32.117459876,
            "count": 0
           },
           {
            "bin_start": 32.117459876,
            "bin_end": 36.906946317999996,
            "count": 0
           },
           {
            "bin_start": 36.906946317999996,
            "bin_end": 41.69643275999999,
            "count": 0
           },
           {
            "bin_start": 41.69643275999999,
            "bin_end": 46.485919202,
            "count": 0
           },
           {
            "bin_start": 46.485919202,
            "bin_end": 51.275405644,
            "count": 0
           },
           {
            "bin_start": 51.275405644,
            "bin_end": 56.064892086,
            "count": 0
           },
           {
            "bin_start": 56.064892086,
            "bin_end": 60.854378528,
            "count": 0
           },
           {
            "bin_start": 60.854378528,
            "bin_end": 65.64386497,
            "count": 1
           }
          ]
         }
        },
        {
         "name": "2015",
         "dtype": "float64",
         "stats": {
          "unique_count": 2,
          "nan_count": 0,
          "min": "18.74600029",
          "max": "65.83116857",
          "histogram": [
           {
            "bin_start": 18.74600029,
            "bin_end": 23.454517118000002,
            "count": 1
           },
           {
            "bin_start": 23.454517118000002,
            "bin_end": 28.163033946000002,
            "count": 0
           },
           {
            "bin_start": 28.163033946000002,
            "bin_end": 32.871550774,
            "count": 0
           },
           {
            "bin_start": 32.871550774,
            "bin_end": 37.580067602,
            "count": 0
           },
           {
            "bin_start": 37.580067602,
            "bin_end": 42.28858443,
            "count": 0
           },
           {
            "bin_start": 42.28858443,
            "bin_end": 46.997101258,
            "count": 0
           },
           {
            "bin_start": 46.997101258,
            "bin_end": 51.705618086,
            "count": 0
           },
           {
            "bin_start": 51.705618086,
            "bin_end": 56.414134914,
            "count": 0
           },
           {
            "bin_start": 56.414134914,
            "bin_end": 61.122651742,
            "count": 0
           },
           {
            "bin_start": 61.122651742,
            "bin_end": 65.83116857,
            "count": 1
           }
          ]
         }
        },
        {
         "name": "2016",
         "dtype": "float64",
         "stats": {
          "unique_count": 2,
          "nan_count": 0,
          "min": "19.79800034",
          "max": "65.91704578",
          "histogram": [
           {
            "bin_start": 19.79800034,
            "bin_end": 24.409904884,
            "count": 1
           },
           {
            "bin_start": 24.409904884,
            "bin_end": 29.021809428,
            "count": 0
           },
           {
            "bin_start": 29.021809428,
            "bin_end": 33.633713972,
            "count": 0
           },
           {
            "bin_start": 33.633713972,
            "bin_end": 38.245618516,
            "count": 0
           },
           {
            "bin_start": 38.245618516,
            "bin_end": 42.85752306,
            "count": 0
           },
           {
            "bin_start": 42.85752306,
            "bin_end": 47.469427604,
            "count": 0
           },
           {
            "bin_start": 47.469427604,
            "bin_end": 52.081332148,
            "count": 0
           },
           {
            "bin_start": 52.081332148,
            "bin_end": 56.693236692,
            "count": 0
           },
           {
            "bin_start": 56.693236692,
            "bin_end": 61.305141236,
            "count": 0
           },
           {
            "bin_start": 61.305141236,
            "bin_end": 65.91704578,
            "count": 1
           }
          ]
         }
        },
        {
         "name": "2017",
         "dtype": "float64",
         "stats": {
          "unique_count": 2,
          "nan_count": 0,
          "min": "20.88699913",
          "max": "66.1259219",
          "histogram": [
           {
            "bin_start": 20.88699913,
            "bin_end": 25.410891407,
            "count": 1
           },
           {
            "bin_start": 25.410891407,
            "bin_end": 29.934783684,
            "count": 0
           },
           {
            "bin_start": 29.934783684,
            "bin_end": 34.458675961,
            "count": 0
           },
           {
            "bin_start": 34.458675961,
            "bin_end": 38.982568238,
            "count": 0
           },
           {
            "bin_start": 38.982568238,
            "bin_end": 43.506460515,
            "count": 0
           },
           {
            "bin_start": 43.506460515,
            "bin_end": 48.030352792,
            "count": 0
           },
           {
            "bin_start": 48.030352792,
            "bin_end": 52.554245069,
            "count": 0
           },
           {
            "bin_start": 52.554245069,
            "bin_end": 57.078137346,
            "count": 0
           },
           {
            "bin_start": 57.078137346,
            "bin_end": 61.602029623,
            "count": 0
           },
           {
            "bin_start": 61.602029623,
            "bin_end": 66.1259219,
            "count": 1
           }
          ]
         }
        },
        {
         "name": "2018",
         "dtype": "float64",
         "stats": {
          "unique_count": 2,
          "nan_count": 0,
          "min": "21.22800064",
          "max": "66.23008413",
          "histogram": [
           {
            "bin_start": 21.22800064,
            "bin_end": 25.728208989000002,
            "count": 1
           },
           {
            "bin_start": 25.728208989000002,
            "bin_end": 30.228417338,
            "count": 0
           },
           {
            "bin_start": 30.228417338,
            "bin_end": 34.728625687,
            "count": 0
           },
           {
            "bin_start": 34.728625687,
            "bin_end": 39.228834035999995,
            "count": 0
           },
           {
            "bin_start": 39.228834035999995,
            "bin_end": 43.729042385,
            "count": 0
           },
           {
            "bin_start": 43.729042385,
            "bin_end": 48.229250734,
            "count": 0
           },
           {
            "bin_start": 48.229250734,
            "bin_end": 52.729459082999995,
            "count": 0
           },
           {
            "bin_start": 52.729459082999995,
            "bin_end": 57.229667432,
            "count": 0
           },
           {
            "bin_start": 57.229667432,
            "bin_end": 61.72987578099999,
            "count": 0
           },
           {
            "bin_start": 61.72987578099999,
            "bin_end": 66.23008413,
            "count": 1
           }
          ]
         }
        },
        {
         "name": "2019",
         "dtype": "float64",
         "stats": {
          "unique_count": 2,
          "nan_count": 0,
          "min": "21.56599998",
          "max": "66.36214217",
          "histogram": [
           {
            "bin_start": 21.56599998,
            "bin_end": 26.045614199,
            "count": 1
           },
           {
            "bin_start": 26.045614199,
            "bin_end": 30.525228418,
            "count": 0
           },
           {
            "bin_start": 30.525228418,
            "bin_end": 35.004842637,
            "count": 0
           },
           {
            "bin_start": 35.004842637,
            "bin_end": 39.484456856,
            "count": 0
           },
           {
            "bin_start": 39.484456856,
            "bin_end": 43.964071075,
            "count": 0
           },
           {
            "bin_start": 43.964071075,
            "bin_end": 48.443685294000005,
            "count": 0
           },
           {
            "bin_start": 48.443685294000005,
            "bin_end": 52.923299513,
            "count": 0
           },
           {
            "bin_start": 52.923299513,
            "bin_end": 57.402913732,
            "count": 0
           },
           {
            "bin_start": 57.402913732,
            "bin_end": 61.882527951,
            "count": 0
           },
           {
            "bin_start": 61.882527951,
            "bin_end": 66.36214217,
            "count": 1
           }
          ]
         }
        },
        {
         "name": "2020",
         "dtype": "float64",
         "stats": {
          "unique_count": 2,
          "nan_count": 0,
          "min": "16.18899918",
          "max": "64.11189079",
          "histogram": [
           {
            "bin_start": 16.18899918,
            "bin_end": 20.981288341000003,
            "count": 1
           },
           {
            "bin_start": 20.981288341000003,
            "bin_end": 25.773577502000002,
            "count": 0
           },
           {
            "bin_start": 25.773577502000002,
            "bin_end": 30.565866663,
            "count": 0
           },
           {
            "bin_start": 30.565866663,
            "bin_end": 35.35815582400001,
            "count": 0
           },
           {
            "bin_start": 35.35815582400001,
            "bin_end": 40.15044498500001,
            "count": 0
           },
           {
            "bin_start": 40.15044498500001,
            "bin_end": 44.94273414600001,
            "count": 0
           },
           {
            "bin_start": 44.94273414600001,
            "bin_end": 49.735023307000006,
            "count": 0
           },
           {
            "bin_start": 49.735023307000006,
            "bin_end": 54.527312468000005,
            "count": 0
           },
           {
            "bin_start": 54.527312468000005,
            "bin_end": 59.319601629000005,
            "count": 0
           },
           {
            "bin_start": 59.319601629000005,
            "bin_end": 64.11189079,
            "count": 1
           }
          ]
         }
        },
        {
         "name": "2021",
         "dtype": "float64",
         "stats": {
          "unique_count": 2,
          "nan_count": 0,
          "min": "14.84799957",
          "max": "64.87819806",
          "histogram": [
           {
            "bin_start": 14.84799957,
            "bin_end": 19.851019419,
            "count": 1
           },
           {
            "bin_start": 19.851019419,
            "bin_end": 24.854039268,
            "count": 0
           },
           {
            "bin_start": 24.854039268,
            "bin_end": 29.857059117,
            "count": 0
           },
           {
            "bin_start": 29.857059117,
            "bin_end": 34.860078966,
            "count": 0
           },
           {
            "bin_start": 34.860078966,
            "bin_end": 39.863098815,
            "count": 0
           },
           {
            "bin_start": 39.863098815,
            "bin_end": 44.866118664,
            "count": 0
           },
           {
            "bin_start": 44.866118664,
            "bin_end": 49.869138513,
            "count": 0
           },
           {
            "bin_start": 49.869138513,
            "bin_end": 54.872158362,
            "count": 0
           },
           {
            "bin_start": 54.872158362,
            "bin_end": 59.875178211,
            "count": 0
           },
           {
            "bin_start": 59.875178211,
            "bin_end": 64.87819806,
            "count": 1
           }
          ]
         }
        },
        {
         "name": "Total Change",
         "dtype": "float64",
         "stats": {
          "unique_count": 2,
          "nan_count": 0,
          "min": "-0.3320007399999998",
          "max": "-0.010077870000003486",
          "histogram": [
           {
            "bin_start": -0.3320007399999998,
            "bin_end": -0.29980845300000014,
            "count": 1
           },
           {
            "bin_start": -0.29980845300000014,
            "bin_end": -0.26761616600000054,
            "count": 0
           },
           {
            "bin_start": -0.26761616600000054,
            "bin_end": -0.2354238790000009,
            "count": 0
           },
           {
            "bin_start": -0.2354238790000009,
            "bin_end": -0.20323159200000127,
            "count": 0
           },
           {
            "bin_start": -0.20323159200000127,
            "bin_end": -0.17103930500000164,
            "count": 0
           },
           {
            "bin_start": -0.17103930500000164,
            "bin_end": -0.138847018000002,
            "count": 0
           },
           {
            "bin_start": -0.138847018000002,
            "bin_end": -0.10665473100000236,
            "count": 0
           },
           {
            "bin_start": -0.10665473100000236,
            "bin_end": -0.07446244400000274,
            "count": 0
           },
           {
            "bin_start": -0.07446244400000274,
            "bin_end": -0.042270157000003084,
            "count": 0
           },
           {
            "bin_start": -0.042270157000003084,
            "bin_end": -0.010077870000003486,
            "count": 1
           }
          ]
         }
        },
        {
         "name": "% Change",
         "dtype": "float64",
         "stats": {
          "unique_count": 2,
          "nan_count": 0,
          "min": "-2.19",
          "max": "-0.02",
          "histogram": [
           {
            "bin_start": -2.19,
            "bin_end": -1.9729999999999999,
            "count": 1
           },
           {
            "bin_start": -1.9729999999999999,
            "bin_end": -1.756,
            "count": 0
           },
           {
            "bin_start": -1.756,
            "bin_end": -1.539,
            "count": 0
           },
           {
            "bin_start": -1.539,
            "bin_end": -1.322,
            "count": 0
           },
           {
            "bin_start": -1.322,
            "bin_end": -1.105,
            "count": 0
           },
           {
            "bin_start": -1.105,
            "bin_end": -0.8879999999999999,
            "count": 0
           },
           {
            "bin_start": -0.8879999999999999,
            "bin_end": -0.671,
            "count": 0
           },
           {
            "bin_start": -0.671,
            "bin_end": -0.45399999999999996,
            "count": 0
           },
           {
            "bin_start": -0.45399999999999996,
            "bin_end": -0.23699999999999988,
            "count": 0
           },
           {
            "bin_start": -0.23699999999999988,
            "bin_end": -0.02,
            "count": 1
           }
          ]
         }
        },
        {
         "name": "_deepnote_index_column",
         "dtype": "int64"
        }
       ],
       "rows": [
        {
         "1990": 64.88827593,
         "1991": 64.92201168,
         "1992": 64.98810382,
         "1993": 65.07132142,
         "1994": 65.17073501,
         "1995": 65.40594663,
         "1996": 65.61059255,
         "1997": 65.76686705,
         "1998": 65.94416744,
         "1999": 66.13260636,
         "2000": 66.31903452,
         "2001": 66.4895699,
         "2002": 66.71305451,
         "2003": 66.94403594,
         "2004": 67.13786342,
         "2005": 67.32986891,
         "2006": 67.24176213,
         "2007": 67.04374405,
         "2008": 66.84472953,
         "2009": 66.42022111,
         "2010": 65.9846424,
         "2011": 65.76293085,
         "2012": 65.57092201,
         "2013": 65.65449551,
         "2014": 65.64386497,
         "2015": 65.83116857,
         "2016": 65.91704578,
         "2017": 66.1259219,
         "2018": 66.23008413,
         "2019": 66.36214217,
         "2020": 64.11189079,
         "2021": 64.87819806,
         "Country Name": "Africa Eastern and Southern",
         "Country Code": "AFE",
         "Total Change": -0.010077870000003486,
         "% Change": -0.02,
         "_deepnote_index_column": 1
        },
        {
         "1990": 15.18000031,
         "1991": 15.21399975,
         "1992": 15.22299957,
         "1993": 15.19699955,
         "1994": 15.17800045,
         "1995": 15.22099972,
         "1996": 15.07800007,
         "1997": 14.95400047,
         "1998": 14.87300014,
         "1999": 14.82699966,
         "2000": 14.79500008,
         "2001": 14.93599987,
         "2002": 15.11299992,
         "2003": 15.29800034,
         "2004": 15.47500038,
         "2005": 15.64400005,
         "2006": 15.45499992,
         "2007": 15.27499962,
         "2008": 15.13700008,
         "2009": 15.07600021,
         "2010": 15.11100006,
         "2011": 15.45400047,
         "2012": 15.87899971,
         "2013": 16.79400063,
         "2014": 17.74900055,
         "2015": 18.74600029,
         "2016": 19.79800034,
         "2017": 20.88699913,
         "2018": 21.22800064,
         "2019": 21.56599998,
         "2020": 16.18899918,
         "2021": 14.84799957,
         "Country Name": "Afghanistan",
         "Country Code": "AFG",
         "Total Change": -0.3320007399999998,
         "% Change": -2.19,
         "_deepnote_index_column": 2
        }
       ]
      },
      "text/plain": "                  Country Name Country Code       1990       1991       1992  \\\n1  Africa Eastern and Southern          AFE  64.888276  64.922012  64.988104   \n2                  Afghanistan          AFG  15.180000  15.214000  15.223000   \n\n        1993       1994       1995       1996       1997  ...       2014  \\\n1  65.071321  65.170735  65.405947  65.610593  65.766867  ...  65.643865   \n2  15.197000  15.178000  15.221000  15.078000  14.954000  ...  17.749001   \n\n        2015       2016       2017       2018       2019       2020  \\\n1  65.831169  65.917046  66.125922  66.230084  66.362142  64.111891   \n2  18.746000  19.798000  20.886999  21.228001  21.566000  16.188999   \n\n        2021  Total Change  % Change  \n1  64.878198     -0.010078     -0.02  \n2  14.848000     -0.332001     -2.19  \n\n[2 rows x 36 columns]",
      "text/html": "<div>\n<style scoped>\n    .dataframe tbody tr th:only-of-type {\n        vertical-align: middle;\n    }\n\n    .dataframe tbody tr th {\n        vertical-align: top;\n    }\n\n    .dataframe thead th {\n        text-align: right;\n    }\n</style>\n<table border=\"1\" class=\"dataframe\">\n  <thead>\n    <tr style=\"text-align: right;\">\n      <th></th>\n      <th>Country Name</th>\n      <th>Country Code</th>\n      <th>1990</th>\n      <th>1991</th>\n      <th>1992</th>\n      <th>1993</th>\n      <th>1994</th>\n      <th>1995</th>\n      <th>1996</th>\n      <th>1997</th>\n      <th>...</th>\n      <th>2014</th>\n      <th>2015</th>\n      <th>2016</th>\n      <th>2017</th>\n      <th>2018</th>\n      <th>2019</th>\n      <th>2020</th>\n      <th>2021</th>\n      <th>Total Change</th>\n      <th>% Change</th>\n    </tr>\n  </thead>\n  <tbody>\n    <tr>\n      <th>1</th>\n      <td>Africa Eastern and Southern</td>\n      <td>AFE</td>\n      <td>64.888276</td>\n      <td>64.922012</td>\n      <td>64.988104</td>\n      <td>65.071321</td>\n      <td>65.170735</td>\n      <td>65.405947</td>\n      <td>65.610593</td>\n      <td>65.766867</td>\n      <td>...</td>\n      <td>65.643865</td>\n      <td>65.831169</td>\n      <td>65.917046</td>\n      <td>66.125922</td>\n      <td>66.230084</td>\n      <td>66.362142</td>\n      <td>64.111891</td>\n      <td>64.878198</td>\n      <td>-0.010078</td>\n      <td>-0.02</td>\n    </tr>\n    <tr>\n      <th>2</th>\n      <td>Afghanistan</td>\n      <td>AFG</td>\n      <td>15.180000</td>\n      <td>15.214000</td>\n      <td>15.223000</td>\n      <td>15.197000</td>\n      <td>15.178000</td>\n      <td>15.221000</td>\n      <td>15.078000</td>\n      <td>14.954000</td>\n      <td>...</td>\n      <td>17.749001</td>\n      <td>18.746000</td>\n      <td>19.798000</td>\n      <td>20.886999</td>\n      <td>21.228001</td>\n      <td>21.566000</td>\n      <td>16.188999</td>\n      <td>14.848000</td>\n      <td>-0.332001</td>\n      <td>-2.19</td>\n    </tr>\n  </tbody>\n</table>\n<p>2 rows × 36 columns</p>\n</div>"
     },
     "metadata": {}
    }
   ]
  },
  {
   "cell_type": "code",
   "metadata": {
    "cell_id": "00017-ff6acc98-445c-45a3-9311-d4970766ff73",
    "deepnote_to_be_reexecuted": false,
    "source_hash": "dc69c9e2",
    "execution_start": 1658344242039,
    "execution_millis": 151,
    "deepnote_cell_type": "code",
    "deepnote_cell_height": 708
   },
   "source": "# the top 5% quantile of our sample \n\nmax_val = fe_df['% Change'].quantile(.95)\n\nmax_q = fe_df[fe_df['% Change'] > max_val]\n\nmax_q",
   "execution_count": null,
   "outputs": [
    {
     "output_type": "execute_result",
     "execution_count": 9,
     "data": {
      "application/vnd.deepnote.dataframe.v3+json": {
       "column_count": 36,
       "row_count": 12,
       "columns": [
        {
         "name": "Country Name",
         "dtype": "object",
         "stats": {
          "unique_count": 12,
          "nan_count": 0,
          "categories": [
           {
            "name": "United Arab Emirates",
            "count": 1
           },
           {
            "name": "Belize",
            "count": 1
           },
           {
            "name": "10 others",
            "count": 10
           }
          ]
         }
        },
        {
         "name": "Country Code",
         "dtype": "object",
         "stats": {
          "unique_count": 12,
          "nan_count": 0,
          "categories": [
           {
            "name": "ARE",
            "count": 1
           },
           {
            "name": "BLZ",
            "count": 1
           },
           {
            "name": "10 others",
            "count": 10
           }
          ]
         }
        },
        {
         "name": "1990",
         "dtype": "float64",
         "stats": {
          "unique_count": 12,
          "nan_count": 0,
          "min": "11.22599983",
          "max": "45.51900101",
          "histogram": [
           {
            "bin_start": 11.22599983,
            "bin_end": 14.655299948,
            "count": 1
           },
           {
            "bin_start": 14.655299948,
            "bin_end": 18.084600066,
            "count": 1
           },
           {
            "bin_start": 18.084600066,
            "bin_end": 21.513900183999997,
            "count": 1
           },
           {
            "bin_start": 21.513900183999997,
            "bin_end": 24.943200301999997,
            "count": 0
           },
           {
            "bin_start": 24.943200301999997,
            "bin_end": 28.372500419999998,
            "count": 1
           },
           {
            "bin_start": 28.372500419999998,
            "bin_end": 31.801800537999995,
            "count": 1
           },
           {
            "bin_start": 31.801800537999995,
            "bin_end": 35.231100655999995,
            "count": 4
           },
           {
            "bin_start": 35.231100655999995,
            "bin_end": 38.660400773999996,
            "count": 1
           },
           {
            "bin_start": 38.660400773999996,
            "bin_end": 42.089700891999996,
            "count": 0
           },
           {
            "bin_start": 42.089700891999996,
            "bin_end": 45.51900101,
            "count": 2
           }
          ]
         }
        },
        {
         "name": "1991",
         "dtype": "float64",
         "stats": {
          "unique_count": 12,
          "nan_count": 0,
          "min": "13.80599976",
          "max": "46.00899887",
          "histogram": [
           {
            "bin_start": 13.80599976,
            "bin_end": 17.026299671,
            "count": 2
           },
           {
            "bin_start": 17.026299671,
            "bin_end": 20.246599582,
            "count": 0
           },
           {
            "bin_start": 20.246599582,
            "bin_end": 23.466899493,
            "count": 1
           },
           {
            "bin_start": 23.466899493,
            "bin_end": 26.687199404,
            "count": 1
           },
           {
            "bin_start": 26.687199404,
            "bin_end": 29.907499315000003,
            "count": 1
           },
           {
            "bin_start": 29.907499315000003,
            "bin_end": 33.127799226,
            "count": 1
           },
           {
            "bin_start": 33.127799226,
            "bin_end": 36.348099137,
            "count": 3
           },
           {
            "bin_start": 36.348099137,
            "bin_end": 39.568399048,
            "count": 1
           },
           {
            "bin_start": 39.568399048,
            "bin_end": 42.788698959,
            "count": 0
           },
           {
            "bin_start": 42.788698959,
            "bin_end": 46.00899887,
            "count": 2
           }
          ]
         }
        },
        {
         "name": "1992",
         "dtype": "float64",
         "stats": {
          "unique_count": 12,
          "nan_count": 0,
          "min": "13.81700039",
          "max": "46.79299927",
          "histogram": [
           {
            "bin_start": 13.81700039,
            "bin_end": 17.114600278,
            "count": 2
           },
           {
            "bin_start": 17.114600278,
            "bin_end": 20.412200166,
            "count": 0
           },
           {
            "bin_start": 20.412200166,
            "bin_end": 23.709800054000002,
            "count": 1
           },
           {
            "bin_start": 23.709800054000002,
            "bin_end": 27.007399942000003,
            "count": 1
           },
           {
            "bin_start": 27.007399942000003,
            "bin_end": 30.304999830000003,
            "count": 1
           },
           {
            "bin_start": 30.304999830000003,
            "bin_end": 33.60259971800001,
            "count": 1
           },
           {
            "bin_start": 33.60259971800001,
            "bin_end": 36.900199606,
            "count": 2
           },
           {
            "bin_start": 36.900199606,
            "bin_end": 40.19779949400001,
            "count": 2
           },
           {
            "bin_start": 40.19779949400001,
            "bin_end": 43.495399382,
            "count": 0
           },
           {
            "bin_start": 43.495399382,
            "bin_end": 46.79299927,
            "count": 2
           }
          ]
         }
        },
        {
         "name": "1993",
         "dtype": "float64",
         "stats": {
          "unique_count": 12,
          "nan_count": 0,
          "min": "14.18400002",
          "max": "48.37099838",
          "histogram": [
           {
            "bin_start": 14.18400002,
            "bin_end": 17.602699856,
            "count": 2
           },
           {
            "bin_start": 17.602699856,
            "bin_end": 21.021399692,
            "count": 0
           },
           {
            "bin_start": 21.021399692,
            "bin_end": 24.440099528,
            "count": 0
           },
           {
            "bin_start": 24.440099528,
            "bin_end": 27.858799364,
            "count": 2
           },
           {
            "bin_start": 27.858799364,
            "bin_end": 31.2774992,
            "count": 1
           },
           {
            "bin_start": 31.2774992,
            "bin_end": 34.696199036,
            "count": 2
           },
           {
            "bin_start": 34.696199036,
            "bin_end": 38.114898872,
            "count": 2
           },
           {
            "bin_start": 38.114898872,
            "bin_end": 41.533598708,
            "count": 1
           },
           {
            "bin_start": 41.533598708,
            "bin_end": 44.952298544,
            "count": 1
           },
           {
            "bin_start": 44.952298544,
            "bin_end": 48.37099838,
            "count": 1
           }
          ]
         }
        },
        {
         "name": "1994",
         "dtype": "float64",
         "stats": {
          "unique_count": 12,
          "nan_count": 0,
          "min": "14.47999954",
          "max": "49.95399857",
          "histogram": [
           {
            "bin_start": 14.47999954,
            "bin_end": 18.027399443,
            "count": 2
           },
           {
            "bin_start": 18.027399443,
            "bin_end": 21.574799346,
            "count": 0
           },
           {
            "bin_start": 21.574799346,
            "bin_end": 25.122199248999998,
            "count": 0
           },
           {
            "bin_start": 25.122199248999998,
            "bin_end": 28.669599152,
            "count": 2
           },
           {
            "bin_start": 28.669599152,
            "bin_end": 32.216999055,
            "count": 1
           },
           {
            "bin_start": 32.216999055,
            "bin_end": 35.764398958,
            "count": 2
           },
           {
            "bin_start": 35.764398958,
            "bin_end": 39.311798861,
            "count": 2
           },
           {
            "bin_start": 39.311798861,
            "bin_end": 42.859198764,
            "count": 1
           },
           {
            "bin_start": 42.859198764,
            "bin_end": 46.406598667,
            "count": 1
           },
           {
            "bin_start": 46.406598667,
            "bin_end": 49.95399857,
            "count": 1
           }
          ]
         }
        },
        {
         "name": "1995",
         "dtype": "float64",
         "stats": {
          "unique_count": 12,
          "nan_count": 0,
          "min": "12.55200005",
          "max": "51.53699875",
          "histogram": [
           {
            "bin_start": 12.55200005,
            "bin_end": 16.450499920000002,
            "count": 2
           },
           {
            "bin_start": 16.450499920000002,
            "bin_end": 20.34899979,
            "count": 0
           },
           {
            "bin_start": 20.34899979,
            "bin_end": 24.247499660000003,
            "count": 0
           },
           {
            "bin_start": 24.247499660000003,
            "bin_end": 28.145999530000005,
            "count": 1
           },
           {
            "bin_start": 28.145999530000005,
            "bin_end": 32.04449940000001,
            "count": 2
           },
           {
            "bin_start": 32.04449940000001,
            "bin_end": 35.94299927,
            "count": 3
           },
           {
            "bin_start": 35.94299927,
            "bin_end": 39.84149914,
            "count": 1
           },
           {
            "bin_start": 39.84149914,
            "bin_end": 43.739999010000005,
            "count": 1
           },
           {
            "bin_start": 43.739999010000005,
            "bin_end": 47.63849888,
            "count": 0
           },
           {
            "bin_start": 47.63849888,
            "bin_end": 51.53699875,
            "count": 2
           }
          ]
         }
        },
        {
         "name": "1996",
         "dtype": "float64",
         "stats": {
          "unique_count": 12,
          "nan_count": 0,
          "min": "13.70199966",
          "max": "53.10800171",
          "histogram": [
           {
            "bin_start": 13.70199966,
            "bin_end": 17.642599865,
            "count": 2
           },
           {
            "bin_start": 17.642599865,
            "bin_end": 21.58320007,
            "count": 0
           },
           {
            "bin_start": 21.58320007,
            "bin_end": 25.523800275,
            "count": 0
           },
           {
            "bin_start": 25.523800275,
            "bin_end": 29.464400480000002,
            "count": 1
           },
           {
            "bin_start": 29.464400480000002,
            "bin_end": 33.405000685000005,
            "count": 2
           },
           {
            "bin_start": 33.405000685000005,
            "bin_end": 37.34560089,
            "count": 4
           },
           {
            "bin_start": 37.34560089,
            "bin_end": 41.286201095,
            "count": 0
           },
           {
            "bin_start": 41.286201095,
            "bin_end": 45.226801300000005,
            "count": 1
           },
           {
            "bin_start": 45.226801300000005,
            "bin_end": 49.167401505,
            "count": 0
           },
           {
            "bin_start": 49.167401505,
            "bin_end": 53.10800171,
            "count": 2
           }
          ]
         }
        },
        {
         "name": "1997",
         "dtype": "float64",
         "stats": {
          "unique_count": 12,
          "nan_count": 0,
          "min": "14.9289999",
          "max": "54.67100143",
          "histogram": [
           {
            "bin_start": 14.9289999,
            "bin_end": 18.903200053,
            "count": 2
           },
           {
            "bin_start": 18.903200053,
            "bin_end": 22.877400206,
            "count": 0
           },
           {
            "bin_start": 22.877400206,
            "bin_end": 26.851600359,
            "count": 0
           },
           {
            "bin_start": 26.851600359,
            "bin_end": 30.825800512,
            "count": 1
           },
           {
            "bin_start": 30.825800512,
            "bin_end": 34.800000665,
            "count": 2
           },
           {
            "bin_start": 34.800000665,
            "bin_end": 38.774200818,
            "count": 4
           },
           {
            "bin_start": 38.774200818,
            "bin_end": 42.748400970999995,
            "count": 0
           },
           {
            "bin_start": 42.748400970999995,
            "bin_end": 46.72260112399999,
            "count": 1
           },
           {
            "bin_start": 46.72260112399999,
            "bin_end": 50.696801277,
            "count": 0
           },
           {
            "bin_start": 50.696801277,
            "bin_end": 54.67100143,
            "count": 2
           }
          ]
         }
        },
        {
         "name": "1998",
         "dtype": "float64",
         "stats": {
          "unique_count": 12,
          "nan_count": 0,
          "min": "15.23600006",
          "max": "55.07300186",
          "histogram": [
           {
            "bin_start": 15.23600006,
            "bin_end": 19.21970024,
            "count": 2
           },
           {
            "bin_start": 19.21970024,
            "bin_end": 23.20340042,
            "count": 0
           },
           {
            "bin_start": 23.20340042,
            "bin_end": 27.1871006,
            "count": 0
           },
           {
            "bin_start": 27.1871006,
            "bin_end": 31.17080078,
            "count": 1
           },
           {
            "bin_start": 31.17080078,
            "bin_end": 35.15450096,
            "count": 2
           },
           {
            "bin_start": 35.15450096,
            "bin_end": 39.13820114,
            "count": 2
           },
           {
            "bin_start": 39.13820114,
            "bin_end": 43.12190132,
            "count": 2
           },
           {
            "bin_start": 43.12190132,
            "bin_end": 47.1056015,
            "count": 1
           },
           {
            "bin_start": 47.1056015,
            "bin_end": 51.08930168,
            "count": 0
           },
           {
            "bin_start": 51.08930168,
            "bin_end": 55.07300186,
            "count": 2
           }
          ]
         }
        },
        {
         "name": "1999",
         "dtype": "float64",
         "stats": {
          "unique_count": 12,
          "nan_count": 0,
          "min": "15.67500019",
          "max": "57.72900009",
          "histogram": [
           {
            "bin_start": 15.67500019,
            "bin_end": 19.880400180000002,
            "count": 2
           },
           {
            "bin_start": 19.880400180000002,
            "bin_end": 24.08580017,
            "count": 0
           },
           {
            "bin_start": 24.08580017,
            "bin_end": 28.291200160000002,
            "count": 0
           },
           {
            "bin_start": 28.291200160000002,
            "bin_end": 32.49660015,
            "count": 1
           },
           {
            "bin_start": 32.49660015,
            "bin_end": 36.70200014,
            "count": 2
           },
           {
            "bin_start": 36.70200014,
            "bin_end": 40.90740013,
            "count": 4
           },
           {
            "bin_start": 40.90740013,
            "bin_end": 45.11280012,
            "count": 0
           },
           {
            "bin_start": 45.11280012,
            "bin_end": 49.31820011,
            "count": 1
           },
           {
            "bin_start": 49.31820011,
            "bin_end": 53.5236001,
            "count": 0
           },
           {
            "bin_start": 53.5236001,
            "bin_end": 57.72900009,
            "count": 2
           }
          ]
         }
        },
        {
         "name": "2000",
         "dtype": "float64",
         "stats": {
          "unique_count": 12,
          "nan_count": 0,
          "min": "15.78999996",
          "max": "56.70600128",
          "histogram": [
           {
            "bin_start": 15.78999996,
            "bin_end": 19.881600092,
            "count": 2
           },
           {
            "bin_start": 19.881600092,
            "bin_end": 23.973200224000003,
            "count": 0
           },
           {
            "bin_start": 23.973200224000003,
            "bin_end": 28.064800356000003,
            "count": 0
           },
           {
            "bin_start": 28.064800356000003,
            "bin_end": 32.156400488,
            "count": 1
           },
           {
            "bin_start": 32.156400488,
            "bin_end": 36.24800062,
            "count": 1
           },
           {
            "bin_start": 36.24800062,
            "bin_end": 40.33960075200001,
            "count": 3
           },
           {
            "bin_start": 40.33960075200001,
            "bin_end": 44.431200884000006,
            "count": 2
           },
           {
            "bin_start": 44.431200884000006,
            "bin_end": 48.522801016,
            "count": 0
           },
           {
            "bin_start": 48.522801016,
            "bin_end": 52.61440114800001,
            "count": 1
           },
           {
            "bin_start": 52.61440114800001,
            "bin_end": 56.70600128,
            "count": 2
           }
          ]
         }
        },
        {
         "name": "2001",
         "dtype": "float64",
         "stats": {
          "unique_count": 12,
          "nan_count": 0,
          "min": "15.35000038",
          "max": "58.6590004",
          "histogram": [
           {
            "bin_start": 15.35000038,
            "bin_end": 19.680900382,
            "count": 2
           },
           {
            "bin_start": 19.680900382,
            "bin_end": 24.011800384,
            "count": 0
           },
           {
            "bin_start": 24.011800384,
            "bin_end": 28.342700386,
            "count": 0
           },
           {
            "bin_start": 28.342700386,
            "bin_end": 32.673600388,
            "count": 1
           },
           {
            "bin_start": 32.673600388,
            "bin_end": 37.004500390000004,
            "count": 1
           },
           {
            "bin_start": 37.004500390000004,
            "bin_end": 41.335400392,
            "count": 3
           },
           {
            "bin_start": 41.335400392,
            "bin_end": 45.666300394000004,
            "count": 2
           },
           {
            "bin_start": 45.666300394000004,
            "bin_end": 49.997200396,
            "count": 0
           },
           {
            "bin_start": 49.997200396,
            "bin_end": 54.328100398000004,
            "count": 1
           },
           {
            "bin_start": 54.328100398000004,
            "bin_end": 58.6590004,
            "count": 2
           }
          ]
         }
        },
        {
         "name": "2002",
         "dtype": "float64",
         "stats": {
          "unique_count": 12,
          "nan_count": 0,
          "min": "15.18400002",
          "max": "60.69200134",
          "histogram": [
           {
            "bin_start": 15.18400002,
            "bin_end": 19.734800152,
            "count": 2
           },
           {
            "bin_start": 19.734800152,
            "bin_end": 24.285600283999997,
            "count": 0
           },
           {
            "bin_start": 24.285600283999997,
            "bin_end": 28.836400416,
            "count": 0
           },
           {
            "bin_start": 28.836400416,
            "bin_end": 33.387200547999996,
            "count": 1
           },
           {
            "bin_start": 33.387200547999996,
            "bin_end": 37.93800068,
            "count": 2
           },
           {
            "bin_start": 37.93800068,
            "bin_end": 42.488800812,
            "count": 3
           },
           {
            "bin_start": 42.488800812,
            "bin_end": 47.039600944,
            "count": 1
           },
           {
            "bin_start": 47.039600944,
            "bin_end": 51.590401076,
            "count": 1
           },
           {
            "bin_start": 51.590401076,
            "bin_end": 56.141201208,
            "count": 0
           },
           {
            "bin_start": 56.141201208,
            "bin_end": 60.69200134,
            "count": 2
           }
          ]
         }
        },
        {
         "name": "2003",
         "dtype": "float64",
         "stats": {
          "unique_count": 12,
          "nan_count": 0,
          "min": "15.93299961",
          "max": "62.68700027",
          "histogram": [
           {
            "bin_start": 15.93299961,
            "bin_end": 20.608399675999998,
            "count": 2
           },
           {
            "bin_start": 20.608399675999998,
            "bin_end": 25.283799742,
            "count": 0
           },
           {
            "bin_start": 25.283799742,
            "bin_end": 29.959199808,
            "count": 0
           },
           {
            "bin_start": 29.959199808,
            "bin_end": 34.634599874,
            "count": 1
           },
           {
            "bin_start": 34.634599874,
            "bin_end": 39.30999994,
            "count": 2
           },
           {
            "bin_start": 39.30999994,
            "bin_end": 43.985400006,
            "count": 4
           },
           {
            "bin_start": 43.985400006,
            "bin_end": 48.660800072,
            "count": 0
           },
           {
            "bin_start": 48.660800072,
            "bin_end": 53.336200137999995,
            "count": 2
           },
           {
            "bin_start": 53.336200137999995,
            "bin_end": 58.011600204000004,
            "count": 0
           },
           {
            "bin_start": 58.011600204000004,
            "bin_end": 62.68700027,
            "count": 1
           }
          ]
         }
        },
        {
         "name": "2004",
         "dtype": "float64",
         "stats": {
          "unique_count": 12,
          "nan_count": 0,
          "min": "16.7159996",
          "max": "64.63600159",
          "histogram": [
           {
            "bin_start": 16.7159996,
            "bin_end": 21.507999799,
            "count": 2
           },
           {
            "bin_start": 21.507999799,
            "bin_end": 26.299999998,
            "count": 0
           },
           {
            "bin_start": 26.299999998,
            "bin_end": 31.092000197,
            "count": 1
           },
           {
            "bin_start": 31.092000197,
            "bin_end": 35.884000396000005,
            "count": 0
           },
           {
            "bin_start": 35.884000396000005,
            "bin_end": 40.676000595000005,
            "count": 2
           },
           {
            "bin_start": 40.676000595000005,
            "bin_end": 45.468000794000005,
            "count": 4
           },
           {
            "bin_start": 45.468000794000005,
            "bin_end": 50.260000993000006,
            "count": 0
           },
           {
            "bin_start": 50.260000993000006,
            "bin_end": 55.052001192000006,
            "count": 2
           },
           {
            "bin_start": 55.052001192000006,
            "bin_end": 59.844001391000006,
            "count": 0
           },
           {
            "bin_start": 59.844001391000006,
            "bin_end": 64.63600159,
            "count": 1
           }
          ]
         }
        },
        {
         "name": "2005",
         "dtype": "float64",
         "stats": {
          "unique_count": 12,
          "nan_count": 0,
          "min": "17.54199982",
          "max": "66.53500366",
          "histogram": [
           {
            "bin_start": 17.54199982,
            "bin_end": 22.441300204,
            "count": 2
           },
           {
            "bin_start": 22.441300204,
            "bin_end": 27.340600588,
            "count": 0
           },
           {
            "bin_start": 27.340600588,
            "bin_end": 32.239900972,
            "count": 1
           },
           {
            "bin_start": 32.239900972,
            "bin_end": 37.139201356,
            "count": 1
           },
           {
            "bin_start": 37.139201356,
            "bin_end": 42.03850174,
            "count": 1
           },
           {
            "bin_start": 42.03850174,
            "bin_end": 46.937802124,
            "count": 4
           },
           {
            "bin_start": 46.937802124,
            "bin_end": 51.837102508,
            "count": 0
           },
           {
            "bin_start": 51.837102508,
            "bin_end": 56.736402892,
            "count": 1
           },
           {
            "bin_start": 56.736402892,
            "bin_end": 61.635703276,
            "count": 1
           },
           {
            "bin_start": 61.635703276,
            "bin_end": 66.53500366,
            "count": 1
           }
          ]
         }
        },
        {
         "name": "2006",
         "dtype": "float64",
         "stats": {
          "unique_count": 12,
          "nan_count": 0,
          "min": "18.42099953",
          "max": "68.27799988",
          "histogram": [
           {
            "bin_start": 18.42099953,
            "bin_end": 23.406699564999997,
            "count": 2
           },
           {
            "bin_start": 23.406699564999997,
            "bin_end": 28.392399599999997,
            "count": 0
           },
           {
            "bin_start": 28.392399599999997,
            "bin_end": 33.378099635,
            "count": 1
           },
           {
            "bin_start": 33.378099635,
            "bin_end": 38.36379966999999,
            "count": 2
           },
           {
            "bin_start": 38.36379966999999,
            "bin_end": 43.349499705,
            "count": 1
           },
           {
            "bin_start": 43.349499705,
            "bin_end": 48.33519973999999,
            "count": 3
           },
           {
            "bin_start": 48.33519973999999,
            "bin_end": 53.32089977499999,
            "count": 0
           },
           {
            "bin_start": 53.32089977499999,
            "bin_end": 58.306599809999994,
            "count": 1
           },
           {
            "bin_start": 58.306599809999994,
            "bin_end": 63.29229984499999,
            "count": 1
           },
           {
            "bin_start": 63.29229984499999,
            "bin_end": 68.27799988,
            "count": 1
           }
          ]
         }
        },
        {
         "name": "2007",
         "dtype": "float64",
         "stats": {
          "unique_count": 12,
          "nan_count": 0,
          "min": "17.95199966",
          "max": "70.54299927",
          "histogram": [
           {
            "bin_start": 17.95199966,
            "bin_end": 23.211099621,
            "count": 2
           },
           {
            "bin_start": 23.211099621,
            "bin_end": 28.470199582,
            "count": 0
           },
           {
            "bin_start": 28.470199582,
            "bin_end": 33.729299542999996,
            "count": 1
           },
           {
            "bin_start": 33.729299542999996,
            "bin_end": 38.988399504,
            "count": 2
           },
           {
            "bin_start": 38.988399504,
            "bin_end": 44.247499465,
            "count": 1
           },
           {
            "bin_start": 44.247499465,
            "bin_end": 49.506599425999994,
            "count": 3
           },
           {
            "bin_start": 49.506599425999994,
            "bin_end": 54.765699387,
            "count": 0
           },
           {
            "bin_start": 54.765699387,
            "bin_end": 60.024799347999995,
            "count": 1
           },
           {
            "bin_start": 60.024799347999995,
            "bin_end": 65.28389930899999,
            "count": 1
           },
           {
            "bin_start": 65.28389930899999,
            "bin_end": 70.54299927,
            "count": 1
           }
          ]
         }
        },
        {
         "name": "2008",
         "dtype": "float64",
         "stats": {
          "unique_count": 12,
          "nan_count": 0,
          "min": "17.57900047",
          "max": "70.73699951",
          "histogram": [
           {
            "bin_start": 17.57900047,
            "bin_end": 22.894800374,
            "count": 2
           },
           {
            "bin_start": 22.894800374,
            "bin_end": 28.210600278,
            "count": 0
           },
           {
            "bin_start": 28.210600278,
            "bin_end": 33.526400182,
            "count": 0
           },
           {
            "bin_start": 33.526400182,
            "bin_end": 38.842200086000005,
            "count": 2
           },
           {
            "bin_start": 38.842200086000005,
            "bin_end": 44.15799999000001,
            "count": 2
           },
           {
            "bin_start": 44.15799999000001,
            "bin_end": 49.473799894,
            "count": 2
           },
           {
            "bin_start": 49.473799894,
            "bin_end": 54.789599798,
            "count": 1
           },
           {
            "bin_start": 54.789599798,
            "bin_end": 60.105399702,
            "count": 1
           },
           {
            "bin_start": 60.105399702,
            "bin_end": 65.421199606,
            "count": 1
           },
           {
            "bin_start": 65.421199606,
            "bin_end": 70.73699951,
            "count": 1
           }
          ]
         }
        },
        {
         "name": "2009",
         "dtype": "float64",
         "stats": {
          "unique_count": 12,
          "nan_count": 0,
          "min": "17.13500023",
          "max": "71.04000092",
          "histogram": [
           {
            "bin_start": 17.13500023,
            "bin_end": 22.525500299,
            "count": 2
           },
           {
            "bin_start": 22.525500299,
            "bin_end": 27.916000368,
            "count": 0
           },
           {
            "bin_start": 27.916000368,
            "bin_end": 33.306500437,
            "count": 0
           },
           {
            "bin_start": 33.306500437,
            "bin_end": 38.697000505999995,
            "count": 2
           },
           {
            "bin_start": 38.697000505999995,
            "bin_end": 44.08750057499999,
            "count": 1
           },
           {
            "bin_start": 44.08750057499999,
            "bin_end": 49.478000644000005,
            "count": 2
           },
           {
            "bin_start": 49.478000644000005,
            "bin_end": 54.868500713,
            "count": 2
           },
           {
            "bin_start": 54.868500713,
            "bin_end": 60.259000782,
            "count": 1
           },
           {
            "bin_start": 60.259000782,
            "bin_end": 65.649500851,
            "count": 0
           },
           {
            "bin_start": 65.649500851,
            "bin_end": 71.04000092,
            "count": 2
           }
          ]
         }
        },
        {
         "name": "2010",
         "dtype": "float64",
         "stats": {
          "unique_count": 12,
          "nan_count": 0,
          "min": "18.43600082",
          "max": "72.5510025",
          "histogram": [
           {
            "bin_start": 18.43600082,
            "bin_end": 23.847500988,
            "count": 2
           },
           {
            "bin_start": 23.847500988,
            "bin_end": 29.259001155999997,
            "count": 0
           },
           {
            "bin_start": 29.259001155999997,
            "bin_end": 34.670501324,
            "count": 0
           },
           {
            "bin_start": 34.670501324,
            "bin_end": 40.082001491999996,
            "count": 2
           },
           {
            "bin_start": 40.082001491999996,
            "bin_end": 45.49350165999999,
            "count": 3
           },
           {
            "bin_start": 45.49350165999999,
            "bin_end": 50.905001827999996,
            "count": 1
           },
           {
            "bin_start": 50.905001827999996,
            "bin_end": 56.316501996,
            "count": 2
           },
           {
            "bin_start": 56.316501996,
            "bin_end": 61.72800216399999,
            "count": 0
           },
           {
            "bin_start": 61.72800216399999,
            "bin_end": 67.13950233199999,
            "count": 1
           },
           {
            "bin_start": 67.13950233199999,
            "bin_end": 72.5510025,
            "count": 1
           }
          ]
         }
        },
        {
         "name": "2011",
         "dtype": "float64",
         "stats": {
          "unique_count": 12,
          "nan_count": 0,
          "min": "19.81200027",
          "max": "71.85600281",
          "histogram": [
           {
            "bin_start": 19.81200027,
            "bin_end": 25.016400523999998,
            "count": 2
           },
           {
            "bin_start": 25.016400523999998,
            "bin_end": 30.220800778,
            "count": 0
           },
           {
            "bin_start": 30.220800778,
            "bin_end": 35.425201032000004,
            "count": 0
           },
           {
            "bin_start": 35.425201032000004,
            "bin_end": 40.629601286,
            "count": 2
           },
           {
            "bin_start": 40.629601286,
            "bin_end": 45.83400154,
            "count": 3
           },
           {
            "bin_start": 45.83400154,
            "bin_end": 51.03840179400001,
            "count": 1
           },
           {
            "bin_start": 51.03840179400001,
            "bin_end": 56.24280204800001,
            "count": 2
           },
           {
            "bin_start": 56.24280204800001,
            "bin_end": 61.44720230200001,
            "count": 0
           },
           {
            "bin_start": 61.44720230200001,
            "bin_end": 66.651602556,
            "count": 0
           },
           {
            "bin_start": 66.651602556,
            "bin_end": 71.85600281,
            "count": 2
           }
          ]
         }
        },
        {
         "name": "2012",
         "dtype": "float64",
         "stats": {
          "unique_count": 12,
          "nan_count": 0,
          "min": "20.36000061",
          "max": "70.96399689",
          "histogram": [
           {
            "bin_start": 20.36000061,
            "bin_end": 25.420400238,
            "count": 2
           },
           {
            "bin_start": 25.420400238,
            "bin_end": 30.480799866,
            "count": 0
           },
           {
            "bin_start": 30.480799866,
            "bin_end": 35.541199494000004,
            "count": 0
           },
           {
            "bin_start": 35.541199494000004,
            "bin_end": 40.601599122,
            "count": 2
           },
           {
            "bin_start": 40.601599122,
            "bin_end": 45.66199875,
            "count": 1
           },
           {
            "bin_start": 45.66199875,
            "bin_end": 50.72239837800001,
            "count": 2
           },
           {
            "bin_start": 50.72239837800001,
            "bin_end": 55.78279800600001,
            "count": 3
           },
           {
            "bin_start": 55.78279800600001,
            "bin_end": 60.843197634000006,
            "count": 0
           },
           {
            "bin_start": 60.843197634000006,
            "bin_end": 65.903597262,
            "count": 0
           },
           {
            "bin_start": 65.903597262,
            "bin_end": 70.96399689,
            "count": 2
           }
          ]
         }
        },
        {
         "name": "2013",
         "dtype": "float64",
         "stats": {
          "unique_count": 12,
          "nan_count": 0,
          "min": "19.96299934",
          "max": "70.25700378",
          "histogram": [
           {
            "bin_start": 19.96299934,
            "bin_end": 24.992399784,
            "count": 2
           },
           {
            "bin_start": 24.992399784,
            "bin_end": 30.021800228000004,
            "count": 0
           },
           {
            "bin_start": 30.021800228000004,
            "bin_end": 35.05120067200001,
            "count": 0
           },
           {
            "bin_start": 35.05120067200001,
            "bin_end": 40.080601116000004,
            "count": 1
           },
           {
            "bin_start": 40.080601116000004,
            "bin_end": 45.11000156,
            "count": 1
           },
           {
            "bin_start": 45.11000156,
            "bin_end": 50.139402004000004,
            "count": 3
           },
           {
            "bin_start": 50.139402004000004,
            "bin_end": 55.16880244800001,
            "count": 2
           },
           {
            "bin_start": 55.16880244800001,
            "bin_end": 60.19820289200001,
            "count": 1
           },
           {
            "bin_start": 60.19820289200001,
            "bin_end": 65.22760333600002,
            "count": 0
           },
           {
            "bin_start": 65.22760333600002,
            "bin_end": 70.25700378,
            "count": 2
           }
          ]
         }
        },
        {
         "name": "2014",
         "dtype": "float64",
         "stats": {
          "unique_count": 12,
          "nan_count": 0,
          "min": "20.26499939",
          "max": "69.36299896",
          "histogram": [
           {
            "bin_start": 20.26499939,
            "bin_end": 25.174799347,
            "count": 2
           },
           {
            "bin_start": 25.174799347,
            "bin_end": 30.084599304,
            "count": 0
           },
           {
            "bin_start": 30.084599304,
            "bin_end": 34.994399261,
            "count": 0
           },
           {
            "bin_start": 34.994399261,
            "bin_end": 39.904199218,
            "count": 1
           },
           {
            "bin_start": 39.904199218,
            "bin_end": 44.813999175,
            "count": 1
           },
           {
            "bin_start": 44.813999175,
            "bin_end": 49.723799131999996,
            "count": 3
           },
           {
            "bin_start": 49.723799131999996,
            "bin_end": 54.633599089,
            "count": 2
           },
           {
            "bin_start": 54.633599089,
            "bin_end": 59.543399046,
            "count": 1
           },
           {
            "bin_start": 59.543399046,
            "bin_end": 64.453199003,
            "count": 0
           },
           {
            "bin_start": 64.453199003,
            "bin_end": 69.36299896,
            "count": 2
           }
          ]
         }
        },
        {
         "name": "2015",
         "dtype": "float64",
         "stats": {
          "unique_count": 12,
          "nan_count": 0,
          "min": "21.17499924",
          "max": "68.23100281",
          "histogram": [
           {
            "bin_start": 21.17499924,
            "bin_end": 25.880599597,
            "count": 2
           },
           {
            "bin_start": 25.880599597,
            "bin_end": 30.586199954,
            "count": 0
           },
           {
            "bin_start": 30.586199954,
            "bin_end": 35.291800311,
            "count": 0
           },
           {
            "bin_start": 35.291800311,
            "bin_end": 39.997400668,
            "count": 1
           },
           {
            "bin_start": 39.997400668,
            "bin_end": 44.703001025000006,
            "count": 1
           },
           {
            "bin_start": 44.703001025000006,
            "bin_end": 49.408601382,
            "count": 3
           },
           {
            "bin_start": 49.408601382,
            "bin_end": 54.114201739,
            "count": 1
           },
           {
            "bin_start": 54.114201739,
            "bin_end": 58.819802096000004,
            "count": 2
           },
           {
            "bin_start": 58.819802096000004,
            "bin_end": 63.525402453000005,
            "count": 0
           },
           {
            "bin_start": 63.525402453000005,
            "bin_end": 68.23100281,
            "count": 2
           }
          ]
         }
        },
        {
         "name": "2016",
         "dtype": "float64",
         "stats": {
          "unique_count": 12,
          "nan_count": 0,
          "min": "22.02099991",
          "max": "69.06999969",
          "histogram": [
           {
            "bin_start": 22.02099991,
            "bin_end": 26.725899888,
            "count": 2
           },
           {
            "bin_start": 26.725899888,
            "bin_end": 31.430799866,
            "count": 0
           },
           {
            "bin_start": 31.430799866,
            "bin_end": 36.135699844,
            "count": 0
           },
           {
            "bin_start": 36.135699844,
            "bin_end": 40.840599822,
            "count": 1
           },
           {
            "bin_start": 40.840599822,
            "bin_end": 45.5454998,
            "count": 2
           },
           {
            "bin_start": 45.5454998,
            "bin_end": 50.250399778,
            "count": 1
           },
           {
            "bin_start": 50.250399778,
            "bin_end": 54.955299756,
            "count": 3
           },
           {
            "bin_start": 54.955299756,
            "bin_end": 59.660199734,
            "count": 1
           },
           {
            "bin_start": 59.660199734,
            "bin_end": 64.365099712,
            "count": 0
           },
           {
            "bin_start": 64.365099712,
            "bin_end": 69.06999969,
            "count": 2
           }
          ]
         }
        },
        {
         "name": "2017",
         "dtype": "float64",
         "stats": {
          "unique_count": 12,
          "nan_count": 0,
          "min": "20.13899994",
          "max": "69.42099762",
          "histogram": [
           {
            "bin_start": 20.13899994,
            "bin_end": 25.067199708,
            "count": 2
           },
           {
            "bin_start": 25.067199708,
            "bin_end": 29.995399476,
            "count": 0
           },
           {
            "bin_start": 29.995399476,
            "bin_end": 34.923599244,
            "count": 0
           },
           {
            "bin_start": 34.923599244,
            "bin_end": 39.851799012,
            "count": 1
           },
           {
            "bin_start": 39.851799012,
            "bin_end": 44.77999878,
            "count": 1
           },
           {
            "bin_start": 44.77999878,
            "bin_end": 49.708198548,
            "count": 2
           },
           {
            "bin_start": 49.708198548,
            "bin_end": 54.636398316,
            "count": 2
           },
           {
            "bin_start": 54.636398316,
            "bin_end": 59.564598084,
            "count": 2
           },
           {
            "bin_start": 59.564598084,
            "bin_end": 64.492797852,
            "count": 0
           },
           {
            "bin_start": 64.492797852,
            "bin_end": 69.42099762,
            "count": 2
           }
          ]
         }
        },
        {
         "name": "2018",
         "dtype": "float64",
         "stats": {
          "unique_count": 12,
          "nan_count": 0,
          "min": "21.50799942",
          "max": "69.86699677",
          "histogram": [
           {
            "bin_start": 21.50799942,
            "bin_end": 26.343899155000003,
            "count": 2
           },
           {
            "bin_start": 26.343899155000003,
            "bin_end": 31.17979889,
            "count": 0
           },
           {
            "bin_start": 31.17979889,
            "bin_end": 36.015698625,
            "count": 0
           },
           {
            "bin_start": 36.015698625,
            "bin_end": 40.85159836,
            "count": 1
           },
           {
            "bin_start": 40.85159836,
            "bin_end": 45.687498094999995,
            "count": 0
           },
           {
            "bin_start": 45.687498094999995,
            "bin_end": 50.52339783,
            "count": 4
           },
           {
            "bin_start": 50.52339783,
            "bin_end": 55.359297565000006,
            "count": 1
           },
           {
            "bin_start": 55.359297565000006,
            "bin_end": 60.195197300000004,
            "count": 2
           },
           {
            "bin_start": 60.195197300000004,
            "bin_end": 65.031097035,
            "count": 0
           },
           {
            "bin_start": 65.031097035,
            "bin_end": 69.86699677,
            "count": 2
           }
          ]
         }
        },
        {
         "name": "2019",
         "dtype": "float64",
         "stats": {
          "unique_count": 12,
          "nan_count": 0,
          "min": "21.41799927",
          "max": "70.04299927",
          "histogram": [
           {
            "bin_start": 21.41799927,
            "bin_end": 26.28049927,
            "count": 1
           },
           {
            "bin_start": 26.28049927,
            "bin_end": 31.142999269999997,
            "count": 1
           },
           {
            "bin_start": 31.142999269999997,
            "bin_end": 36.00549927,
            "count": 1
           },
           {
            "bin_start": 36.00549927,
            "bin_end": 40.86799927,
            "count": 0
           },
           {
            "bin_start": 40.86799927,
            "bin_end": 45.730499269999996,
            "count": 0
           },
           {
            "bin_start": 45.730499269999996,
            "bin_end": 50.59299926999999,
            "count": 3
           },
           {
            "bin_start": 50.59299926999999,
            "bin_end": 55.455499270000004,
            "count": 2
           },
           {
            "bin_start": 55.455499270000004,
            "bin_end": 60.31799927,
            "count": 2
           },
           {
            "bin_start": 60.31799927,
            "bin_end": 65.18049927,
            "count": 0
           },
           {
            "bin_start": 65.18049927,
            "bin_end": 70.04299927,
            "count": 2
           }
          ]
         }
        },
        {
         "name": "2020",
         "dtype": "float64",
         "stats": {
          "unique_count": 12,
          "nan_count": 0,
          "min": "20.60899925",
          "max": "65.83899689",
          "histogram": [
           {
            "bin_start": 20.60899925,
            "bin_end": 25.131999014,
            "count": 1
           },
           {
            "bin_start": 25.131999014,
            "bin_end": 29.654998778,
            "count": 0
           },
           {
            "bin_start": 29.654998778,
            "bin_end": 34.177998542,
            "count": 2
           },
           {
            "bin_start": 34.177998542,
            "bin_end": 38.700998306,
            "count": 0
           },
           {
            "bin_start": 38.700998306,
            "bin_end": 43.22399807000001,
            "count": 0
           },
           {
            "bin_start": 43.22399807000001,
            "bin_end": 47.746997834,
            "count": 3
           },
           {
            "bin_start": 47.746997834,
            "bin_end": 52.269997598,
            "count": 1
           },
           {
            "bin_start": 52.269997598,
            "bin_end": 56.79299736200001,
            "count": 2
           },
           {
            "bin_start": 56.79299736200001,
            "bin_end": 61.315997126,
            "count": 2
           },
           {
            "bin_start": 61.315997126,
            "bin_end": 65.83899689,
            "count": 1
           }
          ]
         }
        },
        {
         "name": "2021",
         "dtype": "float64",
         "stats": {
          "unique_count": 12,
          "nan_count": 0,
          "min": "20.72699928",
          "max": "66.06900024",
          "histogram": [
           {
            "bin_start": 20.72699928,
            "bin_end": 25.261199376,
            "count": 1
           },
           {
            "bin_start": 25.261199376,
            "bin_end": 29.795399472,
            "count": 0
           },
           {
            "bin_start": 29.795399472,
            "bin_end": 34.329599568,
            "count": 2
           },
           {
            "bin_start": 34.329599568,
            "bin_end": 38.863799664,
            "count": 0
           },
           {
            "bin_start": 38.863799664,
            "bin_end": 43.39799976,
            "count": 0
           },
           {
            "bin_start": 43.39799976,
            "bin_end": 47.932199856,
            "count": 3
           },
           {
            "bin_start": 47.932199856,
            "bin_end": 52.466399951999996,
            "count": 0
           },
           {
            "bin_start": 52.466399951999996,
            "bin_end": 57.000600047999995,
            "count": 3
           },
           {
            "bin_start": 57.000600047999995,
            "bin_end": 61.534800143999995,
            "count": 1
           },
           {
            "bin_start": 61.534800143999995,
            "bin_end": 66.06900024,
            "count": 2
           }
          ]
         }
        },
        {
         "name": "Total Change",
         "dtype": "float64",
         "stats": {
          "unique_count": 12,
          "nan_count": 0,
          "min": "9.500999450000002",
          "max": "26.77299881",
          "histogram": [
           {
            "bin_start": 9.500999450000002,
            "bin_end": 11.228199386000002,
            "count": 1
           },
           {
            "bin_start": 11.228199386000002,
            "bin_end": 12.955399322000002,
            "count": 0
           },
           {
            "bin_start": 12.955399322000002,
            "bin_end": 14.682599258000002,
            "count": 2
           },
           {
            "bin_start": 14.682599258000002,
            "bin_end": 16.409799194,
            "count": 2
           },
           {
            "bin_start": 16.409799194,
            "bin_end": 18.13699913,
            "count": 2
           },
           {
            "bin_start": 18.13699913,
            "bin_end": 19.864199066,
            "count": 0
           },
           {
            "bin_start": 19.864199066,
            "bin_end": 21.591399002000003,
            "count": 2
           },
           {
            "bin_start": 21.591399002000003,
            "bin_end": 23.318598938,
            "count": 1
           },
           {
            "bin_start": 23.318598938,
            "bin_end": 25.045798874,
            "count": 1
           },
           {
            "bin_start": 25.045798874,
            "bin_end": 26.77299881,
            "count": 1
           }
          ]
         }
        },
        {
         "name": "% Change",
         "dtype": "float64",
         "stats": {
          "unique_count": 12,
          "nan_count": 0,
          "min": "44.16",
          "max": "106.74",
          "histogram": [
           {
            "bin_start": 44.16,
            "bin_end": 50.418,
            "count": 4
           },
           {
            "bin_start": 50.418,
            "bin_end": 56.675999999999995,
            "count": 1
           },
           {
            "bin_start": 56.675999999999995,
            "bin_end": 62.934,
            "count": 2
           },
           {
            "bin_start": 62.934,
            "bin_end": 69.192,
            "count": 0
           },
           {
            "bin_start": 69.192,
            "bin_end": 75.44999999999999,
            "count": 2
           },
           {
            "bin_start": 75.44999999999999,
            "bin_end": 81.708,
            "count": 0
           },
           {
            "bin_start": 81.708,
            "bin_end": 87.966,
            "count": 1
           },
           {
            "bin_start": 87.966,
            "bin_end": 94.22399999999999,
            "count": 0
           },
           {
            "bin_start": 94.22399999999999,
            "bin_end": 100.482,
            "count": 0
           },
           {
            "bin_start": 100.482,
            "bin_end": 106.74,
            "count": 2
           }
          ]
         }
        },
        {
         "name": "_deepnote_index_column",
         "dtype": "int64"
        }
       ],
       "rows": [
        {
         "1990": 29.08300018,
         "1991": 29.77899933,
         "1992": 30.27199936,
         "1993": 30.94400024,
         "1994": 31.12100029,
         "1995": 31.27899933,
         "1996": 31.88299942,
         "1997": 32.47999954,
         "1998": 33.0719986,
         "1999": 33.6590004,
         "2000": 34.24399948,
         "2001": 34.9109993,
         "2002": 35.58599854,
         "2003": 36.2159996,
         "2004": 36.74399948,
         "2005": 37.17599869,
         "2006": 37.97900009,
         "2007": 38.81200027,
         "2008": 39.73899841,
         "2009": 40.79499817,
         "2010": 41.97600174,
         "2011": 43.30099869,
         "2012": 44.7179985,
         "2013": 46.18999863,
         "2014": 47.6590004,
         "2015": 49.0719986,
         "2016": 50.3730011,
         "2017": 51.9469986,
         "2018": 48.95100021,
         "2019": 48.92300034,
         "2020": 45.70299911,
         "2021": 46.54199982,
         "Country Name": "United Arab Emirates",
         "Country Code": "ARE",
         "Total Change": 17.458999640000002,
         "% Change": 60.03,
         "_deepnote_index_column": 8
        },
        {
         "1990": 32.53099823,
         "1991": 33.29600143,
         "1992": 34.08800125,
         "1993": 34.45199966,
         "1994": 34.33300018,
         "1995": 35.67300034,
         "1996": 37.02099991,
         "1997": 38.38100052,
         "1998": 39.27399826,
         "1999": 39.30500031,
         "2000": 39.80500031,
         "2001": 40.31299973,
         "2002": 40.82300186,
         "2003": 41.33300018,
         "2004": 41.84799957,
         "2005": 42.36700058,
         "2006": 42.88999939,
         "2007": 43.41799927,
         "2008": 43.94800186,
         "2009": 44.47700119,
         "2010": 45.00299835,
         "2011": 45.52999878,
         "2012": 46.05199814,
         "2013": 46.5719986,
         "2014": 47.48600006,
         "2015": 48.36199951,
         "2016": 49.23799896,
         "2017": 48.84799957,
         "2018": 49.07600021,
         "2019": 49.10699844,
         "2020": 45.85900116,
         "2021": 46.89699936,
         "Country Name": "Belize",
         "Country Code": "BLZ",
         "Total Change": 14.36600113,
         "% Change": 44.16,
         "_deepnote_index_column": 26
        },
        {
         "1990": 32.75600052,
         "1991": 33.2120018,
         "1992": 32.47800064,
         "1993": 33.38299942,
         "1994": 34.51300049,
         "1995": 35.4070015,
         "1996": 33.88999939,
         "1997": 36.9280014,
         "1998": 39.23899841,
         "1999": 39.72600174,
         "2000": 38.42699814,
         "2001": 42.27299881,
         "2002": 42.0909996,
         "2003": 42.5909996,
         "2004": 40.88800049,
         "2005": 44.57600021,
         "2006": 44.4620018,
         "2007": 45.59799957,
         "2008": 46.20000076,
         "2009": 46.3409996,
         "2010": 43.94100189,
         "2011": 44.22299957,
         "2012": 49.29299927,
         "2013": 49.02999878,
         "2014": 48.78300095,
         "2015": 47.65999985,
         "2016": 43.79299927,
         "2017": 43.99900055,
         "2018": 46.48199844,
         "2019": 50.44800186,
         "2020": 46.50099945,
         "2021": 47.52700043,
         "Country Name": "Costa Rica",
         "Country Code": "CRI",
         "Total Change": 14.77099991,
         "% Change": 45.09,
         "_deepnote_index_column": 48
        },
        {
         "1990": 32.47100067,
         "1991": 32.45999908,
         "1992": 34.56200027,
         "1993": 35.09400177,
         "1994": 36.31100082,
         "1995": 36.77700043,
         "1996": 37.29299927,
         "1997": 38.04600143,
         "1998": 38.38399887,
         "1999": 39.07400131,
         "2000": 40.66799927,
         "2001": 39.53300095,
         "2002": 42.11000061,
         "2003": 43.61700058,
         "2004": 44.99900055,
         "2005": 46.50099945,
         "2006": 47.91799927,
         "2007": 48.97600174,
         "2008": 50.36500168,
         "2009": 51.4620018,
         "2010": 52.1609993,
         "2011": 52.81900024,
         "2012": 53.44400024,
         "2013": 53.38399887,
         "2014": 53.11500168,
         "2015": 53.13399887,
         "2016": 53.04999924,
         "2017": 52.63100052,
         "2018": 52.41899872,
         "2019": 52.68899918,
         "2020": 51.61299896,
         "2021": 52.65399933,
         "Country Name": "Spain",
         "Country Code": "ESP",
         "Total Change": 20.182998659999996,
         "% Change": 62.16,
         "_deepnote_index_column": 70
        },
        {
         "1990": 38.39899826,
         "1991": 39.00099945,
         "1992": 38.91999817,
         "1993": 40.56299973,
         "1994": 41.5719986,
         "1995": 42.10599899,
         "1996": 43.59700012,
         "1997": 44.69200134,
         "1998": 46.97600174,
         "1999": 48.98799896,
         "2000": 50.08100128,
         "2001": 50.24399948,
         "2002": 51.28499985,
         "2003": 51.74900055,
         "2004": 51.95999908,
         "2005": 54.54800034,
         "2006": 55.38299942,
         "2007": 57.01499939,
         "2008": 56.84899902,
         "2009": 56.11899948,
         "2010": 55.24300003,
         "2011": 54.9620018,
         "2012": 54.76399994,
         "2013": 55.26900101,
         "2014": 54.93099976,
         "2015": 54.85200119,
         "2016": 55.58800125,
         "2017": 55.64799881,
         "2018": 56.0379982,
         "2019": 56.23799896,
         "2020": 55.08800125,
         "2021": 56.52600098,
         "Country Name": "Ireland",
         "Country Code": "IRL",
         "Total Change": 18.12700272,
         "% Change": 47.21,
         "_deepnote_index_column": 111
        },
        {
         "1990": 33.55099869,
         "1991": 35.87900162,
         "1992": 39.14400101,
         "1993": 37.62799835,
         "1994": 38.42200089,
         "1995": 35.94100189,
         "1996": 37.13100052,
         "1997": 38.24399948,
         "1998": 38.62400055,
         "1999": 40.83100128,
         "2000": 41.36299896,
         "2001": 42.42599869,
         "2002": 43.55099869,
         "2003": 43.70500183,
         "2004": 45.46699905,
         "2005": 46.39799881,
         "2006": 46.96900177,
         "2007": 47.53900146,
         "2008": 48.10800171,
         "2009": 49.93299866,
         "2010": 49.78699875,
         "2011": 50.27000046,
         "2012": 51.90200043,
         "2013": 52.50799942,
         "2014": 53.44599915,
         "2015": 54.56299973,
         "2016": 53.51499939,
         "2017": 54.95800018,
         "2018": 55.78499985,
         "2019": 55.81200027,
         "2020": 56.99499893,
         "2021": 58.48099899,
         "Country Name": "Luxembourg",
         "Country Code": "LUX",
         "Total Change": 24.930000300000003,
         "% Change": 74.3,
         "_deepnote_index_column": 144
        },
        {
         "1990": 45.51900101,
         "1991": 46.00899887,
         "1992": 46.79299927,
         "1993": 48.37099838,
         "1994": 49.95399857,
         "1995": 51.53699875,
         "1996": 53.10800171,
         "1997": 54.67100143,
         "1998": 54.52799988,
         "1999": 55.98899841,
         "2000": 56.70600128,
         "2001": 56.50799942,
         "2002": 56.32699966,
         "2003": 53.16600037,
         "2004": 54.77799988,
         "2005": 56.88600159,
         "2006": 58.98600006,
         "2007": 62.91500092,
         "2008": 64.45800018,
         "2009": 66.53500366,
         "2010": 66.00700378,
         "2011": 67.46600342,
         "2012": 66.76200104,
         "2013": 67.55500031,
         "2014": 68.24700165,
         "2015": 68.23100281,
         "2016": 67.33000183,
         "2017": 66.20300293,
         "2018": 66.82700348,
         "2019": 66.55599976,
         "2020": 65.83899689,
         "2021": 65.81900024,
         "Country Name": "Macao SAR, China",
         "Country Code": "MAC",
         "Total Change": 20.299999229999997,
         "% Change": 44.6,
         "_deepnote_index_column": 146
        },
        {
         "1990": 20.18000031,
         "1991": 21.68000031,
         "1992": 23.24500084,
         "1993": 24.86599922,
         "1994": 26.53499985,
         "1995": 28.23999977,
         "1996": 30.04800034,
         "1997": 31.88999939,
         "1998": 33.75999832,
         "1999": 35.65100098,
         "2000": 37.55699921,
         "2001": 37.44200134,
         "2002": 37.31800079,
         "2003": 37.19400024,
         "2004": 37.08000183,
         "2005": 36.97900009,
         "2006": 36.88700104,
         "2007": 36.79800034,
         "2008": 36.6969986,
         "2009": 36.56600189,
         "2010": 36.92300034,
         "2011": 37.20000076,
         "2012": 37.46900177,
         "2013": 37.73699951,
         "2014": 38.01100159,
         "2015": 38.29899979,
         "2016": 38.5909996,
         "2017": 38.04600143,
         "2018": 36.85200119,
         "2019": 35.33300018,
         "2020": 33.85200119,
         "2021": 34.32600021,
         "Country Name": "Maldives",
         "Country Code": "MDV",
         "Total Change": 14.145999899999996,
         "% Change": 70.1,
         "_deepnote_index_column": 152
        },
        {
         "1990": 26.31100082,
         "1991": 26.41200066,
         "1992": 26.84799957,
         "1993": 27.32600021,
         "1994": 27.49200058,
         "1995": 27.61300087,
         "1996": 28.12400055,
         "1997": 28.67300034,
         "1998": 28.85099983,
         "1999": 29.32299995,
         "2000": 29.6970005,
         "2001": 29.50300026,
         "2002": 30.87599945,
         "2003": 30.73800087,
         "2004": 28.48800087,
         "2005": 30.32699966,
         "2006": 30.50399971,
         "2007": 32.4090004,
         "2008": 33.54100037,
         "2009": 34.08399963,
         "2010": 34.83599854,
         "2011": 36.09500122,
         "2012": 39.12099838,
         "2013": 41.23199844,
         "2014": 42.88000107,
         "2015": 43.61100006,
         "2016": 45.29700089,
         "2017": 46.93500137,
         "2018": 49.77899933,
         "2019": 51.55500031,
         "2020": 53.22299957,
         "2021": 53.08399963,
         "Country Name": "Malta",
         "Country Code": "MLT",
         "Total Change": 26.77299881,
         "% Change": 101.76,
         "_deepnote_index_column": 159
        },
        {
         "1990": 11.22599983,
         "1991": 13.80599976,
         "1992": 13.81700039,
         "1993": 14.18400002,
         "1994": 14.47999954,
         "1995": 12.55200005,
         "1996": 13.70199966,
         "1997": 14.9289999,
         "1998": 15.23600006,
         "1999": 15.67500019,
         "2000": 16.12299919,
         "2001": 16.16699982,
         "2002": 16.21199989,
         "2003": 16.97500038,
         "2004": 17.75799942,
         "2005": 18.32799911,
         "2006": 18.92399979,
         "2007": 19.2859993,
         "2008": 19.8239994,
         "2009": 20.95199966,
         "2010": 22.00399971,
         "2011": 22.18600082,
         "2012": 22.4640007,
         "2013": 22.74500084,
         "2014": 22.94400024,
         "2015": 23.93600082,
         "2016": 23.11199951,
         "2017": 22.30200005,
         "2018": 21.50799942,
         "2019": 21.41799927,
         "2020": 20.60899925,
         "2021": 20.72699928,
         "Country Name": "Pakistan",
         "Country Code": "PAK",
         "Total Change": 9.500999450000002,
         "% Change": 84.63,
         "_deepnote_index_column": 184
        }
       ]
      },
      "text/plain": "             Country Name Country Code       1990       1991       1992  \\\n8    United Arab Emirates          ARE  29.083000  29.778999  30.271999   \n26                 Belize          BLZ  32.530998  33.296001  34.088001   \n48             Costa Rica          CRI  32.756001  33.212002  32.478001   \n70                  Spain          ESP  32.471001  32.459999  34.562000   \n111               Ireland          IRL  38.398998  39.000999  38.919998   \n144            Luxembourg          LUX  33.550999  35.879002  39.144001   \n146      Macao SAR, China          MAC  45.519001  46.008999  46.792999   \n152              Maldives          MDV  20.180000  21.680000  23.245001   \n159                 Malta          MLT  26.311001  26.412001  26.848000   \n184              Pakistan          PAK  11.226000  13.806000  13.817000   \n186                  Peru          PER  43.658001  43.747002  43.512001   \n205          Saudi Arabia          SAU  14.964000  14.532000  14.501000   \n\n          1993       1994       1995       1996       1997  ...       2014  \\\n8    30.944000  31.121000  31.278999  31.882999  32.480000  ...  47.659000   \n26   34.452000  34.333000  35.673000  37.021000  38.381001  ...  47.486000   \n48   33.382999  34.513000  35.407001  33.889999  36.928001  ...  48.783001   \n70   35.094002  36.311001  36.777000  37.292999  38.046001  ...  53.115002   \n111  40.563000  41.571999  42.105999  43.597000  44.692001  ...  54.931000   \n144  37.627998  38.422001  35.941002  37.131001  38.243999  ...  53.445999   \n146  48.370998  49.953999  51.536999  53.108002  54.671001  ...  68.247002   \n152  24.865999  26.535000  28.240000  30.048000  31.889999  ...  38.011002   \n159  27.326000  27.492001  27.613001  28.124001  28.673000  ...  42.880001   \n184  14.184000  14.480000  12.552000  13.702000  14.929000  ...  22.944000   \n186  44.845001  46.179001  49.199001  51.749001  54.272999  ...  69.362999   \n205  14.795000  15.106000  15.429000  15.780000  16.139999  ...  20.264999   \n\n          2015       2016       2017       2018       2019       2020  \\\n8    49.071999  50.373001  51.946999  48.951000  48.923000  45.702999   \n26   48.362000  49.237999  48.848000  49.076000  49.106998  45.859001   \n48   47.660000  43.792999  43.999001  46.481998  50.448002  46.500999   \n70   53.133999  53.049999  52.631001  52.418999  52.688999  51.612999   \n111  54.852001  55.588001  55.647999  56.037998  56.237999  55.088001   \n144  54.563000  53.514999  54.958000  55.785000  55.812000  56.994999   \n146  68.231003  67.330002  66.203003  66.827003  66.556000  65.838997   \n152  38.299000  38.591000  38.046001  36.852001  35.333000  33.852001   \n159  43.611000  45.297001  46.935001  49.778999  51.555000  53.223000   \n184  23.936001  23.112000  22.302000  21.507999  21.417999  20.608999   \n186  67.722000  69.070000  69.420998  69.866997  70.042999  56.919998   \n205  21.174999  22.021000  20.139000  21.905001  26.763000  31.957001   \n\n          2021  Total Change  % Change  \n8    46.542000     17.459000     60.03  \n26   46.896999     14.366001     44.16  \n48   47.527000     14.771000     45.09  \n70   52.653999     20.182999     62.16  \n111  56.526001     18.127003     47.21  \n144  58.480999     24.930000     74.30  \n146  65.819000     20.299999     44.60  \n152  34.326000     14.146000     70.10  \n159  53.084000     26.772999    101.76  \n184  20.726999      9.500999     84.63  \n186  66.069000     22.410999     51.33  \n205  30.937000     15.973001    106.74  \n\n[12 rows x 36 columns]",
      "text/html": "<div>\n<style scoped>\n    .dataframe tbody tr th:only-of-type {\n        vertical-align: middle;\n    }\n\n    .dataframe tbody tr th {\n        vertical-align: top;\n    }\n\n    .dataframe thead th {\n        text-align: right;\n    }\n</style>\n<table border=\"1\" class=\"dataframe\">\n  <thead>\n    <tr style=\"text-align: right;\">\n      <th></th>\n      <th>Country Name</th>\n      <th>Country Code</th>\n      <th>1990</th>\n      <th>1991</th>\n      <th>1992</th>\n      <th>1993</th>\n      <th>1994</th>\n      <th>1995</th>\n      <th>1996</th>\n      <th>1997</th>\n      <th>...</th>\n      <th>2014</th>\n      <th>2015</th>\n      <th>2016</th>\n      <th>2017</th>\n      <th>2018</th>\n      <th>2019</th>\n      <th>2020</th>\n      <th>2021</th>\n      <th>Total Change</th>\n      <th>% Change</th>\n    </tr>\n  </thead>\n  <tbody>\n    <tr>\n      <th>8</th>\n      <td>United Arab Emirates</td>\n      <td>ARE</td>\n      <td>29.083000</td>\n      <td>29.778999</td>\n      <td>30.271999</td>\n      <td>30.944000</td>\n      <td>31.121000</td>\n      <td>31.278999</td>\n      <td>31.882999</td>\n      <td>32.480000</td>\n      <td>...</td>\n      <td>47.659000</td>\n      <td>49.071999</td>\n      <td>50.373001</td>\n      <td>51.946999</td>\n      <td>48.951000</td>\n      <td>48.923000</td>\n      <td>45.702999</td>\n      <td>46.542000</td>\n      <td>17.459000</td>\n      <td>60.03</td>\n    </tr>\n    <tr>\n      <th>26</th>\n      <td>Belize</td>\n      <td>BLZ</td>\n      <td>32.530998</td>\n      <td>33.296001</td>\n      <td>34.088001</td>\n      <td>34.452000</td>\n      <td>34.333000</td>\n      <td>35.673000</td>\n      <td>37.021000</td>\n      <td>38.381001</td>\n      <td>...</td>\n      <td>47.486000</td>\n      <td>48.362000</td>\n      <td>49.237999</td>\n      <td>48.848000</td>\n      <td>49.076000</td>\n      <td>49.106998</td>\n      <td>45.859001</td>\n      <td>46.896999</td>\n      <td>14.366001</td>\n      <td>44.16</td>\n    </tr>\n    <tr>\n      <th>48</th>\n      <td>Costa Rica</td>\n      <td>CRI</td>\n      <td>32.756001</td>\n      <td>33.212002</td>\n      <td>32.478001</td>\n      <td>33.382999</td>\n      <td>34.513000</td>\n      <td>35.407001</td>\n      <td>33.889999</td>\n      <td>36.928001</td>\n      <td>...</td>\n      <td>48.783001</td>\n      <td>47.660000</td>\n      <td>43.792999</td>\n      <td>43.999001</td>\n      <td>46.481998</td>\n      <td>50.448002</td>\n      <td>46.500999</td>\n      <td>47.527000</td>\n      <td>14.771000</td>\n      <td>45.09</td>\n    </tr>\n    <tr>\n      <th>70</th>\n      <td>Spain</td>\n      <td>ESP</td>\n      <td>32.471001</td>\n      <td>32.459999</td>\n      <td>34.562000</td>\n      <td>35.094002</td>\n      <td>36.311001</td>\n      <td>36.777000</td>\n      <td>37.292999</td>\n      <td>38.046001</td>\n      <td>...</td>\n      <td>53.115002</td>\n      <td>53.133999</td>\n      <td>53.049999</td>\n      <td>52.631001</td>\n      <td>52.418999</td>\n      <td>52.688999</td>\n      <td>51.612999</td>\n      <td>52.653999</td>\n      <td>20.182999</td>\n      <td>62.16</td>\n    </tr>\n    <tr>\n      <th>111</th>\n      <td>Ireland</td>\n      <td>IRL</td>\n      <td>38.398998</td>\n      <td>39.000999</td>\n      <td>38.919998</td>\n      <td>40.563000</td>\n      <td>41.571999</td>\n      <td>42.105999</td>\n      <td>43.597000</td>\n      <td>44.692001</td>\n      <td>...</td>\n      <td>54.931000</td>\n      <td>54.852001</td>\n      <td>55.588001</td>\n      <td>55.647999</td>\n      <td>56.037998</td>\n      <td>56.237999</td>\n      <td>55.088001</td>\n      <td>56.526001</td>\n      <td>18.127003</td>\n      <td>47.21</td>\n    </tr>\n    <tr>\n      <th>144</th>\n      <td>Luxembourg</td>\n      <td>LUX</td>\n      <td>33.550999</td>\n      <td>35.879002</td>\n      <td>39.144001</td>\n      <td>37.627998</td>\n      <td>38.422001</td>\n      <td>35.941002</td>\n      <td>37.131001</td>\n      <td>38.243999</td>\n      <td>...</td>\n      <td>53.445999</td>\n      <td>54.563000</td>\n      <td>53.514999</td>\n      <td>54.958000</td>\n      <td>55.785000</td>\n      <td>55.812000</td>\n      <td>56.994999</td>\n      <td>58.480999</td>\n      <td>24.930000</td>\n      <td>74.30</td>\n    </tr>\n    <tr>\n      <th>146</th>\n      <td>Macao SAR, China</td>\n      <td>MAC</td>\n      <td>45.519001</td>\n      <td>46.008999</td>\n      <td>46.792999</td>\n      <td>48.370998</td>\n      <td>49.953999</td>\n      <td>51.536999</td>\n      <td>53.108002</td>\n      <td>54.671001</td>\n      <td>...</td>\n      <td>68.247002</td>\n      <td>68.231003</td>\n      <td>67.330002</td>\n      <td>66.203003</td>\n      <td>66.827003</td>\n      <td>66.556000</td>\n      <td>65.838997</td>\n      <td>65.819000</td>\n      <td>20.299999</td>\n      <td>44.60</td>\n    </tr>\n    <tr>\n      <th>152</th>\n      <td>Maldives</td>\n      <td>MDV</td>\n      <td>20.180000</td>\n      <td>21.680000</td>\n      <td>23.245001</td>\n      <td>24.865999</td>\n      <td>26.535000</td>\n      <td>28.240000</td>\n      <td>30.048000</td>\n      <td>31.889999</td>\n      <td>...</td>\n      <td>38.011002</td>\n      <td>38.299000</td>\n      <td>38.591000</td>\n      <td>38.046001</td>\n      <td>36.852001</td>\n      <td>35.333000</td>\n      <td>33.852001</td>\n      <td>34.326000</td>\n      <td>14.146000</td>\n      <td>70.10</td>\n    </tr>\n    <tr>\n      <th>159</th>\n      <td>Malta</td>\n      <td>MLT</td>\n      <td>26.311001</td>\n      <td>26.412001</td>\n      <td>26.848000</td>\n      <td>27.326000</td>\n      <td>27.492001</td>\n      <td>27.613001</td>\n      <td>28.124001</td>\n      <td>28.673000</td>\n      <td>...</td>\n      <td>42.880001</td>\n      <td>43.611000</td>\n      <td>45.297001</td>\n      <td>46.935001</td>\n      <td>49.778999</td>\n      <td>51.555000</td>\n      <td>53.223000</td>\n      <td>53.084000</td>\n      <td>26.772999</td>\n      <td>101.76</td>\n    </tr>\n    <tr>\n      <th>184</th>\n      <td>Pakistan</td>\n      <td>PAK</td>\n      <td>11.226000</td>\n      <td>13.806000</td>\n      <td>13.817000</td>\n      <td>14.184000</td>\n      <td>14.480000</td>\n      <td>12.552000</td>\n      <td>13.702000</td>\n      <td>14.929000</td>\n      <td>...</td>\n      <td>22.944000</td>\n      <td>23.936001</td>\n      <td>23.112000</td>\n      <td>22.302000</td>\n      <td>21.507999</td>\n      <td>21.417999</td>\n      <td>20.608999</td>\n      <td>20.726999</td>\n      <td>9.500999</td>\n      <td>84.63</td>\n    </tr>\n    <tr>\n      <th>186</th>\n      <td>Peru</td>\n      <td>PER</td>\n      <td>43.658001</td>\n      <td>43.747002</td>\n      <td>43.512001</td>\n      <td>44.845001</td>\n      <td>46.179001</td>\n      <td>49.199001</td>\n      <td>51.749001</td>\n      <td>54.272999</td>\n      <td>...</td>\n      <td>69.362999</td>\n      <td>67.722000</td>\n      <td>69.070000</td>\n      <td>69.420998</td>\n      <td>69.866997</td>\n      <td>70.042999</td>\n      <td>56.919998</td>\n      <td>66.069000</td>\n      <td>22.410999</td>\n      <td>51.33</td>\n    </tr>\n    <tr>\n      <th>205</th>\n      <td>Saudi Arabia</td>\n      <td>SAU</td>\n      <td>14.964000</td>\n      <td>14.532000</td>\n      <td>14.501000</td>\n      <td>14.795000</td>\n      <td>15.106000</td>\n      <td>15.429000</td>\n      <td>15.780000</td>\n      <td>16.139999</td>\n      <td>...</td>\n      <td>20.264999</td>\n      <td>21.174999</td>\n      <td>22.021000</td>\n      <td>20.139000</td>\n      <td>21.905001</td>\n      <td>26.763000</td>\n      <td>31.957001</td>\n      <td>30.937000</td>\n      <td>15.973001</td>\n      <td>106.74</td>\n    </tr>\n  </tbody>\n</table>\n<p>12 rows × 36 columns</p>\n</div>"
     },
     "metadata": {}
    }
   ]
  },
  {
   "cell_type": "code",
   "metadata": {
    "cell_id": "00018-65c8b90f-5efc-41c0-a14b-047913725a8d",
    "deepnote_to_be_reexecuted": false,
    "source_hash": "f0e38280",
    "execution_start": 1658344242179,
    "execution_millis": 68,
    "deepnote_cell_type": "code",
    "deepnote_cell_height": 708
   },
   "source": "# The\n\nmin_val = fe_df['% Change'].quantile(.05)\n\nmin_q = fe_df[fe_df['% Change'] < min_val]\n\nmin_q",
   "execution_count": null,
   "outputs": [
    {
     "output_type": "execute_result",
     "execution_count": 10,
     "data": {
      "application/vnd.deepnote.dataframe.v3+json": {
       "column_count": 36,
       "row_count": 12,
       "columns": [
        {
         "name": "Country Name",
         "dtype": "object",
         "stats": {
          "unique_count": 12,
          "nan_count": 0,
          "categories": [
           {
            "name": "Burkina Faso",
            "count": 1
           },
           {
            "name": "Egypt, Arab Rep.",
            "count": 1
           },
           {
            "name": "10 others",
            "count": 10
           }
          ]
         }
        },
        {
         "name": "Country Code",
         "dtype": "object",
         "stats": {
          "unique_count": 12,
          "nan_count": 0,
          "categories": [
           {
            "name": "BFA",
            "count": 1
           },
           {
            "name": "EGY",
            "count": 1
           },
           {
            "name": "10 others",
            "count": 10
           }
          ]
         }
        },
        {
         "name": "1990",
         "dtype": "float64",
         "stats": {
          "unique_count": 12,
          "nan_count": 0,
          "min": "17.12999916",
          "max": "79.44999695",
          "histogram": [
           {
            "bin_start": 17.12999916,
            "bin_end": 23.361998939000003,
            "count": 2
           },
           {
            "bin_start": 23.361998939000003,
            "bin_end": 29.593998718,
            "count": 0
           },
           {
            "bin_start": 29.593998718,
            "bin_end": 35.825998497,
            "count": 1
           },
           {
            "bin_start": 35.825998497,
            "bin_end": 42.057998276000006,
            "count": 0
           },
           {
            "bin_start": 42.057998276000006,
            "bin_end": 48.289998055,
            "count": 2
           },
           {
            "bin_start": 48.289998055,
            "bin_end": 54.521997834000004,
            "count": 1
           },
           {
            "bin_start": 54.521997834000004,
            "bin_end": 60.75399761300001,
            "count": 1
           },
           {
            "bin_start": 60.75399761300001,
            "bin_end": 66.985997392,
            "count": 3
           },
           {
            "bin_start": 66.985997392,
            "bin_end": 73.21799717100001,
            "count": 1
           },
           {
            "bin_start": 73.21799717100001,
            "bin_end": 79.44999695,
            "count": 1
           }
          ]
         }
        },
        {
         "name": "1991",
         "dtype": "float64",
         "stats": {
          "unique_count": 12,
          "nan_count": 0,
          "min": "17.09600067",
          "max": "79.43099976",
          "histogram": [
           {
            "bin_start": 17.09600067,
            "bin_end": 23.329500578999998,
            "count": 2
           },
           {
            "bin_start": 23.329500578999998,
            "bin_end": 29.563000488,
            "count": 0
           },
           {
            "bin_start": 29.563000488,
            "bin_end": 35.796500397,
            "count": 1
           },
           {
            "bin_start": 35.796500397,
            "bin_end": 42.030000306000005,
            "count": 1
           },
           {
            "bin_start": 42.030000306000005,
            "bin_end": 48.26350021500001,
            "count": 0
           },
           {
            "bin_start": 48.26350021500001,
            "bin_end": 54.497000123999996,
            "count": 2
           },
           {
            "bin_start": 54.497000123999996,
            "bin_end": 60.730500033,
            "count": 1
           },
           {
            "bin_start": 60.730500033,
            "bin_end": 66.963999942,
            "count": 3
           },
           {
            "bin_start": 66.963999942,
            "bin_end": 73.197499851,
            "count": 1
           },
           {
            "bin_start": 73.197499851,
            "bin_end": 79.43099976,
            "count": 1
           }
          ]
         }
        },
        {
         "name": "1992",
         "dtype": "float64",
         "stats": {
          "unique_count": 12,
          "nan_count": 0,
          "min": "17.08099937",
          "max": "78.41899872",
          "histogram": [
           {
            "bin_start": 17.08099937,
            "bin_end": 23.214799305,
            "count": 2
           },
           {
            "bin_start": 23.214799305,
            "bin_end": 29.348599240000002,
            "count": 0
           },
           {
            "bin_start": 29.348599240000002,
            "bin_end": 35.482399175000005,
            "count": 1
           },
           {
            "bin_start": 35.482399175000005,
            "bin_end": 41.616199110000004,
            "count": 1
           },
           {
            "bin_start": 41.616199110000004,
            "bin_end": 47.749999045,
            "count": 0
           },
           {
            "bin_start": 47.749999045,
            "bin_end": 53.88379898000001,
            "count": 1
           },
           {
            "bin_start": 53.88379898000001,
            "bin_end": 60.01759891500001,
            "count": 2
           },
           {
            "bin_start": 60.01759891500001,
            "bin_end": 66.15139885,
            "count": 3
           },
           {
            "bin_start": 66.15139885,
            "bin_end": 72.285198785,
            "count": 1
           },
           {
            "bin_start": 72.285198785,
            "bin_end": 78.41899872,
            "count": 1
           }
          ]
         }
        },
        {
         "name": "1993",
         "dtype": "float64",
         "stats": {
          "unique_count": 12,
          "nan_count": 0,
          "min": "16.99900055",
          "max": "77.3710022",
          "histogram": [
           {
            "bin_start": 16.99900055,
            "bin_end": 23.036200715,
            "count": 2
           },
           {
            "bin_start": 23.036200715,
            "bin_end": 29.07340088,
            "count": 0
           },
           {
            "bin_start": 29.07340088,
            "bin_end": 35.110601044999996,
            "count": 1
           },
           {
            "bin_start": 35.110601044999996,
            "bin_end": 41.14780121,
            "count": 1
           },
           {
            "bin_start": 41.14780121,
            "bin_end": 47.185001375,
            "count": 0
           },
           {
            "bin_start": 47.185001375,
            "bin_end": 53.22220154,
            "count": 1
           },
           {
            "bin_start": 53.22220154,
            "bin_end": 59.259401705,
            "count": 1
           },
           {
            "bin_start": 59.259401705,
            "bin_end": 65.29660187,
            "count": 4
           },
           {
            "bin_start": 65.29660187,
            "bin_end": 71.333802035,
            "count": 1
           },
           {
            "bin_start": 71.333802035,
            "bin_end": 77.3710022,
            "count": 1
           }
          ]
         }
        },
        {
         "name": "1994",
         "dtype": "float64",
         "stats": {
          "unique_count": 12,
          "nan_count": 0,
          "min": "17.0170002",
          "max": "76.28800201",
          "histogram": [
           {
            "bin_start": 17.0170002,
            "bin_end": 22.944100381,
            "count": 1
           },
           {
            "bin_start": 22.944100381,
            "bin_end": 28.871200562,
            "count": 1
           },
           {
            "bin_start": 28.871200562,
            "bin_end": 34.798300743,
            "count": 1
           },
           {
            "bin_start": 34.798300743,
            "bin_end": 40.725400924,
            "count": 1
           },
           {
            "bin_start": 40.725400924,
            "bin_end": 46.652501105,
            "count": 0
           },
           {
            "bin_start": 46.652501105,
            "bin_end": 52.579601286,
            "count": 1
           },
           {
            "bin_start": 52.579601286,
            "bin_end": 58.506701467,
            "count": 1
           },
           {
            "bin_start": 58.506701467,
            "bin_end": 64.433801648,
            "count": 4
           },
           {
            "bin_start": 64.433801648,
            "bin_end": 70.360901829,
            "count": 1
           },
           {
            "bin_start": 70.360901829,
            "bin_end": 76.28800201,
            "count": 1
           }
          ]
         }
        },
        {
         "name": "1995",
         "dtype": "float64",
         "stats": {
          "unique_count": 12,
          "nan_count": 0,
          "min": "17.84399986",
          "max": "75.17099762",
          "histogram": [
           {
            "bin_start": 17.84399986,
            "bin_end": 23.576699636,
            "count": 2
           },
           {
            "bin_start": 23.576699636,
            "bin_end": 29.309399411999998,
            "count": 0
           },
           {
            "bin_start": 29.309399411999998,
            "bin_end": 35.042099187999995,
            "count": 1
           },
           {
            "bin_start": 35.042099187999995,
            "bin_end": 40.774798964,
            "count": 1
           },
           {
            "bin_start": 40.774798964,
            "bin_end": 46.50749874,
            "count": 0
           },
           {
            "bin_start": 46.50749874,
            "bin_end": 52.24019851599999,
            "count": 1
           },
           {
            "bin_start": 52.24019851599999,
            "bin_end": 57.972898291999996,
            "count": 2
           },
           {
            "bin_start": 57.972898291999996,
            "bin_end": 63.705598068,
            "count": 3
           },
           {
            "bin_start": 63.705598068,
            "bin_end": 69.43829784399999,
            "count": 0
           },
           {
            "bin_start": 69.43829784399999,
            "bin_end": 75.17099762,
            "count": 2
           }
          ]
         }
        },
        {
         "name": "1996",
         "dtype": "float64",
         "stats": {
          "unique_count": 12,
          "nan_count": 0,
          "min": "18.76799965",
          "max": "74.01899719",
          "histogram": [
           {
            "bin_start": 18.76799965,
            "bin_end": 24.293099404,
            "count": 2
           },
           {
            "bin_start": 24.293099404,
            "bin_end": 29.818199158,
            "count": 0
           },
           {
            "bin_start": 29.818199158,
            "bin_end": 35.343298911999995,
            "count": 1
           },
           {
            "bin_start": 35.343298911999995,
            "bin_end": 40.868398666,
            "count": 1
           },
           {
            "bin_start": 40.868398666,
            "bin_end": 46.39349842,
            "count": 0
           },
           {
            "bin_start": 46.39349842,
            "bin_end": 51.918598173999996,
            "count": 1
           },
           {
            "bin_start": 51.918598173999996,
            "bin_end": 57.443697928,
            "count": 3
           },
           {
            "bin_start": 57.443697928,
            "bin_end": 62.968797681999995,
            "count": 2
           },
           {
            "bin_start": 62.968797681999995,
            "bin_end": 68.493897436,
            "count": 0
           },
           {
            "bin_start": 68.493897436,
            "bin_end": 74.01899719,
            "count": 2
           }
          ]
         }
        },
        {
         "name": "1997",
         "dtype": "float64",
         "stats": {
          "unique_count": 12,
          "nan_count": 0,
          "min": "19.74200058",
          "max": "72.83200073",
          "histogram": [
           {
            "bin_start": 19.74200058,
            "bin_end": 25.051000594999998,
            "count": 2
           },
           {
            "bin_start": 25.051000594999998,
            "bin_end": 30.36000061,
            "count": 0
           },
           {
            "bin_start": 30.36000061,
            "bin_end": 35.669000625,
            "count": 2
           },
           {
            "bin_start": 35.669000625,
            "bin_end": 40.978000640000005,
            "count": 0
           },
           {
            "bin_start": 40.978000640000005,
            "bin_end": 46.287000655,
            "count": 0
           },
           {
            "bin_start": 46.287000655,
            "bin_end": 51.59600067,
            "count": 1
           },
           {
            "bin_start": 51.59600067,
            "bin_end": 56.905000685000005,
            "count": 2
           },
           {
            "bin_start": 56.905000685000005,
            "bin_end": 62.2140007,
            "count": 3
           },
           {
            "bin_start": 62.2140007,
            "bin_end": 67.52300071500001,
            "count": 0
           },
           {
            "bin_start": 67.52300071500001,
            "bin_end": 72.83200073,
            "count": 2
           }
          ]
         }
        },
        {
         "name": "1998",
         "dtype": "float64",
         "stats": {
          "unique_count": 12,
          "nan_count": 0,
          "min": "19.81100082",
          "max": "71.61100006",
          "histogram": [
           {
            "bin_start": 19.81100082,
            "bin_end": 24.991000743999997,
            "count": 2
           },
           {
            "bin_start": 24.991000743999997,
            "bin_end": 30.171000667999998,
            "count": 0
           },
           {
            "bin_start": 30.171000667999998,
            "bin_end": 35.351000592,
            "count": 1
           },
           {
            "bin_start": 35.351000592,
            "bin_end": 40.53100051599999,
            "count": 0
           },
           {
            "bin_start": 40.53100051599999,
            "bin_end": 45.71100043999999,
            "count": 1
           },
           {
            "bin_start": 45.71100043999999,
            "bin_end": 50.89100036399999,
            "count": 1
           },
           {
            "bin_start": 50.89100036399999,
            "bin_end": 56.07100028799999,
            "count": 1
           },
           {
            "bin_start": 56.07100028799999,
            "bin_end": 61.251000211999994,
            "count": 3
           },
           {
            "bin_start": 61.251000211999994,
            "bin_end": 66.431000136,
            "count": 1
           },
           {
            "bin_start": 66.431000136,
            "bin_end": 71.61100006,
            "count": 2
           }
          ]
         }
        },
        {
         "name": "1999",
         "dtype": "float64",
         "stats": {
          "unique_count": 12,
          "nan_count": 0,
          "min": "20.64100075",
          "max": "71.08300018",
          "histogram": [
           {
            "bin_start": 20.64100075,
            "bin_end": 25.685200693,
            "count": 2
           },
           {
            "bin_start": 25.685200693,
            "bin_end": 30.729400636,
            "count": 1
           },
           {
            "bin_start": 30.729400636,
            "bin_end": 35.773600579000004,
            "count": 0
           },
           {
            "bin_start": 35.773600579000004,
            "bin_end": 40.817800522,
            "count": 1
           },
           {
            "bin_start": 40.817800522,
            "bin_end": 45.862000464999994,
            "count": 0
           },
           {
            "bin_start": 45.862000464999994,
            "bin_end": 50.906200408000004,
            "count": 1
           },
           {
            "bin_start": 50.906200408000004,
            "bin_end": 55.950400351,
            "count": 1
           },
           {
            "bin_start": 55.950400351,
            "bin_end": 60.994600293999994,
            "count": 4
           },
           {
            "bin_start": 60.994600293999994,
            "bin_end": 66.038800237,
            "count": 0
           },
           {
            "bin_start": 66.038800237,
            "bin_end": 71.08300018,
            "count": 2
           }
          ]
         }
        },
        {
         "name": "2000",
         "dtype": "float64",
         "stats": {
          "unique_count": 12,
          "nan_count": 0,
          "min": "20.49399948",
          "max": "71.36599731",
          "histogram": [
           {
            "bin_start": 20.49399948,
            "bin_end": 25.581199263,
            "count": 2
           },
           {
            "bin_start": 25.581199263,
            "bin_end": 30.668399045999998,
            "count": 1
           },
           {
            "bin_start": 30.668399045999998,
            "bin_end": 35.755598829,
            "count": 0
           },
           {
            "bin_start": 35.755598829,
            "bin_end": 40.842798611999996,
            "count": 1
           },
           {
            "bin_start": 40.842798611999996,
            "bin_end": 45.929998395,
            "count": 0
           },
           {
            "bin_start": 45.929998395,
            "bin_end": 51.017198178,
            "count": 1
           },
           {
            "bin_start": 51.017198178,
            "bin_end": 56.104397961,
            "count": 1
           },
           {
            "bin_start": 56.104397961,
            "bin_end": 61.191597744,
            "count": 4
           },
           {
            "bin_start": 61.191597744,
            "bin_end": 66.278797527,
            "count": 0
           },
           {
            "bin_start": 66.278797527,
            "bin_end": 71.36599731,
            "count": 2
           }
          ]
         }
        },
        {
         "name": "2001",
         "dtype": "float64",
         "stats": {
          "unique_count": 12,
          "nan_count": 0,
          "min": "19.22500038",
          "max": "69.26599884",
          "histogram": [
           {
            "bin_start": 19.22500038,
            "bin_end": 24.229100226,
            "count": 2
           },
           {
            "bin_start": 24.229100226,
            "bin_end": 29.233200072000002,
            "count": 0
           },
           {
            "bin_start": 29.233200072000002,
            "bin_end": 34.237299918000005,
            "count": 1
           },
           {
            "bin_start": 34.237299918000005,
            "bin_end": 39.241399764,
            "count": 1
           },
           {
            "bin_start": 39.241399764,
            "bin_end": 44.245499609999996,
            "count": 0
           },
           {
            "bin_start": 44.245499609999996,
            "bin_end": 49.249599456,
            "count": 1
           },
           {
            "bin_start": 49.249599456,
            "bin_end": 54.253699302,
            "count": 0
           },
           {
            "bin_start": 54.253699302,
            "bin_end": 59.257799148000004,
            "count": 4
           },
           {
            "bin_start": 59.257799148000004,
            "bin_end": 64.261898994,
            "count": 1
           },
           {
            "bin_start": 64.261898994,
            "bin_end": 69.26599884,
            "count": 2
           }
          ]
         }
        },
        {
         "name": "2002",
         "dtype": "float64",
         "stats": {
          "unique_count": 12,
          "nan_count": 0,
          "min": "18.00099945",
          "max": "67.08300018",
          "histogram": [
           {
            "bin_start": 18.00099945,
            "bin_end": 22.909199522999998,
            "count": 2
           },
           {
            "bin_start": 22.909199522999998,
            "bin_end": 27.817399596,
            "count": 0
           },
           {
            "bin_start": 27.817399596,
            "bin_end": 32.725599669000005,
            "count": 1
           },
           {
            "bin_start": 32.725599669000005,
            "bin_end": 37.633799742,
            "count": 1
           },
           {
            "bin_start": 37.633799742,
            "bin_end": 42.541999815,
            "count": 0
           },
           {
            "bin_start": 42.541999815,
            "bin_end": 47.450199888,
            "count": 1
           },
           {
            "bin_start": 47.450199888,
            "bin_end": 52.358399961,
            "count": 1
           },
           {
            "bin_start": 52.358399961,
            "bin_end": 57.26660003400001,
            "count": 2
           },
           {
            "bin_start": 57.26660003400001,
            "bin_end": 62.17480010700001,
            "count": 2
           },
           {
            "bin_start": 62.17480010700001,
            "bin_end": 67.08300018,
            "count": 2
           }
          ]
         }
        },
        {
         "name": "2003",
         "dtype": "float64",
         "stats": {
          "unique_count": 12,
          "nan_count": 0,
          "min": "16.82500076",
          "max": "64.99900055",
          "histogram": [
           {
            "bin_start": 16.82500076,
            "bin_end": 21.642400739000003,
            "count": 2
           },
           {
            "bin_start": 21.642400739000003,
            "bin_end": 26.459800718000004,
            "count": 0
           },
           {
            "bin_start": 26.459800718000004,
            "bin_end": 31.277200697,
            "count": 0
           },
           {
            "bin_start": 31.277200697,
            "bin_end": 36.094600676,
            "count": 2
           },
           {
            "bin_start": 36.094600676,
            "bin_end": 40.912000655,
            "count": 0
           },
           {
            "bin_start": 40.912000655,
            "bin_end": 45.729400634,
            "count": 1
           },
           {
            "bin_start": 45.729400634,
            "bin_end": 50.546800613,
            "count": 2
           },
           {
            "bin_start": 50.546800613,
            "bin_end": 55.364200592,
            "count": 1
           },
           {
            "bin_start": 55.364200592,
            "bin_end": 60.181600571000004,
            "count": 2
           },
           {
            "bin_start": 60.181600571000004,
            "bin_end": 64.99900055,
            "count": 2
           }
          ]
         }
        },
        {
         "name": "2004",
         "dtype": "float64",
         "stats": {
          "unique_count": 12,
          "nan_count": 0,
          "min": "15.69999981",
          "max": "63.58200073",
          "histogram": [
           {
            "bin_start": 15.69999981,
            "bin_end": 20.488199901999998,
            "count": 2
           },
           {
            "bin_start": 20.488199901999998,
            "bin_end": 25.276399994,
            "count": 0
           },
           {
            "bin_start": 25.276399994,
            "bin_end": 30.064600086,
            "count": 0
           },
           {
            "bin_start": 30.064600086,
            "bin_end": 34.852800177999995,
            "count": 1
           },
           {
            "bin_start": 34.852800177999995,
            "bin_end": 39.64100027,
            "count": 1
           },
           {
            "bin_start": 39.64100027,
            "bin_end": 44.429200361999996,
            "count": 0
           },
           {
            "bin_start": 44.429200361999996,
            "bin_end": 49.217400454,
            "count": 3
           },
           {
            "bin_start": 49.217400454,
            "bin_end": 54.005600546,
            "count": 0
           },
           {
            "bin_start": 54.005600546,
            "bin_end": 58.79380063799999,
            "count": 3
           },
           {
            "bin_start": 58.79380063799999,
            "bin_end": 63.58200073,
            "count": 2
           }
          ]
         }
        },
        {
         "name": "2005",
         "dtype": "float64",
         "stats": {
          "unique_count": 12,
          "nan_count": 0,
          "min": "14.6260004",
          "max": "62.13600159",
          "histogram": [
           {
            "bin_start": 14.6260004,
            "bin_end": 19.377000519,
            "count": 1
           },
           {
            "bin_start": 19.377000519,
            "bin_end": 24.128000638,
            "count": 1
           },
           {
            "bin_start": 24.128000638,
            "bin_end": 28.879000757,
            "count": 0
           },
           {
            "bin_start": 28.879000757,
            "bin_end": 33.630000876,
            "count": 1
           },
           {
            "bin_start": 33.630000876,
            "bin_end": 38.381000995,
            "count": 1
           },
           {
            "bin_start": 38.381000995,
            "bin_end": 43.132001114,
            "count": 0
           },
           {
            "bin_start": 43.132001114,
            "bin_end": 47.883001233,
            "count": 2
           },
           {
            "bin_start": 47.883001233,
            "bin_end": 52.634001352,
            "count": 1
           },
           {
            "bin_start": 52.634001352,
            "bin_end": 57.385001470999995,
            "count": 3
           },
           {
            "bin_start": 57.385001470999995,
            "bin_end": 62.13600159,
            "count": 2
           }
          ]
         }
        },
        {
         "name": "2006",
         "dtype": "float64",
         "stats": {
          "unique_count": 12,
          "nan_count": 0,
          "min": "13.60299969",
          "max": "60.6629982",
          "histogram": [
           {
            "bin_start": 13.60299969,
            "bin_end": 18.308999541,
            "count": 1
           },
           {
            "bin_start": 18.308999541,
            "bin_end": 23.014999392,
            "count": 1
           },
           {
            "bin_start": 23.014999392,
            "bin_end": 27.720999243,
            "count": 0
           },
           {
            "bin_start": 27.720999243,
            "bin_end": 32.426999093999996,
            "count": 1
           },
           {
            "bin_start": 32.426999093999996,
            "bin_end": 37.132998945,
            "count": 1
           },
           {
            "bin_start": 37.132998945,
            "bin_end": 41.838998796,
            "count": 0
           },
           {
            "bin_start": 41.838998796,
            "bin_end": 46.544998647,
            "count": 1
           },
           {
            "bin_start": 46.544998647,
            "bin_end": 51.250998498,
            "count": 2
           },
           {
            "bin_start": 51.250998498,
            "bin_end": 55.956998349,
            "count": 1
           },
           {
            "bin_start": 55.956998349,
            "bin_end": 60.6629982,
            "count": 4
           }
          ]
         }
        },
        {
         "name": "2007",
         "dtype": "float64",
         "stats": {
          "unique_count": 12,
          "nan_count": 0,
          "min": "12.63300037",
          "max": "60.21099854",
          "histogram": [
           {
            "bin_start": 12.63300037,
            "bin_end": 17.390800187,
            "count": 1
           },
           {
            "bin_start": 17.390800187,
            "bin_end": 22.148600004000002,
            "count": 0
           },
           {
            "bin_start": 22.148600004000002,
            "bin_end": 26.906399821,
            "count": 1
           },
           {
            "bin_start": 26.906399821,
            "bin_end": 31.664199638,
            "count": 1
           },
           {
            "bin_start": 31.664199638,
            "bin_end": 36.421999455,
            "count": 1
           },
           {
            "bin_start": 36.421999455,
            "bin_end": 41.179799272000004,
            "count": 0
           },
           {
            "bin_start": 41.179799272000004,
            "bin_end": 45.937599089,
            "count": 1
           },
           {
            "bin_start": 45.937599089,
            "bin_end": 50.695398906,
            "count": 2
           },
           {
            "bin_start": 50.695398906,
            "bin_end": 55.453198723,
            "count": 2
           },
           {
            "bin_start": 55.453198723,
            "bin_end": 60.21099854,
            "count": 3
           }
          ]
         }
        },
        {
         "name": "2008",
         "dtype": "float64",
         "stats": {
          "unique_count": 12,
          "nan_count": 0,
          "min": "11.71399975",
          "max": "59.77799988",
          "histogram": [
           {
            "bin_start": 11.71399975,
            "bin_end": 16.520399763,
            "count": 1
           },
           {
            "bin_start": 16.520399763,
            "bin_end": 21.326799776,
            "count": 0
           },
           {
            "bin_start": 21.326799776,
            "bin_end": 26.133199789,
            "count": 1
           },
           {
            "bin_start": 26.133199789,
            "bin_end": 30.939599802,
            "count": 1
           },
           {
            "bin_start": 30.939599802,
            "bin_end": 35.745999815000005,
            "count": 1
           },
           {
            "bin_start": 35.745999815000005,
            "bin_end": 40.552399828,
            "count": 0
           },
           {
            "bin_start": 40.552399828,
            "bin_end": 45.358799841,
            "count": 1
           },
           {
            "bin_start": 45.358799841,
            "bin_end": 50.165199854,
            "count": 2
           },
           {
            "bin_start": 50.165199854,
            "bin_end": 54.971599867,
            "count": 2
           },
           {
            "bin_start": 54.971599867,
            "bin_end": 59.77799988,
            "count": 3
           }
          ]
         }
        },
        {
         "name": "2009",
         "dtype": "float64",
         "stats": {
          "unique_count": 12,
          "nan_count": 0,
          "min": "10.84700012",
          "max": "59.36500168",
          "histogram": [
           {
            "bin_start": 10.84700012,
            "bin_end": 15.698800276,
            "count": 1
           },
           {
            "bin_start": 15.698800276,
            "bin_end": 20.550600432000003,
            "count": 0
           },
           {
            "bin_start": 20.550600432000003,
            "bin_end": 25.402400588000003,
            "count": 1
           },
           {
            "bin_start": 25.402400588000003,
            "bin_end": 30.254200744000002,
            "count": 1
           },
           {
            "bin_start": 30.254200744000002,
            "bin_end": 35.1060009,
            "count": 1
           },
           {
            "bin_start": 35.1060009,
            "bin_end": 39.95780105600001,
            "count": 1
           },
           {
            "bin_start": 39.95780105600001,
            "bin_end": 44.809601212000004,
            "count": 0
           },
           {
            "bin_start": 44.809601212000004,
            "bin_end": 49.661401368,
            "count": 1
           },
           {
            "bin_start": 49.661401368,
            "bin_end": 54.51320152400001,
            "count": 4
           },
           {
            "bin_start": 54.51320152400001,
            "bin_end": 59.36500168,
            "count": 2
           }
          ]
         }
        },
        {
         "name": "2010",
         "dtype": "float64",
         "stats": {
          "unique_count": 12,
          "nan_count": 0,
          "min": "10.03199959",
          "max": "58.97499847",
          "histogram": [
           {
            "bin_start": 10.03199959,
            "bin_end": 14.926299478,
            "count": 1
           },
           {
            "bin_start": 14.926299478,
            "bin_end": 19.820599366000003,
            "count": 0
           },
           {
            "bin_start": 19.820599366000003,
            "bin_end": 24.714899254000002,
            "count": 1
           },
           {
            "bin_start": 24.714899254000002,
            "bin_end": 29.609199142,
            "count": 1
           },
           {
            "bin_start": 29.609199142,
            "bin_end": 34.50349903,
            "count": 1
           },
           {
            "bin_start": 34.50349903,
            "bin_end": 39.39779891800001,
            "count": 1
           },
           {
            "bin_start": 39.39779891800001,
            "bin_end": 44.292098806000006,
            "count": 0
           },
           {
            "bin_start": 44.292098806000006,
            "bin_end": 49.186398694000005,
            "count": 2
           },
           {
            "bin_start": 49.186398694000005,
            "bin_end": 54.080698582000004,
            "count": 3
           },
           {
            "bin_start": 54.080698582000004,
            "bin_end": 58.97499847,
            "count": 2
           }
          ]
         }
        },
        {
         "name": "2011",
         "dtype": "float64",
         "stats": {
          "unique_count": 12,
          "nan_count": 0,
          "min": "8.904000282",
          "max": "58.61000061",
          "histogram": [
           {
            "bin_start": 8.904000282,
            "bin_end": 13.8746003148,
            "count": 1
           },
           {
            "bin_start": 13.8746003148,
            "bin_end": 18.8452003476,
            "count": 0
           },
           {
            "bin_start": 18.8452003476,
            "bin_end": 23.8158003804,
            "count": 1
           },
           {
            "bin_start": 23.8158003804,
            "bin_end": 28.7864004132,
            "count": 1
           },
           {
            "bin_start": 28.7864004132,
            "bin_end": 33.757000446,
            "count": 0
           },
           {
            "bin_start": 33.757000446,
            "bin_end": 38.7276004788,
            "count": 1
           },
           {
            "bin_start": 38.7276004788,
            "bin_end": 43.6982005116,
            "count": 1
           },
           {
            "bin_start": 43.6982005116,
            "bin_end": 48.6688005444,
            "count": 2
           },
           {
            "bin_start": 48.6688005444,
            "bin_end": 53.6394005772,
            "count": 3
           },
           {
            "bin_start": 53.6394005772,
            "bin_end": 58.61000061,
            "count": 2
           }
          ]
         }
        },
        {
         "name": "2012",
         "dtype": "float64",
         "stats": {
          "unique_count": 12,
          "nan_count": 0,
          "min": "7.881999969",
          "max": "58.27000046",
          "histogram": [
           {
            "bin_start": 7.881999969,
            "bin_end": 12.9208000181,
            "count": 1
           },
           {
            "bin_start": 12.9208000181,
            "bin_end": 17.9596000672,
            "count": 0
           },
           {
            "bin_start": 17.9596000672,
            "bin_end": 22.998400116299997,
            "count": 1
           },
           {
            "bin_start": 22.998400116299997,
            "bin_end": 28.037200165399998,
            "count": 1
           },
           {
            "bin_start": 28.037200165399998,
            "bin_end": 33.0760002145,
            "count": 1
           },
           {
            "bin_start": 33.0760002145,
            "bin_end": 38.114800263599996,
            "count": 0
           },
           {
            "bin_start": 38.114800263599996,
            "bin_end": 43.1536003127,
            "count": 1
           },
           {
            "bin_start": 43.1536003127,
            "bin_end": 48.1924003618,
            "count": 2
           },
           {
            "bin_start": 48.1924003618,
            "bin_end": 53.231200410899994,
            "count": 4
           },
           {
            "bin_start": 53.231200410899994,
            "bin_end": 58.27000046,
            "count": 1
           }
          ]
         }
        },
        {
         "name": "2013",
         "dtype": "float64",
         "stats": {
          "unique_count": 12,
          "nan_count": 0,
          "min": "6.958000183",
          "max": "57.95700073",
          "histogram": [
           {
            "bin_start": 6.958000183,
            "bin_end": 12.0579002377,
            "count": 1
           },
           {
            "bin_start": 12.0579002377,
            "bin_end": 17.157800292399997,
            "count": 0
           },
           {
            "bin_start": 17.157800292399997,
            "bin_end": 22.2577003471,
            "count": 0
           },
           {
            "bin_start": 22.2577003471,
            "bin_end": 27.357600401799996,
            "count": 2
           },
           {
            "bin_start": 27.357600401799996,
            "bin_end": 32.4575004565,
            "count": 0
           },
           {
            "bin_start": 32.4575004565,
            "bin_end": 37.557400511199994,
            "count": 1
           },
           {
            "bin_start": 37.557400511199994,
            "bin_end": 42.657300565899995,
            "count": 1
           },
           {
            "bin_start": 42.657300565899995,
            "bin_end": 47.757200620599995,
            "count": 2
           },
           {
            "bin_start": 47.757200620599995,
            "bin_end": 52.857100675299996,
            "count": 4
           },
           {
            "bin_start": 52.857100675299996,
            "bin_end": 57.95700073,
            "count": 1
           }
          ]
         }
        },
        {
         "name": "2014",
         "dtype": "float64",
         "stats": {
          "unique_count": 12,
          "nan_count": 0,
          "min": "6.129000187",
          "max": "57.67100143",
          "histogram": [
           {
            "bin_start": 6.129000187,
            "bin_end": 11.2832003113,
            "count": 1
           },
           {
            "bin_start": 11.2832003113,
            "bin_end": 16.437400435599997,
            "count": 0
           },
           {
            "bin_start": 16.437400435599997,
            "bin_end": 21.591600559899998,
            "count": 0
           },
           {
            "bin_start": 21.591600559899998,
            "bin_end": 26.745800684199995,
            "count": 2
           },
           {
            "bin_start": 26.745800684199995,
            "bin_end": 31.900000808499993,
            "count": 0
           },
           {
            "bin_start": 31.900000808499993,
            "bin_end": 37.05420093279999,
            "count": 1
           },
           {
            "bin_start": 37.05420093279999,
            "bin_end": 42.2084010571,
            "count": 1
           },
           {
            "bin_start": 42.2084010571,
            "bin_end": 47.362601181399995,
            "count": 2
           },
           {
            "bin_start": 47.362601181399995,
            "bin_end": 52.51680130569999,
            "count": 4
           },
           {
            "bin_start": 52.51680130569999,
            "bin_end": 57.67100143,
            "count": 1
           }
          ]
         }
        },
        {
         "name": "2015",
         "dtype": "float64",
         "stats": {
          "unique_count": 12,
          "nan_count": 0,
          "min": "6.09499979",
          "max": "57.69599915",
          "histogram": [
           {
            "bin_start": 6.09499979,
            "bin_end": 11.255099726000001,
            "count": 1
           },
           {
            "bin_start": 11.255099726000001,
            "bin_end": 16.415199662,
            "count": 0
           },
           {
            "bin_start": 16.415199662,
            "bin_end": 21.575299598,
            "count": 0
           },
           {
            "bin_start": 21.575299598,
            "bin_end": 26.735399534,
            "count": 2
           },
           {
            "bin_start": 26.735399534,
            "bin_end": 31.89549947,
            "count": 0
           },
           {
            "bin_start": 31.89549947,
            "bin_end": 37.055599406,
            "count": 1
           },
           {
            "bin_start": 37.055599406,
            "bin_end": 42.215699342,
            "count": 1
           },
           {
            "bin_start": 42.215699342,
            "bin_end": 47.375799278,
            "count": 2
           },
           {
            "bin_start": 47.375799278,
            "bin_end": 52.535899214000004,
            "count": 4
           },
           {
            "bin_start": 52.535899214000004,
            "bin_end": 57.69599915,
            "count": 1
           }
          ]
         }
        },
        {
         "name": "2016",
         "dtype": "float64",
         "stats": {
          "unique_count": 12,
          "nan_count": 0,
          "min": "6.089000225",
          "max": "57.72000122",
          "histogram": [
           {
            "bin_start": 6.089000225,
            "bin_end": 11.2521003245,
            "count": 1
           },
           {
            "bin_start": 11.2521003245,
            "bin_end": 16.415200424000002,
            "count": 0
           },
           {
            "bin_start": 16.415200424000002,
            "bin_end": 21.5783005235,
            "count": 1
           },
           {
            "bin_start": 21.5783005235,
            "bin_end": 26.741400623,
            "count": 1
           },
           {
            "bin_start": 26.741400623,
            "bin_end": 31.9045007225,
            "count": 0
           },
           {
            "bin_start": 31.9045007225,
            "bin_end": 37.067600822,
            "count": 1
           },
           {
            "bin_start": 37.067600822,
            "bin_end": 42.2307009215,
            "count": 1
           },
           {
            "bin_start": 42.2307009215,
            "bin_end": 47.393801021,
            "count": 2
           },
           {
            "bin_start": 47.393801021,
            "bin_end": 52.5569011205,
            "count": 4
           },
           {
            "bin_start": 52.5569011205,
            "bin_end": 57.72000122,
            "count": 1
           }
          ]
         }
        },
        {
         "name": "2017",
         "dtype": "float64",
         "stats": {
          "unique_count": 12,
          "nan_count": 0,
          "min": "6.09499979",
          "max": "57.7480011",
          "histogram": [
           {
            "bin_start": 6.09499979,
            "bin_end": 11.260299921000001,
            "count": 1
           },
           {
            "bin_start": 11.260299921000001,
            "bin_end": 16.425600052,
            "count": 0
           },
           {
            "bin_start": 16.425600052,
            "bin_end": 21.590900183000002,
            "count": 1
           },
           {
            "bin_start": 21.590900183000002,
            "bin_end": 26.756200314,
            "count": 1
           },
           {
            "bin_start": 26.756200314,
            "bin_end": 31.921500445000003,
            "count": 0
           },
           {
            "bin_start": 31.921500445000003,
            "bin_end": 37.086800576,
            "count": 1
           },
           {
            "bin_start": 37.086800576,
            "bin_end": 42.252100707000004,
            "count": 1
           },
           {
            "bin_start": 42.252100707000004,
            "bin_end": 47.417400838000006,
            "count": 4
           },
           {
            "bin_start": 47.417400838000006,
            "bin_end": 52.58270096900001,
            "count": 2
           },
           {
            "bin_start": 52.58270096900001,
            "bin_end": 57.7480011,
            "count": 1
           }
          ]
         }
        },
        {
         "name": "2018",
         "dtype": "float64",
         "stats": {
          "unique_count": 12,
          "nan_count": 0,
          "min": "6.114999771",
          "max": "57.7820015",
          "histogram": [
           {
            "bin_start": 6.114999771,
            "bin_end": 11.2816999439,
            "count": 1
           },
           {
            "bin_start": 11.2816999439,
            "bin_end": 16.4484001168,
            "count": 0
           },
           {
            "bin_start": 16.4484001168,
            "bin_end": 21.6151002897,
            "count": 2
           },
           {
            "bin_start": 21.6151002897,
            "bin_end": 26.7818004626,
            "count": 0
           },
           {
            "bin_start": 26.7818004626,
            "bin_end": 31.9485006355,
            "count": 0
           },
           {
            "bin_start": 31.9485006355,
            "bin_end": 37.1152008084,
            "count": 2
           },
           {
            "bin_start": 37.1152008084,
            "bin_end": 42.2819009813,
            "count": 0
           },
           {
            "bin_start": 42.2819009813,
            "bin_end": 47.4486011542,
            "count": 4
           },
           {
            "bin_start": 47.4486011542,
            "bin_end": 52.6153013271,
            "count": 2
           },
           {
            "bin_start": 52.6153013271,
            "bin_end": 57.7820015,
            "count": 1
           }
          ]
         }
        },
        {
         "name": "2019",
         "dtype": "float64",
         "stats": {
          "unique_count": 12,
          "nan_count": 0,
          "min": "6.138000011",
          "max": "57.82500076",
          "histogram": [
           {
            "bin_start": 6.138000011,
            "bin_end": 11.306700085900001,
            "count": 1
           },
           {
            "bin_start": 11.306700085900001,
            "bin_end": 16.4754001608,
            "count": 1
           },
           {
            "bin_start": 16.4754001608,
            "bin_end": 21.6441002357,
            "count": 1
           },
           {
            "bin_start": 21.6441002357,
            "bin_end": 26.8128003106,
            "count": 0
           },
           {
            "bin_start": 26.8128003106,
            "bin_end": 31.981500385500002,
            "count": 0
           },
           {
            "bin_start": 31.981500385500002,
            "bin_end": 37.1502004604,
            "count": 2
           },
           {
            "bin_start": 37.1502004604,
            "bin_end": 42.3189005353,
            "count": 2
           },
           {
            "bin_start": 42.3189005353,
            "bin_end": 47.487600610200005,
            "count": 3
           },
           {
            "bin_start": 47.487600610200005,
            "bin_end": 52.65630068510001,
            "count": 1
           },
           {
            "bin_start": 52.65630068510001,
            "bin_end": 57.82500076,
            "count": 1
           }
          ]
         }
        },
        {
         "name": "2020",
         "dtype": "float64",
         "stats": {
          "unique_count": 12,
          "nan_count": 0,
          "min": "6.080999851",
          "max": "57.26699829",
          "histogram": [
           {
            "bin_start": 6.080999851,
            "bin_end": 11.199599694899998,
            "count": 1
           },
           {
            "bin_start": 11.199599694899998,
            "bin_end": 16.3181995388,
            "count": 1
           },
           {
            "bin_start": 16.3181995388,
            "bin_end": 21.436799382699995,
            "count": 1
           },
           {
            "bin_start": 21.436799382699995,
            "bin_end": 26.555399226599995,
            "count": 0
           },
           {
            "bin_start": 26.555399226599995,
            "bin_end": 31.673999070499995,
            "count": 1
           },
           {
            "bin_start": 31.673999070499995,
            "bin_end": 36.792598914399996,
            "count": 2
           },
           {
            "bin_start": 36.792598914399996,
            "bin_end": 41.911198758299996,
            "count": 1
           },
           {
            "bin_start": 41.911198758299996,
            "bin_end": 47.029798602199996,
            "count": 4
           },
           {
            "bin_start": 47.029798602199996,
            "bin_end": 52.148398446099996,
            "count": 0
           },
           {
            "bin_start": 52.148398446099996,
            "bin_end": 57.26699829,
            "count": 1
           }
          ]
         }
        },
        {
         "name": "2021",
         "dtype": "float64",
         "stats": {
          "unique_count": 12,
          "nan_count": 0,
          "min": "5.994999886",
          "max": "57.23699951",
          "histogram": [
           {
            "bin_start": 5.994999886,
            "bin_end": 11.1191998484,
            "count": 1
           },
           {
            "bin_start": 11.1191998484,
            "bin_end": 16.2433998108,
            "count": 1
           },
           {
            "bin_start": 16.2433998108,
            "bin_end": 21.3675997732,
            "count": 1
           },
           {
            "bin_start": 21.3675997732,
            "bin_end": 26.491799735599997,
            "count": 0
           },
           {
            "bin_start": 26.491799735599997,
            "bin_end": 31.615999697999996,
            "count": 1
           },
           {
            "bin_start": 31.615999697999996,
            "bin_end": 36.7401996604,
            "count": 2
           },
           {
            "bin_start": 36.7401996604,
            "bin_end": 41.8643996228,
            "count": 2
           },
           {
            "bin_start": 41.8643996228,
            "bin_end": 46.9885995852,
            "count": 3
           },
           {
            "bin_start": 46.9885995852,
            "bin_end": 52.1127995476,
            "count": 0
           },
           {
            "bin_start": 52.1127995476,
            "bin_end": 57.23699951,
            "count": 1
           }
          ]
         }
        },
        {
         "name": "Total Change",
         "dtype": "float64",
         "stats": {
          "unique_count": 12,
          "nan_count": 0,
          "min": "-26.158000940000008",
          "max": "-6.88800049",
          "histogram": [
           {
            "bin_start": -26.158000940000008,
            "bin_end": -24.231000895000008,
            "count": 1
           },
           {
            "bin_start": -24.231000895000008,
            "bin_end": -22.304000850000005,
            "count": 1
           },
           {
            "bin_start": -22.304000850000005,
            "bin_end": -20.377000805000005,
            "count": 1
           },
           {
            "bin_start": -20.377000805000005,
            "bin_end": -18.450000760000005,
            "count": 3
           },
           {
            "bin_start": -18.450000760000005,
            "bin_end": -16.523000715000002,
            "count": 1
           },
           {
            "bin_start": -16.523000715000002,
            "bin_end": -14.596000670000002,
            "count": 0
           },
           {
            "bin_start": -14.596000670000002,
            "bin_end": -12.669000625000002,
            "count": 2
           },
           {
            "bin_start": -12.669000625000002,
            "bin_end": -10.742000580000001,
            "count": 2
           },
           {
            "bin_start": -10.742000580000001,
            "bin_end": -8.815000535,
            "count": 0
           },
           {
            "bin_start": -8.815000535,
            "bin_end": -6.88800049,
            "count": 1
           }
          ]
         }
        },
        {
         "name": "% Change",
         "dtype": "float64",
         "stats": {
          "unique_count": 12,
          "nan_count": 0,
          "min": "-65.0",
          "max": "-27.14",
          "histogram": [
           {
            "bin_start": -65,
            "bin_end": -61.214,
            "count": 1
           },
           {
            "bin_start": -61.214,
            "bin_end": -57.428,
            "count": 0
           },
           {
            "bin_start": -57.428,
            "bin_end": -53.641999999999996,
            "count": 0
           },
           {
            "bin_start": -53.641999999999996,
            "bin_end": -49.856,
            "count": 0
           },
           {
            "bin_start": -49.856,
            "bin_end": -46.07,
            "count": 0
           },
           {
            "bin_start": -46.07,
            "bin_end": -42.284,
            "count": 0
           },
           {
            "bin_start": -42.284,
            "bin_end": -38.498000000000005,
            "count": 0
           },
           {
            "bin_start": -38.498000000000005,
            "bin_end": -34.712,
            "count": 4
           },
           {
            "bin_start": -34.712,
            "bin_end": -30.926000000000002,
            "count": 4
           },
           {
            "bin_start": -30.926000000000002,
            "bin_end": -27.14,
            "count": 3
           }
          ]
         }
        },
        {
         "name": "_deepnote_index_column",
         "dtype": "int64"
        }
       ],
       "rows": [
        {
         "1990": 79.44999695,
         "1991": 79.43099976,
         "1992": 78.41899872,
         "1993": 77.3710022,
         "1994": 76.28800201,
         "1995": 75.17099762,
         "1996": 74.01899719,
         "1997": 72.83200073,
         "1998": 71.61100006,
         "1999": 70.35500336,
         "2000": 69.06600189,
         "2001": 67.74199677,
         "2002": 66.38700104,
         "2003": 64.99900055,
         "2004": 63.58200073,
         "2005": 62.13600159,
         "2006": 60.6629982,
         "2007": 60.21099854,
         "2008": 59.77799988,
         "2009": 59.36500168,
         "2010": 58.97499847,
         "2011": 58.61000061,
         "2012": 58.27000046,
         "2013": 57.95700073,
         "2014": 57.67100143,
         "2015": 57.69599915,
         "2016": 57.72000122,
         "2017": 57.7480011,
         "2018": 57.7820015,
         "2019": 57.82500076,
         "2020": 57.26699829,
         "2021": 57.23699951,
         "Country Name": "Burkina Faso",
         "Country Code": "BFA",
         "Total Change": -22.212997440000002,
         "% Change": -27.96,
         "_deepnote_index_column": 19
        },
        {
         "1990": 22.27300072,
         "1991": 22.28199959,
         "1992": 23.09600067,
         "1993": 22.41200066,
         "1994": 23.23200035,
         "1995": 21.86300087,
         "1996": 21.1609993,
         "1997": 20.47800064,
         "1998": 19.81100082,
         "1999": 20.64100075,
         "2000": 20.5340004,
         "2001": 20.45700073,
         "2002": 18.29800034,
         "2003": 19.02700043,
         "2004": 19.77700043,
         "2005": 20.54899979,
         "2006": 21.34399986,
         "2007": 23.40099907,
         "2008": 21.95199966,
         "2009": 22.9659996,
         "2010": 23.2329998,
         "2011": 22.56900024,
         "2012": 22.54500008,
         "2013": 23.05400085,
         "2014": 23.20199966,
         "2015": 22.84799957,
         "2016": 23.15399933,
         "2017": 22.26099968,
         "2018": 18.4829998,
         "2019": 15.89999962,
         "2020": 15.42300034,
         "2021": 15.38500023,
         "Country Name": "Egypt, Arab Rep.",
         "Country Code": "EGY",
         "Total Change": -6.88800049,
         "% Change": -30.93,
         "_deepnote_index_column": 67
        },
        {
         "1990": 30.44300079,
         "1991": 30.45299911,
         "1992": 30.49300003,
         "1993": 30.56999969,
         "1994": 30.69199944,
         "1995": 30.65600014,
         "1996": 30.62100029,
         "1997": 30.58399963,
         "1998": 30.54800034,
         "1999": 30.51199913,
         "2000": 30.47699928,
         "2001": 30.77099991,
         "2002": 31.06500053,
         "2003": 31.36199951,
         "2004": 31.65800095,
         "2005": 31.95499992,
         "2006": 30.71199989,
         "2007": 29.48999977,
         "2008": 28.29000092,
         "2009": 27.11400032,
         "2010": 25.96500015,
         "2011": 24.50900078,
         "2012": 23.09900093,
         "2013": 22.64999962,
         "2014": 22.20800018,
         "2015": 21.77499962,
         "2016": 21.35099983,
         "2017": 20.93400002,
         "2018": 20.52599907,
         "2019": 21.17900085,
         "2020": 18.60300064,
         "2021": 19.2329998,
         "Country Name": "India",
         "Country Code": "IND",
         "Total Change": -11.210000989999998,
         "% Change": -36.82,
         "_deepnote_index_column": 109
        },
        {
         "1990": 45.12799835,
         "1991": 40.96900177,
         "1992": 36.86600113,
         "1993": 37.62099838,
         "1994": 37.83800125,
         "1995": 35.5359993,
         "1996": 35.42399979,
         "1997": 35.20000076,
         "1998": 41.27199936,
         "1999": 37.59400177,
         "2000": 36.2859993,
         "2001": 36.04399872,
         "2002": 35.80599976,
         "2003": 35.56999969,
         "2004": 35.3370018,
         "2005": 35.10499954,
         "2006": 34.8730011,
         "2007": 34.64199829,
         "2008": 34.41199875,
         "2009": 34.18099976,
         "2010": 33.95000076,
         "2011": 33.94100189,
         "2012": 32.65399933,
         "2013": 34.98099899,
         "2014": 34.24100113,
         "2015": 35.40299988,
         "2016": 35.34400177,
         "2017": 36.19900131,
         "2018": 33.22100067,
         "2019": 32.94499969,
         "2020": 30.77799988,
         "2021": 30.89699936,
         "Country Name": "Sri Lanka",
         "Country Code": "LKA",
         "Total Change": -14.23099899,
         "% Change": -31.53,
         "_deepnote_index_column": 138
        },
        {
         "1990": 53.22600174,
         "1991": 54.04199982,
         "1992": 54.64699936,
         "1993": 54.91999817,
         "1994": 55.18099976,
         "1995": 55.13000107,
         "1996": 55.68399811,
         "1997": 55.47200012,
         "1998": 56.17699814,
         "1999": 56.53099823,
         "2000": 56.27600098,
         "2001": 54.63600159,
         "2002": 54.20700073,
         "2003": 49.09999847,
         "2004": 47.93099976,
         "2005": 47.49700165,
         "2006": 42.97700119,
         "2007": 42.15399933,
         "2008": 41.54899979,
         "2009": 39.68299866,
         "2010": 38.60699844,
         "2011": 39.27500153,
         "2012": 38.18000031,
         "2013": 38.56200027,
         "2014": 40.01900101,
         "2015": 41.15800095,
         "2016": 41.26599884,
         "2017": 39.41199875,
         "2018": 34.34799957,
         "2019": 38.11700058,
         "2020": 36.10699844,
         "2021": 33.8769989,
         "Country Name": "Moldova",
         "Country Code": "MDA",
         "Total Change": -19.349002840000004,
         "% Change": -36.35,
         "_deepnote_index_column": 150
        },
        {
         "1990": 64.55000305,
         "1991": 64.7480011,
         "1992": 63.9620018,
         "1993": 63.50799942,
         "1994": 62.93399811,
         "1995": 62.42100143,
         "1996": 61.96900177,
         "1997": 61.59700012,
         "1998": 61.21300125,
         "1999": 60.42699814,
         "2000": 59.45199966,
         "2001": 58.67900085,
         "2002": 57.88000107,
         "2003": 56.99200058,
         "2004": 56.1609993,
         "2005": 55.37200165,
         "2006": 54.65200043,
         "2007": 54.02799988,
         "2008": 53.52500153,
         "2009": 53.03499985,
         "2010": 52.61600113,
         "2011": 52.39099884,
         "2012": 52.09999847,
         "2013": 51.77899933,
         "2014": 51.48799896,
         "2015": 51.24700165,
         "2016": 49.2859993,
         "2017": 47.32699966,
         "2018": 48.06700134,
         "2019": 45.63100052,
         "2020": 43.06200027,
         "2021": 40.98699951,
         "Country Name": "Myanmar",
         "Country Code": "MMR",
         "Total Change": -23.563003540000004,
         "% Change": -36.5,
         "_deepnote_index_column": 160
        },
        {
         "1990": 72.41200256,
         "1991": 71.96900177,
         "1992": 71.30999756,
         "1993": 70.49299622,
         "1994": 70.31099701,
         "1995": 70.61799622,
         "1996": 70.34799957,
         "1997": 70.69599915,
         "1998": 71.0510025,
         "1999": 71.08300018,
         "2000": 71.36599731,
         "2001": 69.26599884,
         "2002": 67.08300018,
         "2003": 64.8239975,
         "2004": 62.4980011,
         "2005": 60.11199951,
         "2006": 57.67699814,
         "2007": 55.20500183,
         "2008": 52.70800018,
         "2009": 50.19599915,
         "2010": 47.68399811,
         "2011": 47.72299957,
         "2012": 47.63499832,
         "2013": 47.57400131,
         "2014": 47.2159996,
         "2015": 46.99700165,
         "2016": 46.93799973,
         "2017": 46.89400101,
         "2018": 46.97399902,
         "2019": 46.87099838,
         "2020": 46.42499924,
         "2021": 46.25400162,
         "Country Name": "Papua New Guinea",
         "Country Code": "PNG",
         "Total Change": -26.158000940000008,
         "% Change": -36.12,
         "_deepnote_index_column": 189
        },
        {
         "1990": 61.98199844,
         "1991": 62.52600098,
         "1992": 62.93999863,
         "1993": 62.11299896,
         "1994": 61.2820015,
         "1995": 60.44599915,
         "1996": 57.37799835,
         "1997": 59.64599991,
         "1998": 58.56299973,
         "1999": 58.64599991,
         "2000": 58.18700027,
         "2001": 57.0909996,
         "2002": 51.26900101,
         "2003": 49.04800034,
         "2004": 48.68700027,
         "2005": 46.86500168,
         "2006": 47.8429985,
         "2007": 47.47499847,
         "2008": 46.82899857,
         "2009": 46.65499878,
         "2010": 46.20399857,
         "2011": 46.10300064,
         "2012": 46.2519989,
         "2013": 46.00299835,
         "2014": 46.18999863,
         "2015": 45.25600052,
         "2016": 44.46099854,
         "2017": 45.91199875,
         "2018": 45.67300034,
         "2019": 45.60200119,
         "2020": 45.38299942,
         "2021": 42.79499817,
         "Country Name": "Romania",
         "Country Code": "ROU",
         "Total Change": -19.18700027,
         "% Change": -30.96,
         "_deepnote_index_column": 201
        },
        {
         "1990": 64.56199646,
         "1991": 64.48000336,
         "1992": 64.41500092,
         "1993": 64.36499786,
         "1994": 63.77000046,
         "1995": 63.16999817,
         "1996": 62.56600189,
         "1997": 61.95700073,
         "1998": 61.34400177,
         "1999": 60.72700119,
         "2000": 60.10499954,
         "2001": 59.48099899,
         "2002": 58.85200119,
         "2003": 58.21900177,
         "2004": 57.58200073,
         "2005": 56.94300079,
         "2006": 56.30099869,
         "2007": 55.65599823,
         "2008": 55.00999832,
         "2009": 54.36000061,
         "2010": 53.70800018,
         "2011": 53.05699921,
         "2012": 52.40299988,
         "2013": 51.7480011,
         "2014": 51.0909996,
         "2015": 50.43299866,
         "2016": 49.77700043,
         "2017": 49.11999893,
         "2018": 48.4620018,
         "2019": 48.54899979,
         "2020": 46.44300079,
         "2021": 46.91400146,
         "Country Name": "Chad",
         "Country Code": "TCD",
         "Total Change": -17.647995,
         "% Change": -27.33,
         "_deepnote_index_column": 229
        },
        {
         "1990": 47.14300156,
         "1991": 48.32099915,
         "1992": 48.99300003,
         "1993": 48.79100037,
         "1994": 48.17599869,
         "1995": 48.56800079,
         "1996": 48.32600021,
         "1997": 49.10599899,
         "1998": 48.9469986,
         "1999": 47.76800156,
         "2000": 48.17200089,
         "2001": 48.52999878,
         "2002": 46.88399887,
         "2003": 45.44499969,
         "2004": 47.97800064,
         "2005": 49.40499878,
         "2006": 49.96699905,
         "2007": 49.67900085,
         "2008": 49.68600082,
         "2009": 49.96099854,
         "2010": 49.56000137,
         "2011": 49.60900116,
         "2012": 49.45600128,
         "2013": 51.07899857,
         "2014": 49.99900055,
         "2015": 48.92399979,
         "2016": 47.86500168,
         "2017": 45.47800064,
         "2018": 42.43199921,
         "2019": 36.16699982,
         "2020": 34.4280014,
         "2021": 34.34799957,
         "Country Name": "Venezuela, RB",
         "Country Code": "VEN",
         "Total Change": -12.795001990000003,
         "% Change": -27.14,
         "_deepnote_index_column": 254
        }
       ]
      },
      "text/plain": "              Country Name Country Code       1990       1991       1992  \\\n19            Burkina Faso          BFA  79.449997  79.431000  78.418999   \n67        Egypt, Arab Rep.          EGY  22.273001  22.282000  23.096001   \n109                  India          IND  30.443001  30.452999  30.493000   \n138              Sri Lanka          LKA  45.127998  40.969002  36.866001   \n150                Moldova          MDA  53.226002  54.042000  54.646999   \n160                Myanmar          MMR  64.550003  64.748001  63.962002   \n189       Papua New Guinea          PNG  72.412003  71.969002  71.309998   \n201                Romania          ROU  61.981998  62.526001  62.939999   \n229                   Chad          TCD  64.561996  64.480003  64.415001   \n254          Venezuela, RB          VEN  47.143002  48.320999  48.993000   \n256  Virgin Islands (U.S.)          VIR  59.396000  59.098999  59.561001   \n262            Yemen, Rep.          YEM  17.129999  17.096001  17.080999   \n\n          1993       1994       1995       1996       1997  ...       2014  \\\n19   77.371002  76.288002  75.170998  74.018997  72.832001  ...  57.671001   \n67   22.412001  23.232000  21.863001  21.160999  20.478001  ...  23.202000   \n109  30.570000  30.691999  30.656000  30.621000  30.584000  ...  22.208000   \n138  37.620998  37.838001  35.535999  35.424000  35.200001  ...  34.241001   \n150  54.919998  55.181000  55.130001  55.683998  55.472000  ...  40.019001   \n160  63.507999  62.933998  62.421001  61.969002  61.597000  ...  51.487999   \n189  70.492996  70.310997  70.617996  70.348000  70.695999  ...  47.216000   \n201  62.112999  61.282001  60.445999  57.377998  59.646000  ...  46.189999   \n229  64.364998  63.770000  63.169998  62.566002  61.957001  ...  51.091000   \n254  48.791000  48.175999  48.568001  48.326000  49.105999  ...  49.999001   \n256  63.176998  59.110001  55.598000  53.130001  53.444000  ...  47.777000   \n262  16.999001  17.017000  17.844000  18.768000  19.742001  ...   6.129000   \n\n          2015       2016       2017       2018       2019       2020  \\\n19   57.695999  57.720001  57.748001  57.782001  57.825001  57.266998   \n67   22.848000  23.153999  22.261000  18.483000  15.900000  15.423000   \n109  21.775000  21.351000  20.934000  20.525999  21.179001  18.603001   \n138  35.403000  35.344002  36.199001  33.221001  32.945000  30.778000   \n150  41.158001  41.265999  39.411999  34.348000  38.117001  36.106998   \n160  51.247002  49.285999  47.327000  48.067001  45.631001  43.062000   \n189  46.997002  46.938000  46.894001  46.973999  46.870998  46.424999   \n201  45.256001  44.460999  45.911999  45.673000  45.602001  45.382999   \n229  50.432999  49.777000  49.119999  48.462002  48.549000  46.443001   \n254  48.924000  47.865002  45.478001  42.431999  36.167000  34.428001   \n256  49.243000  48.502998  48.551998  44.736000  41.984001  41.383999   \n262   6.095000   6.089000   6.095000   6.115000   6.138000   6.081000   \n\n          2021  Total Change  % Change  \n19   57.237000    -22.212997    -27.96  \n67   15.385000     -6.888000    -30.93  \n109  19.233000    -11.210001    -36.82  \n138  30.896999    -14.230999    -31.53  \n150  33.876999    -19.349003    -36.35  \n160  40.987000    -23.563004    -36.50  \n189  46.254002    -26.158001    -36.12  \n201  42.794998    -19.187000    -30.96  \n229  46.914001    -17.647995    -27.33  \n254  34.348000    -12.795002    -27.14  \n256  40.696999    -18.699001    -31.48  \n262   5.995000    -11.134999    -65.00  \n\n[12 rows x 36 columns]",
      "text/html": "<div>\n<style scoped>\n    .dataframe tbody tr th:only-of-type {\n        vertical-align: middle;\n    }\n\n    .dataframe tbody tr th {\n        vertical-align: top;\n    }\n\n    .dataframe thead th {\n        text-align: right;\n    }\n</style>\n<table border=\"1\" class=\"dataframe\">\n  <thead>\n    <tr style=\"text-align: right;\">\n      <th></th>\n      <th>Country Name</th>\n      <th>Country Code</th>\n      <th>1990</th>\n      <th>1991</th>\n      <th>1992</th>\n      <th>1993</th>\n      <th>1994</th>\n      <th>1995</th>\n      <th>1996</th>\n      <th>1997</th>\n      <th>...</th>\n      <th>2014</th>\n      <th>2015</th>\n      <th>2016</th>\n      <th>2017</th>\n      <th>2018</th>\n      <th>2019</th>\n      <th>2020</th>\n      <th>2021</th>\n      <th>Total Change</th>\n      <th>% Change</th>\n    </tr>\n  </thead>\n  <tbody>\n    <tr>\n      <th>19</th>\n      <td>Burkina Faso</td>\n      <td>BFA</td>\n      <td>79.449997</td>\n      <td>79.431000</td>\n      <td>78.418999</td>\n      <td>77.371002</td>\n      <td>76.288002</td>\n      <td>75.170998</td>\n      <td>74.018997</td>\n      <td>72.832001</td>\n      <td>...</td>\n      <td>57.671001</td>\n      <td>57.695999</td>\n      <td>57.720001</td>\n      <td>57.748001</td>\n      <td>57.782001</td>\n      <td>57.825001</td>\n      <td>57.266998</td>\n      <td>57.237000</td>\n      <td>-22.212997</td>\n      <td>-27.96</td>\n    </tr>\n    <tr>\n      <th>67</th>\n      <td>Egypt, Arab Rep.</td>\n      <td>EGY</td>\n      <td>22.273001</td>\n      <td>22.282000</td>\n      <td>23.096001</td>\n      <td>22.412001</td>\n      <td>23.232000</td>\n      <td>21.863001</td>\n      <td>21.160999</td>\n      <td>20.478001</td>\n      <td>...</td>\n      <td>23.202000</td>\n      <td>22.848000</td>\n      <td>23.153999</td>\n      <td>22.261000</td>\n      <td>18.483000</td>\n      <td>15.900000</td>\n      <td>15.423000</td>\n      <td>15.385000</td>\n      <td>-6.888000</td>\n      <td>-30.93</td>\n    </tr>\n    <tr>\n      <th>109</th>\n      <td>India</td>\n      <td>IND</td>\n      <td>30.443001</td>\n      <td>30.452999</td>\n      <td>30.493000</td>\n      <td>30.570000</td>\n      <td>30.691999</td>\n      <td>30.656000</td>\n      <td>30.621000</td>\n      <td>30.584000</td>\n      <td>...</td>\n      <td>22.208000</td>\n      <td>21.775000</td>\n      <td>21.351000</td>\n      <td>20.934000</td>\n      <td>20.525999</td>\n      <td>21.179001</td>\n      <td>18.603001</td>\n      <td>19.233000</td>\n      <td>-11.210001</td>\n      <td>-36.82</td>\n    </tr>\n    <tr>\n      <th>138</th>\n      <td>Sri Lanka</td>\n      <td>LKA</td>\n      <td>45.127998</td>\n      <td>40.969002</td>\n      <td>36.866001</td>\n      <td>37.620998</td>\n      <td>37.838001</td>\n      <td>35.535999</td>\n      <td>35.424000</td>\n      <td>35.200001</td>\n      <td>...</td>\n      <td>34.241001</td>\n      <td>35.403000</td>\n      <td>35.344002</td>\n      <td>36.199001</td>\n      <td>33.221001</td>\n      <td>32.945000</td>\n      <td>30.778000</td>\n      <td>30.896999</td>\n      <td>-14.230999</td>\n      <td>-31.53</td>\n    </tr>\n    <tr>\n      <th>150</th>\n      <td>Moldova</td>\n      <td>MDA</td>\n      <td>53.226002</td>\n      <td>54.042000</td>\n      <td>54.646999</td>\n      <td>54.919998</td>\n      <td>55.181000</td>\n      <td>55.130001</td>\n      <td>55.683998</td>\n      <td>55.472000</td>\n      <td>...</td>\n      <td>40.019001</td>\n      <td>41.158001</td>\n      <td>41.265999</td>\n      <td>39.411999</td>\n      <td>34.348000</td>\n      <td>38.117001</td>\n      <td>36.106998</td>\n      <td>33.876999</td>\n      <td>-19.349003</td>\n      <td>-36.35</td>\n    </tr>\n    <tr>\n      <th>160</th>\n      <td>Myanmar</td>\n      <td>MMR</td>\n      <td>64.550003</td>\n      <td>64.748001</td>\n      <td>63.962002</td>\n      <td>63.507999</td>\n      <td>62.933998</td>\n      <td>62.421001</td>\n      <td>61.969002</td>\n      <td>61.597000</td>\n      <td>...</td>\n      <td>51.487999</td>\n      <td>51.247002</td>\n      <td>49.285999</td>\n      <td>47.327000</td>\n      <td>48.067001</td>\n      <td>45.631001</td>\n      <td>43.062000</td>\n      <td>40.987000</td>\n      <td>-23.563004</td>\n      <td>-36.50</td>\n    </tr>\n    <tr>\n      <th>189</th>\n      <td>Papua New Guinea</td>\n      <td>PNG</td>\n      <td>72.412003</td>\n      <td>71.969002</td>\n      <td>71.309998</td>\n      <td>70.492996</td>\n      <td>70.310997</td>\n      <td>70.617996</td>\n      <td>70.348000</td>\n      <td>70.695999</td>\n      <td>...</td>\n      <td>47.216000</td>\n      <td>46.997002</td>\n      <td>46.938000</td>\n      <td>46.894001</td>\n      <td>46.973999</td>\n      <td>46.870998</td>\n      <td>46.424999</td>\n      <td>46.254002</td>\n      <td>-26.158001</td>\n      <td>-36.12</td>\n    </tr>\n    <tr>\n      <th>201</th>\n      <td>Romania</td>\n      <td>ROU</td>\n      <td>61.981998</td>\n      <td>62.526001</td>\n      <td>62.939999</td>\n      <td>62.112999</td>\n      <td>61.282001</td>\n      <td>60.445999</td>\n      <td>57.377998</td>\n      <td>59.646000</td>\n      <td>...</td>\n      <td>46.189999</td>\n      <td>45.256001</td>\n      <td>44.460999</td>\n      <td>45.911999</td>\n      <td>45.673000</td>\n      <td>45.602001</td>\n      <td>45.382999</td>\n      <td>42.794998</td>\n      <td>-19.187000</td>\n      <td>-30.96</td>\n    </tr>\n    <tr>\n      <th>229</th>\n      <td>Chad</td>\n      <td>TCD</td>\n      <td>64.561996</td>\n      <td>64.480003</td>\n      <td>64.415001</td>\n      <td>64.364998</td>\n      <td>63.770000</td>\n      <td>63.169998</td>\n      <td>62.566002</td>\n      <td>61.957001</td>\n      <td>...</td>\n      <td>51.091000</td>\n      <td>50.432999</td>\n      <td>49.777000</td>\n      <td>49.119999</td>\n      <td>48.462002</td>\n      <td>48.549000</td>\n      <td>46.443001</td>\n      <td>46.914001</td>\n      <td>-17.647995</td>\n      <td>-27.33</td>\n    </tr>\n    <tr>\n      <th>254</th>\n      <td>Venezuela, RB</td>\n      <td>VEN</td>\n      <td>47.143002</td>\n      <td>48.320999</td>\n      <td>48.993000</td>\n      <td>48.791000</td>\n      <td>48.175999</td>\n      <td>48.568001</td>\n      <td>48.326000</td>\n      <td>49.105999</td>\n      <td>...</td>\n      <td>49.999001</td>\n      <td>48.924000</td>\n      <td>47.865002</td>\n      <td>45.478001</td>\n      <td>42.431999</td>\n      <td>36.167000</td>\n      <td>34.428001</td>\n      <td>34.348000</td>\n      <td>-12.795002</td>\n      <td>-27.14</td>\n    </tr>\n    <tr>\n      <th>256</th>\n      <td>Virgin Islands (U.S.)</td>\n      <td>VIR</td>\n      <td>59.396000</td>\n      <td>59.098999</td>\n      <td>59.561001</td>\n      <td>63.176998</td>\n      <td>59.110001</td>\n      <td>55.598000</td>\n      <td>53.130001</td>\n      <td>53.444000</td>\n      <td>...</td>\n      <td>47.777000</td>\n      <td>49.243000</td>\n      <td>48.502998</td>\n      <td>48.551998</td>\n      <td>44.736000</td>\n      <td>41.984001</td>\n      <td>41.383999</td>\n      <td>40.696999</td>\n      <td>-18.699001</td>\n      <td>-31.48</td>\n    </tr>\n    <tr>\n      <th>262</th>\n      <td>Yemen, Rep.</td>\n      <td>YEM</td>\n      <td>17.129999</td>\n      <td>17.096001</td>\n      <td>17.080999</td>\n      <td>16.999001</td>\n      <td>17.017000</td>\n      <td>17.844000</td>\n      <td>18.768000</td>\n      <td>19.742001</td>\n      <td>...</td>\n      <td>6.129000</td>\n      <td>6.095000</td>\n      <td>6.089000</td>\n      <td>6.095000</td>\n      <td>6.115000</td>\n      <td>6.138000</td>\n      <td>6.081000</td>\n      <td>5.995000</td>\n      <td>-11.134999</td>\n      <td>-65.00</td>\n    </tr>\n  </tbody>\n</table>\n<p>12 rows × 36 columns</p>\n</div>"
     },
     "metadata": {}
    }
   ]
  },
  {
   "cell_type": "markdown",
   "source": "# Section 2 - Data Set 2: abortion rates by country ",
   "metadata": {
    "cell_id": "00019-8ec95783-7c2a-49fc-8d4f-ccb0dcc39d28",
    "deepnote_cell_type": "markdown",
    "deepnote_cell_height": 134
   }
  },
  {
   "cell_type": "markdown",
   "source": "# Step 1: Import the data",
   "metadata": {
    "cell_id": "00020-09ffb365-6593-4d8b-bac9-d9832379f081",
    "deepnote_cell_type": "markdown",
    "deepnote_cell_height": 82
   }
  },
  {
   "cell_type": "code",
   "metadata": {
    "cell_id": "00021-4a93a5d1-765b-4461-82b5-315e32ea828d",
    "deepnote_to_be_reexecuted": false,
    "source_hash": "67d77c6f",
    "execution_start": 1658344242238,
    "execution_millis": 21,
    "deepnote_cell_type": "code",
    "deepnote_cell_height": 654
   },
   "source": "file_2 = pd.read_csv('csvData.csv', low_memory = False)\nabor_df = pd.DataFrame(file_2)\n\nabor_df.head(20)",
   "execution_count": null,
   "outputs": [
    {
     "output_type": "execute_result",
     "execution_count": 11,
     "data": {
      "application/vnd.deepnote.dataframe.v3+json": {
       "column_count": 3,
       "row_count": 20,
       "columns": [
        {
         "name": "country",
         "dtype": "object",
         "stats": {
          "unique_count": 20,
          "nan_count": 0,
          "categories": [
           {
            "name": "Russia",
            "count": 1
           },
           {
            "name": "Vietnam",
            "count": 1
           },
           {
            "name": "18 others",
            "count": 18
           }
          ]
         }
        },
        {
         "name": "abortionsRate",
         "dtype": "float64",
         "stats": {
          "unique_count": 19,
          "nan_count": 0,
          "min": "17.6",
          "max": "53.7",
          "histogram": [
           {
            "bin_start": 17.6,
            "bin_end": 21.21,
            "count": 6
           },
           {
            "bin_start": 21.21,
            "bin_end": 24.82,
            "count": 6
           },
           {
            "bin_start": 24.82,
            "bin_end": 28.430000000000003,
            "count": 3
           },
           {
            "bin_start": 28.430000000000003,
            "bin_end": 32.040000000000006,
            "count": 1
           },
           {
            "bin_start": 32.040000000000006,
            "bin_end": 35.650000000000006,
            "count": 3
           },
           {
            "bin_start": 35.650000000000006,
            "bin_end": 39.260000000000005,
            "count": 0
           },
           {
            "bin_start": 39.260000000000005,
            "bin_end": 42.870000000000005,
            "count": 0
           },
           {
            "bin_start": 42.870000000000005,
            "bin_end": 46.480000000000004,
            "count": 0
           },
           {
            "bin_start": 46.480000000000004,
            "bin_end": 50.09,
            "count": 0
           },
           {
            "bin_start": 50.09,
            "bin_end": 53.7,
            "count": 1
           }
          ]
         }
        },
        {
         "name": "pop2022",
         "dtype": "float64",
         "stats": {
          "unique_count": 20,
          "nan_count": 0,
          "min": "99.426",
          "max": "1448471.4",
          "histogram": [
           {
            "bin_start": 99.426,
            "bin_end": 144936.6234,
            "count": 17
           },
           {
            "bin_start": 144936.6234,
            "bin_end": 289773.8208,
            "count": 1
           },
           {
            "bin_start": 289773.8208,
            "bin_end": 434611.0182,
            "count": 1
           },
           {
            "bin_start": 434611.0182,
            "bin_end": 579448.2156,
            "count": 0
           },
           {
            "bin_start": 579448.2156,
            "bin_end": 724285.413,
            "count": 0
           },
           {
            "bin_start": 724285.413,
            "bin_end": 869122.6104,
            "count": 0
           },
           {
            "bin_start": 869122.6104,
            "bin_end": 1013959.8078000001,
            "count": 0
           },
           {
            "bin_start": 1013959.8078000001,
            "bin_end": 1158797.0052,
            "count": 0
           },
           {
            "bin_start": 1158797.0052,
            "bin_end": 1303634.2026,
            "count": 0
           },
           {
            "bin_start": 1303634.2026,
            "bin_end": 1448471.4,
            "count": 1
           }
          ]
         }
        },
        {
         "name": "_deepnote_index_column",
         "dtype": "int64"
        }
       ],
       "rows": [
        {
         "country": "Russia",
         "abortionsRate": 53.7,
         "pop2022": 145805.947,
         "_deepnote_index_column": 0
        },
        {
         "country": "Vietnam",
         "abortionsRate": 35.2,
         "pop2022": 98953.541,
         "_deepnote_index_column": 1
        },
        {
         "country": "Kazakhstan",
         "abortionsRate": 35,
         "pop2022": 19205.043,
         "_deepnote_index_column": 2
        },
        {
         "country": "Estonia",
         "abortionsRate": 33.3,
         "pop2022": 1321.91,
         "_deepnote_index_column": 3
        },
        {
         "country": "Belarus",
         "abortionsRate": 31.7,
         "pop2022": 9432.8,
         "_deepnote_index_column": 4
        },
        {
         "country": "Romania",
         "abortionsRate": 27.8,
         "pop2022": 19031.335,
         "_deepnote_index_column": 5
        },
        {
         "country": "Ukraine",
         "abortionsRate": 27.5,
         "pop2022": 43192.122,
         "_deepnote_index_column": 6
        },
        {
         "country": "Latvia",
         "abortionsRate": 27.3,
         "pop2022": 1848.837,
         "_deepnote_index_column": 7
        },
        {
         "country": "Cuba",
         "abortionsRate": 24.8,
         "pop2022": 11305.652,
         "_deepnote_index_column": 8
        },
        {
         "country": "China",
         "abortionsRate": 24.2,
         "pop2022": 1448471.4,
         "_deepnote_index_column": 9
        }
       ]
      },
      "text/plain": "          country  abortionsRate      pop2022\n0          Russia           53.7   145805.947\n1         Vietnam           35.2    98953.541\n2      Kazakhstan           35.0    19205.043\n3         Estonia           33.3     1321.910\n4         Belarus           31.7     9432.800\n5         Romania           27.8    19031.335\n6         Ukraine           27.5    43192.122\n7          Latvia           27.3     1848.837\n8            Cuba           24.8    11305.652\n9           China           24.2  1448471.400\n10        Hungary           23.4     9606.259\n11       Mongolia           21.7     3378.078\n12     Seychelles           21.6       99.426\n13       Bulgaria           21.3     6844.597\n14  United States           20.8   334805.269\n15         Sweden           20.2    10218.971\n16    New Zealand           19.7     4898.203\n17      Australia           19.7    26068.792\n18        Georgia           19.1     3968.738\n19        Moldova           17.6     4013.171",
      "text/html": "<div>\n<style scoped>\n    .dataframe tbody tr th:only-of-type {\n        vertical-align: middle;\n    }\n\n    .dataframe tbody tr th {\n        vertical-align: top;\n    }\n\n    .dataframe thead th {\n        text-align: right;\n    }\n</style>\n<table border=\"1\" class=\"dataframe\">\n  <thead>\n    <tr style=\"text-align: right;\">\n      <th></th>\n      <th>country</th>\n      <th>abortionsRate</th>\n      <th>pop2022</th>\n    </tr>\n  </thead>\n  <tbody>\n    <tr>\n      <th>0</th>\n      <td>Russia</td>\n      <td>53.7</td>\n      <td>145805.947</td>\n    </tr>\n    <tr>\n      <th>1</th>\n      <td>Vietnam</td>\n      <td>35.2</td>\n      <td>98953.541</td>\n    </tr>\n    <tr>\n      <th>2</th>\n      <td>Kazakhstan</td>\n      <td>35.0</td>\n      <td>19205.043</td>\n    </tr>\n    <tr>\n      <th>3</th>\n      <td>Estonia</td>\n      <td>33.3</td>\n      <td>1321.910</td>\n    </tr>\n    <tr>\n      <th>4</th>\n      <td>Belarus</td>\n      <td>31.7</td>\n      <td>9432.800</td>\n    </tr>\n    <tr>\n      <th>5</th>\n      <td>Romania</td>\n      <td>27.8</td>\n      <td>19031.335</td>\n    </tr>\n    <tr>\n      <th>6</th>\n      <td>Ukraine</td>\n      <td>27.5</td>\n      <td>43192.122</td>\n    </tr>\n    <tr>\n      <th>7</th>\n      <td>Latvia</td>\n      <td>27.3</td>\n      <td>1848.837</td>\n    </tr>\n    <tr>\n      <th>8</th>\n      <td>Cuba</td>\n      <td>24.8</td>\n      <td>11305.652</td>\n    </tr>\n    <tr>\n      <th>9</th>\n      <td>China</td>\n      <td>24.2</td>\n      <td>1448471.400</td>\n    </tr>\n    <tr>\n      <th>10</th>\n      <td>Hungary</td>\n      <td>23.4</td>\n      <td>9606.259</td>\n    </tr>\n    <tr>\n      <th>11</th>\n      <td>Mongolia</td>\n      <td>21.7</td>\n      <td>3378.078</td>\n    </tr>\n    <tr>\n      <th>12</th>\n      <td>Seychelles</td>\n      <td>21.6</td>\n      <td>99.426</td>\n    </tr>\n    <tr>\n      <th>13</th>\n      <td>Bulgaria</td>\n      <td>21.3</td>\n      <td>6844.597</td>\n    </tr>\n    <tr>\n      <th>14</th>\n      <td>United States</td>\n      <td>20.8</td>\n      <td>334805.269</td>\n    </tr>\n    <tr>\n      <th>15</th>\n      <td>Sweden</td>\n      <td>20.2</td>\n      <td>10218.971</td>\n    </tr>\n    <tr>\n      <th>16</th>\n      <td>New Zealand</td>\n      <td>19.7</td>\n      <td>4898.203</td>\n    </tr>\n    <tr>\n      <th>17</th>\n      <td>Australia</td>\n      <td>19.7</td>\n      <td>26068.792</td>\n    </tr>\n    <tr>\n      <th>18</th>\n      <td>Georgia</td>\n      <td>19.1</td>\n      <td>3968.738</td>\n    </tr>\n    <tr>\n      <th>19</th>\n      <td>Moldova</td>\n      <td>17.6</td>\n      <td>4013.171</td>\n    </tr>\n  </tbody>\n</table>\n</div>"
     },
     "metadata": {}
    }
   ]
  },
  {
   "cell_type": "markdown",
   "source": "# Step 2: Cleaning the data",
   "metadata": {
    "cell_id": "00022-c0ef850a-274f-4ab7-8b97-f9518710bf4d",
    "deepnote_cell_type": "markdown",
    "deepnote_cell_height": 82
   }
  },
  {
   "cell_type": "code",
   "metadata": {
    "scrolled": true,
    "cell_id": "00023-ecd2ddd0-8afc-4a07-bd07-4fef63e69bfd",
    "deepnote_to_be_reexecuted": false,
    "source_hash": "5c1db233",
    "execution_start": 1658344242257,
    "execution_millis": 10,
    "deepnote_cell_type": "code",
    "deepnote_cell_height": 212,
    "deepnote_output_heights": [
     79
    ]
   },
   "source": "\nabor_df.isnull().sum()\n",
   "execution_count": null,
   "outputs": [
    {
     "output_type": "execute_result",
     "execution_count": 12,
     "data": {
      "text/plain": "country          0\nabortionsRate    0\npop2022          0\ndtype: int64"
     },
     "metadata": {}
    }
   ]
  },
  {
   "cell_type": "markdown",
   "source": "there seems to be no null values in our second data set making our job easy",
   "metadata": {
    "cell_id": "00024-00a19e08-0c4b-4ce6-9358-f975a1c10811",
    "deepnote_cell_type": "markdown",
    "deepnote_cell_height": 52.390625
   }
  },
  {
   "cell_type": "markdown",
   "source": "# Section 3 : Combining our datasets",
   "metadata": {
    "cell_id": "00025-d8bbe2a1-da5a-4f84-9c99-e518985ac84b",
    "deepnote_cell_type": "markdown",
    "deepnote_cell_height": 134
   }
  },
  {
   "cell_type": "markdown",
   "source": "# Step 1 : Find overlaping section of the data (countries)",
   "metadata": {
    "cell_id": "00026-0223d6aa-6236-47df-9787-fdbeb6105563",
    "deepnote_cell_type": "markdown",
    "deepnote_cell_height": 186
   }
  },
  {
   "cell_type": "code",
   "metadata": {
    "cell_id": "00027-8f0d74f9-91d8-443d-8981-54bfa113dbda",
    "deepnote_to_be_reexecuted": false,
    "source_hash": "8c253281",
    "execution_start": 1658344242260,
    "execution_millis": 14,
    "deepnote_cell_type": "code",
    "deepnote_cell_height": 798,
    "deepnote_output_heights": [
     611
    ]
   },
   "source": "fe_countries = []\n\nfor country in fe_df['Country Name']:\n    fe_countries.append(country)\n\nfe_countries",
   "execution_count": null,
   "outputs": [
    {
     "output_type": "execute_result",
     "execution_count": 13,
     "data": {
      "text/plain": "['Africa Eastern and Southern',\n 'Afghanistan',\n 'Africa Western and Central',\n 'Angola',\n 'Albania',\n 'Arab World',\n 'United Arab Emirates',\n 'Argentina',\n 'Armenia',\n 'Australia',\n 'Austria',\n 'Azerbaijan',\n 'Burundi',\n 'Belgium',\n 'Benin',\n 'Burkina Faso',\n 'Bangladesh',\n 'Bulgaria',\n 'Bahrain',\n 'Bahamas, The',\n 'Bosnia and Herzegovina',\n 'Belarus',\n 'Belize',\n 'Bolivia',\n 'Brazil',\n 'Barbados',\n 'Brunei Darussalam',\n 'Bhutan',\n 'Botswana',\n 'Central African Republic',\n 'Canada',\n 'Central Europe and the Baltics',\n 'Switzerland',\n 'Channel Islands',\n 'Chile',\n 'China',\n \"Cote d'Ivoire\",\n 'Cameroon',\n 'Congo, Dem. Rep.',\n 'Congo, Rep.',\n 'Colombia',\n 'Comoros',\n 'Cabo Verde',\n 'Costa Rica',\n 'Caribbean small states',\n 'Cuba',\n 'Cyprus',\n 'Czech Republic',\n 'Germany',\n 'Djibouti',\n 'Denmark',\n 'Dominican Republic',\n 'Algeria',\n 'East Asia & Pacific (excluding high income)',\n 'Early-demographic dividend',\n 'East Asia & Pacific',\n 'Europe & Central Asia (excluding high income)',\n 'Europe & Central Asia',\n 'Ecuador',\n 'Egypt, Arab Rep.',\n 'Euro area',\n 'Eritrea',\n 'Spain',\n 'Estonia',\n 'Ethiopia',\n 'European Union',\n 'Fragile and conflict affected situations',\n 'Finland',\n 'Fiji',\n 'France',\n 'Gabon',\n 'United Kingdom',\n 'Georgia',\n 'Ghana',\n 'Guinea',\n 'Gambia, The',\n 'Guinea-Bissau',\n 'Equatorial Guinea',\n 'Greece',\n 'Guatemala',\n 'Guam',\n 'Guyana',\n 'High income',\n 'Hong Kong SAR, China',\n 'Honduras',\n 'Heavily indebted poor countries (HIPC)',\n 'Croatia',\n 'Haiti',\n 'Hungary',\n 'IBRD only',\n 'IDA & IBRD total',\n 'IDA total',\n 'IDA blend',\n 'Indonesia',\n 'IDA only',\n 'India',\n 'Ireland',\n 'Iran, Islamic Rep.',\n 'Iraq',\n 'Iceland',\n 'Israel',\n 'Italy',\n 'Jamaica',\n 'Jordan',\n 'Japan',\n 'Kazakhstan',\n 'Kenya',\n 'Kyrgyz Republic',\n 'Cambodia',\n 'Korea, Rep.',\n 'Kuwait',\n 'Latin America & Caribbean (excluding high income)',\n 'Lao PDR',\n 'Lebanon',\n 'Liberia',\n 'Libya',\n 'St. Lucia',\n 'Latin America & Caribbean',\n 'Least developed countries: UN classification',\n 'Low income',\n 'Sri Lanka',\n 'Lower middle income',\n 'Low & middle income',\n 'Lesotho',\n 'Late-demographic dividend',\n 'Lithuania',\n 'Luxembourg',\n 'Latvia',\n 'Macao SAR, China',\n 'Morocco',\n 'Moldova',\n 'Madagascar',\n 'Maldives',\n 'Middle East & North Africa',\n 'Mexico',\n 'Middle income',\n 'North Macedonia',\n 'Mali',\n 'Malta',\n 'Myanmar',\n 'Middle East & North Africa (excluding high income)',\n 'Montenegro',\n 'Mongolia',\n 'Mozambique',\n 'Mauritania',\n 'Mauritius',\n 'Malawi',\n 'Malaysia',\n 'North America',\n 'Namibia',\n 'New Caledonia',\n 'Niger',\n 'Nigeria',\n 'Nicaragua',\n 'Netherlands',\n 'Norway',\n 'Nepal',\n 'New Zealand',\n 'OECD members',\n 'Oman',\n 'Other small states',\n 'Pakistan',\n 'Panama',\n 'Peru',\n 'Philippines',\n 'Papua New Guinea',\n 'Poland',\n 'Pre-demographic dividend',\n 'Puerto Rico',\n \"Korea, Dem. People's Rep.\",\n 'Portugal',\n 'Paraguay',\n 'West Bank and Gaza',\n 'Pacific island small states',\n 'Post-demographic dividend',\n 'French Polynesia',\n 'Qatar',\n 'Romania',\n 'Russian Federation',\n 'Rwanda',\n 'South Asia',\n 'Saudi Arabia',\n 'Sudan',\n 'Senegal',\n 'Singapore',\n 'Solomon Islands',\n 'Sierra Leone',\n 'El Salvador',\n 'Somalia',\n 'Serbia',\n 'Sub-Saharan Africa (excluding high income)',\n 'South Sudan',\n 'Sub-Saharan Africa',\n 'Small states',\n 'Sao Tome and Principe',\n 'Suriname',\n 'Slovak Republic',\n 'Slovenia',\n 'Sweden',\n 'Eswatini',\n 'Syrian Arab Republic',\n 'Chad',\n 'East Asia & Pacific (IDA & IBRD countries)',\n 'Europe & Central Asia (IDA & IBRD countries)',\n 'Togo',\n 'Thailand',\n 'Tajikistan',\n 'Turkmenistan',\n 'Latin America & the Caribbean (IDA & IBRD countries)',\n 'Timor-Leste',\n 'Middle East & North Africa (IDA & IBRD countries)',\n 'Tonga',\n 'South Asia (IDA & IBRD)',\n 'Sub-Saharan Africa (IDA & IBRD countries)',\n 'Trinidad and Tobago',\n 'Tunisia',\n 'Turkiye',\n 'Tanzania',\n 'Uganda',\n 'Ukraine',\n 'Upper middle income',\n 'Uruguay',\n 'United States',\n 'Uzbekistan',\n 'St. Vincent and the Grenadines',\n 'Venezuela, RB',\n 'Virgin Islands (U.S.)',\n 'Vietnam',\n 'Vanuatu',\n 'World',\n 'Samoa',\n 'Yemen, Rep.',\n 'South Africa',\n 'Zambia',\n 'Zimbabwe']"
     },
     "metadata": {}
    }
   ]
  },
  {
   "cell_type": "code",
   "metadata": {
    "scrolled": true,
    "cell_id": "00028-d4d01d38-a16e-44c3-b8c9-aa7a7f94e4ff",
    "deepnote_to_be_reexecuted": false,
    "source_hash": "a692cc8b",
    "execution_start": 1658344242276,
    "execution_millis": 3,
    "deepnote_cell_type": "code",
    "deepnote_cell_height": 816,
    "deepnote_output_heights": [
     611
    ]
   },
   "source": "# defining \nab_countries = []\n\nfor country in abor_df['country']:\n    ab_countries.append(country)\n\nab_countries ",
   "execution_count": null,
   "outputs": [
    {
     "output_type": "execute_result",
     "execution_count": 14,
     "data": {
      "text/plain": "['Russia',\n 'Vietnam',\n 'Kazakhstan',\n 'Estonia',\n 'Belarus',\n 'Romania',\n 'Ukraine',\n 'Latvia',\n 'Cuba',\n 'China',\n 'Hungary',\n 'Mongolia',\n 'Seychelles',\n 'Bulgaria',\n 'United States',\n 'Sweden',\n 'New Zealand',\n 'Australia',\n 'Georgia',\n 'Moldova',\n 'United Kingdom',\n 'France',\n 'Dominican Republic',\n 'Kyrgyzstan',\n 'Slovenia',\n 'Norway',\n 'Canada',\n 'Denmark',\n 'Iceland',\n 'Lithuania',\n 'Armenia',\n 'Israel',\n 'Singapore',\n 'Tajikistan',\n 'Japan',\n 'Czech Republic',\n 'Slovakia',\n 'Finland',\n 'Bahrain',\n 'Italy',\n 'Netherlands',\n 'Albania',\n 'Azerbaijan',\n 'Tunisia',\n 'Spain',\n 'Uzbekistan',\n 'Germany',\n 'Belgium',\n 'Switzerland',\n 'Croatia',\n 'Greece',\n 'South Africa',\n 'India',\n 'Austria',\n 'Qatar',\n 'Portugal',\n 'Mexico']"
     },
     "metadata": {}
    }
   ]
  },
  {
   "cell_type": "code",
   "metadata": {
    "scrolled": true,
    "cell_id": "00029-4bb5f911-fb07-4182-8389-ae991c18070e",
    "deepnote_to_be_reexecuted": false,
    "source_hash": "58c9688e",
    "execution_start": 1658344242279,
    "execution_millis": 6,
    "deepnote_cell_type": "code",
    "deepnote_cell_height": 780,
    "deepnote_output_heights": [
     611
    ]
   },
   "source": "\nmatches = set(fe_countries).intersection(ab_countries)\n\nmatches \n",
   "execution_count": null,
   "outputs": [
    {
     "output_type": "execute_result",
     "execution_count": 15,
     "data": {
      "text/plain": "{'Albania',\n 'Armenia',\n 'Australia',\n 'Austria',\n 'Azerbaijan',\n 'Bahrain',\n 'Belarus',\n 'Belgium',\n 'Bulgaria',\n 'Canada',\n 'China',\n 'Croatia',\n 'Cuba',\n 'Czech Republic',\n 'Denmark',\n 'Dominican Republic',\n 'Estonia',\n 'Finland',\n 'France',\n 'Georgia',\n 'Germany',\n 'Greece',\n 'Hungary',\n 'Iceland',\n 'India',\n 'Israel',\n 'Italy',\n 'Japan',\n 'Kazakhstan',\n 'Latvia',\n 'Lithuania',\n 'Mexico',\n 'Moldova',\n 'Mongolia',\n 'Netherlands',\n 'New Zealand',\n 'Norway',\n 'Portugal',\n 'Qatar',\n 'Romania',\n 'Singapore',\n 'Slovenia',\n 'South Africa',\n 'Spain',\n 'Sweden',\n 'Switzerland',\n 'Tajikistan',\n 'Tunisia',\n 'Ukraine',\n 'United Kingdom',\n 'United States',\n 'Uzbekistan',\n 'Vietnam'}"
     },
     "metadata": {}
    }
   ]
  },
  {
   "cell_type": "markdown",
   "source": "# Step 2 : Remove non matched points ",
   "metadata": {
    "cell_id": "00030-313f3d22-45cc-47e6-b54f-57ccc7f9219e",
    "deepnote_cell_type": "markdown",
    "deepnote_cell_height": 134
   }
  },
  {
   "cell_type": "code",
   "metadata": {
    "cell_id": "00031-6505c520-b653-43bf-a338-0163bdaf3e13",
    "deepnote_to_be_reexecuted": false,
    "source_hash": "90467051",
    "execution_start": 1658344242286,
    "execution_millis": 26,
    "deepnote_cell_type": "code",
    "deepnote_cell_height": 1095.6875,
    "deepnote_output_heights": [
     null,
     611
    ]
   },
   "source": "print(fe_df.shape)\ncounter_li = [i for i in range (235)]\nfe_df['Country'] = counter_li\ncounter = 0\n\nholder_matches = {}\nholder_mismatches = {}\n\nfor i in fe_df['Country Name']:\n    for x in matches:\n        if i == x:\n            holder_matches[counter] = x\n        elif i not in matches:\n            holder_mismatches[counter] = ''\n    counter += 1\n\n            \n            \nholder_matches\n",
   "execution_count": null,
   "outputs": [
    {
     "name": "stdout",
     "text": "(235, 36)\n",
     "output_type": "stream"
    },
    {
     "output_type": "execute_result",
     "execution_count": 16,
     "data": {
      "text/plain": "{4: 'Albania',\n 8: 'Armenia',\n 9: 'Australia',\n 10: 'Austria',\n 11: 'Azerbaijan',\n 13: 'Belgium',\n 17: 'Bulgaria',\n 18: 'Bahrain',\n 21: 'Belarus',\n 30: 'Canada',\n 32: 'Switzerland',\n 35: 'China',\n 45: 'Cuba',\n 47: 'Czech Republic',\n 48: 'Germany',\n 50: 'Denmark',\n 51: 'Dominican Republic',\n 62: 'Spain',\n 63: 'Estonia',\n 67: 'Finland',\n 69: 'France',\n 71: 'United Kingdom',\n 72: 'Georgia',\n 78: 'Greece',\n 86: 'Croatia',\n 88: 'Hungary',\n 95: 'India',\n 99: 'Iceland',\n 100: 'Israel',\n 101: 'Italy',\n 104: 'Japan',\n 105: 'Kazakhstan',\n 125: 'Lithuania',\n 127: 'Latvia',\n 130: 'Moldova',\n 134: 'Mexico',\n 142: 'Mongolia',\n 154: 'Netherlands',\n 155: 'Norway',\n 157: 'New Zealand',\n 170: 'Portugal',\n 176: 'Qatar',\n 177: 'Romania',\n 184: 'Singapore',\n 197: 'Slovenia',\n 198: 'Sweden',\n 206: 'Tajikistan',\n 215: 'Tunisia',\n 219: 'Ukraine',\n 222: 'United States',\n 223: 'Uzbekistan',\n 227: 'Vietnam',\n 232: 'South Africa'}"
     },
     "metadata": {}
    }
   ]
  },
  {
   "cell_type": "code",
   "metadata": {
    "cell_id": "00032-5bd6d0af-59ef-4a19-9d71-f6d78163c31f",
    "deepnote_to_be_reexecuted": false,
    "source_hash": "7178eac4",
    "execution_start": 1658344242355,
    "execution_millis": 81,
    "deepnote_cell_type": "code",
    "deepnote_cell_height": 415.6875,
    "deepnote_output_heights": [
     null,
     21
    ]
   },
   "source": "fe_df['Country'] = fe_df['Country'].replace(holder_matches)\n\nfor i in fe_df['Country']:\n    if i not in matches:\n        ident = fe_df.index[fe_df.Country == i]\n        fe_df.drop(ident, axis = 0, inplace = True)\n    \nfor i in abor_df['country']:\n    if i not in matches:\n        ident = abor_df.index[abor_df.country == i]\n        abor_df.drop(ident, axis = 0, inplace = True)\n        \nprint(fe_df.shape)\nabor_df.shape\n",
   "execution_count": null,
   "outputs": [
    {
     "name": "stdout",
     "text": "(53, 37)\n",
     "output_type": "stream"
    },
    {
     "output_type": "execute_result",
     "execution_count": 17,
     "data": {
      "text/plain": "(53, 3)"
     },
     "metadata": {}
    }
   ]
  },
  {
   "cell_type": "markdown",
   "source": "# Step 3: Combining the necesry data points into one df",
   "metadata": {
    "cell_id": "00033-c9ba8ecd-961a-4b6c-8182-cfd5792909a1",
    "deepnote_cell_type": "markdown",
    "deepnote_cell_height": 186
   }
  },
  {
   "cell_type": "code",
   "metadata": {
    "cell_id": "00034-880ac7f3-5b6a-4399-989f-2d612ba4b18d",
    "deepnote_to_be_reexecuted": false,
    "source_hash": "702b61f9",
    "execution_start": 1658344242477,
    "execution_millis": 13,
    "deepnote_cell_type": "code",
    "deepnote_cell_height": 960
   },
   "source": "abor_df = abor_df.sort_values(by = ['country'])\nfe_df = fe_df.sort_values(by = ('Country'))\n\nabor_df = abor_df.set_index(fe_df.index)\n\ndf = pd.DataFrame()\n\n\ndf['FE Country'] = fe_df['Country Name']\ndf['AB Country'] = abor_df['country']\ndf['A Rate'] = abor_df['abortionsRate']\ndf['% Change'] = fe_df['% Change']\ndf['Last'] = fe_df['2010'] - fe_df['2021']\n\ndf\n                     \n\n\n\n\n                     ",
   "execution_count": null,
   "outputs": [
    {
     "output_type": "execute_result",
     "execution_count": 18,
     "data": {
      "application/vnd.deepnote.dataframe.v3+json": {
       "column_count": 5,
       "row_count": 53,
       "columns": [
        {
         "name": "FE Country",
         "dtype": "object",
         "stats": {
          "unique_count": 53,
          "nan_count": 0,
          "categories": [
           {
            "name": "Albania",
            "count": 1
           },
           {
            "name": "Armenia",
            "count": 1
           },
           {
            "name": "51 others",
            "count": 51
           }
          ]
         }
        },
        {
         "name": "AB Country",
         "dtype": "object",
         "stats": {
          "unique_count": 53,
          "nan_count": 0,
          "categories": [
           {
            "name": "Albania",
            "count": 1
           },
           {
            "name": "Armenia",
            "count": 1
           },
           {
            "name": "51 others",
            "count": 51
           }
          ]
         }
        },
        {
         "name": "A Rate",
         "dtype": "float64",
         "stats": {
          "unique_count": 46,
          "nan_count": 0,
          "min": "0.1",
          "max": "35.2",
          "histogram": [
           {
            "bin_start": 0.1,
            "bin_end": 3.6100000000000003,
            "count": 5
           },
           {
            "bin_start": 3.6100000000000003,
            "bin_end": 7.12,
            "count": 3
           },
           {
            "bin_start": 7.12,
            "bin_end": 10.63,
            "count": 10
           },
           {
            "bin_start": 10.63,
            "bin_end": 14.14,
            "count": 10
           },
           {
            "bin_start": 14.14,
            "bin_end": 17.650000000000002,
            "count": 8
           },
           {
            "bin_start": 17.650000000000002,
            "bin_end": 21.160000000000004,
            "count": 5
           },
           {
            "bin_start": 21.160000000000004,
            "bin_end": 24.67,
            "count": 4
           },
           {
            "bin_start": 24.67,
            "bin_end": 28.180000000000003,
            "count": 4
           },
           {
            "bin_start": 28.180000000000003,
            "bin_end": 31.690000000000005,
            "count": 0
           },
           {
            "bin_start": 31.690000000000005,
            "bin_end": 35.2,
            "count": 4
           }
          ]
         }
        },
        {
         "name": "% Change",
         "dtype": "float64",
         "stats": {
          "unique_count": 53,
          "nan_count": 0,
          "min": "-36.82",
          "max": "62.16",
          "histogram": [
           {
            "bin_start": -36.82,
            "bin_end": -26.922,
            "count": 3
           },
           {
            "bin_start": -26.922,
            "bin_end": -17.024,
            "count": 0
           },
           {
            "bin_start": -17.024,
            "bin_end": -7.126000000000001,
            "count": 9
           },
           {
            "bin_start": -7.126000000000001,
            "bin_end": 2.7719999999999985,
            "count": 11
           },
           {
            "bin_start": 2.7719999999999985,
            "bin_end": 12.669999999999995,
            "count": 13
           },
           {
            "bin_start": 12.669999999999995,
            "bin_end": 22.567999999999998,
            "count": 5
           },
           {
            "bin_start": 22.567999999999998,
            "bin_end": 32.466,
            "count": 7
           },
           {
            "bin_start": 32.466,
            "bin_end": 42.364,
            "count": 3
           },
           {
            "bin_start": 42.364,
            "bin_end": 52.26199999999999,
            "count": 1
           },
           {
            "bin_start": 52.26199999999999,
            "bin_end": 62.16,
            "count": 1
           }
          ]
         }
        },
        {
         "name": "Last",
         "dtype": "float64",
         "stats": {
          "unique_count": 53,
          "nan_count": 0,
          "min": "-8.302997590000004",
          "max": "8.956996920000002",
          "histogram": [
           {
            "bin_start": -8.302997590000004,
            "bin_end": -6.576998139000003,
            "count": 2
           },
           {
            "bin_start": -6.576998139000003,
            "bin_end": -4.8509986880000024,
            "count": 2
           },
           {
            "bin_start": -4.8509986880000024,
            "bin_end": -3.1249992370000026,
            "count": 5
           },
           {
            "bin_start": -3.1249992370000026,
            "bin_end": -1.3989997860000019,
            "count": 10
           },
           {
            "bin_start": -1.3989997860000019,
            "bin_end": 0.3269996649999989,
            "count": 13
           },
           {
            "bin_start": 0.3269996649999989,
            "bin_end": 2.0529991159999987,
            "count": 10
           },
           {
            "bin_start": 2.0529991159999987,
            "bin_end": 3.7789985670000004,
            "count": 5
           },
           {
            "bin_start": 3.7789985670000004,
            "bin_end": 5.504998018,
            "count": 4
           },
           {
            "bin_start": 5.504998018,
            "bin_end": 7.230997469,
            "count": 1
           },
           {
            "bin_start": 7.230997469,
            "bin_end": 8.956996920000002,
            "count": 1
           }
          ]
         }
        },
        {
         "name": "_deepnote_index_column",
         "dtype": "int64"
        }
       ],
       "rows": [
        {
         "FE Country": "Albania",
         "AB Country": "Albania",
         "A Rate": 9.6,
         "% Change": -1.23,
         "Last": -4.006000520000001,
         "_deepnote_index_column": 5
        },
        {
         "FE Country": "Armenia",
         "AB Country": "Armenia",
         "A Rate": 13.9,
         "% Change": -4.84,
         "Last": 4.2709999100000005,
         "_deepnote_index_column": 10
        },
        {
         "FE Country": "Australia",
         "AB Country": "Australia",
         "A Rate": 19.7,
         "% Change": 16.93,
         "Last": -2.4920005800000027,
         "_deepnote_index_column": 13
        },
        {
         "FE Country": "Austria",
         "AB Country": "Austria",
         "A Rate": 1.3,
         "% Change": 29.08,
         "Last": -1.3629989599999988,
         "_deepnote_index_column": 14
        },
        {
         "FE Country": "Azerbaijan",
         "AB Country": "Azerbaijan",
         "A Rate": 9,
         "% Change": -10.62,
         "Last": 1.6009979199999975,
         "_deepnote_index_column": 15
        },
        {
         "FE Country": "Bahrain",
         "AB Country": "Bahrain",
         "A Rate": 11,
         "% Change": 42.89,
         "Last": 1.2620010400000012,
         "_deepnote_index_column": 22
        },
        {
         "FE Country": "Belarus",
         "AB Country": "Belarus",
         "A Rate": 31.7,
         "% Change": 10.15,
         "Last": -0.5979995699999989,
         "_deepnote_index_column": 25
        },
        {
         "FE Country": "Belgium",
         "AB Country": "Belgium",
         "A Rate": 7.5,
         "% Change": 36.54,
         "Last": -2.1409988400000017,
         "_deepnote_index_column": 17
        },
        {
         "FE Country": "Bulgaria",
         "AB Country": "Bulgaria",
         "A Rate": 21.3,
         "% Change": -7.58,
         "Last": -1.3850021400000045,
         "_deepnote_index_column": 21
        },
        {
         "FE Country": "Canada",
         "AB Country": "Canada",
         "A Rate": 15.2,
         "% Change": 3.95,
         "Last": 1.601001740000001,
         "_deepnote_index_column": 35
        }
       ]
      },
      "text/plain": "             FE Country          AB Country  A Rate  % Change      Last\n5               Albania             Albania     9.6     -1.23 -4.006001\n10              Armenia             Armenia    13.9     -4.84  4.271000\n13            Australia           Australia    19.7     16.93 -2.492001\n14              Austria             Austria     1.3     29.08 -1.362999\n15           Azerbaijan          Azerbaijan     9.0    -10.62  1.600998\n22              Bahrain             Bahrain    11.0     42.89  1.262001\n25              Belarus             Belarus    31.7     10.15 -0.598000\n17              Belgium             Belgium     7.5     36.54 -2.140999\n21             Bulgaria            Bulgaria    21.3     -7.58 -1.385002\n35               Canada              Canada    15.2      3.95  1.601002\n40                China               China    24.2    -15.63  2.014000\n99              Croatia             Croatia     5.7      0.40  0.221001\n50                 Cuba                Cuba    24.8      6.07  1.619999\n54       Czech Republic      Czech Republic    12.2     -1.35 -2.346001\n58              Denmark             Denmark    14.3     -6.05  1.124001\n59   Dominican Republic  Dominican Republic    16.0     41.19 -7.982998\n71              Estonia             Estonia    33.3    -13.79 -2.367001\n75              Finland             Finland    11.1     -4.27 -0.452000\n77               France              France    16.9     11.31 -0.441998\n82              Georgia             Georgia    19.1    -10.85  4.681999\n55              Germany             Germany     7.8     25.34 -3.801998\n89               Greece              Greece     5.0     23.20  0.716999\n101             Hungary             Hungary    23.4     11.91 -8.302998\n114             Iceland             Iceland    14.1     -8.95  8.956997\n109               India               India     3.1    -36.82  6.732000\n115              Israel              Israel    13.9     26.61 -1.036003\n116               Italy               Italy    10.6     14.07 -1.698997\n119               Japan               Japan    12.3      6.44 -4.958000\n120          Kazakhstan          Kazakhstan    35.0     -2.27  2.113003\n145              Latvia              Latvia    27.3      9.65 -0.653000\n143           Lithuania           Lithuania    13.9      8.69 -4.792000\n154              Mexico              Mexico     0.1     31.55 -1.476997\n150             Moldova             Moldova    17.6    -36.35  4.730000\n163            Mongolia            Mongolia    21.7     -8.12  2.686001\n176         Netherlands         Netherlands    10.4     42.26 -3.745998\n180         New Zealand         New Zealand    19.7     20.64 -3.509998\n177              Norway              Norway    15.2      9.43  1.485001\n194            Portugal            Portugal     0.2     13.78  1.889000\n200               Qatar               Qatar     1.2     26.49 -6.125999\n201             Romania             Romania    27.8    -30.96  3.409000\n208           Singapore           Singapore    12.6     26.67 -1.325996\n222            Slovenia            Slovenia    15.2      4.98 -0.514000\n263        South Africa        South Africa     4.5      4.63 -1.698002\n70                Spain               Spain     8.3     62.16 -0.493000\n223              Sweden              Sweden    20.2     -2.35 -2.714001\n37          Switzerland         Switzerland     7.3      8.33 -1.742001\n234          Tajikistan          Tajikistan    12.6     -3.88 -1.005999\n243             Tunisia             Tunisia     8.6     15.34 -0.613001\n248             Ukraine             Ukraine    27.5    -10.13  3.751999\n81       United Kingdom      United Kingdom    17.0     10.57 -1.987999\n251       United States       United States    20.8     -2.32  2.464001\n252          Uzbekistan          Uzbekistan     7.8    -16.47  5.356003\n257             Vietnam             Vietnam    35.2     -6.29  1.886002",
      "text/html": "<div>\n<style scoped>\n    .dataframe tbody tr th:only-of-type {\n        vertical-align: middle;\n    }\n\n    .dataframe tbody tr th {\n        vertical-align: top;\n    }\n\n    .dataframe thead th {\n        text-align: right;\n    }\n</style>\n<table border=\"1\" class=\"dataframe\">\n  <thead>\n    <tr style=\"text-align: right;\">\n      <th></th>\n      <th>FE Country</th>\n      <th>AB Country</th>\n      <th>A Rate</th>\n      <th>% Change</th>\n      <th>Last</th>\n    </tr>\n  </thead>\n  <tbody>\n    <tr>\n      <th>5</th>\n      <td>Albania</td>\n      <td>Albania</td>\n      <td>9.6</td>\n      <td>-1.23</td>\n      <td>-4.006001</td>\n    </tr>\n    <tr>\n      <th>10</th>\n      <td>Armenia</td>\n      <td>Armenia</td>\n      <td>13.9</td>\n      <td>-4.84</td>\n      <td>4.271000</td>\n    </tr>\n    <tr>\n      <th>13</th>\n      <td>Australia</td>\n      <td>Australia</td>\n      <td>19.7</td>\n      <td>16.93</td>\n      <td>-2.492001</td>\n    </tr>\n    <tr>\n      <th>14</th>\n      <td>Austria</td>\n      <td>Austria</td>\n      <td>1.3</td>\n      <td>29.08</td>\n      <td>-1.362999</td>\n    </tr>\n    <tr>\n      <th>15</th>\n      <td>Azerbaijan</td>\n      <td>Azerbaijan</td>\n      <td>9.0</td>\n      <td>-10.62</td>\n      <td>1.600998</td>\n    </tr>\n    <tr>\n      <th>22</th>\n      <td>Bahrain</td>\n      <td>Bahrain</td>\n      <td>11.0</td>\n      <td>42.89</td>\n      <td>1.262001</td>\n    </tr>\n    <tr>\n      <th>25</th>\n      <td>Belarus</td>\n      <td>Belarus</td>\n      <td>31.7</td>\n      <td>10.15</td>\n      <td>-0.598000</td>\n    </tr>\n    <tr>\n      <th>17</th>\n      <td>Belgium</td>\n      <td>Belgium</td>\n      <td>7.5</td>\n      <td>36.54</td>\n      <td>-2.140999</td>\n    </tr>\n    <tr>\n      <th>21</th>\n      <td>Bulgaria</td>\n      <td>Bulgaria</td>\n      <td>21.3</td>\n      <td>-7.58</td>\n      <td>-1.385002</td>\n    </tr>\n    <tr>\n      <th>35</th>\n      <td>Canada</td>\n      <td>Canada</td>\n      <td>15.2</td>\n      <td>3.95</td>\n      <td>1.601002</td>\n    </tr>\n    <tr>\n      <th>40</th>\n      <td>China</td>\n      <td>China</td>\n      <td>24.2</td>\n      <td>-15.63</td>\n      <td>2.014000</td>\n    </tr>\n    <tr>\n      <th>99</th>\n      <td>Croatia</td>\n      <td>Croatia</td>\n      <td>5.7</td>\n      <td>0.40</td>\n      <td>0.221001</td>\n    </tr>\n    <tr>\n      <th>50</th>\n      <td>Cuba</td>\n      <td>Cuba</td>\n      <td>24.8</td>\n      <td>6.07</td>\n      <td>1.619999</td>\n    </tr>\n    <tr>\n      <th>54</th>\n      <td>Czech Republic</td>\n      <td>Czech Republic</td>\n      <td>12.2</td>\n      <td>-1.35</td>\n      <td>-2.346001</td>\n    </tr>\n    <tr>\n      <th>58</th>\n      <td>Denmark</td>\n      <td>Denmark</td>\n      <td>14.3</td>\n      <td>-6.05</td>\n      <td>1.124001</td>\n    </tr>\n    <tr>\n      <th>59</th>\n      <td>Dominican Republic</td>\n      <td>Dominican Republic</td>\n      <td>16.0</td>\n      <td>41.19</td>\n      <td>-7.982998</td>\n    </tr>\n    <tr>\n      <th>71</th>\n      <td>Estonia</td>\n      <td>Estonia</td>\n      <td>33.3</td>\n      <td>-13.79</td>\n      <td>-2.367001</td>\n    </tr>\n    <tr>\n      <th>75</th>\n      <td>Finland</td>\n      <td>Finland</td>\n      <td>11.1</td>\n      <td>-4.27</td>\n      <td>-0.452000</td>\n    </tr>\n    <tr>\n      <th>77</th>\n      <td>France</td>\n      <td>France</td>\n      <td>16.9</td>\n      <td>11.31</td>\n      <td>-0.441998</td>\n    </tr>\n    <tr>\n      <th>82</th>\n      <td>Georgia</td>\n      <td>Georgia</td>\n      <td>19.1</td>\n      <td>-10.85</td>\n      <td>4.681999</td>\n    </tr>\n    <tr>\n      <th>55</th>\n      <td>Germany</td>\n      <td>Germany</td>\n      <td>7.8</td>\n      <td>25.34</td>\n      <td>-3.801998</td>\n    </tr>\n    <tr>\n      <th>89</th>\n      <td>Greece</td>\n      <td>Greece</td>\n      <td>5.0</td>\n      <td>23.20</td>\n      <td>0.716999</td>\n    </tr>\n    <tr>\n      <th>101</th>\n      <td>Hungary</td>\n      <td>Hungary</td>\n      <td>23.4</td>\n      <td>11.91</td>\n      <td>-8.302998</td>\n    </tr>\n    <tr>\n      <th>114</th>\n      <td>Iceland</td>\n      <td>Iceland</td>\n      <td>14.1</td>\n      <td>-8.95</td>\n      <td>8.956997</td>\n    </tr>\n    <tr>\n      <th>109</th>\n      <td>India</td>\n      <td>India</td>\n      <td>3.1</td>\n      <td>-36.82</td>\n      <td>6.732000</td>\n    </tr>\n    <tr>\n      <th>115</th>\n      <td>Israel</td>\n      <td>Israel</td>\n      <td>13.9</td>\n      <td>26.61</td>\n      <td>-1.036003</td>\n    </tr>\n    <tr>\n      <th>116</th>\n      <td>Italy</td>\n      <td>Italy</td>\n      <td>10.6</td>\n      <td>14.07</td>\n      <td>-1.698997</td>\n    </tr>\n    <tr>\n      <th>119</th>\n      <td>Japan</td>\n      <td>Japan</td>\n      <td>12.3</td>\n      <td>6.44</td>\n      <td>-4.958000</td>\n    </tr>\n    <tr>\n      <th>120</th>\n      <td>Kazakhstan</td>\n      <td>Kazakhstan</td>\n      <td>35.0</td>\n      <td>-2.27</td>\n      <td>2.113003</td>\n    </tr>\n    <tr>\n      <th>145</th>\n      <td>Latvia</td>\n      <td>Latvia</td>\n      <td>27.3</td>\n      <td>9.65</td>\n      <td>-0.653000</td>\n    </tr>\n    <tr>\n      <th>143</th>\n      <td>Lithuania</td>\n      <td>Lithuania</td>\n      <td>13.9</td>\n      <td>8.69</td>\n      <td>-4.792000</td>\n    </tr>\n    <tr>\n      <th>154</th>\n      <td>Mexico</td>\n      <td>Mexico</td>\n      <td>0.1</td>\n      <td>31.55</td>\n      <td>-1.476997</td>\n    </tr>\n    <tr>\n      <th>150</th>\n      <td>Moldova</td>\n      <td>Moldova</td>\n      <td>17.6</td>\n      <td>-36.35</td>\n      <td>4.730000</td>\n    </tr>\n    <tr>\n      <th>163</th>\n      <td>Mongolia</td>\n      <td>Mongolia</td>\n      <td>21.7</td>\n      <td>-8.12</td>\n      <td>2.686001</td>\n    </tr>\n    <tr>\n      <th>176</th>\n      <td>Netherlands</td>\n      <td>Netherlands</td>\n      <td>10.4</td>\n      <td>42.26</td>\n      <td>-3.745998</td>\n    </tr>\n    <tr>\n      <th>180</th>\n      <td>New Zealand</td>\n      <td>New Zealand</td>\n      <td>19.7</td>\n      <td>20.64</td>\n      <td>-3.509998</td>\n    </tr>\n    <tr>\n      <th>177</th>\n      <td>Norway</td>\n      <td>Norway</td>\n      <td>15.2</td>\n      <td>9.43</td>\n      <td>1.485001</td>\n    </tr>\n    <tr>\n      <th>194</th>\n      <td>Portugal</td>\n      <td>Portugal</td>\n      <td>0.2</td>\n      <td>13.78</td>\n      <td>1.889000</td>\n    </tr>\n    <tr>\n      <th>200</th>\n      <td>Qatar</td>\n      <td>Qatar</td>\n      <td>1.2</td>\n      <td>26.49</td>\n      <td>-6.125999</td>\n    </tr>\n    <tr>\n      <th>201</th>\n      <td>Romania</td>\n      <td>Romania</td>\n      <td>27.8</td>\n      <td>-30.96</td>\n      <td>3.409000</td>\n    </tr>\n    <tr>\n      <th>208</th>\n      <td>Singapore</td>\n      <td>Singapore</td>\n      <td>12.6</td>\n      <td>26.67</td>\n      <td>-1.325996</td>\n    </tr>\n    <tr>\n      <th>222</th>\n      <td>Slovenia</td>\n      <td>Slovenia</td>\n      <td>15.2</td>\n      <td>4.98</td>\n      <td>-0.514000</td>\n    </tr>\n    <tr>\n      <th>263</th>\n      <td>South Africa</td>\n      <td>South Africa</td>\n      <td>4.5</td>\n      <td>4.63</td>\n      <td>-1.698002</td>\n    </tr>\n    <tr>\n      <th>70</th>\n      <td>Spain</td>\n      <td>Spain</td>\n      <td>8.3</td>\n      <td>62.16</td>\n      <td>-0.493000</td>\n    </tr>\n    <tr>\n      <th>223</th>\n      <td>Sweden</td>\n      <td>Sweden</td>\n      <td>20.2</td>\n      <td>-2.35</td>\n      <td>-2.714001</td>\n    </tr>\n    <tr>\n      <th>37</th>\n      <td>Switzerland</td>\n      <td>Switzerland</td>\n      <td>7.3</td>\n      <td>8.33</td>\n      <td>-1.742001</td>\n    </tr>\n    <tr>\n      <th>234</th>\n      <td>Tajikistan</td>\n      <td>Tajikistan</td>\n      <td>12.6</td>\n      <td>-3.88</td>\n      <td>-1.005999</td>\n    </tr>\n    <tr>\n      <th>243</th>\n      <td>Tunisia</td>\n      <td>Tunisia</td>\n      <td>8.6</td>\n      <td>15.34</td>\n      <td>-0.613001</td>\n    </tr>\n    <tr>\n      <th>248</th>\n      <td>Ukraine</td>\n      <td>Ukraine</td>\n      <td>27.5</td>\n      <td>-10.13</td>\n      <td>3.751999</td>\n    </tr>\n    <tr>\n      <th>81</th>\n      <td>United Kingdom</td>\n      <td>United Kingdom</td>\n      <td>17.0</td>\n      <td>10.57</td>\n      <td>-1.987999</td>\n    </tr>\n    <tr>\n      <th>251</th>\n      <td>United States</td>\n      <td>United States</td>\n      <td>20.8</td>\n      <td>-2.32</td>\n      <td>2.464001</td>\n    </tr>\n    <tr>\n      <th>252</th>\n      <td>Uzbekistan</td>\n      <td>Uzbekistan</td>\n      <td>7.8</td>\n      <td>-16.47</td>\n      <td>5.356003</td>\n    </tr>\n    <tr>\n      <th>257</th>\n      <td>Vietnam</td>\n      <td>Vietnam</td>\n      <td>35.2</td>\n      <td>-6.29</td>\n      <td>1.886002</td>\n    </tr>\n  </tbody>\n</table>\n</div>"
     },
     "metadata": {}
    }
   ]
  },
  {
   "cell_type": "code",
   "metadata": {
    "cell_id": "00035-8817dba1-f76d-42e0-af8f-d92b9f083c47",
    "deepnote_to_be_reexecuted": false,
    "source_hash": "b623e53d",
    "execution_start": 1658344242488,
    "execution_millis": 3,
    "deepnote_cell_type": "code",
    "deepnote_cell_height": 81
   },
   "source": "",
   "execution_count": null,
   "outputs": []
  },
  {
   "cell_type": "code",
   "metadata": {
    "cell_id": "00036-6e87b3b7-1dfb-4d82-81f3-6add68e7ec6d",
    "deepnote_to_be_reexecuted": false,
    "source_hash": "48f0d2d6",
    "execution_start": 1658344242517,
    "execution_millis": 6,
    "deepnote_cell_type": "code",
    "deepnote_cell_height": 654
   },
   "source": "df = df.sort_values(by = ('A Rate'))\n\n\ndf.head(10)",
   "execution_count": null,
   "outputs": [
    {
     "output_type": "execute_result",
     "execution_count": 19,
     "data": {
      "application/vnd.deepnote.dataframe.v3+json": {
       "column_count": 5,
       "row_count": 10,
       "columns": [
        {
         "name": "FE Country",
         "dtype": "object",
         "stats": {
          "unique_count": 10,
          "nan_count": 0,
          "categories": [
           {
            "name": "Mexico",
            "count": 1
           },
           {
            "name": "Portugal",
            "count": 1
           },
           {
            "name": "8 others",
            "count": 8
           }
          ]
         }
        },
        {
         "name": "AB Country",
         "dtype": "object",
         "stats": {
          "unique_count": 10,
          "nan_count": 0,
          "categories": [
           {
            "name": "Mexico",
            "count": 1
           },
           {
            "name": "Portugal",
            "count": 1
           },
           {
            "name": "8 others",
            "count": 8
           }
          ]
         }
        },
        {
         "name": "A Rate",
         "dtype": "float64",
         "stats": {
          "unique_count": 10,
          "nan_count": 0,
          "min": "0.1",
          "max": "7.5",
          "histogram": [
           {
            "bin_start": 0.1,
            "bin_end": 0.84,
            "count": 2
           },
           {
            "bin_start": 0.84,
            "bin_end": 1.58,
            "count": 2
           },
           {
            "bin_start": 1.58,
            "bin_end": 2.32,
            "count": 0
           },
           {
            "bin_start": 2.32,
            "bin_end": 3.06,
            "count": 0
           },
           {
            "bin_start": 3.06,
            "bin_end": 3.8000000000000003,
            "count": 1
           },
           {
            "bin_start": 3.8000000000000003,
            "bin_end": 4.539999999999999,
            "count": 1
           },
           {
            "bin_start": 4.539999999999999,
            "bin_end": 5.279999999999999,
            "count": 1
           },
           {
            "bin_start": 5.279999999999999,
            "bin_end": 6.02,
            "count": 1
           },
           {
            "bin_start": 6.02,
            "bin_end": 6.76,
            "count": 0
           },
           {
            "bin_start": 6.76,
            "bin_end": 7.5,
            "count": 2
           }
          ]
         }
        },
        {
         "name": "% Change",
         "dtype": "float64",
         "stats": {
          "unique_count": 10,
          "nan_count": 0,
          "min": "-36.82",
          "max": "36.54",
          "histogram": [
           {
            "bin_start": -36.82,
            "bin_end": -29.484,
            "count": 1
           },
           {
            "bin_start": -29.484,
            "bin_end": -22.148,
            "count": 0
           },
           {
            "bin_start": -22.148,
            "bin_end": -14.811999999999998,
            "count": 0
           },
           {
            "bin_start": -14.811999999999998,
            "bin_end": -7.475999999999999,
            "count": 0
           },
           {
            "bin_start": -7.475999999999999,
            "bin_end": -0.14000000000000057,
            "count": 0
           },
           {
            "bin_start": -0.14000000000000057,
            "bin_end": 7.196000000000005,
            "count": 2
           },
           {
            "bin_start": 7.196000000000005,
            "bin_end": 14.532000000000004,
            "count": 2
           },
           {
            "bin_start": 14.532000000000004,
            "bin_end": 21.868000000000002,
            "count": 0
           },
           {
            "bin_start": 21.868000000000002,
            "bin_end": 29.204,
            "count": 3
           },
           {
            "bin_start": 29.204,
            "bin_end": 36.54,
            "count": 2
           }
          ]
         }
        },
        {
         "name": "Last",
         "dtype": "float64",
         "stats": {
          "unique_count": 10,
          "nan_count": 0,
          "min": "-6.125999450000002",
          "max": "6.73200035",
          "histogram": [
           {
            "bin_start": -6.125999450000002,
            "bin_end": -4.840199470000002,
            "count": 1
           },
           {
            "bin_start": -4.840199470000002,
            "bin_end": -3.5543994900000015,
            "count": 0
           },
           {
            "bin_start": -3.5543994900000015,
            "bin_end": -2.2685995100000014,
            "count": 0
           },
           {
            "bin_start": -2.2685995100000014,
            "bin_end": -0.9827995300000012,
            "count": 5
           },
           {
            "bin_start": -0.9827995300000012,
            "bin_end": 0.303000449999999,
            "count": 1
           },
           {
            "bin_start": 0.303000449999999,
            "bin_end": 1.5888004299999992,
            "count": 1
           },
           {
            "bin_start": 1.5888004299999992,
            "bin_end": 2.8746004099999993,
            "count": 1
           },
           {
            "bin_start": 2.8746004099999993,
            "bin_end": 4.1604003899999995,
            "count": 0
           },
           {
            "bin_start": 4.1604003899999995,
            "bin_end": 5.44620037,
            "count": 0
           },
           {
            "bin_start": 5.44620037,
            "bin_end": 6.73200035,
            "count": 1
           }
          ]
         }
        },
        {
         "name": "_deepnote_index_column",
         "dtype": "int64"
        }
       ],
       "rows": [
        {
         "FE Country": "Mexico",
         "AB Country": "Mexico",
         "A Rate": 0.1,
         "% Change": 31.55,
         "Last": -1.4769973800000002,
         "_deepnote_index_column": 154
        },
        {
         "FE Country": "Portugal",
         "AB Country": "Portugal",
         "A Rate": 0.2,
         "% Change": 13.78,
         "Last": 1.888999939999998,
         "_deepnote_index_column": 194
        },
        {
         "FE Country": "Qatar",
         "AB Country": "Qatar",
         "A Rate": 1.2,
         "% Change": 26.49,
         "Last": -6.125999450000002,
         "_deepnote_index_column": 200
        },
        {
         "FE Country": "Austria",
         "AB Country": "Austria",
         "A Rate": 1.3,
         "% Change": 29.08,
         "Last": -1.3629989599999988,
         "_deepnote_index_column": 14
        },
        {
         "FE Country": "India",
         "AB Country": "India",
         "A Rate": 3.1,
         "% Change": -36.82,
         "Last": 6.73200035,
         "_deepnote_index_column": 109
        },
        {
         "FE Country": "South Africa",
         "AB Country": "South Africa",
         "A Rate": 4.5,
         "% Change": 4.63,
         "Last": -1.698001860000005,
         "_deepnote_index_column": 263
        },
        {
         "FE Country": "Greece",
         "AB Country": "Greece",
         "A Rate": 5,
         "% Change": 23.2,
         "Last": 0.7169990499999983,
         "_deepnote_index_column": 89
        },
        {
         "FE Country": "Croatia",
         "AB Country": "Croatia",
         "A Rate": 5.7,
         "% Change": 0.4,
         "Last": 0.22100067000000223,
         "_deepnote_index_column": 99
        },
        {
         "FE Country": "Switzerland",
         "AB Country": "Switzerland",
         "A Rate": 7.3,
         "% Change": 8.33,
         "Last": -1.7420005799999956,
         "_deepnote_index_column": 37
        },
        {
         "FE Country": "Belgium",
         "AB Country": "Belgium",
         "A Rate": 7.5,
         "% Change": 36.54,
         "Last": -2.1409988400000017,
         "_deepnote_index_column": 17
        }
       ]
      },
      "text/plain": "       FE Country    AB Country  A Rate  % Change      Last\n154        Mexico        Mexico     0.1     31.55 -1.476997\n194      Portugal      Portugal     0.2     13.78  1.889000\n200         Qatar         Qatar     1.2     26.49 -6.125999\n14        Austria       Austria     1.3     29.08 -1.362999\n109         India         India     3.1    -36.82  6.732000\n263  South Africa  South Africa     4.5      4.63 -1.698002\n89         Greece        Greece     5.0     23.20  0.716999\n99        Croatia       Croatia     5.7      0.40  0.221001\n37    Switzerland   Switzerland     7.3      8.33 -1.742001\n17        Belgium       Belgium     7.5     36.54 -2.140999",
      "text/html": "<div>\n<style scoped>\n    .dataframe tbody tr th:only-of-type {\n        vertical-align: middle;\n    }\n\n    .dataframe tbody tr th {\n        vertical-align: top;\n    }\n\n    .dataframe thead th {\n        text-align: right;\n    }\n</style>\n<table border=\"1\" class=\"dataframe\">\n  <thead>\n    <tr style=\"text-align: right;\">\n      <th></th>\n      <th>FE Country</th>\n      <th>AB Country</th>\n      <th>A Rate</th>\n      <th>% Change</th>\n      <th>Last</th>\n    </tr>\n  </thead>\n  <tbody>\n    <tr>\n      <th>154</th>\n      <td>Mexico</td>\n      <td>Mexico</td>\n      <td>0.1</td>\n      <td>31.55</td>\n      <td>-1.476997</td>\n    </tr>\n    <tr>\n      <th>194</th>\n      <td>Portugal</td>\n      <td>Portugal</td>\n      <td>0.2</td>\n      <td>13.78</td>\n      <td>1.889000</td>\n    </tr>\n    <tr>\n      <th>200</th>\n      <td>Qatar</td>\n      <td>Qatar</td>\n      <td>1.2</td>\n      <td>26.49</td>\n      <td>-6.125999</td>\n    </tr>\n    <tr>\n      <th>14</th>\n      <td>Austria</td>\n      <td>Austria</td>\n      <td>1.3</td>\n      <td>29.08</td>\n      <td>-1.362999</td>\n    </tr>\n    <tr>\n      <th>109</th>\n      <td>India</td>\n      <td>India</td>\n      <td>3.1</td>\n      <td>-36.82</td>\n      <td>6.732000</td>\n    </tr>\n    <tr>\n      <th>263</th>\n      <td>South Africa</td>\n      <td>South Africa</td>\n      <td>4.5</td>\n      <td>4.63</td>\n      <td>-1.698002</td>\n    </tr>\n    <tr>\n      <th>89</th>\n      <td>Greece</td>\n      <td>Greece</td>\n      <td>5.0</td>\n      <td>23.20</td>\n      <td>0.716999</td>\n    </tr>\n    <tr>\n      <th>99</th>\n      <td>Croatia</td>\n      <td>Croatia</td>\n      <td>5.7</td>\n      <td>0.40</td>\n      <td>0.221001</td>\n    </tr>\n    <tr>\n      <th>37</th>\n      <td>Switzerland</td>\n      <td>Switzerland</td>\n      <td>7.3</td>\n      <td>8.33</td>\n      <td>-1.742001</td>\n    </tr>\n    <tr>\n      <th>17</th>\n      <td>Belgium</td>\n      <td>Belgium</td>\n      <td>7.5</td>\n      <td>36.54</td>\n      <td>-2.140999</td>\n    </tr>\n  </tbody>\n</table>\n</div>"
     },
     "metadata": {}
    }
   ]
  },
  {
   "cell_type": "code",
   "metadata": {
    "cell_id": "00037-7b8b9190-5605-4592-9171-c4e9120426dc",
    "deepnote_to_be_reexecuted": false,
    "source_hash": "88b78885",
    "execution_start": 1658344691418,
    "execution_millis": 406,
    "owner_user_id": "24df7a67-4cef-41be-b9a8-01622b0da6bf",
    "deepnote_cell_type": "code",
    "deepnote_cell_height": 503,
    "deepnote_output_heights": [
     316,
     438.546875
    ]
   },
   "source": "\nsns.set(rc={'figure.figsize':(15,8)})\nsns.regplot(df['A Rate'], df['% Change'])\nplt.title('Change in Women Leaders Relative to Abortion Rates')\nplt.savefig('Change in Women Leaders Relative to Abortion Rates.png')\n",
   "execution_count": null,
   "outputs": [
    {
     "data": {
      "text/plain": "<Figure size 1080x576 with 1 Axes>",
      "image/png": "[encoded data removed]"
     },
     "metadata": {
      "image/png": {
       "width": 901,
       "height": 501
      }
     },
     "output_type": "display_data"
    }
   ]
  },
  {
   "cell_type": "code",
   "metadata": {
    "cell_id": "00038-e67eeddc-185f-468b-b5bd-db78fc4fcc18",
    "deepnote_to_be_reexecuted": false,
    "source_hash": "9fa13040",
    "execution_start": 1658344242925,
    "execution_millis": 336,
    "deepnote_cell_type": "code",
    "deepnote_cell_height": 490,
    "deepnote_output_heights": [
     21,
     305
    ]
   },
   "source": "sns.set(rc={'figure.figsize':(15,8)})\nsns.regplot(df['A Rate'], df['Last'])\n",
   "execution_count": null,
   "outputs": [
    {
     "output_type": "execute_result",
     "execution_count": 21,
     "data": {
      "text/plain": "<AxesSubplot:xlabel='A Rate', ylabel='Last'>"
     },
     "metadata": {}
    },
    {
     "data": {
      "text/plain": "<Figure size 1080x576 with 1 Axes>",
      "image/png": "[encoded data removed]"
     },
     "metadata": {
      "image/png": {
       "width": 904,
       "height": 485
      }
     },
     "output_type": "display_data"
    }
   ]
  },
  {
   "cell_type": "code",
   "metadata": {
    "cell_id": "00039-85a9a0c0-f2bb-4a85-9778-8349f7c6f0ba",
    "deepnote_to_be_reexecuted": false,
    "source_hash": "bedcf88b",
    "execution_start": 1658344243267,
    "execution_millis": 1647,
    "deepnote_cell_type": "code",
    "deepnote_cell_height": 490,
    "deepnote_output_heights": [
     21,
     305
    ]
   },
   "source": "\nsns.set(rc={'figure.figsize':(15,8)})\nsns.barplot(df['A Rate'], df['% Change'], palette = 'rocket')",
   "execution_count": null,
   "outputs": [
    {
     "output_type": "execute_result",
     "execution_count": 22,
     "data": {
      "text/plain": "<AxesSubplot:xlabel='A Rate', ylabel='% Change'>"
     },
     "metadata": {}
    },
    {
     "data": {
      "text/plain": "<Figure size 1080x576 with 1 Axes>",
      "image/png": "[encoded data removed]"
     },
     "metadata": {
      "image/png": {
       "width": 903,
       "height": 485
      }
     },
     "output_type": "display_data"
    }
   ]
  },
  {
   "cell_type": "code",
   "metadata": {
    "cell_id": "00040-7ddd0a00-4278-4dd3-81ce-423cfb488ac1",
    "deepnote_to_be_reexecuted": false,
    "source_hash": "50f8c665",
    "execution_start": 1658344244140,
    "execution_millis": 815,
    "deepnote_cell_type": "code",
    "deepnote_cell_height": 495,
    "deepnote_output_heights": [
     21,
     310
    ]
   },
   "source": "\nsns.histplot(data = df['A Rate'], stat = 'percent', bins = 10, binwidth = 3, kde = True)\n",
   "execution_count": null,
   "outputs": [
    {
     "output_type": "execute_result",
     "execution_count": 23,
     "data": {
      "text/plain": "<AxesSubplot:xlabel='A Rate', ylabel='Percent'>"
     },
     "metadata": {}
    },
    {
     "data": {
      "text/plain": "<Figure size 1080x576 with 1 Axes>",
      "image/png": "[encoded data removed]"
     },
     "metadata": {
      "image/png": {
       "width": 891,
       "height": 485
      }
     },
     "output_type": "display_data"
    }
   ]
  },
  {
   "cell_type": "code",
   "metadata": {
    "cell_id": "00041-5ce5ccda-37fc-4863-95e3-44693d67fbab",
    "deepnote_to_be_reexecuted": false,
    "source_hash": "13c7bd43",
    "execution_start": 1658344244557,
    "execution_millis": 405,
    "deepnote_cell_type": "code",
    "deepnote_cell_height": 531,
    "deepnote_output_heights": [
     21,
     310
    ]
   },
   "source": "\n\nsns.histplot(data = df['% Change'], stat = 'count', bins = 10, binwidth = 6, kde = True)\n\n",
   "execution_count": null,
   "outputs": [
    {
     "output_type": "execute_result",
     "execution_count": 24,
     "data": {
      "text/plain": "<AxesSubplot:xlabel='% Change', ylabel='Count'>"
     },
     "metadata": {}
    },
    {
     "data": {
      "text/plain": "<Figure size 1080x576 with 1 Axes>",
      "image/png": "[encoded data removed]"
     },
     "metadata": {
      "image/png": {
       "width": 891,
       "height": 485
      }
     },
     "output_type": "display_data"
    }
   ]
  },
  {
   "cell_type": "markdown",
   "source": "# Section 3 : Exporting our Data for use in the next file",
   "metadata": {
    "cell_id": "00042-1e3d4fb9-8274-47d0-8a2a-1dc33858ba4d",
    "deepnote_cell_type": "markdown",
    "deepnote_cell_height": 134
   }
  },
  {
   "cell_type": "code",
   "metadata": {
    "cell_id": "00043-c952968b-46f8-4eef-8f1b-d043b36b000b",
    "deepnote_to_be_reexecuted": false,
    "source_hash": "fb32704f",
    "execution_start": 1658344244871,
    "execution_millis": 15,
    "deepnote_cell_type": "code",
    "deepnote_cell_height": 99
   },
   "source": "fe_df.to_csv('%Women_leaders.csv')\ndf.to_csv('Combination_abor_fe.csv')",
   "execution_count": null,
   "outputs": []
  },
  {
   "cell_type": "code",
   "metadata": {
    "cell_id": "00044-e1312928-721a-479e-9c25-0758d1b7e8b3",
    "deepnote_to_be_reexecuted": false,
    "source_hash": "b623e53d",
    "execution_start": 1658344244886,
    "execution_millis": 6,
    "deepnote_cell_type": "code",
    "deepnote_cell_height": 81
   },
   "source": "",
   "execution_count": null,
   "outputs": []
  },
  {
   "cell_type": "code",
   "metadata": {
    "cell_id": "00045-073c4204-4e55-4cad-b8fb-f39d3c93b56f",
    "deepnote_to_be_reexecuted": false,
    "source_hash": "b623e53d",
    "execution_start": 1658344244895,
    "execution_millis": 1,
    "deepnote_cell_type": "code",
    "deepnote_cell_height": 81
   },
   "source": "",
   "execution_count": null,
   "outputs": []
  },
  {
   "cell_type": "code",
   "metadata": {
    "cell_id": "00046-b87e464f-7192-4f61-a7f9-d8709b93751e",
    "deepnote_to_be_reexecuted": false,
    "source_hash": "b623e53d",
    "execution_start": 1658344244923,
    "execution_millis": 56302503,
    "deepnote_cell_type": "code",
    "deepnote_cell_height": 81
   },
   "source": "",
   "execution_count": null,
   "outputs": []
  },
  {
   "cell_type": "markdown",
   "source": "<a style='text-decoration:none;line-height:16px;display:flex;color:#5B5B62;padding:10px;justify-content:end;' href='https://deepnote.com?utm_source=created-in-deepnote-cell&projectId=e65e4682-94f8-467d-81b0-a103b6f7bbb1' target=\"_blank\">\n<img alt='Created in deepnote.com' style='display:inline;max-height:16px;margin:0px;margin-right:7.5px;' src='data:image/svg+xml;base64,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' > </img>\nCreated in <span style='font-weight:600;margin-left:4px;'>Deepnote</span></a>",
   "metadata": {
    "tags": [],
    "created_in_deepnote_cell": true,
    "deepnote_cell_type": "markdown"
   }
  }
 ],
 "nbformat": 4,
 "nbformat_minor": 5,
 "metadata": {
  "kernelspec": {
   "display_name": "Python 3 (ipykernel)",
   "language": "python",
   "name": "python3"
  },
  "language_info": {
   "codemirror_mode": {
    "name": "ipython",
    "version": 3
   },
   "file_extension": ".py",
   "mimetype": "text/x-python",
   "name": "python",
   "nbconvert_exporter": "python",
   "pygments_lexer": "ipython3",
   "version": "3.9.12"
  },
  "deepnote_notebook_id": "79b09435-e03c-4a4f-9101-e32b03c696c1",
  "deepnote": {},
  "deepnote_execution_queue": []
 }
}